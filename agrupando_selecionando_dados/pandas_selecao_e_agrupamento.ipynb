{
  "cells": [
    {
      "cell_type": "markdown",
      "metadata": {
        "id": "mIPeiMmOhjL4"
      },
      "source": [
        "Vamos analisar dados de emissões de gases de efeito estufa no território brasileiro e criar tabelas e visualizações para entender os dados e gerar insights a partir deles. Os dados foram extraídos do SEEG."
      ]
    },
    {
      "cell_type": "markdown",
      "metadata": {
        "id": "Tzejx86A_96z"
      },
      "source": [
        "Primeiramente, vamos importar a biblioteca [`pandas`](https://pandas.pydata.org/docs/index.html) e os dados que serão utilizados. Como os dados estão em um arquivo excel, vamos usar a função [`read_excel()`](https://pandas.pydata.org/docs/reference/api/pandas.read_excel.html)."
      ]
    },
    {
      "cell_type": "code",
      "execution_count": 1,
      "metadata": {
        "id": "inMxPGk3pyE5"
      },
      "outputs": [],
      "source": [
        "import pandas as pd"
      ]
    },
    {
      "cell_type": "code",
      "execution_count": 2,
      "metadata": {
        "id": "og2gkscuuhFS"
      },
      "outputs": [
        {
          "name": "stderr",
          "output_type": "stream",
          "text": [
            "c:\\Users\\Acer\\AppData\\Local\\Programs\\Python\\Python311\\Lib\\site-packages\\openpyxl\\worksheet\\_reader.py:329: UserWarning: Unknown extension is not supported and will be removed\n",
            "  warn(msg)\n"
          ]
        }
      ],
      "source": [
        "df = pd.read_excel('1-SEEG10_GERAL-BR_UF_2022.10.27-FINAL-SITE.xlsx', sheet_name='GEE Estados')"
      ]
    },
    {
      "cell_type": "code",
      "execution_count": 3,
      "metadata": {},
      "outputs": [
        {
          "data": {
            "text/html": [
              "<div>\n",
              "<style scoped>\n",
              "    .dataframe tbody tr th:only-of-type {\n",
              "        vertical-align: middle;\n",
              "    }\n",
              "\n",
              "    .dataframe tbody tr th {\n",
              "        vertical-align: top;\n",
              "    }\n",
              "\n",
              "    .dataframe thead th {\n",
              "        text-align: right;\n",
              "    }\n",
              "</style>\n",
              "<table border=\"1\" class=\"dataframe\">\n",
              "  <thead>\n",
              "    <tr style=\"text-align: right;\">\n",
              "      <th></th>\n",
              "      <th>Nível 1 - Setor</th>\n",
              "      <th>Nível 2</th>\n",
              "      <th>Nível 3</th>\n",
              "      <th>Nível 4</th>\n",
              "      <th>Nível 5</th>\n",
              "      <th>Nível 6</th>\n",
              "      <th>Emissão / Remoção / Bunker</th>\n",
              "      <th>Gás</th>\n",
              "      <th>Estado</th>\n",
              "      <th>Atividade Econômica</th>\n",
              "      <th>...</th>\n",
              "      <th>2012</th>\n",
              "      <th>2013</th>\n",
              "      <th>2014</th>\n",
              "      <th>2015</th>\n",
              "      <th>2016</th>\n",
              "      <th>2017</th>\n",
              "      <th>2018</th>\n",
              "      <th>2019</th>\n",
              "      <th>2020</th>\n",
              "      <th>2021</th>\n",
              "    </tr>\n",
              "  </thead>\n",
              "  <tbody>\n",
              "    <tr>\n",
              "      <th>0</th>\n",
              "      <td>Processos Industriais</td>\n",
              "      <td>Indústria Química</td>\n",
              "      <td>Produção de ABS</td>\n",
              "      <td>NaN</td>\n",
              "      <td>NaN</td>\n",
              "      <td>NaN</td>\n",
              "      <td>Emissão</td>\n",
              "      <td>COVNM (t)</td>\n",
              "      <td>SP</td>\n",
              "      <td>OUTRA_IND</td>\n",
              "      <td>...</td>\n",
              "      <td>897.600</td>\n",
              "      <td>897.600</td>\n",
              "      <td>897.600</td>\n",
              "      <td>897.600</td>\n",
              "      <td>897.600</td>\n",
              "      <td>897.600</td>\n",
              "      <td>897.600</td>\n",
              "      <td>897.600</td>\n",
              "      <td>897.600</td>\n",
              "      <td>897.600</td>\n",
              "    </tr>\n",
              "    <tr>\n",
              "      <th>1</th>\n",
              "      <td>Processos Industriais</td>\n",
              "      <td>Indústria Química</td>\n",
              "      <td>Produção de Ácido Adípico</td>\n",
              "      <td>NaN</td>\n",
              "      <td>NaN</td>\n",
              "      <td>NaN</td>\n",
              "      <td>Emissão</td>\n",
              "      <td>N2O (t)</td>\n",
              "      <td>SP</td>\n",
              "      <td>OUTRA_IND</td>\n",
              "      <td>...</td>\n",
              "      <td>130.000</td>\n",
              "      <td>130.000</td>\n",
              "      <td>130.000</td>\n",
              "      <td>130.000</td>\n",
              "      <td>130.000</td>\n",
              "      <td>130.000</td>\n",
              "      <td>130.000</td>\n",
              "      <td>130.000</td>\n",
              "      <td>130.000</td>\n",
              "      <td>130.000</td>\n",
              "    </tr>\n",
              "    <tr>\n",
              "      <th>2</th>\n",
              "      <td>Processos Industriais</td>\n",
              "      <td>Indústria Química</td>\n",
              "      <td>Produção de Ácido Adípico</td>\n",
              "      <td>NaN</td>\n",
              "      <td>NaN</td>\n",
              "      <td>NaN</td>\n",
              "      <td>Emissão</td>\n",
              "      <td>CO (t)</td>\n",
              "      <td>SP</td>\n",
              "      <td>OUTRA_IND</td>\n",
              "      <td>...</td>\n",
              "      <td>1380.576</td>\n",
              "      <td>1380.576</td>\n",
              "      <td>1380.576</td>\n",
              "      <td>1380.576</td>\n",
              "      <td>1380.576</td>\n",
              "      <td>1380.576</td>\n",
              "      <td>1380.576</td>\n",
              "      <td>1380.576</td>\n",
              "      <td>1380.576</td>\n",
              "      <td>1380.576</td>\n",
              "    </tr>\n",
              "    <tr>\n",
              "      <th>3</th>\n",
              "      <td>Processos Industriais</td>\n",
              "      <td>Indústria Química</td>\n",
              "      <td>Produção de Ácido Adípico</td>\n",
              "      <td>NaN</td>\n",
              "      <td>NaN</td>\n",
              "      <td>NaN</td>\n",
              "      <td>Emissão</td>\n",
              "      <td>NOx (t)</td>\n",
              "      <td>SP</td>\n",
              "      <td>OUTRA_IND</td>\n",
              "      <td>...</td>\n",
              "      <td>431.430</td>\n",
              "      <td>431.430</td>\n",
              "      <td>431.430</td>\n",
              "      <td>431.430</td>\n",
              "      <td>431.430</td>\n",
              "      <td>431.430</td>\n",
              "      <td>431.430</td>\n",
              "      <td>431.430</td>\n",
              "      <td>431.430</td>\n",
              "      <td>431.430</td>\n",
              "    </tr>\n",
              "    <tr>\n",
              "      <th>4</th>\n",
              "      <td>Processos Industriais</td>\n",
              "      <td>Indústria Química</td>\n",
              "      <td>Produção de Ácido Adípico</td>\n",
              "      <td>NaN</td>\n",
              "      <td>NaN</td>\n",
              "      <td>NaN</td>\n",
              "      <td>Emissão</td>\n",
              "      <td>CO2e (t) GWP-AR2</td>\n",
              "      <td>SP</td>\n",
              "      <td>OUTRA_IND</td>\n",
              "      <td>...</td>\n",
              "      <td>40300.000</td>\n",
              "      <td>40300.000</td>\n",
              "      <td>40300.000</td>\n",
              "      <td>40300.000</td>\n",
              "      <td>40300.000</td>\n",
              "      <td>40300.000</td>\n",
              "      <td>40300.000</td>\n",
              "      <td>40300.000</td>\n",
              "      <td>40300.000</td>\n",
              "      <td>40300.000</td>\n",
              "    </tr>\n",
              "  </tbody>\n",
              "</table>\n",
              "<p>5 rows × 63 columns</p>\n",
              "</div>"
            ],
            "text/plain": [
              "         Nível 1 - Setor            Nível 2                    Nível 3  \\\n",
              "0  Processos Industriais  Indústria Química            Produção de ABS   \n",
              "1  Processos Industriais  Indústria Química  Produção de Ácido Adípico   \n",
              "2  Processos Industriais  Indústria Química  Produção de Ácido Adípico   \n",
              "3  Processos Industriais  Indústria Química  Produção de Ácido Adípico   \n",
              "4  Processos Industriais  Indústria Química  Produção de Ácido Adípico   \n",
              "\n",
              "  Nível 4 Nível 5 Nível 6 Emissão / Remoção / Bunker               Gás Estado  \\\n",
              "0     NaN     NaN     NaN                    Emissão         COVNM (t)     SP   \n",
              "1     NaN     NaN     NaN                    Emissão           N2O (t)     SP   \n",
              "2     NaN     NaN     NaN                    Emissão            CO (t)     SP   \n",
              "3     NaN     NaN     NaN                    Emissão           NOx (t)     SP   \n",
              "4     NaN     NaN     NaN                    Emissão  CO2e (t) GWP-AR2     SP   \n",
              "\n",
              "  Atividade Econômica  ...       2012       2013       2014       2015  \\\n",
              "0           OUTRA_IND  ...    897.600    897.600    897.600    897.600   \n",
              "1           OUTRA_IND  ...    130.000    130.000    130.000    130.000   \n",
              "2           OUTRA_IND  ...   1380.576   1380.576   1380.576   1380.576   \n",
              "3           OUTRA_IND  ...    431.430    431.430    431.430    431.430   \n",
              "4           OUTRA_IND  ...  40300.000  40300.000  40300.000  40300.000   \n",
              "\n",
              "        2016       2017       2018       2019       2020       2021  \n",
              "0    897.600    897.600    897.600    897.600    897.600    897.600  \n",
              "1    130.000    130.000    130.000    130.000    130.000    130.000  \n",
              "2   1380.576   1380.576   1380.576   1380.576   1380.576   1380.576  \n",
              "3    431.430    431.430    431.430    431.430    431.430    431.430  \n",
              "4  40300.000  40300.000  40300.000  40300.000  40300.000  40300.000  \n",
              "\n",
              "[5 rows x 63 columns]"
            ]
          },
          "execution_count": 3,
          "metadata": {},
          "output_type": "execute_result"
        }
      ],
      "source": [
        "df.head()"
      ]
    },
    {
      "cell_type": "markdown",
      "metadata": {
        "id": "xnycg5-XncW-"
      },
      "source": [
        "Vamos checar a estrutura do nosso DataFrame com o uso do método [`info()`](https://pandas.pydata.org/docs/reference/api/pandas.DataFrame.info.html?highlight=info#pandas.DataFrame.info), que retorna a quantidade de linhas e colunas, bem como a informação de quantidade de dados nulos e tipos de dados para cada uma das colunas."
      ]
    },
    {
      "cell_type": "code",
      "execution_count": 4,
      "metadata": {
        "id": "egksJP6flaOq"
      },
      "outputs": [
        {
          "name": "stdout",
          "output_type": "stream",
          "text": [
            "<class 'pandas.core.frame.DataFrame'>\n",
            "RangeIndex: 103312 entries, 0 to 103311\n",
            "Data columns (total 63 columns):\n",
            " #   Column                      Non-Null Count   Dtype  \n",
            "---  ------                      --------------   -----  \n",
            " 0   Nível 1 - Setor             103312 non-null  object \n",
            " 1   Nível 2                     103312 non-null  object \n",
            " 2   Nível 3                     103253 non-null  object \n",
            " 3   Nível 4                     90920 non-null   object \n",
            " 4   Nível 5                     100788 non-null  object \n",
            " 5   Nível 6                     97691 non-null   object \n",
            " 6   Emissão / Remoção / Bunker  103312 non-null  object \n",
            " 7   Gás                         103312 non-null  object \n",
            " 8   Estado                      97374 non-null   object \n",
            " 9   Atividade Econômica         102076 non-null  object \n",
            " 10  Produto                     37413 non-null   object \n",
            " 11  1970                        103312 non-null  float64\n",
            " 12  1971                        103312 non-null  float64\n",
            " 13  1972                        103312 non-null  float64\n",
            " 14  1973                        103312 non-null  float64\n",
            " 15  1974                        103312 non-null  float64\n",
            " 16  1975                        103312 non-null  float64\n",
            " 17  1976                        103312 non-null  float64\n",
            " 18  1977                        103312 non-null  float64\n",
            " 19  1978                        103312 non-null  float64\n",
            " 20  1979                        103312 non-null  float64\n",
            " 21  1980                        103312 non-null  float64\n",
            " 22  1981                        103312 non-null  float64\n",
            " 23  1982                        103312 non-null  float64\n",
            " 24  1983                        103312 non-null  float64\n",
            " 25  1984                        103312 non-null  float64\n",
            " 26  1985                        103312 non-null  float64\n",
            " 27  1986                        103312 non-null  float64\n",
            " 28  1987                        103312 non-null  float64\n",
            " 29  1988                        103312 non-null  float64\n",
            " 30  1989                        103312 non-null  float64\n",
            " 31  1990                        103312 non-null  float64\n",
            " 32  1991                        103312 non-null  float64\n",
            " 33  1992                        103312 non-null  float64\n",
            " 34  1993                        103312 non-null  float64\n",
            " 35  1994                        103312 non-null  float64\n",
            " 36  1995                        103312 non-null  float64\n",
            " 37  1996                        103312 non-null  float64\n",
            " 38  1997                        103312 non-null  float64\n",
            " 39  1998                        103312 non-null  float64\n",
            " 40  1999                        103312 non-null  float64\n",
            " 41  2000                        103312 non-null  float64\n",
            " 42  2001                        103312 non-null  float64\n",
            " 43  2002                        103312 non-null  float64\n",
            " 44  2003                        103312 non-null  float64\n",
            " 45  2004                        103312 non-null  float64\n",
            " 46  2005                        103312 non-null  float64\n",
            " 47  2006                        103312 non-null  float64\n",
            " 48  2007                        103312 non-null  float64\n",
            " 49  2008                        103312 non-null  float64\n",
            " 50  2009                        103312 non-null  float64\n",
            " 51  2010                        103312 non-null  float64\n",
            " 52  2011                        103312 non-null  float64\n",
            " 53  2012                        103312 non-null  float64\n",
            " 54  2013                        103312 non-null  float64\n",
            " 55  2014                        103312 non-null  float64\n",
            " 56  2015                        103312 non-null  float64\n",
            " 57  2016                        103312 non-null  float64\n",
            " 58  2017                        103312 non-null  float64\n",
            " 59  2018                        103312 non-null  float64\n",
            " 60  2019                        103312 non-null  float64\n",
            " 61  2020                        103312 non-null  float64\n",
            " 62  2021                        103312 non-null  float64\n",
            "dtypes: float64(52), object(11)\n",
            "memory usage: 49.7+ MB\n"
          ]
        }
      ],
      "source": [
        "df.info()"
      ]
    },
    {
      "cell_type": "markdown",
      "metadata": {
        "id": "_7yEHK3HnMj5"
      },
      "source": [
        "### Ajustando a base de dados"
      ]
    },
    {
      "cell_type": "markdown",
      "metadata": {
        "id": "HaZ9wsD1jIms"
      },
      "source": [
        "Estamos interessados somente na emissão de gases gerados pelos estados que estejam no inventário nacional, portanto vamos identificar os tipos de dados únicos da coluna *Emissão / Remoção / Bunker*."
      ]
    },
    {
      "cell_type": "markdown",
      "metadata": {
        "id": "tHVIwbi5Wpp2"
      },
      "source": [
        "---\n",
        "ℹ\n",
        "- *Remoções são dados referentes à retirada dos gases estufa, que é o contrário da emissão*\n",
        "- *NCI são dados não contemplados no inventário nacional*\n",
        "- *Bunkers são emissões de transporte marítimo e aéreo internacional, portanto não são emissões diretas dos estados.*\n",
        "\n",
        "*Informação disponível no site do SEEG: https://seeg.eco.br/entenda-as-estimativas*\n",
        "\n",
        "---"
      ]
    },
    {
      "cell_type": "code",
      "execution_count": 5,
      "metadata": {
        "id": "dfn9DetbKZVq"
      },
      "outputs": [
        {
          "data": {
            "text/plain": [
              "array(['Emissão', 'Emissão NCI', 'Remoção NCI', 'Bunker', 'Remoção'],\n",
              "      dtype=object)"
            ]
          },
          "execution_count": 5,
          "metadata": {},
          "output_type": "execute_result"
        }
      ],
      "source": [
        "df['Emissão / Remoção / Bunker'].unique()"
      ]
    },
    {
      "cell_type": "markdown",
      "metadata": {
        "id": "UuAjlMjln3mo"
      },
      "source": [
        "Vamos checar primeiro os dados de remoção, para identificar se todos eles são de retirada de gases estufa."
      ]
    },
    {
      "cell_type": "code",
      "execution_count": 6,
      "metadata": {
        "id": "mB-rUaUDXFa9"
      },
      "outputs": [
        {
          "data": {
            "text/plain": [
              "0         False\n",
              "1         False\n",
              "2         False\n",
              "3         False\n",
              "4         False\n",
              "          ...  \n",
              "103307    False\n",
              "103308    False\n",
              "103309    False\n",
              "103310    False\n",
              "103311    False\n",
              "Name: Emissão / Remoção / Bunker, Length: 103312, dtype: bool"
            ]
          },
          "execution_count": 6,
          "metadata": {},
          "output_type": "execute_result"
        }
      ],
      "source": [
        "(df['Emissão / Remoção / Bunker'] == 'Remoção NCI') | (df['Emissão / Remoção / Bunker'] == 'Remoção')"
      ]
    },
    {
      "cell_type": "code",
      "execution_count": 7,
      "metadata": {
        "id": "7620UYzzYNoO"
      },
      "outputs": [
        {
          "data": {
            "text/html": [
              "<div>\n",
              "<style scoped>\n",
              "    .dataframe tbody tr th:only-of-type {\n",
              "        vertical-align: middle;\n",
              "    }\n",
              "\n",
              "    .dataframe tbody tr th {\n",
              "        vertical-align: top;\n",
              "    }\n",
              "\n",
              "    .dataframe thead th {\n",
              "        text-align: right;\n",
              "    }\n",
              "</style>\n",
              "<table border=\"1\" class=\"dataframe\">\n",
              "  <thead>\n",
              "    <tr style=\"text-align: right;\">\n",
              "      <th></th>\n",
              "      <th>Nível 1 - Setor</th>\n",
              "      <th>Nível 2</th>\n",
              "      <th>Nível 3</th>\n",
              "      <th>Nível 4</th>\n",
              "      <th>Nível 5</th>\n",
              "      <th>Nível 6</th>\n",
              "      <th>Emissão / Remoção / Bunker</th>\n",
              "      <th>Gás</th>\n",
              "      <th>Estado</th>\n",
              "      <th>Atividade Econômica</th>\n",
              "      <th>...</th>\n",
              "      <th>2012</th>\n",
              "      <th>2013</th>\n",
              "      <th>2014</th>\n",
              "      <th>2015</th>\n",
              "      <th>2016</th>\n",
              "      <th>2017</th>\n",
              "      <th>2018</th>\n",
              "      <th>2019</th>\n",
              "      <th>2020</th>\n",
              "      <th>2021</th>\n",
              "    </tr>\n",
              "  </thead>\n",
              "  <tbody>\n",
              "    <tr>\n",
              "      <th>23520</th>\n",
              "      <td>Agropecuária</td>\n",
              "      <td>Solos Manejados</td>\n",
              "      <td>Diretas</td>\n",
              "      <td>Variação dos Estoques de Carbono no Solo</td>\n",
              "      <td>Vegetal</td>\n",
              "      <td>Pastagem Bem Manejada</td>\n",
              "      <td>Remoção NCI</td>\n",
              "      <td>CO2 (t)</td>\n",
              "      <td>RO</td>\n",
              "      <td>PEC</td>\n",
              "      <td>...</td>\n",
              "      <td>-1.434540e+07</td>\n",
              "      <td>-1.499358e+07</td>\n",
              "      <td>-1.543196e+07</td>\n",
              "      <td>-1.567070e+07</td>\n",
              "      <td>-1.630063e+07</td>\n",
              "      <td>-1.702215e+07</td>\n",
              "      <td>-1.740074e+07</td>\n",
              "      <td>-1.771914e+07</td>\n",
              "      <td>-1.767632e+07</td>\n",
              "      <td>-1.838895e+07</td>\n",
              "    </tr>\n",
              "    <tr>\n",
              "      <th>23521</th>\n",
              "      <td>Agropecuária</td>\n",
              "      <td>Solos Manejados</td>\n",
              "      <td>Diretas</td>\n",
              "      <td>Variação dos Estoques de Carbono no Solo</td>\n",
              "      <td>Vegetal</td>\n",
              "      <td>Pastagem Bem Manejada</td>\n",
              "      <td>Remoção NCI</td>\n",
              "      <td>CO2 (t)</td>\n",
              "      <td>AC</td>\n",
              "      <td>PEC</td>\n",
              "      <td>...</td>\n",
              "      <td>-5.382949e+06</td>\n",
              "      <td>-5.524659e+06</td>\n",
              "      <td>-5.632429e+06</td>\n",
              "      <td>-5.765030e+06</td>\n",
              "      <td>-5.867354e+06</td>\n",
              "      <td>-5.942076e+06</td>\n",
              "      <td>-6.022000e+06</td>\n",
              "      <td>-6.002147e+06</td>\n",
              "      <td>-6.035591e+06</td>\n",
              "      <td>-6.459079e+06</td>\n",
              "    </tr>\n",
              "    <tr>\n",
              "      <th>23522</th>\n",
              "      <td>Agropecuária</td>\n",
              "      <td>Solos Manejados</td>\n",
              "      <td>Diretas</td>\n",
              "      <td>Variação dos Estoques de Carbono no Solo</td>\n",
              "      <td>Vegetal</td>\n",
              "      <td>Pastagem Bem Manejada</td>\n",
              "      <td>Remoção NCI</td>\n",
              "      <td>CO2 (t)</td>\n",
              "      <td>AM</td>\n",
              "      <td>PEC</td>\n",
              "      <td>...</td>\n",
              "      <td>-3.450455e+06</td>\n",
              "      <td>-3.540294e+06</td>\n",
              "      <td>-3.545724e+06</td>\n",
              "      <td>-3.924546e+06</td>\n",
              "      <td>-4.626541e+06</td>\n",
              "      <td>-4.874199e+06</td>\n",
              "      <td>-4.849173e+06</td>\n",
              "      <td>-4.959540e+06</td>\n",
              "      <td>-5.106806e+06</td>\n",
              "      <td>-5.809814e+06</td>\n",
              "    </tr>\n",
              "    <tr>\n",
              "      <th>23523</th>\n",
              "      <td>Agropecuária</td>\n",
              "      <td>Solos Manejados</td>\n",
              "      <td>Diretas</td>\n",
              "      <td>Variação dos Estoques de Carbono no Solo</td>\n",
              "      <td>Vegetal</td>\n",
              "      <td>Pastagem Bem Manejada</td>\n",
              "      <td>Remoção NCI</td>\n",
              "      <td>CO2 (t)</td>\n",
              "      <td>RR</td>\n",
              "      <td>PEC</td>\n",
              "      <td>...</td>\n",
              "      <td>-1.260166e+06</td>\n",
              "      <td>-1.261895e+06</td>\n",
              "      <td>-1.371664e+06</td>\n",
              "      <td>-1.501452e+06</td>\n",
              "      <td>-1.507705e+06</td>\n",
              "      <td>-1.509919e+06</td>\n",
              "      <td>-1.609826e+06</td>\n",
              "      <td>-1.616980e+06</td>\n",
              "      <td>-1.518397e+06</td>\n",
              "      <td>-1.926000e+06</td>\n",
              "    </tr>\n",
              "    <tr>\n",
              "      <th>23524</th>\n",
              "      <td>Agropecuária</td>\n",
              "      <td>Solos Manejados</td>\n",
              "      <td>Diretas</td>\n",
              "      <td>Variação dos Estoques de Carbono no Solo</td>\n",
              "      <td>Vegetal</td>\n",
              "      <td>Pastagem Bem Manejada</td>\n",
              "      <td>Remoção NCI</td>\n",
              "      <td>CO2 (t)</td>\n",
              "      <td>PA</td>\n",
              "      <td>PEC</td>\n",
              "      <td>...</td>\n",
              "      <td>-3.429279e+07</td>\n",
              "      <td>-3.317185e+07</td>\n",
              "      <td>-3.281628e+07</td>\n",
              "      <td>-3.350720e+07</td>\n",
              "      <td>-3.557183e+07</td>\n",
              "      <td>-3.755308e+07</td>\n",
              "      <td>-4.134614e+07</td>\n",
              "      <td>-4.229403e+07</td>\n",
              "      <td>-4.275448e+07</td>\n",
              "      <td>-4.443440e+07</td>\n",
              "    </tr>\n",
              "  </tbody>\n",
              "</table>\n",
              "<p>5 rows × 63 columns</p>\n",
              "</div>"
            ],
            "text/plain": [
              "      Nível 1 - Setor          Nível 2  Nível 3  \\\n",
              "23520    Agropecuária  Solos Manejados  Diretas   \n",
              "23521    Agropecuária  Solos Manejados  Diretas   \n",
              "23522    Agropecuária  Solos Manejados  Diretas   \n",
              "23523    Agropecuária  Solos Manejados  Diretas   \n",
              "23524    Agropecuária  Solos Manejados  Diretas   \n",
              "\n",
              "                                        Nível 4  Nível 5  \\\n",
              "23520  Variação dos Estoques de Carbono no Solo  Vegetal   \n",
              "23521  Variação dos Estoques de Carbono no Solo  Vegetal   \n",
              "23522  Variação dos Estoques de Carbono no Solo  Vegetal   \n",
              "23523  Variação dos Estoques de Carbono no Solo  Vegetal   \n",
              "23524  Variação dos Estoques de Carbono no Solo  Vegetal   \n",
              "\n",
              "                     Nível 6 Emissão / Remoção / Bunker      Gás Estado  \\\n",
              "23520  Pastagem Bem Manejada                Remoção NCI  CO2 (t)     RO   \n",
              "23521  Pastagem Bem Manejada                Remoção NCI  CO2 (t)     AC   \n",
              "23522  Pastagem Bem Manejada                Remoção NCI  CO2 (t)     AM   \n",
              "23523  Pastagem Bem Manejada                Remoção NCI  CO2 (t)     RR   \n",
              "23524  Pastagem Bem Manejada                Remoção NCI  CO2 (t)     PA   \n",
              "\n",
              "      Atividade Econômica  ...          2012          2013          2014  \\\n",
              "23520                 PEC  ... -1.434540e+07 -1.499358e+07 -1.543196e+07   \n",
              "23521                 PEC  ... -5.382949e+06 -5.524659e+06 -5.632429e+06   \n",
              "23522                 PEC  ... -3.450455e+06 -3.540294e+06 -3.545724e+06   \n",
              "23523                 PEC  ... -1.260166e+06 -1.261895e+06 -1.371664e+06   \n",
              "23524                 PEC  ... -3.429279e+07 -3.317185e+07 -3.281628e+07   \n",
              "\n",
              "               2015          2016          2017          2018          2019  \\\n",
              "23520 -1.567070e+07 -1.630063e+07 -1.702215e+07 -1.740074e+07 -1.771914e+07   \n",
              "23521 -5.765030e+06 -5.867354e+06 -5.942076e+06 -6.022000e+06 -6.002147e+06   \n",
              "23522 -3.924546e+06 -4.626541e+06 -4.874199e+06 -4.849173e+06 -4.959540e+06   \n",
              "23523 -1.501452e+06 -1.507705e+06 -1.509919e+06 -1.609826e+06 -1.616980e+06   \n",
              "23524 -3.350720e+07 -3.557183e+07 -3.755308e+07 -4.134614e+07 -4.229403e+07   \n",
              "\n",
              "               2020          2021  \n",
              "23520 -1.767632e+07 -1.838895e+07  \n",
              "23521 -6.035591e+06 -6.459079e+06  \n",
              "23522 -5.106806e+06 -5.809814e+06  \n",
              "23523 -1.518397e+06 -1.926000e+06  \n",
              "23524 -4.275448e+07 -4.443440e+07  \n",
              "\n",
              "[5 rows x 63 columns]"
            ]
          },
          "execution_count": 7,
          "metadata": {},
          "output_type": "execute_result"
        }
      ],
      "source": [
        "df[df['Emissão / Remoção / Bunker'].isin(['Remoção NCI','Remoção'])].head()"
      ]
    },
    {
      "cell_type": "code",
      "execution_count": 8,
      "metadata": {
        "id": "H3zFoDQxY7MM"
      },
      "outputs": [
        {
          "data": {
            "text/html": [
              "<div>\n",
              "<style scoped>\n",
              "    .dataframe tbody tr th:only-of-type {\n",
              "        vertical-align: middle;\n",
              "    }\n",
              "\n",
              "    .dataframe tbody tr th {\n",
              "        vertical-align: top;\n",
              "    }\n",
              "\n",
              "    .dataframe thead th {\n",
              "        text-align: right;\n",
              "    }\n",
              "</style>\n",
              "<table border=\"1\" class=\"dataframe\">\n",
              "  <thead>\n",
              "    <tr style=\"text-align: right;\">\n",
              "      <th></th>\n",
              "      <th>1970</th>\n",
              "      <th>1971</th>\n",
              "      <th>1972</th>\n",
              "      <th>1973</th>\n",
              "      <th>1974</th>\n",
              "      <th>1975</th>\n",
              "      <th>1976</th>\n",
              "      <th>1977</th>\n",
              "      <th>1978</th>\n",
              "      <th>1979</th>\n",
              "      <th>...</th>\n",
              "      <th>2012</th>\n",
              "      <th>2013</th>\n",
              "      <th>2014</th>\n",
              "      <th>2015</th>\n",
              "      <th>2016</th>\n",
              "      <th>2017</th>\n",
              "      <th>2018</th>\n",
              "      <th>2019</th>\n",
              "      <th>2020</th>\n",
              "      <th>2021</th>\n",
              "    </tr>\n",
              "  </thead>\n",
              "  <tbody>\n",
              "    <tr>\n",
              "      <th>23520</th>\n",
              "      <td>0.0</td>\n",
              "      <td>0.0</td>\n",
              "      <td>0.0</td>\n",
              "      <td>0.0</td>\n",
              "      <td>0.0</td>\n",
              "      <td>0.0</td>\n",
              "      <td>0.0</td>\n",
              "      <td>0.0</td>\n",
              "      <td>0.0</td>\n",
              "      <td>0.0</td>\n",
              "      <td>...</td>\n",
              "      <td>-1.434540e+07</td>\n",
              "      <td>-1.499358e+07</td>\n",
              "      <td>-1.543196e+07</td>\n",
              "      <td>-1.567070e+07</td>\n",
              "      <td>-1.630063e+07</td>\n",
              "      <td>-1.702215e+07</td>\n",
              "      <td>-1.740074e+07</td>\n",
              "      <td>-1.771914e+07</td>\n",
              "      <td>-1.767632e+07</td>\n",
              "      <td>-1.838895e+07</td>\n",
              "    </tr>\n",
              "    <tr>\n",
              "      <th>23521</th>\n",
              "      <td>0.0</td>\n",
              "      <td>0.0</td>\n",
              "      <td>0.0</td>\n",
              "      <td>0.0</td>\n",
              "      <td>0.0</td>\n",
              "      <td>0.0</td>\n",
              "      <td>0.0</td>\n",
              "      <td>0.0</td>\n",
              "      <td>0.0</td>\n",
              "      <td>0.0</td>\n",
              "      <td>...</td>\n",
              "      <td>-5.382949e+06</td>\n",
              "      <td>-5.524659e+06</td>\n",
              "      <td>-5.632429e+06</td>\n",
              "      <td>-5.765030e+06</td>\n",
              "      <td>-5.867354e+06</td>\n",
              "      <td>-5.942076e+06</td>\n",
              "      <td>-6.022000e+06</td>\n",
              "      <td>-6.002147e+06</td>\n",
              "      <td>-6.035591e+06</td>\n",
              "      <td>-6.459079e+06</td>\n",
              "    </tr>\n",
              "    <tr>\n",
              "      <th>23522</th>\n",
              "      <td>0.0</td>\n",
              "      <td>0.0</td>\n",
              "      <td>0.0</td>\n",
              "      <td>0.0</td>\n",
              "      <td>0.0</td>\n",
              "      <td>0.0</td>\n",
              "      <td>0.0</td>\n",
              "      <td>0.0</td>\n",
              "      <td>0.0</td>\n",
              "      <td>0.0</td>\n",
              "      <td>...</td>\n",
              "      <td>-3.450455e+06</td>\n",
              "      <td>-3.540294e+06</td>\n",
              "      <td>-3.545724e+06</td>\n",
              "      <td>-3.924546e+06</td>\n",
              "      <td>-4.626541e+06</td>\n",
              "      <td>-4.874199e+06</td>\n",
              "      <td>-4.849173e+06</td>\n",
              "      <td>-4.959540e+06</td>\n",
              "      <td>-5.106806e+06</td>\n",
              "      <td>-5.809814e+06</td>\n",
              "    </tr>\n",
              "    <tr>\n",
              "      <th>23523</th>\n",
              "      <td>0.0</td>\n",
              "      <td>0.0</td>\n",
              "      <td>0.0</td>\n",
              "      <td>0.0</td>\n",
              "      <td>0.0</td>\n",
              "      <td>0.0</td>\n",
              "      <td>0.0</td>\n",
              "      <td>0.0</td>\n",
              "      <td>0.0</td>\n",
              "      <td>0.0</td>\n",
              "      <td>...</td>\n",
              "      <td>-1.260166e+06</td>\n",
              "      <td>-1.261895e+06</td>\n",
              "      <td>-1.371664e+06</td>\n",
              "      <td>-1.501452e+06</td>\n",
              "      <td>-1.507705e+06</td>\n",
              "      <td>-1.509919e+06</td>\n",
              "      <td>-1.609826e+06</td>\n",
              "      <td>-1.616980e+06</td>\n",
              "      <td>-1.518397e+06</td>\n",
              "      <td>-1.926000e+06</td>\n",
              "    </tr>\n",
              "    <tr>\n",
              "      <th>23524</th>\n",
              "      <td>0.0</td>\n",
              "      <td>0.0</td>\n",
              "      <td>0.0</td>\n",
              "      <td>0.0</td>\n",
              "      <td>0.0</td>\n",
              "      <td>0.0</td>\n",
              "      <td>0.0</td>\n",
              "      <td>0.0</td>\n",
              "      <td>0.0</td>\n",
              "      <td>0.0</td>\n",
              "      <td>...</td>\n",
              "      <td>-3.429279e+07</td>\n",
              "      <td>-3.317185e+07</td>\n",
              "      <td>-3.281628e+07</td>\n",
              "      <td>-3.350720e+07</td>\n",
              "      <td>-3.557183e+07</td>\n",
              "      <td>-3.755308e+07</td>\n",
              "      <td>-4.134614e+07</td>\n",
              "      <td>-4.229403e+07</td>\n",
              "      <td>-4.275448e+07</td>\n",
              "      <td>-4.443440e+07</td>\n",
              "    </tr>\n",
              "    <tr>\n",
              "      <th>...</th>\n",
              "      <td>...</td>\n",
              "      <td>...</td>\n",
              "      <td>...</td>\n",
              "      <td>...</td>\n",
              "      <td>...</td>\n",
              "      <td>...</td>\n",
              "      <td>...</td>\n",
              "      <td>...</td>\n",
              "      <td>...</td>\n",
              "      <td>...</td>\n",
              "      <td>...</td>\n",
              "      <td>...</td>\n",
              "      <td>...</td>\n",
              "      <td>...</td>\n",
              "      <td>...</td>\n",
              "      <td>...</td>\n",
              "      <td>...</td>\n",
              "      <td>...</td>\n",
              "      <td>...</td>\n",
              "      <td>...</td>\n",
              "      <td>...</td>\n",
              "    </tr>\n",
              "    <tr>\n",
              "      <th>102751</th>\n",
              "      <td>0.0</td>\n",
              "      <td>0.0</td>\n",
              "      <td>0.0</td>\n",
              "      <td>0.0</td>\n",
              "      <td>0.0</td>\n",
              "      <td>0.0</td>\n",
              "      <td>0.0</td>\n",
              "      <td>0.0</td>\n",
              "      <td>0.0</td>\n",
              "      <td>0.0</td>\n",
              "      <td>...</td>\n",
              "      <td>-7.513000e+04</td>\n",
              "      <td>-7.911900e+04</td>\n",
              "      <td>-8.695900e+04</td>\n",
              "      <td>-9.201400e+04</td>\n",
              "      <td>-9.149400e+04</td>\n",
              "      <td>-9.630200e+04</td>\n",
              "      <td>-9.202000e+04</td>\n",
              "      <td>-9.762300e+04</td>\n",
              "      <td>-1.015020e+05</td>\n",
              "      <td>-1.008910e+05</td>\n",
              "    </tr>\n",
              "    <tr>\n",
              "      <th>102752</th>\n",
              "      <td>0.0</td>\n",
              "      <td>0.0</td>\n",
              "      <td>0.0</td>\n",
              "      <td>0.0</td>\n",
              "      <td>0.0</td>\n",
              "      <td>0.0</td>\n",
              "      <td>0.0</td>\n",
              "      <td>0.0</td>\n",
              "      <td>0.0</td>\n",
              "      <td>0.0</td>\n",
              "      <td>...</td>\n",
              "      <td>-9.523000e+03</td>\n",
              "      <td>-9.667000e+03</td>\n",
              "      <td>-1.000300e+04</td>\n",
              "      <td>-1.024200e+04</td>\n",
              "      <td>-1.027200e+04</td>\n",
              "      <td>-1.019100e+04</td>\n",
              "      <td>-1.046900e+04</td>\n",
              "      <td>-1.090400e+04</td>\n",
              "      <td>-1.104100e+04</td>\n",
              "      <td>-1.109500e+04</td>\n",
              "    </tr>\n",
              "    <tr>\n",
              "      <th>102753</th>\n",
              "      <td>0.0</td>\n",
              "      <td>0.0</td>\n",
              "      <td>0.0</td>\n",
              "      <td>0.0</td>\n",
              "      <td>0.0</td>\n",
              "      <td>0.0</td>\n",
              "      <td>0.0</td>\n",
              "      <td>0.0</td>\n",
              "      <td>0.0</td>\n",
              "      <td>0.0</td>\n",
              "      <td>...</td>\n",
              "      <td>-7.513000e+04</td>\n",
              "      <td>-7.911900e+04</td>\n",
              "      <td>-8.695900e+04</td>\n",
              "      <td>-9.201400e+04</td>\n",
              "      <td>-9.149400e+04</td>\n",
              "      <td>-9.630200e+04</td>\n",
              "      <td>-9.202000e+04</td>\n",
              "      <td>-9.762300e+04</td>\n",
              "      <td>-1.015020e+05</td>\n",
              "      <td>-1.008910e+05</td>\n",
              "    </tr>\n",
              "    <tr>\n",
              "      <th>102754</th>\n",
              "      <td>0.0</td>\n",
              "      <td>0.0</td>\n",
              "      <td>0.0</td>\n",
              "      <td>0.0</td>\n",
              "      <td>0.0</td>\n",
              "      <td>0.0</td>\n",
              "      <td>0.0</td>\n",
              "      <td>0.0</td>\n",
              "      <td>0.0</td>\n",
              "      <td>0.0</td>\n",
              "      <td>...</td>\n",
              "      <td>-9.523000e+03</td>\n",
              "      <td>-9.667000e+03</td>\n",
              "      <td>-1.000300e+04</td>\n",
              "      <td>-1.024200e+04</td>\n",
              "      <td>-1.027200e+04</td>\n",
              "      <td>-1.019100e+04</td>\n",
              "      <td>-1.046900e+04</td>\n",
              "      <td>-1.090400e+04</td>\n",
              "      <td>-1.104100e+04</td>\n",
              "      <td>-1.109500e+04</td>\n",
              "    </tr>\n",
              "    <tr>\n",
              "      <th>102755</th>\n",
              "      <td>0.0</td>\n",
              "      <td>0.0</td>\n",
              "      <td>0.0</td>\n",
              "      <td>0.0</td>\n",
              "      <td>0.0</td>\n",
              "      <td>0.0</td>\n",
              "      <td>0.0</td>\n",
              "      <td>0.0</td>\n",
              "      <td>0.0</td>\n",
              "      <td>0.0</td>\n",
              "      <td>...</td>\n",
              "      <td>-7.513000e+04</td>\n",
              "      <td>-7.911900e+04</td>\n",
              "      <td>-8.695900e+04</td>\n",
              "      <td>-9.201400e+04</td>\n",
              "      <td>-9.149400e+04</td>\n",
              "      <td>-9.630200e+04</td>\n",
              "      <td>-9.202000e+04</td>\n",
              "      <td>-9.762300e+04</td>\n",
              "      <td>-1.015020e+05</td>\n",
              "      <td>-1.008910e+05</td>\n",
              "    </tr>\n",
              "  </tbody>\n",
              "</table>\n",
              "<p>7970 rows × 52 columns</p>\n",
              "</div>"
            ],
            "text/plain": [
              "        1970  1971  1972  1973  1974  1975  1976  1977  1978  1979  ...  \\\n",
              "23520    0.0   0.0   0.0   0.0   0.0   0.0   0.0   0.0   0.0   0.0  ...   \n",
              "23521    0.0   0.0   0.0   0.0   0.0   0.0   0.0   0.0   0.0   0.0  ...   \n",
              "23522    0.0   0.0   0.0   0.0   0.0   0.0   0.0   0.0   0.0   0.0  ...   \n",
              "23523    0.0   0.0   0.0   0.0   0.0   0.0   0.0   0.0   0.0   0.0  ...   \n",
              "23524    0.0   0.0   0.0   0.0   0.0   0.0   0.0   0.0   0.0   0.0  ...   \n",
              "...      ...   ...   ...   ...   ...   ...   ...   ...   ...   ...  ...   \n",
              "102751   0.0   0.0   0.0   0.0   0.0   0.0   0.0   0.0   0.0   0.0  ...   \n",
              "102752   0.0   0.0   0.0   0.0   0.0   0.0   0.0   0.0   0.0   0.0  ...   \n",
              "102753   0.0   0.0   0.0   0.0   0.0   0.0   0.0   0.0   0.0   0.0  ...   \n",
              "102754   0.0   0.0   0.0   0.0   0.0   0.0   0.0   0.0   0.0   0.0  ...   \n",
              "102755   0.0   0.0   0.0   0.0   0.0   0.0   0.0   0.0   0.0   0.0  ...   \n",
              "\n",
              "                2012          2013          2014          2015          2016  \\\n",
              "23520  -1.434540e+07 -1.499358e+07 -1.543196e+07 -1.567070e+07 -1.630063e+07   \n",
              "23521  -5.382949e+06 -5.524659e+06 -5.632429e+06 -5.765030e+06 -5.867354e+06   \n",
              "23522  -3.450455e+06 -3.540294e+06 -3.545724e+06 -3.924546e+06 -4.626541e+06   \n",
              "23523  -1.260166e+06 -1.261895e+06 -1.371664e+06 -1.501452e+06 -1.507705e+06   \n",
              "23524  -3.429279e+07 -3.317185e+07 -3.281628e+07 -3.350720e+07 -3.557183e+07   \n",
              "...              ...           ...           ...           ...           ...   \n",
              "102751 -7.513000e+04 -7.911900e+04 -8.695900e+04 -9.201400e+04 -9.149400e+04   \n",
              "102752 -9.523000e+03 -9.667000e+03 -1.000300e+04 -1.024200e+04 -1.027200e+04   \n",
              "102753 -7.513000e+04 -7.911900e+04 -8.695900e+04 -9.201400e+04 -9.149400e+04   \n",
              "102754 -9.523000e+03 -9.667000e+03 -1.000300e+04 -1.024200e+04 -1.027200e+04   \n",
              "102755 -7.513000e+04 -7.911900e+04 -8.695900e+04 -9.201400e+04 -9.149400e+04   \n",
              "\n",
              "                2017          2018          2019          2020          2021  \n",
              "23520  -1.702215e+07 -1.740074e+07 -1.771914e+07 -1.767632e+07 -1.838895e+07  \n",
              "23521  -5.942076e+06 -6.022000e+06 -6.002147e+06 -6.035591e+06 -6.459079e+06  \n",
              "23522  -4.874199e+06 -4.849173e+06 -4.959540e+06 -5.106806e+06 -5.809814e+06  \n",
              "23523  -1.509919e+06 -1.609826e+06 -1.616980e+06 -1.518397e+06 -1.926000e+06  \n",
              "23524  -3.755308e+07 -4.134614e+07 -4.229403e+07 -4.275448e+07 -4.443440e+07  \n",
              "...              ...           ...           ...           ...           ...  \n",
              "102751 -9.630200e+04 -9.202000e+04 -9.762300e+04 -1.015020e+05 -1.008910e+05  \n",
              "102752 -1.019100e+04 -1.046900e+04 -1.090400e+04 -1.104100e+04 -1.109500e+04  \n",
              "102753 -9.630200e+04 -9.202000e+04 -9.762300e+04 -1.015020e+05 -1.008910e+05  \n",
              "102754 -1.019100e+04 -1.046900e+04 -1.090400e+04 -1.104100e+04 -1.109500e+04  \n",
              "102755 -9.630200e+04 -9.202000e+04 -9.762300e+04 -1.015020e+05 -1.008910e+05  \n",
              "\n",
              "[7970 rows x 52 columns]"
            ]
          },
          "execution_count": 8,
          "metadata": {},
          "output_type": "execute_result"
        }
      ],
      "source": [
        "df.loc[df['Emissão / Remoção / Bunker'].isin(['Remoção NCI','Remoção']), 1970:2021]"
      ]
    },
    {
      "cell_type": "markdown",
      "metadata": {
        "id": "PFinme-toK3s"
      },
      "source": [
        "Para identificar se todos os valores são negativos, vamos utilizar a função `max()` para checar se tem algum valor maior do que 0."
      ]
    },
    {
      "cell_type": "code",
      "execution_count": 9,
      "metadata": {
        "id": "d9av7ddqZBnd"
      },
      "outputs": [
        {
          "data": {
            "text/plain": [
              "1970    0.0\n",
              "1971    0.0\n",
              "1972    0.0\n",
              "1973    0.0\n",
              "1974    0.0\n",
              "1975    0.0\n",
              "1976    0.0\n",
              "1977    0.0\n",
              "1978    0.0\n",
              "1979    0.0\n",
              "1980    0.0\n",
              "1981    0.0\n",
              "1982    0.0\n",
              "1983    0.0\n",
              "1984    0.0\n",
              "1985    0.0\n",
              "1986    0.0\n",
              "1987    0.0\n",
              "1988    0.0\n",
              "1989    0.0\n",
              "1990    0.0\n",
              "1991    0.0\n",
              "1992    0.0\n",
              "1993    0.0\n",
              "1994    0.0\n",
              "1995    0.0\n",
              "1996    0.0\n",
              "1997    0.0\n",
              "1998    0.0\n",
              "1999    0.0\n",
              "2000    0.0\n",
              "2001    0.0\n",
              "2002    0.0\n",
              "2003    0.0\n",
              "2004    0.0\n",
              "2005    0.0\n",
              "2006    0.0\n",
              "2007    0.0\n",
              "2008    0.0\n",
              "2009    0.0\n",
              "2010    0.0\n",
              "2011    0.0\n",
              "2012    0.0\n",
              "2013    0.0\n",
              "2014    0.0\n",
              "2015    0.0\n",
              "2016    0.0\n",
              "2017    0.0\n",
              "2018    0.0\n",
              "2019    0.0\n",
              "2020    0.0\n",
              "2021    0.0\n",
              "dtype: float64"
            ]
          },
          "execution_count": 9,
          "metadata": {},
          "output_type": "execute_result"
        }
      ],
      "source": [
        "df.loc[df['Emissão / Remoção / Bunker'].isin(['Remoção NCI','Remoção']), 1970:2021].max()"
      ]
    },
    {
      "cell_type": "markdown",
      "metadata": {
        "id": "NuzmdY3moZIr"
      },
      "source": [
        "Vamos também identificar se algum valor do tipo *Bunker* corresponde a alguma emissão feita por algum estado."
      ]
    },
    {
      "cell_type": "code",
      "execution_count": 10,
      "metadata": {
        "id": "UdaXe8fJZOok"
      },
      "outputs": [
        {
          "data": {
            "text/plain": [
              "array([nan], dtype=object)"
            ]
          },
          "execution_count": 10,
          "metadata": {},
          "output_type": "execute_result"
        }
      ],
      "source": [
        "df.loc[df['Emissão / Remoção / Bunker']=='Bunker', 'Estado'].unique()"
      ]
    },
    {
      "cell_type": "code",
      "execution_count": 11,
      "metadata": {
        "id": "w8s-5_dmasmn"
      },
      "outputs": [],
      "source": [
        "df = df[df['Emissão / Remoção / Bunker']=='Emissão']"
      ]
    },
    {
      "cell_type": "code",
      "execution_count": 12,
      "metadata": {},
      "outputs": [
        {
          "data": {
            "text/html": [
              "<div>\n",
              "<style scoped>\n",
              "    .dataframe tbody tr th:only-of-type {\n",
              "        vertical-align: middle;\n",
              "    }\n",
              "\n",
              "    .dataframe tbody tr th {\n",
              "        vertical-align: top;\n",
              "    }\n",
              "\n",
              "    .dataframe thead th {\n",
              "        text-align: right;\n",
              "    }\n",
              "</style>\n",
              "<table border=\"1\" class=\"dataframe\">\n",
              "  <thead>\n",
              "    <tr style=\"text-align: right;\">\n",
              "      <th></th>\n",
              "      <th>Nível 1 - Setor</th>\n",
              "      <th>Nível 2</th>\n",
              "      <th>Nível 3</th>\n",
              "      <th>Nível 4</th>\n",
              "      <th>Nível 5</th>\n",
              "      <th>Nível 6</th>\n",
              "      <th>Emissão / Remoção / Bunker</th>\n",
              "      <th>Gás</th>\n",
              "      <th>Estado</th>\n",
              "      <th>Atividade Econômica</th>\n",
              "      <th>...</th>\n",
              "      <th>2012</th>\n",
              "      <th>2013</th>\n",
              "      <th>2014</th>\n",
              "      <th>2015</th>\n",
              "      <th>2016</th>\n",
              "      <th>2017</th>\n",
              "      <th>2018</th>\n",
              "      <th>2019</th>\n",
              "      <th>2020</th>\n",
              "      <th>2021</th>\n",
              "    </tr>\n",
              "  </thead>\n",
              "  <tbody>\n",
              "    <tr>\n",
              "      <th>0</th>\n",
              "      <td>Processos Industriais</td>\n",
              "      <td>Indústria Química</td>\n",
              "      <td>Produção de ABS</td>\n",
              "      <td>NaN</td>\n",
              "      <td>NaN</td>\n",
              "      <td>NaN</td>\n",
              "      <td>Emissão</td>\n",
              "      <td>COVNM (t)</td>\n",
              "      <td>SP</td>\n",
              "      <td>OUTRA_IND</td>\n",
              "      <td>...</td>\n",
              "      <td>897.600</td>\n",
              "      <td>897.600</td>\n",
              "      <td>897.600</td>\n",
              "      <td>897.600</td>\n",
              "      <td>897.600</td>\n",
              "      <td>897.600</td>\n",
              "      <td>897.600</td>\n",
              "      <td>897.600</td>\n",
              "      <td>897.600</td>\n",
              "      <td>897.600</td>\n",
              "    </tr>\n",
              "    <tr>\n",
              "      <th>1</th>\n",
              "      <td>Processos Industriais</td>\n",
              "      <td>Indústria Química</td>\n",
              "      <td>Produção de Ácido Adípico</td>\n",
              "      <td>NaN</td>\n",
              "      <td>NaN</td>\n",
              "      <td>NaN</td>\n",
              "      <td>Emissão</td>\n",
              "      <td>N2O (t)</td>\n",
              "      <td>SP</td>\n",
              "      <td>OUTRA_IND</td>\n",
              "      <td>...</td>\n",
              "      <td>130.000</td>\n",
              "      <td>130.000</td>\n",
              "      <td>130.000</td>\n",
              "      <td>130.000</td>\n",
              "      <td>130.000</td>\n",
              "      <td>130.000</td>\n",
              "      <td>130.000</td>\n",
              "      <td>130.000</td>\n",
              "      <td>130.000</td>\n",
              "      <td>130.000</td>\n",
              "    </tr>\n",
              "    <tr>\n",
              "      <th>2</th>\n",
              "      <td>Processos Industriais</td>\n",
              "      <td>Indústria Química</td>\n",
              "      <td>Produção de Ácido Adípico</td>\n",
              "      <td>NaN</td>\n",
              "      <td>NaN</td>\n",
              "      <td>NaN</td>\n",
              "      <td>Emissão</td>\n",
              "      <td>CO (t)</td>\n",
              "      <td>SP</td>\n",
              "      <td>OUTRA_IND</td>\n",
              "      <td>...</td>\n",
              "      <td>1380.576</td>\n",
              "      <td>1380.576</td>\n",
              "      <td>1380.576</td>\n",
              "      <td>1380.576</td>\n",
              "      <td>1380.576</td>\n",
              "      <td>1380.576</td>\n",
              "      <td>1380.576</td>\n",
              "      <td>1380.576</td>\n",
              "      <td>1380.576</td>\n",
              "      <td>1380.576</td>\n",
              "    </tr>\n",
              "    <tr>\n",
              "      <th>3</th>\n",
              "      <td>Processos Industriais</td>\n",
              "      <td>Indústria Química</td>\n",
              "      <td>Produção de Ácido Adípico</td>\n",
              "      <td>NaN</td>\n",
              "      <td>NaN</td>\n",
              "      <td>NaN</td>\n",
              "      <td>Emissão</td>\n",
              "      <td>NOx (t)</td>\n",
              "      <td>SP</td>\n",
              "      <td>OUTRA_IND</td>\n",
              "      <td>...</td>\n",
              "      <td>431.430</td>\n",
              "      <td>431.430</td>\n",
              "      <td>431.430</td>\n",
              "      <td>431.430</td>\n",
              "      <td>431.430</td>\n",
              "      <td>431.430</td>\n",
              "      <td>431.430</td>\n",
              "      <td>431.430</td>\n",
              "      <td>431.430</td>\n",
              "      <td>431.430</td>\n",
              "    </tr>\n",
              "    <tr>\n",
              "      <th>4</th>\n",
              "      <td>Processos Industriais</td>\n",
              "      <td>Indústria Química</td>\n",
              "      <td>Produção de Ácido Adípico</td>\n",
              "      <td>NaN</td>\n",
              "      <td>NaN</td>\n",
              "      <td>NaN</td>\n",
              "      <td>Emissão</td>\n",
              "      <td>CO2e (t) GWP-AR2</td>\n",
              "      <td>SP</td>\n",
              "      <td>OUTRA_IND</td>\n",
              "      <td>...</td>\n",
              "      <td>40300.000</td>\n",
              "      <td>40300.000</td>\n",
              "      <td>40300.000</td>\n",
              "      <td>40300.000</td>\n",
              "      <td>40300.000</td>\n",
              "      <td>40300.000</td>\n",
              "      <td>40300.000</td>\n",
              "      <td>40300.000</td>\n",
              "      <td>40300.000</td>\n",
              "      <td>40300.000</td>\n",
              "    </tr>\n",
              "  </tbody>\n",
              "</table>\n",
              "<p>5 rows × 63 columns</p>\n",
              "</div>"
            ],
            "text/plain": [
              "         Nível 1 - Setor            Nível 2                    Nível 3  \\\n",
              "0  Processos Industriais  Indústria Química            Produção de ABS   \n",
              "1  Processos Industriais  Indústria Química  Produção de Ácido Adípico   \n",
              "2  Processos Industriais  Indústria Química  Produção de Ácido Adípico   \n",
              "3  Processos Industriais  Indústria Química  Produção de Ácido Adípico   \n",
              "4  Processos Industriais  Indústria Química  Produção de Ácido Adípico   \n",
              "\n",
              "  Nível 4 Nível 5 Nível 6 Emissão / Remoção / Bunker               Gás Estado  \\\n",
              "0     NaN     NaN     NaN                    Emissão         COVNM (t)     SP   \n",
              "1     NaN     NaN     NaN                    Emissão           N2O (t)     SP   \n",
              "2     NaN     NaN     NaN                    Emissão            CO (t)     SP   \n",
              "3     NaN     NaN     NaN                    Emissão           NOx (t)     SP   \n",
              "4     NaN     NaN     NaN                    Emissão  CO2e (t) GWP-AR2     SP   \n",
              "\n",
              "  Atividade Econômica  ...       2012       2013       2014       2015  \\\n",
              "0           OUTRA_IND  ...    897.600    897.600    897.600    897.600   \n",
              "1           OUTRA_IND  ...    130.000    130.000    130.000    130.000   \n",
              "2           OUTRA_IND  ...   1380.576   1380.576   1380.576   1380.576   \n",
              "3           OUTRA_IND  ...    431.430    431.430    431.430    431.430   \n",
              "4           OUTRA_IND  ...  40300.000  40300.000  40300.000  40300.000   \n",
              "\n",
              "        2016       2017       2018       2019       2020       2021  \n",
              "0    897.600    897.600    897.600    897.600    897.600    897.600  \n",
              "1    130.000    130.000    130.000    130.000    130.000    130.000  \n",
              "2   1380.576   1380.576   1380.576   1380.576   1380.576   1380.576  \n",
              "3    431.430    431.430    431.430    431.430    431.430    431.430  \n",
              "4  40300.000  40300.000  40300.000  40300.000  40300.000  40300.000  \n",
              "\n",
              "[5 rows x 63 columns]"
            ]
          },
          "execution_count": 12,
          "metadata": {},
          "output_type": "execute_result"
        }
      ],
      "source": [
        "df.head()"
      ]
    },
    {
      "cell_type": "markdown",
      "metadata": {
        "id": "dybMzE9JoijP"
      },
      "source": [
        "Como não restou nenhum valor útil para análise na coluna de *Emissão / Remoção / Bunker*, vamos removê-la por completo da base de dados."
      ]
    },
    {
      "cell_type": "code",
      "execution_count": 13,
      "metadata": {},
      "outputs": [
        {
          "data": {
            "text/html": [
              "<div>\n",
              "<style scoped>\n",
              "    .dataframe tbody tr th:only-of-type {\n",
              "        vertical-align: middle;\n",
              "    }\n",
              "\n",
              "    .dataframe tbody tr th {\n",
              "        vertical-align: top;\n",
              "    }\n",
              "\n",
              "    .dataframe thead th {\n",
              "        text-align: right;\n",
              "    }\n",
              "</style>\n",
              "<table border=\"1\" class=\"dataframe\">\n",
              "  <thead>\n",
              "    <tr style=\"text-align: right;\">\n",
              "      <th></th>\n",
              "      <th>Nível 1 - Setor</th>\n",
              "      <th>Nível 2</th>\n",
              "      <th>Nível 3</th>\n",
              "      <th>Nível 4</th>\n",
              "      <th>Nível 5</th>\n",
              "      <th>Nível 6</th>\n",
              "      <th>Gás</th>\n",
              "      <th>Estado</th>\n",
              "      <th>Atividade Econômica</th>\n",
              "      <th>Produto</th>\n",
              "      <th>...</th>\n",
              "      <th>2012</th>\n",
              "      <th>2013</th>\n",
              "      <th>2014</th>\n",
              "      <th>2015</th>\n",
              "      <th>2016</th>\n",
              "      <th>2017</th>\n",
              "      <th>2018</th>\n",
              "      <th>2019</th>\n",
              "      <th>2020</th>\n",
              "      <th>2021</th>\n",
              "    </tr>\n",
              "  </thead>\n",
              "  <tbody>\n",
              "    <tr>\n",
              "      <th>0</th>\n",
              "      <td>Processos Industriais</td>\n",
              "      <td>Indústria Química</td>\n",
              "      <td>Produção de ABS</td>\n",
              "      <td>NaN</td>\n",
              "      <td>NaN</td>\n",
              "      <td>NaN</td>\n",
              "      <td>COVNM (t)</td>\n",
              "      <td>SP</td>\n",
              "      <td>OUTRA_IND</td>\n",
              "      <td>NaN</td>\n",
              "      <td>...</td>\n",
              "      <td>897.600000</td>\n",
              "      <td>897.600000</td>\n",
              "      <td>897.600000</td>\n",
              "      <td>897.600000</td>\n",
              "      <td>897.600000</td>\n",
              "      <td>897.600000</td>\n",
              "      <td>897.600000</td>\n",
              "      <td>897.600</td>\n",
              "      <td>897.600</td>\n",
              "      <td>897.600</td>\n",
              "    </tr>\n",
              "    <tr>\n",
              "      <th>1</th>\n",
              "      <td>Processos Industriais</td>\n",
              "      <td>Indústria Química</td>\n",
              "      <td>Produção de Ácido Adípico</td>\n",
              "      <td>NaN</td>\n",
              "      <td>NaN</td>\n",
              "      <td>NaN</td>\n",
              "      <td>N2O (t)</td>\n",
              "      <td>SP</td>\n",
              "      <td>OUTRA_IND</td>\n",
              "      <td>NaN</td>\n",
              "      <td>...</td>\n",
              "      <td>130.000000</td>\n",
              "      <td>130.000000</td>\n",
              "      <td>130.000000</td>\n",
              "      <td>130.000000</td>\n",
              "      <td>130.000000</td>\n",
              "      <td>130.000000</td>\n",
              "      <td>130.000000</td>\n",
              "      <td>130.000</td>\n",
              "      <td>130.000</td>\n",
              "      <td>130.000</td>\n",
              "    </tr>\n",
              "    <tr>\n",
              "      <th>2</th>\n",
              "      <td>Processos Industriais</td>\n",
              "      <td>Indústria Química</td>\n",
              "      <td>Produção de Ácido Adípico</td>\n",
              "      <td>NaN</td>\n",
              "      <td>NaN</td>\n",
              "      <td>NaN</td>\n",
              "      <td>CO (t)</td>\n",
              "      <td>SP</td>\n",
              "      <td>OUTRA_IND</td>\n",
              "      <td>NaN</td>\n",
              "      <td>...</td>\n",
              "      <td>1380.576000</td>\n",
              "      <td>1380.576000</td>\n",
              "      <td>1380.576000</td>\n",
              "      <td>1380.576000</td>\n",
              "      <td>1380.576000</td>\n",
              "      <td>1380.576000</td>\n",
              "      <td>1380.576000</td>\n",
              "      <td>1380.576</td>\n",
              "      <td>1380.576</td>\n",
              "      <td>1380.576</td>\n",
              "    </tr>\n",
              "    <tr>\n",
              "      <th>3</th>\n",
              "      <td>Processos Industriais</td>\n",
              "      <td>Indústria Química</td>\n",
              "      <td>Produção de Ácido Adípico</td>\n",
              "      <td>NaN</td>\n",
              "      <td>NaN</td>\n",
              "      <td>NaN</td>\n",
              "      <td>NOx (t)</td>\n",
              "      <td>SP</td>\n",
              "      <td>OUTRA_IND</td>\n",
              "      <td>NaN</td>\n",
              "      <td>...</td>\n",
              "      <td>431.430000</td>\n",
              "      <td>431.430000</td>\n",
              "      <td>431.430000</td>\n",
              "      <td>431.430000</td>\n",
              "      <td>431.430000</td>\n",
              "      <td>431.430000</td>\n",
              "      <td>431.430000</td>\n",
              "      <td>431.430</td>\n",
              "      <td>431.430</td>\n",
              "      <td>431.430</td>\n",
              "    </tr>\n",
              "    <tr>\n",
              "      <th>4</th>\n",
              "      <td>Processos Industriais</td>\n",
              "      <td>Indústria Química</td>\n",
              "      <td>Produção de Ácido Adípico</td>\n",
              "      <td>NaN</td>\n",
              "      <td>NaN</td>\n",
              "      <td>NaN</td>\n",
              "      <td>CO2e (t) GWP-AR2</td>\n",
              "      <td>SP</td>\n",
              "      <td>OUTRA_IND</td>\n",
              "      <td>NaN</td>\n",
              "      <td>...</td>\n",
              "      <td>40300.000000</td>\n",
              "      <td>40300.000000</td>\n",
              "      <td>40300.000000</td>\n",
              "      <td>40300.000000</td>\n",
              "      <td>40300.000000</td>\n",
              "      <td>40300.000000</td>\n",
              "      <td>40300.000000</td>\n",
              "      <td>40300.000</td>\n",
              "      <td>40300.000</td>\n",
              "      <td>40300.000</td>\n",
              "    </tr>\n",
              "    <tr>\n",
              "      <th>...</th>\n",
              "      <td>...</td>\n",
              "      <td>...</td>\n",
              "      <td>...</td>\n",
              "      <td>...</td>\n",
              "      <td>...</td>\n",
              "      <td>...</td>\n",
              "      <td>...</td>\n",
              "      <td>...</td>\n",
              "      <td>...</td>\n",
              "      <td>...</td>\n",
              "      <td>...</td>\n",
              "      <td>...</td>\n",
              "      <td>...</td>\n",
              "      <td>...</td>\n",
              "      <td>...</td>\n",
              "      <td>...</td>\n",
              "      <td>...</td>\n",
              "      <td>...</td>\n",
              "      <td>...</td>\n",
              "      <td>...</td>\n",
              "      <td>...</td>\n",
              "    </tr>\n",
              "    <tr>\n",
              "      <th>103241</th>\n",
              "      <td>Mudança de Uso da Terra e Floresta</td>\n",
              "      <td>Resíduos Florestais</td>\n",
              "      <td>Pantanal</td>\n",
              "      <td>NaN</td>\n",
              "      <td>Desmatamento</td>\n",
              "      <td>NaN</td>\n",
              "      <td>CO2e (t) GWP-AR5</td>\n",
              "      <td>MS</td>\n",
              "      <td>AGROPEC</td>\n",
              "      <td>NaN</td>\n",
              "      <td>...</td>\n",
              "      <td>436935.000000</td>\n",
              "      <td>500067.000000</td>\n",
              "      <td>440030.000000</td>\n",
              "      <td>365272.000000</td>\n",
              "      <td>438422.000000</td>\n",
              "      <td>391113.000000</td>\n",
              "      <td>411738.000000</td>\n",
              "      <td>437039.000</td>\n",
              "      <td>871393.000</td>\n",
              "      <td>1004191.000</td>\n",
              "    </tr>\n",
              "    <tr>\n",
              "      <th>103242</th>\n",
              "      <td>Mudança de Uso da Terra e Floresta</td>\n",
              "      <td>Resíduos Florestais</td>\n",
              "      <td>Pantanal</td>\n",
              "      <td>NaN</td>\n",
              "      <td>Desmatamento</td>\n",
              "      <td>NaN</td>\n",
              "      <td>CO2e (t) GWP-AR6</td>\n",
              "      <td>MT</td>\n",
              "      <td>AGROPEC</td>\n",
              "      <td>NaN</td>\n",
              "      <td>...</td>\n",
              "      <td>126806.000000</td>\n",
              "      <td>127558.000000</td>\n",
              "      <td>193758.000000</td>\n",
              "      <td>164585.000000</td>\n",
              "      <td>234509.000000</td>\n",
              "      <td>190412.000000</td>\n",
              "      <td>162919.000000</td>\n",
              "      <td>186091.000</td>\n",
              "      <td>368149.000</td>\n",
              "      <td>443120.000</td>\n",
              "    </tr>\n",
              "    <tr>\n",
              "      <th>103243</th>\n",
              "      <td>Mudança de Uso da Terra e Floresta</td>\n",
              "      <td>Resíduos Florestais</td>\n",
              "      <td>Pantanal</td>\n",
              "      <td>NaN</td>\n",
              "      <td>Desmatamento</td>\n",
              "      <td>NaN</td>\n",
              "      <td>CO2e (t) GWP-AR6</td>\n",
              "      <td>MS</td>\n",
              "      <td>AGROPEC</td>\n",
              "      <td>NaN</td>\n",
              "      <td>...</td>\n",
              "      <td>439524.000000</td>\n",
              "      <td>502908.000000</td>\n",
              "      <td>442493.000000</td>\n",
              "      <td>367116.000000</td>\n",
              "      <td>440798.000000</td>\n",
              "      <td>393101.000000</td>\n",
              "      <td>413749.000000</td>\n",
              "      <td>439526.000</td>\n",
              "      <td>876637.000</td>\n",
              "      <td>1009968.000</td>\n",
              "    </tr>\n",
              "    <tr>\n",
              "      <th>103244</th>\n",
              "      <td>Mudança de Uso da Terra e Floresta</td>\n",
              "      <td>Resíduos Florestais</td>\n",
              "      <td>Pantanal</td>\n",
              "      <td>NaN</td>\n",
              "      <td>Desmatamento</td>\n",
              "      <td>NaN</td>\n",
              "      <td>N2O (t)</td>\n",
              "      <td>MT</td>\n",
              "      <td>AGROPEC</td>\n",
              "      <td>NaN</td>\n",
              "      <td>...</td>\n",
              "      <td>108.441090</td>\n",
              "      <td>109.811199</td>\n",
              "      <td>166.680103</td>\n",
              "      <td>141.442361</td>\n",
              "      <td>201.556097</td>\n",
              "      <td>162.932751</td>\n",
              "      <td>137.219684</td>\n",
              "      <td>158.000</td>\n",
              "      <td>314.000</td>\n",
              "      <td>479.000</td>\n",
              "    </tr>\n",
              "    <tr>\n",
              "      <th>103245</th>\n",
              "      <td>Mudança de Uso da Terra e Floresta</td>\n",
              "      <td>Resíduos Florestais</td>\n",
              "      <td>Pantanal</td>\n",
              "      <td>NaN</td>\n",
              "      <td>Desmatamento</td>\n",
              "      <td>NaN</td>\n",
              "      <td>N2O (t)</td>\n",
              "      <td>MS</td>\n",
              "      <td>AGROPEC</td>\n",
              "      <td>NaN</td>\n",
              "      <td>...</td>\n",
              "      <td>463.968255</td>\n",
              "      <td>517.078826</td>\n",
              "      <td>450.849218</td>\n",
              "      <td>352.160440</td>\n",
              "      <td>440.753215</td>\n",
              "      <td>378.038216</td>\n",
              "      <td>388.896998</td>\n",
              "      <td>452.000</td>\n",
              "      <td>935.000</td>\n",
              "      <td>1047.000</td>\n",
              "    </tr>\n",
              "  </tbody>\n",
              "</table>\n",
              "<p>94748 rows × 62 columns</p>\n",
              "</div>"
            ],
            "text/plain": [
              "                           Nível 1 - Setor              Nível 2  \\\n",
              "0                    Processos Industriais    Indústria Química   \n",
              "1                    Processos Industriais    Indústria Química   \n",
              "2                    Processos Industriais    Indústria Química   \n",
              "3                    Processos Industriais    Indústria Química   \n",
              "4                    Processos Industriais    Indústria Química   \n",
              "...                                    ...                  ...   \n",
              "103241  Mudança de Uso da Terra e Floresta  Resíduos Florestais   \n",
              "103242  Mudança de Uso da Terra e Floresta  Resíduos Florestais   \n",
              "103243  Mudança de Uso da Terra e Floresta  Resíduos Florestais   \n",
              "103244  Mudança de Uso da Terra e Floresta  Resíduos Florestais   \n",
              "103245  Mudança de Uso da Terra e Floresta  Resíduos Florestais   \n",
              "\n",
              "                          Nível 3 Nível 4       Nível 5 Nível 6  \\\n",
              "0                 Produção de ABS     NaN           NaN     NaN   \n",
              "1       Produção de Ácido Adípico     NaN           NaN     NaN   \n",
              "2       Produção de Ácido Adípico     NaN           NaN     NaN   \n",
              "3       Produção de Ácido Adípico     NaN           NaN     NaN   \n",
              "4       Produção de Ácido Adípico     NaN           NaN     NaN   \n",
              "...                           ...     ...           ...     ...   \n",
              "103241                   Pantanal     NaN  Desmatamento     NaN   \n",
              "103242                   Pantanal     NaN  Desmatamento     NaN   \n",
              "103243                   Pantanal     NaN  Desmatamento     NaN   \n",
              "103244                   Pantanal     NaN  Desmatamento     NaN   \n",
              "103245                   Pantanal     NaN  Desmatamento     NaN   \n",
              "\n",
              "                     Gás Estado Atividade Econômica Produto  ...  \\\n",
              "0              COVNM (t)     SP           OUTRA_IND     NaN  ...   \n",
              "1                N2O (t)     SP           OUTRA_IND     NaN  ...   \n",
              "2                 CO (t)     SP           OUTRA_IND     NaN  ...   \n",
              "3                NOx (t)     SP           OUTRA_IND     NaN  ...   \n",
              "4       CO2e (t) GWP-AR2     SP           OUTRA_IND     NaN  ...   \n",
              "...                  ...    ...                 ...     ...  ...   \n",
              "103241  CO2e (t) GWP-AR5     MS             AGROPEC     NaN  ...   \n",
              "103242  CO2e (t) GWP-AR6     MT             AGROPEC     NaN  ...   \n",
              "103243  CO2e (t) GWP-AR6     MS             AGROPEC     NaN  ...   \n",
              "103244           N2O (t)     MT             AGROPEC     NaN  ...   \n",
              "103245           N2O (t)     MS             AGROPEC     NaN  ...   \n",
              "\n",
              "                 2012           2013           2014           2015  \\\n",
              "0          897.600000     897.600000     897.600000     897.600000   \n",
              "1          130.000000     130.000000     130.000000     130.000000   \n",
              "2         1380.576000    1380.576000    1380.576000    1380.576000   \n",
              "3          431.430000     431.430000     431.430000     431.430000   \n",
              "4        40300.000000   40300.000000   40300.000000   40300.000000   \n",
              "...               ...            ...            ...            ...   \n",
              "103241  436935.000000  500067.000000  440030.000000  365272.000000   \n",
              "103242  126806.000000  127558.000000  193758.000000  164585.000000   \n",
              "103243  439524.000000  502908.000000  442493.000000  367116.000000   \n",
              "103244     108.441090     109.811199     166.680103     141.442361   \n",
              "103245     463.968255     517.078826     450.849218     352.160440   \n",
              "\n",
              "                 2016           2017           2018        2019        2020  \\\n",
              "0          897.600000     897.600000     897.600000     897.600     897.600   \n",
              "1          130.000000     130.000000     130.000000     130.000     130.000   \n",
              "2         1380.576000    1380.576000    1380.576000    1380.576    1380.576   \n",
              "3          431.430000     431.430000     431.430000     431.430     431.430   \n",
              "4        40300.000000   40300.000000   40300.000000   40300.000   40300.000   \n",
              "...               ...            ...            ...         ...         ...   \n",
              "103241  438422.000000  391113.000000  411738.000000  437039.000  871393.000   \n",
              "103242  234509.000000  190412.000000  162919.000000  186091.000  368149.000   \n",
              "103243  440798.000000  393101.000000  413749.000000  439526.000  876637.000   \n",
              "103244     201.556097     162.932751     137.219684     158.000     314.000   \n",
              "103245     440.753215     378.038216     388.896998     452.000     935.000   \n",
              "\n",
              "               2021  \n",
              "0           897.600  \n",
              "1           130.000  \n",
              "2          1380.576  \n",
              "3           431.430  \n",
              "4         40300.000  \n",
              "...             ...  \n",
              "103241  1004191.000  \n",
              "103242   443120.000  \n",
              "103243  1009968.000  \n",
              "103244      479.000  \n",
              "103245     1047.000  \n",
              "\n",
              "[94748 rows x 62 columns]"
            ]
          },
          "execution_count": 13,
          "metadata": {},
          "output_type": "execute_result"
        }
      ],
      "source": [
        "df = df.drop(columns='Emissão / Remoção / Bunker')\n",
        "df"
      ]
    },
    {
      "cell_type": "markdown",
      "metadata": {
        "id": "r2OdSMgn1FXg"
      },
      "source": [
        "### Modificando o formato do DataFrame"
      ]
    },
    {
      "cell_type": "markdown",
      "metadata": {
        "id": "7Wv5ZDGipJXf"
      },
      "source": [
        "Para realizar as agregações nos dados de emissão, é necessário que a base de dados esteja em um formato adequado, com os valores de emissão todos em uma mesma coluna. Para isso, devemos modificar o formato da base de dados de forma que as colunas referentes a cada ano se tornem uma só coluna."
      ]
    },
    {
      "cell_type": "code",
      "execution_count": 14,
      "metadata": {
        "id": "KXYRSqzZ1R6q"
      },
      "outputs": [
        {
          "data": {
            "text/plain": [
              "Index(['Nível 1 - Setor', 'Nível 2', 'Nível 3', 'Nível 4', 'Nível 5',\n",
              "       'Nível 6', 'Gás', 'Estado', 'Atividade Econômica', 'Produto'],\n",
              "      dtype='object')"
            ]
          },
          "execution_count": 14,
          "metadata": {},
          "output_type": "execute_result"
        }
      ],
      "source": [
        "df.loc[:,'Nível 1 - Setor':'Produto'].columns"
      ]
    },
    {
      "cell_type": "code",
      "execution_count": 15,
      "metadata": {
        "id": "TFNCBEoQ1bec"
      },
      "outputs": [],
      "source": [
        "coluna_info = list(df.loc[:,'Nível 1 - Setor':'Produto'].columns)"
      ]
    },
    {
      "cell_type": "code",
      "execution_count": 16,
      "metadata": {},
      "outputs": [
        {
          "data": {
            "text/plain": [
              "Index([1970, 1971, 1972, 1973, 1974, 1975, 1976, 1977, 1978, 1979, 1980, 1981,\n",
              "       1982, 1983, 1984, 1985, 1986, 1987, 1988, 1989, 1990, 1991, 1992, 1993,\n",
              "       1994, 1995, 1996, 1997, 1998, 1999, 2000, 2001, 2002, 2003, 2004, 2005,\n",
              "       2006, 2007, 2008, 2009, 2010, 2011, 2012, 2013, 2014, 2015, 2016, 2017,\n",
              "       2018, 2019, 2020, 2021],\n",
              "      dtype='object')"
            ]
          },
          "execution_count": 16,
          "metadata": {},
          "output_type": "execute_result"
        }
      ],
      "source": [
        "df.loc[:,1970:2021].columns"
      ]
    },
    {
      "cell_type": "code",
      "execution_count": 17,
      "metadata": {
        "id": "O8boqJXh1mk5"
      },
      "outputs": [],
      "source": [
        "colunas_emissao = list(df.loc[:,1970:2021].columns)"
      ]
    },
    {
      "cell_type": "markdown",
      "metadata": {
        "id": "xwF2snGuvNid"
      },
      "source": [
        "Para realizar a transformação do DataFrame, utilizamos o método [`melt()`](https://pandas.pydata.org/docs/reference/api/pandas.melt.html). Esse método tem o intuito de transformar um DataFrame de um formato amplo (*wide*) para o formato longo (*long*)."
      ]
    },
    {
      "cell_type": "code",
      "execution_count": 18,
      "metadata": {
        "id": "tAgRu8GD1tsi"
      },
      "outputs": [
        {
          "data": {
            "text/html": [
              "<div>\n",
              "<style scoped>\n",
              "    .dataframe tbody tr th:only-of-type {\n",
              "        vertical-align: middle;\n",
              "    }\n",
              "\n",
              "    .dataframe tbody tr th {\n",
              "        vertical-align: top;\n",
              "    }\n",
              "\n",
              "    .dataframe thead th {\n",
              "        text-align: right;\n",
              "    }\n",
              "</style>\n",
              "<table border=\"1\" class=\"dataframe\">\n",
              "  <thead>\n",
              "    <tr style=\"text-align: right;\">\n",
              "      <th></th>\n",
              "      <th>Nível 1 - Setor</th>\n",
              "      <th>Nível 2</th>\n",
              "      <th>Nível 3</th>\n",
              "      <th>Nível 4</th>\n",
              "      <th>Nível 5</th>\n",
              "      <th>Nível 6</th>\n",
              "      <th>Gás</th>\n",
              "      <th>Estado</th>\n",
              "      <th>Atividade Econômica</th>\n",
              "      <th>Produto</th>\n",
              "      <th>Ano</th>\n",
              "      <th>Emissão</th>\n",
              "    </tr>\n",
              "  </thead>\n",
              "  <tbody>\n",
              "    <tr>\n",
              "      <th>0</th>\n",
              "      <td>Processos Industriais</td>\n",
              "      <td>Indústria Química</td>\n",
              "      <td>Produção de ABS</td>\n",
              "      <td>NaN</td>\n",
              "      <td>NaN</td>\n",
              "      <td>NaN</td>\n",
              "      <td>COVNM (t)</td>\n",
              "      <td>SP</td>\n",
              "      <td>OUTRA_IND</td>\n",
              "      <td>NaN</td>\n",
              "      <td>1970</td>\n",
              "      <td>0.0</td>\n",
              "    </tr>\n",
              "    <tr>\n",
              "      <th>1</th>\n",
              "      <td>Processos Industriais</td>\n",
              "      <td>Indústria Química</td>\n",
              "      <td>Produção de Ácido Adípico</td>\n",
              "      <td>NaN</td>\n",
              "      <td>NaN</td>\n",
              "      <td>NaN</td>\n",
              "      <td>N2O (t)</td>\n",
              "      <td>SP</td>\n",
              "      <td>OUTRA_IND</td>\n",
              "      <td>NaN</td>\n",
              "      <td>1970</td>\n",
              "      <td>6210.0</td>\n",
              "    </tr>\n",
              "    <tr>\n",
              "      <th>2</th>\n",
              "      <td>Processos Industriais</td>\n",
              "      <td>Indústria Química</td>\n",
              "      <td>Produção de Ácido Adípico</td>\n",
              "      <td>NaN</td>\n",
              "      <td>NaN</td>\n",
              "      <td>NaN</td>\n",
              "      <td>CO (t)</td>\n",
              "      <td>SP</td>\n",
              "      <td>OUTRA_IND</td>\n",
              "      <td>NaN</td>\n",
              "      <td>1970</td>\n",
              "      <td>368.0</td>\n",
              "    </tr>\n",
              "    <tr>\n",
              "      <th>3</th>\n",
              "      <td>Processos Industriais</td>\n",
              "      <td>Indústria Química</td>\n",
              "      <td>Produção de Ácido Adípico</td>\n",
              "      <td>NaN</td>\n",
              "      <td>NaN</td>\n",
              "      <td>NaN</td>\n",
              "      <td>NOx (t)</td>\n",
              "      <td>SP</td>\n",
              "      <td>OUTRA_IND</td>\n",
              "      <td>NaN</td>\n",
              "      <td>1970</td>\n",
              "      <td>115.0</td>\n",
              "    </tr>\n",
              "    <tr>\n",
              "      <th>4</th>\n",
              "      <td>Processos Industriais</td>\n",
              "      <td>Indústria Química</td>\n",
              "      <td>Produção de Ácido Adípico</td>\n",
              "      <td>NaN</td>\n",
              "      <td>NaN</td>\n",
              "      <td>NaN</td>\n",
              "      <td>CO2e (t) GWP-AR2</td>\n",
              "      <td>SP</td>\n",
              "      <td>OUTRA_IND</td>\n",
              "      <td>NaN</td>\n",
              "      <td>1970</td>\n",
              "      <td>1925100.0</td>\n",
              "    </tr>\n",
              "    <tr>\n",
              "      <th>...</th>\n",
              "      <td>...</td>\n",
              "      <td>...</td>\n",
              "      <td>...</td>\n",
              "      <td>...</td>\n",
              "      <td>...</td>\n",
              "      <td>...</td>\n",
              "      <td>...</td>\n",
              "      <td>...</td>\n",
              "      <td>...</td>\n",
              "      <td>...</td>\n",
              "      <td>...</td>\n",
              "      <td>...</td>\n",
              "    </tr>\n",
              "    <tr>\n",
              "      <th>4926891</th>\n",
              "      <td>Mudança de Uso da Terra e Floresta</td>\n",
              "      <td>Resíduos Florestais</td>\n",
              "      <td>Pantanal</td>\n",
              "      <td>NaN</td>\n",
              "      <td>Desmatamento</td>\n",
              "      <td>NaN</td>\n",
              "      <td>CO2e (t) GWP-AR5</td>\n",
              "      <td>MS</td>\n",
              "      <td>AGROPEC</td>\n",
              "      <td>NaN</td>\n",
              "      <td>2021</td>\n",
              "      <td>1004191.0</td>\n",
              "    </tr>\n",
              "    <tr>\n",
              "      <th>4926892</th>\n",
              "      <td>Mudança de Uso da Terra e Floresta</td>\n",
              "      <td>Resíduos Florestais</td>\n",
              "      <td>Pantanal</td>\n",
              "      <td>NaN</td>\n",
              "      <td>Desmatamento</td>\n",
              "      <td>NaN</td>\n",
              "      <td>CO2e (t) GWP-AR6</td>\n",
              "      <td>MT</td>\n",
              "      <td>AGROPEC</td>\n",
              "      <td>NaN</td>\n",
              "      <td>2021</td>\n",
              "      <td>443120.0</td>\n",
              "    </tr>\n",
              "    <tr>\n",
              "      <th>4926893</th>\n",
              "      <td>Mudança de Uso da Terra e Floresta</td>\n",
              "      <td>Resíduos Florestais</td>\n",
              "      <td>Pantanal</td>\n",
              "      <td>NaN</td>\n",
              "      <td>Desmatamento</td>\n",
              "      <td>NaN</td>\n",
              "      <td>CO2e (t) GWP-AR6</td>\n",
              "      <td>MS</td>\n",
              "      <td>AGROPEC</td>\n",
              "      <td>NaN</td>\n",
              "      <td>2021</td>\n",
              "      <td>1009968.0</td>\n",
              "    </tr>\n",
              "    <tr>\n",
              "      <th>4926894</th>\n",
              "      <td>Mudança de Uso da Terra e Floresta</td>\n",
              "      <td>Resíduos Florestais</td>\n",
              "      <td>Pantanal</td>\n",
              "      <td>NaN</td>\n",
              "      <td>Desmatamento</td>\n",
              "      <td>NaN</td>\n",
              "      <td>N2O (t)</td>\n",
              "      <td>MT</td>\n",
              "      <td>AGROPEC</td>\n",
              "      <td>NaN</td>\n",
              "      <td>2021</td>\n",
              "      <td>479.0</td>\n",
              "    </tr>\n",
              "    <tr>\n",
              "      <th>4926895</th>\n",
              "      <td>Mudança de Uso da Terra e Floresta</td>\n",
              "      <td>Resíduos Florestais</td>\n",
              "      <td>Pantanal</td>\n",
              "      <td>NaN</td>\n",
              "      <td>Desmatamento</td>\n",
              "      <td>NaN</td>\n",
              "      <td>N2O (t)</td>\n",
              "      <td>MS</td>\n",
              "      <td>AGROPEC</td>\n",
              "      <td>NaN</td>\n",
              "      <td>2021</td>\n",
              "      <td>1047.0</td>\n",
              "    </tr>\n",
              "  </tbody>\n",
              "</table>\n",
              "<p>4926896 rows × 12 columns</p>\n",
              "</div>"
            ],
            "text/plain": [
              "                            Nível 1 - Setor              Nível 2  \\\n",
              "0                     Processos Industriais    Indústria Química   \n",
              "1                     Processos Industriais    Indústria Química   \n",
              "2                     Processos Industriais    Indústria Química   \n",
              "3                     Processos Industriais    Indústria Química   \n",
              "4                     Processos Industriais    Indústria Química   \n",
              "...                                     ...                  ...   \n",
              "4926891  Mudança de Uso da Terra e Floresta  Resíduos Florestais   \n",
              "4926892  Mudança de Uso da Terra e Floresta  Resíduos Florestais   \n",
              "4926893  Mudança de Uso da Terra e Floresta  Resíduos Florestais   \n",
              "4926894  Mudança de Uso da Terra e Floresta  Resíduos Florestais   \n",
              "4926895  Mudança de Uso da Terra e Floresta  Resíduos Florestais   \n",
              "\n",
              "                           Nível 3 Nível 4       Nível 5 Nível 6  \\\n",
              "0                  Produção de ABS     NaN           NaN     NaN   \n",
              "1        Produção de Ácido Adípico     NaN           NaN     NaN   \n",
              "2        Produção de Ácido Adípico     NaN           NaN     NaN   \n",
              "3        Produção de Ácido Adípico     NaN           NaN     NaN   \n",
              "4        Produção de Ácido Adípico     NaN           NaN     NaN   \n",
              "...                            ...     ...           ...     ...   \n",
              "4926891                   Pantanal     NaN  Desmatamento     NaN   \n",
              "4926892                   Pantanal     NaN  Desmatamento     NaN   \n",
              "4926893                   Pantanal     NaN  Desmatamento     NaN   \n",
              "4926894                   Pantanal     NaN  Desmatamento     NaN   \n",
              "4926895                   Pantanal     NaN  Desmatamento     NaN   \n",
              "\n",
              "                      Gás Estado Atividade Econômica Produto   Ano    Emissão  \n",
              "0               COVNM (t)     SP           OUTRA_IND     NaN  1970        0.0  \n",
              "1                 N2O (t)     SP           OUTRA_IND     NaN  1970     6210.0  \n",
              "2                  CO (t)     SP           OUTRA_IND     NaN  1970      368.0  \n",
              "3                 NOx (t)     SP           OUTRA_IND     NaN  1970      115.0  \n",
              "4        CO2e (t) GWP-AR2     SP           OUTRA_IND     NaN  1970  1925100.0  \n",
              "...                   ...    ...                 ...     ...   ...        ...  \n",
              "4926891  CO2e (t) GWP-AR5     MS             AGROPEC     NaN  2021  1004191.0  \n",
              "4926892  CO2e (t) GWP-AR6     MT             AGROPEC     NaN  2021   443120.0  \n",
              "4926893  CO2e (t) GWP-AR6     MS             AGROPEC     NaN  2021  1009968.0  \n",
              "4926894           N2O (t)     MT             AGROPEC     NaN  2021      479.0  \n",
              "4926895           N2O (t)     MS             AGROPEC     NaN  2021     1047.0  \n",
              "\n",
              "[4926896 rows x 12 columns]"
            ]
          },
          "execution_count": 18,
          "metadata": {},
          "output_type": "execute_result"
        }
      ],
      "source": [
        "df.melt(id_vars = coluna_info, value_vars = colunas_emissao, var_name = 'Ano', value_name = 'Emissão')"
      ]
    },
    {
      "cell_type": "code",
      "execution_count": 19,
      "metadata": {
        "id": "QEuimvnR18LE"
      },
      "outputs": [],
      "source": [
        "emissoes_por_ano = df.melt(id_vars = coluna_info, value_vars = colunas_emissao, var_name = 'Ano', value_name = 'Emissão')"
      ]
    },
    {
      "cell_type": "markdown",
      "metadata": {
        "id": "pgDcuo0YnA_4"
      },
      "source": [
        "### Análise dos gases"
      ]
    },
    {
      "cell_type": "markdown",
      "metadata": {
        "id": "mqPEzoF-tsHk"
      },
      "source": [
        "Vamos fazer uma análise agora da quantidade de emissão **total** por tipo de gás. Para isso, vamos realizar um agrupamento dos dados com a função [`groupby()`](https://pandas.pydata.org/docs/reference/api/pandas.DataFrame.groupby.html).\n"
      ]
    },
    {
      "cell_type": "code",
      "execution_count": 20,
      "metadata": {
        "id": "wlr6C4LLnBsR"
      },
      "outputs": [
        {
          "data": {
            "text/plain": [
              "<pandas.core.groupby.generic.DataFrameGroupBy object at 0x000002168AAA48D0>"
            ]
          },
          "execution_count": 20,
          "metadata": {},
          "output_type": "execute_result"
        }
      ],
      "source": [
        "emissoes_por_ano.groupby('Gás')"
      ]
    },
    {
      "cell_type": "markdown",
      "metadata": {
        "id": "L2oJDKf-u0Hj"
      },
      "source": [
        "Podemos checar quais dados foram agrupados em cada grupo com uso do atributo [`groups`](https://pandas.pydata.org/docs/reference/api/pandas.core.groupby.GroupBy.groups.html) e realizar seleções de grupos específicos com o método [`get_group()`](https://pandas.pydata.org/docs/reference/api/pandas.core.groupby.GroupBy.get_group.html)."
      ]
    },
    {
      "cell_type": "code",
      "execution_count": 21,
      "metadata": {
        "id": "Pvv76tzbs0pm"
      },
      "outputs": [
        {
          "data": {
            "text/plain": [
              "{'C2F6 (t)': [410, 411, 412, 425, 426, 427, 95158, 95159, 95160, 95173, 95174, 95175, 189906, 189907, 189908, 189921, 189922, 189923, 284654, 284655, 284656, 284669, 284670, 284671, 379402, 379403, 379404, 379417, 379418, 379419, 474150, 474151, 474152, 474165, 474166, 474167, 568898, 568899, 568900, 568913, 568914, 568915, 663646, 663647, 663648, 663661, 663662, 663663, 758394, 758395, 758396, 758409, 758410, 758411, 853142, 853143, 853144, 853157, 853158, 853159, 947890, 947891, 947892, 947905, 947906, 947907, 1042638, 1042639, 1042640, 1042653, 1042654, 1042655, 1137386, 1137387, 1137388, 1137401, 1137402, 1137403, 1232134, 1232135, 1232136, 1232149, 1232150, 1232151, 1326882, 1326883, 1326884, 1326897, 1326898, 1326899, 1421630, 1421631, 1421632, 1421645, 1421646, 1421647, 1516378, 1516379, 1516380, 1516393, ...], 'CF4 (t)': [407, 408, 409, 422, 423, 424, 95155, 95156, 95157, 95170, 95171, 95172, 189903, 189904, 189905, 189918, 189919, 189920, 284651, 284652, 284653, 284666, 284667, 284668, 379399, 379400, 379401, 379414, 379415, 379416, 474147, 474148, 474149, 474162, 474163, 474164, 568895, 568896, 568897, 568910, 568911, 568912, 663643, 663644, 663645, 663658, 663659, 663660, 758391, 758392, 758393, 758406, 758407, 758408, 853139, 853140, 853141, 853154, 853155, 853156, 947887, 947888, 947889, 947902, 947903, 947904, 1042635, 1042636, 1042637, 1042650, 1042651, 1042652, 1137383, 1137384, 1137385, 1137398, 1137399, 1137400, 1232131, 1232132, 1232133, 1232146, 1232147, 1232148, 1326879, 1326880, 1326881, 1326894, 1326895, 1326896, 1421627, 1421628, 1421629, 1421642, 1421643, 1421644, 1516375, 1516376, 1516377, 1516390, ...], 'CH4 (t)': [19, 50, 57, 64, 67, 71, 76, 203, 204, 205, 206, 207, 208, 209, 210, 211, 212, 213, 214, 215, 216, 217, 218, 219, 220, 320, 321, 322, 323, 324, 325, 326, 327, 328, 329, 330, 331, 332, 333, 447, 448, 449, 450, 1137, 1138, 1139, 1140, 1141, 1142, 1143, 1144, 1145, 1146, 1147, 1148, 1149, 1150, 1151, 1152, 1153, 1154, 1155, 1156, 1157, 1158, 1159, 1160, 1161, 1162, 1163, 1380, 1381, 1382, 1383, 1384, 1385, 1386, 1387, 1388, 1389, 1390, 1391, 1392, 1393, 1394, 1395, 1396, 1397, 1398, 1399, 1400, 1401, 1402, 1403, 1404, 1405, 1406, 1623, 1624, 1625, ...], 'CO (t)': [2, 185, 186, 187, 188, 189, 190, 191, 192, 193, 194, 195, 196, 197, 198, 199, 200, 201, 202, 306, 307, 308, 309, 310, 311, 312, 313, 314, 315, 316, 317, 318, 319, 443, 444, 445, 446, 7104, 7105, 7106, 7107, 7108, 7109, 7110, 7111, 7112, 7113, 7114, 7115, 7116, 7117, 7118, 7119, 7120, 7121, 7122, 7123, 7124, 7125, 7126, 7127, 7128, 7129, 7130, 7428, 7429, 7430, 7431, 7432, 7433, 7434, 7435, 7436, 7437, 7438, 7439, 7440, 7441, 7442, 7443, 7444, 7445, 7446, 7447, 7448, 7449, 7450, 7451, 7452, 7453, 7454, 23277, 23290, 23303, 23316, 23329, 23342, 23355, 23368, 23381, ...], 'CO2 (t)': [18, 23, 26, 29, 32, 35, 38, 46, 49, 56, 63, 70, 75, 86, 89, 90, 91, 92, 93, 94, 95, 96, 97, 98, 99, 100, 101, 102, 103, 104, 105, 106, 107, 108, 109, 110, 111, 112, 113, 164, 165, 170, 173, 174, 179, 180, 181, 182, 183, 184, 297, 298, 299, 300, 301, 302, 303, 304, 305, 404, 405, 406, 419, 420, 421, 434, 440, 441, 442, 482, 489, 490, 491, 492, 501, 502, 503, 504, 513, 514, 515, 516, 11856, 11857, 11858, 11859, 11860, 11861, 11862, 11863, 11864, 11865, 11866, 11867, 11868, 11869, 11870, 11871, 11872, 11873, ...], 'CO2e (t) GTP-AR2': [5, 9, 13, 17, 22, 25, 28, 31, 34, 37, 40, 45, 48, 53, 60, 66, 69, 74, 78, 88, 139, 140, 141, 142, 143, 144, 145, 146, 147, 148, 149, 150, 151, 152, 153, 154, 155, 156, 157, 158, 159, 160, 161, 162, 163, 168, 169, 172, 177, 178, 286, 287, 288, 289, 290, 291, 292, 293, 294, 295, 296, 390, 391, 392, 393, 394, 395, 396, 397, 398, 399, 400, 401, 402, 403, 416, 417, 418, 431, 432, 433, 436, 439, 467, 468, 469, 470, 478, 481, 484, 497, 498, 499, 500, 509, 510, 511, 512, 521, 522, ...], 'CO2e (t) GTP-AR4': [526, 528, 530, 532, 534, 536, 538, 540, 542, 544, 546, 548, 550, 552, 554, 556, 558, 560, 562, 564, 590, 591, 592, 593, 594, 595, 596, 597, 598, 599, 600, 601, 602, 603, 604, 605, 606, 607, 608, 609, 610, 611, 612, 613, 614, 617, 618, 620, 623, 624, 636, 637, 638, 639, 640, 641, 642, 643, 644, 645, 646, 661, 662, 663, 664, 665, 666, 667, 668, 669, 670, 671, 672, 673, 674, 678, 679, 680, 684, 685, 686, 688, 690, 695, 696, 697, 698, 700, 702, 704, 709, 710, 711, 712, 717, 718, 719, 720, 725, 726, ...], 'CO2e (t) GTP-AR5': [730, 732, 734, 736, 738, 740, 742, 744, 746, 748, 750, 752, 754, 756, 758, 760, 762, 764, 766, 768, 794, 795, 796, 797, 798, 799, 800, 801, 802, 803, 804, 805, 806, 807, 808, 809, 810, 811, 812, 813, 814, 815, 816, 817, 818, 821, 822, 824, 827, 828, 840, 841, 842, 843, 844, 845, 846, 847, 848, 849, 850, 865, 866, 867, 868, 869, 870, 871, 872, 873, 874, 875, 876, 877, 878, 882, 883, 884, 888, 889, 890, 892, 894, 899, 900, 901, 902, 904, 906, 908, 913, 914, 915, 916, 921, 922, 923, 924, 929, 930, ...], 'CO2e (t) GTP-AR6': [934, 936, 938, 940, 942, 944, 946, 948, 950, 952, 954, 956, 958, 960, 962, 964, 966, 968, 970, 972, 998, 999, 1000, 1001, 1002, 1003, 1004, 1005, 1006, 1007, 1008, 1009, 1010, 1011, 1012, 1013, 1014, 1015, 1016, 1017, 1018, 1019, 1020, 1021, 1022, 1025, 1026, 1028, 1031, 1032, 1044, 1045, 1046, 1047, 1048, 1049, 1050, 1051, 1052, 1053, 1054, 1069, 1070, 1071, 1072, 1073, 1074, 1075, 1076, 1077, 1078, 1079, 1080, 1081, 1082, 1086, 1087, 1088, 1092, 1093, 1094, 1096, 1098, 1103, 1104, 1105, 1106, 1108, 1110, 1112, 1117, 1118, 1119, 1120, 1125, 1126, 1127, 1128, 1133, 1134, ...], 'CO2e (t) GWP-AR2': [4, 8, 12, 16, 21, 24, 27, 30, 33, 36, 39, 44, 47, 52, 59, 65, 68, 73, 77, 87, 114, 115, 116, 117, 118, 119, 120, 121, 122, 123, 124, 125, 126, 127, 128, 129, 130, 131, 132, 133, 134, 135, 136, 137, 138, 166, 167, 171, 175, 176, 275, 276, 277, 278, 279, 280, 281, 282, 283, 284, 285, 376, 377, 378, 379, 380, 381, 382, 383, 384, 385, 386, 387, 388, 389, 413, 414, 415, 428, 429, 430, 435, 438, 463, 464, 465, 466, 477, 480, 483, 493, 494, 495, 496, 505, 506, 507, 508, 517, 518, ...], 'CO2e (t) GWP-AR4': [525, 527, 529, 531, 533, 535, 537, 539, 541, 543, 545, 547, 549, 551, 553, 555, 557, 559, 561, 563, 565, 566, 567, 568, 569, 570, 571, 572, 573, 574, 575, 576, 577, 578, 579, 580, 581, 582, 583, 584, 585, 586, 587, 588, 589, 615, 616, 619, 621, 622, 625, 626, 627, 628, 629, 630, 631, 632, 633, 634, 635, 647, 648, 649, 650, 651, 652, 653, 654, 655, 656, 657, 658, 659, 660, 675, 676, 677, 681, 682, 683, 687, 689, 691, 692, 693, 694, 699, 701, 703, 705, 706, 707, 708, 713, 714, 715, 716, 721, 722, ...], 'CO2e (t) GWP-AR5': [729, 731, 733, 735, 737, 739, 741, 743, 745, 747, 749, 751, 753, 755, 757, 759, 761, 763, 765, 767, 769, 770, 771, 772, 773, 774, 775, 776, 777, 778, 779, 780, 781, 782, 783, 784, 785, 786, 787, 788, 789, 790, 791, 792, 793, 819, 820, 823, 825, 826, 829, 830, 831, 832, 833, 834, 835, 836, 837, 838, 839, 851, 852, 853, 854, 855, 856, 857, 858, 859, 860, 861, 862, 863, 864, 879, 880, 881, 885, 886, 887, 891, 893, 895, 896, 897, 898, 903, 905, 907, 909, 910, 911, 912, 917, 918, 919, 920, 925, 926, ...], 'CO2e (t) GWP-AR6': [933, 935, 937, 939, 941, 943, 945, 947, 949, 951, 953, 955, 957, 959, 961, 963, 965, 967, 969, 971, 973, 974, 975, 976, 977, 978, 979, 980, 981, 982, 983, 984, 985, 986, 987, 988, 989, 990, 991, 992, 993, 994, 995, 996, 997, 1023, 1024, 1027, 1029, 1030, 1033, 1034, 1035, 1036, 1037, 1038, 1039, 1040, 1041, 1042, 1043, 1055, 1056, 1057, 1058, 1059, 1060, 1061, 1062, 1063, 1064, 1065, 1066, 1067, 1068, 1083, 1084, 1085, 1089, 1090, 1091, 1095, 1097, 1099, 1100, 1101, 1102, 1107, 1109, 1111, 1113, 1114, 1115, 1116, 1121, 1122, 1123, 1124, 1129, 1130, ...], 'COVNM (t)': [0, 20, 41, 42, 51, 54, 55, 58, 61, 62, 79, 80, 81, 82, 83, 84, 85, 257, 258, 259, 260, 261, 262, 263, 264, 265, 266, 267, 268, 269, 270, 271, 272, 273, 274, 362, 363, 364, 365, 366, 367, 368, 369, 370, 371, 372, 373, 374, 375, 459, 460, 461, 462, 485, 486, 487, 488, 23281, 23294, 23307, 23320, 23333, 23346, 23359, 23372, 23385, 23398, 23411, 23424, 23437, 23450, 23463, 23476, 23489, 23502, 23515, 23528, 23541, 23554, 23567, 23580, 23593, 23606, 23619, 23632, 23645, 23658, 23671, 23684, 23697, 23710, 23723, 23736, 23749, 23762, 23775, 23788, 23801, 23814, 23827, ...], 'HFC-125 (t)': [474, 95222, 189970, 284718, 379466, 474214, 568962, 663710, 758458, 853206, 947954, 1042702, 1137450, 1232198, 1326946, 1421694, 1516442, 1611190, 1705938, 1800686, 1895434, 1990182, 2084930, 2179678, 2274426, 2369174, 2463922, 2558670, 2653418, 2748166, 2842914, 2937662, 3032410, 3127158, 3221906, 3316654, 3411402, 3506150, 3600898, 3695646, 3790394, 3885142, 3979890, 4074638, 4169386, 4264134, 4358882, 4453630, 4548378, 4643126, 4737874, 4832622], 'HFC-134a (t)': [473, 95221, 189969, 284717, 379465, 474213, 568961, 663709, 758457, 853205, 947953, 1042701, 1137449, 1232197, 1326945, 1421693, 1516441, 1611189, 1705937, 1800685, 1895433, 1990181, 2084929, 2179677, 2274425, 2369173, 2463921, 2558669, 2653417, 2748165, 2842913, 2937661, 3032409, 3127157, 3221905, 3316653, 3411401, 3506149, 3600897, 3695645, 3790393, 3885141, 3979889, 4074637, 4169385, 4264133, 4358881, 4453629, 4548377, 4643125, 4737873, 4832621], 'HFC-143a (t)': [475, 95223, 189971, 284719, 379467, 474215, 568963, 663711, 758459, 853207, 947955, 1042703, 1137451, 1232199, 1326947, 1421695, 1516443, 1611191, 1705939, 1800687, 1895435, 1990183, 2084931, 2179679, 2274427, 2369175, 2463923, 2558671, 2653419, 2748167, 2842915, 2937663, 3032411, 3127159, 3221907, 3316655, 3411403, 3506151, 3600899, 3695647, 3790395, 3885143, 3979891, 4074639, 4169387, 4264135, 4358883, 4453631, 4548379, 4643127, 4737875, 4832623], 'HFC-152a (t)': [476, 95224, 189972, 284720, 379468, 474216, 568964, 663712, 758460, 853208, 947956, 1042704, 1137452, 1232200, 1326948, 1421696, 1516444, 1611192, 1705940, 1800688, 1895436, 1990184, 2084932, 2179680, 2274428, 2369176, 2463924, 2558672, 2653420, 2748168, 2842916, 2937664, 3032412, 3127160, 3221908, 3316656, 3411404, 3506152, 3600900, 3695648, 3790396, 3885144, 3979892, 4074640, 4169388, 4264136, 4358884, 4453632, 4548380, 4643128, 4737876, 4832624], 'HFC-23 (t)': [471, 95219, 189967, 284715, 379463, 474211, 568959, 663707, 758455, 853203, 947951, 1042699, 1137447, 1232195, 1326943, 1421691, 1516439, 1611187, 1705935, 1800683, 1895431, 1990179, 2084927, 2179675, 2274423, 2369171, 2463919, 2558667, 2653415, 2748163, 2842911, 2937659, 3032407, 3127155, 3221903, 3316651, 3411399, 3506147, 3600895, 3695643, 3790391, 3885139, 3979887, 4074635, 4169383, 4264131, 4358879, 4453627, 4548375, 4643123, 4737871, 4832619], 'HFC-32 (t)': [472, 95220, 189968, 284716, 379464, 474212, 568960, 663708, 758456, 853204, 947952, 1042700, 1137448, 1232196, 1326944, 1421692, 1516440, 1611188, 1705936, 1800684, 1895432, 1990180, 2084928, 2179676, 2274424, 2369172, 2463920, 2558668, 2653416, 2748164, 2842912, 2937660, 3032408, 3127156, 3221904, 3316652, 3411400, 3506148, 3600896, 3695644, 3790392, 3885140, 3979888, 4074636, 4169384, 4264132, 4358880, 4453628, 4548376, 4643124, 4737872, 4832620], 'N2O (t)': [1, 6, 10, 14, 43, 239, 240, 241, 242, 243, 244, 245, 246, 247, 248, 249, 250, 251, 252, 253, 254, 255, 256, 348, 349, 350, 351, 352, 353, 354, 355, 356, 357, 358, 359, 360, 361, 455, 456, 457, 458, 4053, 4054, 4055, 4056, 4057, 4058, 4059, 4060, 4061, 4062, 4063, 4064, 4065, 4066, 4067, 4068, 4069, 4070, 4071, 4072, 4073, 4074, 4075, 4076, 4077, 4078, 4079, 5052, 5053, 5054, 5055, 5056, 5057, 5058, 5059, 5060, 5061, 5062, 5063, 5064, 5065, 5066, 5067, 5068, 5069, 5070, 5071, 5072, 5073, 5074, 5075, 5076, 5077, 5078, 5322, 5323, 5324, 5325, 5326, ...], 'NOx (t)': [3, 7, 11, 15, 72, 221, 222, 223, 224, 225, 226, 227, 228, 229, 230, 231, 232, 233, 234, 235, 236, 237, 238, 334, 335, 336, 337, 338, 339, 340, 341, 342, 343, 344, 345, 346, 347, 451, 452, 453, 454, 7374, 7375, 7376, 7377, 7378, 7379, 7380, 7381, 7382, 7383, 7384, 7385, 7386, 7387, 7388, 7389, 7390, 7391, 7392, 7393, 7394, 7395, 7396, 7397, 7398, 7399, 7400, 7698, 7699, 7700, 7701, 7702, 7703, 7704, 7705, 7706, 7707, 7708, 7709, 7710, 7711, 7712, 7713, 7714, 7715, 7716, 7717, 7718, 7719, 7720, 7721, 7722, 7723, 7724, 23279, 23292, 23305, 23318, 23331, ...], 'SF6 (t)': [437, 479, 95185, 95227, 189933, 189975, 284681, 284723, 379429, 379471, 474177, 474219, 568925, 568967, 663673, 663715, 758421, 758463, 853169, 853211, 947917, 947959, 1042665, 1042707, 1137413, 1137455, 1232161, 1232203, 1326909, 1326951, 1421657, 1421699, 1516405, 1516447, 1611153, 1611195, 1705901, 1705943, 1800649, 1800691, 1895397, 1895439, 1990145, 1990187, 2084893, 2084935, 2179641, 2179683, 2274389, 2274431, 2369137, 2369179, 2463885, 2463927, 2558633, 2558675, 2653381, 2653423, 2748129, 2748171, 2842877, 2842919, 2937625, 2937667, 3032373, 3032415, 3127121, 3127163, 3221869, 3221911, 3316617, 3316659, 3411365, 3411407, 3506113, 3506155, 3600861, 3600903, 3695609, 3695651, 3790357, 3790399, 3885105, 3885147, 3979853, 3979895, 4074601, 4074643, 4169349, 4169391, 4264097, 4264139, 4358845, 4358887, 4453593, 4453635, 4548341, 4548383, 4643089, 4643131, ...]}"
            ]
          },
          "execution_count": 21,
          "metadata": {},
          "output_type": "execute_result"
        }
      ],
      "source": [
        "emissoes_por_ano.groupby('Gás').groups"
      ]
    },
    {
      "cell_type": "code",
      "execution_count": 22,
      "metadata": {
        "id": "JteL2-1xtY_n"
      },
      "outputs": [
        {
          "data": {
            "text/html": [
              "<div>\n",
              "<style scoped>\n",
              "    .dataframe tbody tr th:only-of-type {\n",
              "        vertical-align: middle;\n",
              "    }\n",
              "\n",
              "    .dataframe tbody tr th {\n",
              "        vertical-align: top;\n",
              "    }\n",
              "\n",
              "    .dataframe thead th {\n",
              "        text-align: right;\n",
              "    }\n",
              "</style>\n",
              "<table border=\"1\" class=\"dataframe\">\n",
              "  <thead>\n",
              "    <tr style=\"text-align: right;\">\n",
              "      <th></th>\n",
              "      <th>Nível 1 - Setor</th>\n",
              "      <th>Nível 2</th>\n",
              "      <th>Nível 3</th>\n",
              "      <th>Nível 4</th>\n",
              "      <th>Nível 5</th>\n",
              "      <th>Nível 6</th>\n",
              "      <th>Gás</th>\n",
              "      <th>Estado</th>\n",
              "      <th>Atividade Econômica</th>\n",
              "      <th>Produto</th>\n",
              "      <th>Ano</th>\n",
              "      <th>Emissão</th>\n",
              "    </tr>\n",
              "  </thead>\n",
              "  <tbody>\n",
              "    <tr>\n",
              "      <th>18</th>\n",
              "      <td>Processos Industriais</td>\n",
              "      <td>Indústria Química</td>\n",
              "      <td>Produção de Acrilonitrila</td>\n",
              "      <td>NaN</td>\n",
              "      <td>NaN</td>\n",
              "      <td>NaN</td>\n",
              "      <td>CO2 (t)</td>\n",
              "      <td>BA</td>\n",
              "      <td>OUTRA_IND</td>\n",
              "      <td>NaN</td>\n",
              "      <td>1970</td>\n",
              "      <td>0.000000</td>\n",
              "    </tr>\n",
              "    <tr>\n",
              "      <th>23</th>\n",
              "      <td>Processos Industriais</td>\n",
              "      <td>Indústria Química</td>\n",
              "      <td>Produção de Amônia</td>\n",
              "      <td>NaN</td>\n",
              "      <td>NaN</td>\n",
              "      <td>NaN</td>\n",
              "      <td>CO2 (t)</td>\n",
              "      <td>RJ</td>\n",
              "      <td>OUTRA_IND</td>\n",
              "      <td>NaN</td>\n",
              "      <td>1970</td>\n",
              "      <td>0.000000</td>\n",
              "    </tr>\n",
              "    <tr>\n",
              "      <th>26</th>\n",
              "      <td>Processos Industriais</td>\n",
              "      <td>Indústria Química</td>\n",
              "      <td>Produção de Amônia</td>\n",
              "      <td>NaN</td>\n",
              "      <td>NaN</td>\n",
              "      <td>NaN</td>\n",
              "      <td>CO2 (t)</td>\n",
              "      <td>MG</td>\n",
              "      <td>OUTRA_IND</td>\n",
              "      <td>NaN</td>\n",
              "      <td>1970</td>\n",
              "      <td>0.000000</td>\n",
              "    </tr>\n",
              "    <tr>\n",
              "      <th>29</th>\n",
              "      <td>Processos Industriais</td>\n",
              "      <td>Indústria Química</td>\n",
              "      <td>Produção de Amônia</td>\n",
              "      <td>NaN</td>\n",
              "      <td>NaN</td>\n",
              "      <td>NaN</td>\n",
              "      <td>CO2 (t)</td>\n",
              "      <td>BA</td>\n",
              "      <td>OUTRA_IND</td>\n",
              "      <td>NaN</td>\n",
              "      <td>1970</td>\n",
              "      <td>10742.465792</td>\n",
              "    </tr>\n",
              "    <tr>\n",
              "      <th>32</th>\n",
              "      <td>Processos Industriais</td>\n",
              "      <td>Indústria Química</td>\n",
              "      <td>Produção de Amônia</td>\n",
              "      <td>NaN</td>\n",
              "      <td>NaN</td>\n",
              "      <td>NaN</td>\n",
              "      <td>CO2 (t)</td>\n",
              "      <td>SE</td>\n",
              "      <td>OUTRA_IND</td>\n",
              "      <td>NaN</td>\n",
              "      <td>1970</td>\n",
              "      <td>0.000000</td>\n",
              "    </tr>\n",
              "    <tr>\n",
              "      <th>...</th>\n",
              "      <td>...</td>\n",
              "      <td>...</td>\n",
              "      <td>...</td>\n",
              "      <td>...</td>\n",
              "      <td>...</td>\n",
              "      <td>...</td>\n",
              "      <td>...</td>\n",
              "      <td>...</td>\n",
              "      <td>...</td>\n",
              "      <td>...</td>\n",
              "      <td>...</td>\n",
              "      <td>...</td>\n",
              "    </tr>\n",
              "    <tr>\n",
              "      <th>4926255</th>\n",
              "      <td>Mudança de Uso da Terra e Floresta</td>\n",
              "      <td>Alterações de Uso da Terra</td>\n",
              "      <td>Pantanal</td>\n",
              "      <td>em Área Protegida</td>\n",
              "      <td>Outras Mudanças de uso da terra</td>\n",
              "      <td>Uso agropecuário -- Uso agropecuário</td>\n",
              "      <td>CO2 (t)</td>\n",
              "      <td>MS</td>\n",
              "      <td>AGROPEC</td>\n",
              "      <td>NaN</td>\n",
              "      <td>2021</td>\n",
              "      <td>0.000000</td>\n",
              "    </tr>\n",
              "    <tr>\n",
              "      <th>4926272</th>\n",
              "      <td>Mudança de Uso da Terra e Floresta</td>\n",
              "      <td>Alterações de Uso da Terra</td>\n",
              "      <td>Pantanal</td>\n",
              "      <td>em Área Protegida</td>\n",
              "      <td>Regeneração</td>\n",
              "      <td>Uso agropecuário -- Floresta secundária</td>\n",
              "      <td>CO2 (t)</td>\n",
              "      <td>MT</td>\n",
              "      <td>AGROPEC</td>\n",
              "      <td>NaN</td>\n",
              "      <td>2021</td>\n",
              "      <td>374.000000</td>\n",
              "    </tr>\n",
              "    <tr>\n",
              "      <th>4926273</th>\n",
              "      <td>Mudança de Uso da Terra e Floresta</td>\n",
              "      <td>Alterações de Uso da Terra</td>\n",
              "      <td>Pantanal</td>\n",
              "      <td>em Área Protegida</td>\n",
              "      <td>Regeneração</td>\n",
              "      <td>Uso agropecuário -- Floresta secundária</td>\n",
              "      <td>CO2 (t)</td>\n",
              "      <td>MS</td>\n",
              "      <td>AGROPEC</td>\n",
              "      <td>NaN</td>\n",
              "      <td>2021</td>\n",
              "      <td>8613.000000</td>\n",
              "    </tr>\n",
              "    <tr>\n",
              "      <th>4926290</th>\n",
              "      <td>Mudança de Uso da Terra e Floresta</td>\n",
              "      <td>Alterações de Uso da Terra</td>\n",
              "      <td>Pantanal</td>\n",
              "      <td>em Área Protegida</td>\n",
              "      <td>Regeneração</td>\n",
              "      <td>Uso agropecuário -- Vegetação não florestal se...</td>\n",
              "      <td>CO2 (t)</td>\n",
              "      <td>MT</td>\n",
              "      <td>AGROPEC</td>\n",
              "      <td>NaN</td>\n",
              "      <td>2021</td>\n",
              "      <td>934.000000</td>\n",
              "    </tr>\n",
              "    <tr>\n",
              "      <th>4926291</th>\n",
              "      <td>Mudança de Uso da Terra e Floresta</td>\n",
              "      <td>Alterações de Uso da Terra</td>\n",
              "      <td>Pantanal</td>\n",
              "      <td>em Área Protegida</td>\n",
              "      <td>Regeneração</td>\n",
              "      <td>Uso agropecuário -- Vegetação não florestal se...</td>\n",
              "      <td>CO2 (t)</td>\n",
              "      <td>MS</td>\n",
              "      <td>AGROPEC</td>\n",
              "      <td>NaN</td>\n",
              "      <td>2021</td>\n",
              "      <td>17515.000000</td>\n",
              "    </tr>\n",
              "  </tbody>\n",
              "</table>\n",
              "<p>241332 rows × 12 columns</p>\n",
              "</div>"
            ],
            "text/plain": [
              "                            Nível 1 - Setor                     Nível 2  \\\n",
              "18                    Processos Industriais           Indústria Química   \n",
              "23                    Processos Industriais           Indústria Química   \n",
              "26                    Processos Industriais           Indústria Química   \n",
              "29                    Processos Industriais           Indústria Química   \n",
              "32                    Processos Industriais           Indústria Química   \n",
              "...                                     ...                         ...   \n",
              "4926255  Mudança de Uso da Terra e Floresta  Alterações de Uso da Terra   \n",
              "4926272  Mudança de Uso da Terra e Floresta  Alterações de Uso da Terra   \n",
              "4926273  Mudança de Uso da Terra e Floresta  Alterações de Uso da Terra   \n",
              "4926290  Mudança de Uso da Terra e Floresta  Alterações de Uso da Terra   \n",
              "4926291  Mudança de Uso da Terra e Floresta  Alterações de Uso da Terra   \n",
              "\n",
              "                           Nível 3            Nível 4  \\\n",
              "18       Produção de Acrilonitrila                NaN   \n",
              "23              Produção de Amônia                NaN   \n",
              "26              Produção de Amônia                NaN   \n",
              "29              Produção de Amônia                NaN   \n",
              "32              Produção de Amônia                NaN   \n",
              "...                            ...                ...   \n",
              "4926255                   Pantanal  em Área Protegida   \n",
              "4926272                   Pantanal  em Área Protegida   \n",
              "4926273                   Pantanal  em Área Protegida   \n",
              "4926290                   Pantanal  em Área Protegida   \n",
              "4926291                   Pantanal  em Área Protegida   \n",
              "\n",
              "                                 Nível 5  \\\n",
              "18                                   NaN   \n",
              "23                                   NaN   \n",
              "26                                   NaN   \n",
              "29                                   NaN   \n",
              "32                                   NaN   \n",
              "...                                  ...   \n",
              "4926255  Outras Mudanças de uso da terra   \n",
              "4926272                      Regeneração   \n",
              "4926273                      Regeneração   \n",
              "4926290                      Regeneração   \n",
              "4926291                      Regeneração   \n",
              "\n",
              "                                                   Nível 6      Gás Estado  \\\n",
              "18                                                     NaN  CO2 (t)     BA   \n",
              "23                                                     NaN  CO2 (t)     RJ   \n",
              "26                                                     NaN  CO2 (t)     MG   \n",
              "29                                                     NaN  CO2 (t)     BA   \n",
              "32                                                     NaN  CO2 (t)     SE   \n",
              "...                                                    ...      ...    ...   \n",
              "4926255               Uso agropecuário -- Uso agropecuário  CO2 (t)     MS   \n",
              "4926272            Uso agropecuário -- Floresta secundária  CO2 (t)     MT   \n",
              "4926273            Uso agropecuário -- Floresta secundária  CO2 (t)     MS   \n",
              "4926290  Uso agropecuário -- Vegetação não florestal se...  CO2 (t)     MT   \n",
              "4926291  Uso agropecuário -- Vegetação não florestal se...  CO2 (t)     MS   \n",
              "\n",
              "        Atividade Econômica Produto   Ano       Emissão  \n",
              "18                OUTRA_IND     NaN  1970      0.000000  \n",
              "23                OUTRA_IND     NaN  1970      0.000000  \n",
              "26                OUTRA_IND     NaN  1970      0.000000  \n",
              "29                OUTRA_IND     NaN  1970  10742.465792  \n",
              "32                OUTRA_IND     NaN  1970      0.000000  \n",
              "...                     ...     ...   ...           ...  \n",
              "4926255             AGROPEC     NaN  2021      0.000000  \n",
              "4926272             AGROPEC     NaN  2021    374.000000  \n",
              "4926273             AGROPEC     NaN  2021   8613.000000  \n",
              "4926290             AGROPEC     NaN  2021    934.000000  \n",
              "4926291             AGROPEC     NaN  2021  17515.000000  \n",
              "\n",
              "[241332 rows x 12 columns]"
            ]
          },
          "execution_count": 22,
          "metadata": {},
          "output_type": "execute_result"
        }
      ],
      "source": [
        "emissoes_por_ano.groupby('Gás').get_group('CO2 (t)')"
      ]
    },
    {
      "cell_type": "markdown",
      "metadata": {
        "id": "3cZi7RC4llID"
      },
      "source": [
        "Os métodos de agregação possíveis com a utilização do `groupby()`são os seguintes:\n",
        "- `count()` para realizar contagem\n",
        "- `sum()` para soma\n",
        "- `mean()` para a média\n",
        "- `median()` para a mediana\n",
        "- `min()` para o valor mínimo\n",
        "- `max()` para o valor máximo\n",
        "- `std()` para o desvio-padrão\n",
        "- `var()` para a variância"
      ]
    },
    {
      "cell_type": "code",
      "execution_count": 23,
      "metadata": {},
      "outputs": [
        {
          "data": {
            "text/html": [
              "<div>\n",
              "<style scoped>\n",
              "    .dataframe tbody tr th:only-of-type {\n",
              "        vertical-align: middle;\n",
              "    }\n",
              "\n",
              "    .dataframe tbody tr th {\n",
              "        vertical-align: top;\n",
              "    }\n",
              "\n",
              "    .dataframe thead th {\n",
              "        text-align: right;\n",
              "    }\n",
              "</style>\n",
              "<table border=\"1\" class=\"dataframe\">\n",
              "  <thead>\n",
              "    <tr style=\"text-align: right;\">\n",
              "      <th></th>\n",
              "      <th>Emissão</th>\n",
              "    </tr>\n",
              "    <tr>\n",
              "      <th>Gás</th>\n",
              "      <th></th>\n",
              "    </tr>\n",
              "  </thead>\n",
              "  <tbody>\n",
              "    <tr>\n",
              "      <th>C2F6 (t)</th>\n",
              "      <td>5.765018e+02</td>\n",
              "    </tr>\n",
              "    <tr>\n",
              "      <th>CF4 (t)</th>\n",
              "      <td>7.135481e+03</td>\n",
              "    </tr>\n",
              "    <tr>\n",
              "      <th>CH4 (t)</th>\n",
              "      <td>7.949268e+08</td>\n",
              "    </tr>\n",
              "    <tr>\n",
              "      <th>CO (t)</th>\n",
              "      <td>5.111531e+08</td>\n",
              "    </tr>\n",
              "    <tr>\n",
              "      <th>CO2 (t)</th>\n",
              "      <td>5.324636e+10</td>\n",
              "    </tr>\n",
              "    <tr>\n",
              "      <th>CO2e (t) GTP-AR2</th>\n",
              "      <td>6.344612e+10</td>\n",
              "    </tr>\n",
              "    <tr>\n",
              "      <th>CO2e (t) GTP-AR4</th>\n",
              "      <td>6.344612e+10</td>\n",
              "    </tr>\n",
              "    <tr>\n",
              "      <th>CO2e (t) GTP-AR5</th>\n",
              "      <td>6.182200e+10</td>\n",
              "    </tr>\n",
              "    <tr>\n",
              "      <th>CO2e (t) GTP-AR6</th>\n",
              "      <td>6.247859e+10</td>\n",
              "    </tr>\n",
              "    <tr>\n",
              "      <th>CO2e (t) GWP-AR2</th>\n",
              "      <td>7.720596e+10</td>\n",
              "    </tr>\n",
              "    <tr>\n",
              "      <th>CO2e (t) GWP-AR4</th>\n",
              "      <td>8.015921e+10</td>\n",
              "    </tr>\n",
              "    <tr>\n",
              "      <th>CO2e (t) GWP-AR5</th>\n",
              "      <td>8.181375e+10</td>\n",
              "    </tr>\n",
              "    <tr>\n",
              "      <th>CO2e (t) GWP-AR6</th>\n",
              "      <td>8.132316e+10</td>\n",
              "    </tr>\n",
              "    <tr>\n",
              "      <th>COVNM (t)</th>\n",
              "      <td>2.242130e+08</td>\n",
              "    </tr>\n",
              "    <tr>\n",
              "      <th>HFC-125 (t)</th>\n",
              "      <td>9.795580e+03</td>\n",
              "    </tr>\n",
              "    <tr>\n",
              "      <th>HFC-134a (t)</th>\n",
              "      <td>1.394731e+05</td>\n",
              "    </tr>\n",
              "    <tr>\n",
              "      <th>HFC-143a (t)</th>\n",
              "      <td>9.039400e+03</td>\n",
              "    </tr>\n",
              "    <tr>\n",
              "      <th>HFC-152a (t)</th>\n",
              "      <td>5.706000e+02</td>\n",
              "    </tr>\n",
              "    <tr>\n",
              "      <th>HFC-23 (t)</th>\n",
              "      <td>1.197840e+03</td>\n",
              "    </tr>\n",
              "    <tr>\n",
              "      <th>HFC-32 (t)</th>\n",
              "      <td>2.367750e+03</td>\n",
              "    </tr>\n",
              "    <tr>\n",
              "      <th>N2O (t)</th>\n",
              "      <td>2.240066e+07</td>\n",
              "    </tr>\n",
              "    <tr>\n",
              "      <th>NOx (t)</th>\n",
              "      <td>9.976123e+07</td>\n",
              "    </tr>\n",
              "    <tr>\n",
              "      <th>SF6 (t)</th>\n",
              "      <td>4.705800e+02</td>\n",
              "    </tr>\n",
              "  </tbody>\n",
              "</table>\n",
              "</div>"
            ],
            "text/plain": [
              "                       Emissão\n",
              "Gás                           \n",
              "C2F6 (t)          5.765018e+02\n",
              "CF4 (t)           7.135481e+03\n",
              "CH4 (t)           7.949268e+08\n",
              "CO (t)            5.111531e+08\n",
              "CO2 (t)           5.324636e+10\n",
              "CO2e (t) GTP-AR2  6.344612e+10\n",
              "CO2e (t) GTP-AR4  6.344612e+10\n",
              "CO2e (t) GTP-AR5  6.182200e+10\n",
              "CO2e (t) GTP-AR6  6.247859e+10\n",
              "CO2e (t) GWP-AR2  7.720596e+10\n",
              "CO2e (t) GWP-AR4  8.015921e+10\n",
              "CO2e (t) GWP-AR5  8.181375e+10\n",
              "CO2e (t) GWP-AR6  8.132316e+10\n",
              "COVNM (t)         2.242130e+08\n",
              "HFC-125 (t)       9.795580e+03\n",
              "HFC-134a (t)      1.394731e+05\n",
              "HFC-143a (t)      9.039400e+03\n",
              "HFC-152a (t)      5.706000e+02\n",
              "HFC-23 (t)        1.197840e+03\n",
              "HFC-32 (t)        2.367750e+03\n",
              "N2O (t)           2.240066e+07\n",
              "NOx (t)           9.976123e+07\n",
              "SF6 (t)           4.705800e+02"
            ]
          },
          "execution_count": 23,
          "metadata": {},
          "output_type": "execute_result"
        }
      ],
      "source": [
        "emissoes_por_ano.groupby('Gás')[['Emissão']].sum()"
      ]
    },
    {
      "cell_type": "code",
      "execution_count": 24,
      "metadata": {
        "id": "qc3C5A5M8EP1"
      },
      "outputs": [],
      "source": [
        "emissoes_por_gas = emissoes_por_ano.groupby('Gás')[['Emissão']].sum().sort_values('Emissão', ascending=False)"
      ]
    },
    {
      "cell_type": "code",
      "execution_count": 25,
      "metadata": {
        "id": "n324rTa7_phf"
      },
      "outputs": [
        {
          "data": {
            "text/plain": [
              "<Axes: ylabel='Gás'>"
            ]
          },
          "execution_count": 25,
          "metadata": {},
          "output_type": "execute_result"
        },
        {
          "data": {
            "image/png": "[encoded data removed]",
            "text/plain": [
              "<Figure size 1600x800 with 1 Axes>"
            ]
          },
          "metadata": {},
          "output_type": "display_data"
        }
      ],
      "source": [
        "emissoes_por_gas.plot(kind='barh', figsize=(16,8))"
      ]
    },
    {
      "cell_type": "code",
      "execution_count": 26,
      "metadata": {
        "id": "zNq4_vmXABFh"
      },
      "outputs": [
        {
          "data": {
            "text/html": [
              "<div>\n",
              "<style scoped>\n",
              "    .dataframe tbody tr th:only-of-type {\n",
              "        vertical-align: middle;\n",
              "    }\n",
              "\n",
              "    .dataframe tbody tr th {\n",
              "        vertical-align: top;\n",
              "    }\n",
              "\n",
              "    .dataframe thead th {\n",
              "        text-align: right;\n",
              "    }\n",
              "</style>\n",
              "<table border=\"1\" class=\"dataframe\">\n",
              "  <thead>\n",
              "    <tr style=\"text-align: right;\">\n",
              "      <th></th>\n",
              "      <th>Emissão</th>\n",
              "    </tr>\n",
              "    <tr>\n",
              "      <th>Gás</th>\n",
              "      <th></th>\n",
              "    </tr>\n",
              "  </thead>\n",
              "  <tbody>\n",
              "    <tr>\n",
              "      <th>CO2e (t) GWP-AR5</th>\n",
              "      <td>8.181375e+10</td>\n",
              "    </tr>\n",
              "    <tr>\n",
              "      <th>CO2e (t) GWP-AR6</th>\n",
              "      <td>8.132316e+10</td>\n",
              "    </tr>\n",
              "    <tr>\n",
              "      <th>CO2e (t) GWP-AR4</th>\n",
              "      <td>8.015921e+10</td>\n",
              "    </tr>\n",
              "    <tr>\n",
              "      <th>CO2e (t) GWP-AR2</th>\n",
              "      <td>7.720596e+10</td>\n",
              "    </tr>\n",
              "    <tr>\n",
              "      <th>CO2e (t) GTP-AR2</th>\n",
              "      <td>6.344612e+10</td>\n",
              "    </tr>\n",
              "    <tr>\n",
              "      <th>CO2e (t) GTP-AR4</th>\n",
              "      <td>6.344612e+10</td>\n",
              "    </tr>\n",
              "    <tr>\n",
              "      <th>CO2e (t) GTP-AR6</th>\n",
              "      <td>6.247859e+10</td>\n",
              "    </tr>\n",
              "    <tr>\n",
              "      <th>CO2e (t) GTP-AR5</th>\n",
              "      <td>6.182200e+10</td>\n",
              "    </tr>\n",
              "    <tr>\n",
              "      <th>CO2 (t)</th>\n",
              "      <td>5.324636e+10</td>\n",
              "    </tr>\n",
              "  </tbody>\n",
              "</table>\n",
              "</div>"
            ],
            "text/plain": [
              "                       Emissão\n",
              "Gás                           \n",
              "CO2e (t) GWP-AR5  8.181375e+10\n",
              "CO2e (t) GWP-AR6  8.132316e+10\n",
              "CO2e (t) GWP-AR4  8.015921e+10\n",
              "CO2e (t) GWP-AR2  7.720596e+10\n",
              "CO2e (t) GTP-AR2  6.344612e+10\n",
              "CO2e (t) GTP-AR4  6.344612e+10\n",
              "CO2e (t) GTP-AR6  6.247859e+10\n",
              "CO2e (t) GTP-AR5  6.182200e+10\n",
              "CO2 (t)           5.324636e+10"
            ]
          },
          "execution_count": 26,
          "metadata": {},
          "output_type": "execute_result"
        }
      ],
      "source": [
        "emissoes_por_gas.iloc[0:9]"
      ]
    },
    {
      "cell_type": "code",
      "execution_count": 27,
      "metadata": {},
      "outputs": [
        {
          "data": {
            "text/plain": [
              "Emissão    99.736253\n",
              "dtype: float64"
            ]
          },
          "execution_count": 27,
          "metadata": {},
          "output_type": "execute_result"
        }
      ],
      "source": [
        "(emissoes_por_gas.iloc[0:9].sum() / emissoes_por_gas.sum().iloc[0])*100"
      ]
    },
    {
      "cell_type": "markdown",
      "metadata": {
        "id": "Q5gbZCY75-_W"
      },
      "source": [
        "### Emissão de gases por setor"
      ]
    },
    {
      "cell_type": "markdown",
      "metadata": {
        "id": "CnCwa3_2wu8m"
      },
      "source": [
        "Agora vamos em busca de duas informações:\n",
        "\n",
        "- Descobrir quais são os setores mais poluentes para cada gás;\n",
        "- Descobrir quais são os gases mais poluentes para cada setor."
      ]
    },
    {
      "cell_type": "code",
      "execution_count": 28,
      "metadata": {
        "id": "gCxqcJyzl-PJ"
      },
      "outputs": [
        {
          "data": {
            "text/html": [
              "<div>\n",
              "<style scoped>\n",
              "    .dataframe tbody tr th:only-of-type {\n",
              "        vertical-align: middle;\n",
              "    }\n",
              "\n",
              "    .dataframe tbody tr th {\n",
              "        vertical-align: top;\n",
              "    }\n",
              "\n",
              "    .dataframe thead th {\n",
              "        text-align: right;\n",
              "    }\n",
              "</style>\n",
              "<table border=\"1\" class=\"dataframe\">\n",
              "  <thead>\n",
              "    <tr style=\"text-align: right;\">\n",
              "      <th></th>\n",
              "      <th></th>\n",
              "      <th>Emissão</th>\n",
              "    </tr>\n",
              "    <tr>\n",
              "      <th>Gás</th>\n",
              "      <th>Nível 1 - Setor</th>\n",
              "      <th></th>\n",
              "    </tr>\n",
              "  </thead>\n",
              "  <tbody>\n",
              "    <tr>\n",
              "      <th>C2F6 (t)</th>\n",
              "      <th>Processos Industriais</th>\n",
              "      <td>5.765018e+02</td>\n",
              "    </tr>\n",
              "    <tr>\n",
              "      <th>CF4 (t)</th>\n",
              "      <th>Processos Industriais</th>\n",
              "      <td>7.135481e+03</td>\n",
              "    </tr>\n",
              "    <tr>\n",
              "      <th rowspan=\"3\" valign=\"top\">CH4 (t)</th>\n",
              "      <th>Agropecuária</th>\n",
              "      <td>5.928481e+08</td>\n",
              "    </tr>\n",
              "    <tr>\n",
              "      <th>Energia</th>\n",
              "      <td>3.429034e+07</td>\n",
              "    </tr>\n",
              "    <tr>\n",
              "      <th>Mudança de Uso da Terra e Floresta</th>\n",
              "      <td>8.662166e+07</td>\n",
              "    </tr>\n",
              "    <tr>\n",
              "      <th>...</th>\n",
              "      <th>...</th>\n",
              "      <td>...</td>\n",
              "    </tr>\n",
              "    <tr>\n",
              "      <th>N2O (t)</th>\n",
              "      <th>Resíduos</th>\n",
              "      <td>2.764127e+05</td>\n",
              "    </tr>\n",
              "    <tr>\n",
              "      <th rowspan=\"3\" valign=\"top\">NOx (t)</th>\n",
              "      <th>Agropecuária</th>\n",
              "      <td>2.602719e+06</td>\n",
              "    </tr>\n",
              "    <tr>\n",
              "      <th>Energia</th>\n",
              "      <td>9.361215e+07</td>\n",
              "    </tr>\n",
              "    <tr>\n",
              "      <th>Processos Industriais</th>\n",
              "      <td>3.546360e+06</td>\n",
              "    </tr>\n",
              "    <tr>\n",
              "      <th>SF6 (t)</th>\n",
              "      <th>Processos Industriais</th>\n",
              "      <td>4.705800e+02</td>\n",
              "    </tr>\n",
              "  </tbody>\n",
              "</table>\n",
              "<p>72 rows × 1 columns</p>\n",
              "</div>"
            ],
            "text/plain": [
              "                                                  Emissão\n",
              "Gás      Nível 1 - Setor                                 \n",
              "C2F6 (t) Processos Industriais               5.765018e+02\n",
              "CF4 (t)  Processos Industriais               7.135481e+03\n",
              "CH4 (t)  Agropecuária                        5.928481e+08\n",
              "         Energia                             3.429034e+07\n",
              "         Mudança de Uso da Terra e Floresta  8.662166e+07\n",
              "...                                                   ...\n",
              "N2O (t)  Resíduos                            2.764127e+05\n",
              "NOx (t)  Agropecuária                        2.602719e+06\n",
              "         Energia                             9.361215e+07\n",
              "         Processos Industriais               3.546360e+06\n",
              "SF6 (t)  Processos Industriais               4.705800e+02\n",
              "\n",
              "[72 rows x 1 columns]"
            ]
          },
          "execution_count": 28,
          "metadata": {},
          "output_type": "execute_result"
        }
      ],
      "source": [
        "gas_por_setor = emissoes_por_ano.groupby(['Gás', 'Nível 1 - Setor'])[['Emissão']].sum()\n",
        "gas_por_setor"
      ]
    },
    {
      "cell_type": "markdown",
      "metadata": {
        "id": "-d9_pzRex4hj"
      },
      "source": [
        "Para descobrir o setor que emite a maior quantidade de CO2, podemos realizar uma seleção específica do gás CO2 com o uso do método *cross-section* [`xs()`](https://pandas.pydata.org/docs/reference/api/pandas.DataFrame.xs.html), extraindo a partir disso o valor máximo e índice máximo com os métodos [`max()`](https://pandas.pydata.org/docs/reference/api/pandas.DataFrame.max.html) e [`idxmax()`](https://pandas.pydata.org/docs/reference/api/pandas.DataFrame.idxmax.html?highlight=idxmax#pandas.DataFrame.idxmax)."
      ]
    },
    {
      "cell_type": "code",
      "execution_count": 29,
      "metadata": {
        "id": "wyHMyzeUlWQ6"
      },
      "outputs": [
        {
          "data": {
            "text/html": [
              "<div>\n",
              "<style scoped>\n",
              "    .dataframe tbody tr th:only-of-type {\n",
              "        vertical-align: middle;\n",
              "    }\n",
              "\n",
              "    .dataframe tbody tr th {\n",
              "        vertical-align: top;\n",
              "    }\n",
              "\n",
              "    .dataframe thead th {\n",
              "        text-align: right;\n",
              "    }\n",
              "</style>\n",
              "<table border=\"1\" class=\"dataframe\">\n",
              "  <thead>\n",
              "    <tr style=\"text-align: right;\">\n",
              "      <th></th>\n",
              "      <th>Emissão</th>\n",
              "    </tr>\n",
              "    <tr>\n",
              "      <th>Nível 1 - Setor</th>\n",
              "      <th></th>\n",
              "    </tr>\n",
              "  </thead>\n",
              "  <tbody>\n",
              "    <tr>\n",
              "      <th>Agropecuária</th>\n",
              "      <td>5.411750e+08</td>\n",
              "    </tr>\n",
              "    <tr>\n",
              "      <th>Energia</th>\n",
              "      <td>1.261352e+10</td>\n",
              "    </tr>\n",
              "    <tr>\n",
              "      <th>Mudança de Uso da Terra e Floresta</th>\n",
              "      <td>3.733930e+10</td>\n",
              "    </tr>\n",
              "    <tr>\n",
              "      <th>Processos Industriais</th>\n",
              "      <td>2.729603e+09</td>\n",
              "    </tr>\n",
              "    <tr>\n",
              "      <th>Resíduos</th>\n",
              "      <td>2.276264e+07</td>\n",
              "    </tr>\n",
              "  </tbody>\n",
              "</table>\n",
              "</div>"
            ],
            "text/plain": [
              "                                         Emissão\n",
              "Nível 1 - Setor                                 \n",
              "Agropecuária                        5.411750e+08\n",
              "Energia                             1.261352e+10\n",
              "Mudança de Uso da Terra e Floresta  3.733930e+10\n",
              "Processos Industriais               2.729603e+09\n",
              "Resíduos                            2.276264e+07"
            ]
          },
          "execution_count": 29,
          "metadata": {},
          "output_type": "execute_result"
        }
      ],
      "source": [
        "gas_por_setor.xs('CO2 (t)', level=0)"
      ]
    },
    {
      "cell_type": "code",
      "execution_count": 30,
      "metadata": {
        "id": "HOdTgoC_D4-t"
      },
      "outputs": [
        {
          "data": {
            "text/html": [
              "<div>\n",
              "<style scoped>\n",
              "    .dataframe tbody tr th:only-of-type {\n",
              "        vertical-align: middle;\n",
              "    }\n",
              "\n",
              "    .dataframe tbody tr th {\n",
              "        vertical-align: top;\n",
              "    }\n",
              "\n",
              "    .dataframe thead th {\n",
              "        text-align: right;\n",
              "    }\n",
              "</style>\n",
              "<table border=\"1\" class=\"dataframe\">\n",
              "  <thead>\n",
              "    <tr style=\"text-align: right;\">\n",
              "      <th></th>\n",
              "      <th></th>\n",
              "      <th>Emissão</th>\n",
              "    </tr>\n",
              "    <tr>\n",
              "      <th>Gás</th>\n",
              "      <th>Nível 1 - Setor</th>\n",
              "      <th></th>\n",
              "    </tr>\n",
              "  </thead>\n",
              "  <tbody>\n",
              "    <tr>\n",
              "      <th>CO2 (t)</th>\n",
              "      <th>Mudança de Uso da Terra e Floresta</th>\n",
              "      <td>3.733930e+10</td>\n",
              "    </tr>\n",
              "  </tbody>\n",
              "</table>\n",
              "</div>"
            ],
            "text/plain": [
              "                                                 Emissão\n",
              "Gás     Nível 1 - Setor                                 \n",
              "CO2 (t) Mudança de Uso da Terra e Floresta  3.733930e+10"
            ]
          },
          "execution_count": 30,
          "metadata": {},
          "output_type": "execute_result"
        }
      ],
      "source": [
        "gas_por_setor.xs(('CO2 (t)', 'Mudança de Uso da Terra e Floresta'), level=[0,1])"
      ]
    },
    {
      "cell_type": "code",
      "execution_count": 31,
      "metadata": {
        "id": "Hv4hqjeQ894S"
      },
      "outputs": [
        {
          "data": {
            "text/plain": [
              "Emissão    3.733930e+10\n",
              "dtype: float64"
            ]
          },
          "execution_count": 31,
          "metadata": {},
          "output_type": "execute_result"
        }
      ],
      "source": [
        "gas_por_setor.xs('CO2 (t)', level=0).max()"
      ]
    },
    {
      "cell_type": "code",
      "execution_count": 32,
      "metadata": {
        "id": "nQ4X04Rr-kxK"
      },
      "outputs": [
        {
          "data": {
            "text/plain": [
              "Emissão    Mudança de Uso da Terra e Floresta\n",
              "dtype: object"
            ]
          },
          "execution_count": 32,
          "metadata": {},
          "output_type": "execute_result"
        }
      ],
      "source": [
        "gas_por_setor.xs('CO2 (t)', level=0).idxmax()"
      ]
    },
    {
      "cell_type": "markdown",
      "metadata": {
        "id": "euUU8frSylbe"
      },
      "source": [
        "Para evitar uma forma manual para cada tipo de gás, podemos explorar ainda mais o método `groupby()` em conjunto com o [`idxmax()`](https://pandas.pydata.org/docs/reference/api/pandas.core.groupby.DataFrameGroupBy.idxmax.html?highlight=idxmax#pandas.core.groupby.DataFrameGroupBy.idxmax)."
      ]
    },
    {
      "cell_type": "code",
      "execution_count": 34,
      "metadata": {
        "id": "WyL9KA5eRFyr"
      },
      "outputs": [
        {
          "data": {
            "text/html": [
              "<div>\n",
              "<style scoped>\n",
              "    .dataframe tbody tr th:only-of-type {\n",
              "        vertical-align: middle;\n",
              "    }\n",
              "\n",
              "    .dataframe tbody tr th {\n",
              "        vertical-align: top;\n",
              "    }\n",
              "\n",
              "    .dataframe thead th {\n",
              "        text-align: right;\n",
              "    }\n",
              "</style>\n",
              "<table border=\"1\" class=\"dataframe\">\n",
              "  <thead>\n",
              "    <tr style=\"text-align: right;\">\n",
              "      <th></th>\n",
              "      <th>Emissão</th>\n",
              "    </tr>\n",
              "    <tr>\n",
              "      <th>Gás</th>\n",
              "      <th></th>\n",
              "    </tr>\n",
              "  </thead>\n",
              "  <tbody>\n",
              "    <tr>\n",
              "      <th>C2F6 (t)</th>\n",
              "      <td>(C2F6 (t), Processos Industriais)</td>\n",
              "    </tr>\n",
              "    <tr>\n",
              "      <th>CF4 (t)</th>\n",
              "      <td>(CF4 (t), Processos Industriais)</td>\n",
              "    </tr>\n",
              "    <tr>\n",
              "      <th>CH4 (t)</th>\n",
              "      <td>(CH4 (t), Agropecuária)</td>\n",
              "    </tr>\n",
              "    <tr>\n",
              "      <th>CO (t)</th>\n",
              "      <td>(CO (t), Energia)</td>\n",
              "    </tr>\n",
              "    <tr>\n",
              "      <th>CO2 (t)</th>\n",
              "      <td>(CO2 (t), Mudança de Uso da Terra e Floresta)</td>\n",
              "    </tr>\n",
              "    <tr>\n",
              "      <th>CO2e (t) GTP-AR2</th>\n",
              "      <td>(CO2e (t) GTP-AR2, Mudança de Uso da Terra e F...</td>\n",
              "    </tr>\n",
              "    <tr>\n",
              "      <th>CO2e (t) GTP-AR4</th>\n",
              "      <td>(CO2e (t) GTP-AR4, Mudança de Uso da Terra e F...</td>\n",
              "    </tr>\n",
              "    <tr>\n",
              "      <th>CO2e (t) GTP-AR5</th>\n",
              "      <td>(CO2e (t) GTP-AR5, Mudança de Uso da Terra e F...</td>\n",
              "    </tr>\n",
              "    <tr>\n",
              "      <th>CO2e (t) GTP-AR6</th>\n",
              "      <td>(CO2e (t) GTP-AR6, Mudança de Uso da Terra e F...</td>\n",
              "    </tr>\n",
              "    <tr>\n",
              "      <th>CO2e (t) GWP-AR2</th>\n",
              "      <td>(CO2e (t) GWP-AR2, Mudança de Uso da Terra e F...</td>\n",
              "    </tr>\n",
              "    <tr>\n",
              "      <th>CO2e (t) GWP-AR4</th>\n",
              "      <td>(CO2e (t) GWP-AR4, Mudança de Uso da Terra e F...</td>\n",
              "    </tr>\n",
              "    <tr>\n",
              "      <th>CO2e (t) GWP-AR5</th>\n",
              "      <td>(CO2e (t) GWP-AR5, Mudança de Uso da Terra e F...</td>\n",
              "    </tr>\n",
              "    <tr>\n",
              "      <th>CO2e (t) GWP-AR6</th>\n",
              "      <td>(CO2e (t) GWP-AR6, Mudança de Uso da Terra e F...</td>\n",
              "    </tr>\n",
              "    <tr>\n",
              "      <th>COVNM (t)</th>\n",
              "      <td>(COVNM (t), Processos Industriais)</td>\n",
              "    </tr>\n",
              "    <tr>\n",
              "      <th>HFC-125 (t)</th>\n",
              "      <td>(HFC-125 (t), Processos Industriais)</td>\n",
              "    </tr>\n",
              "    <tr>\n",
              "      <th>HFC-134a (t)</th>\n",
              "      <td>(HFC-134a (t), Processos Industriais)</td>\n",
              "    </tr>\n",
              "    <tr>\n",
              "      <th>HFC-143a (t)</th>\n",
              "      <td>(HFC-143a (t), Processos Industriais)</td>\n",
              "    </tr>\n",
              "    <tr>\n",
              "      <th>HFC-152a (t)</th>\n",
              "      <td>(HFC-152a (t), Processos Industriais)</td>\n",
              "    </tr>\n",
              "    <tr>\n",
              "      <th>HFC-23 (t)</th>\n",
              "      <td>(HFC-23 (t), Processos Industriais)</td>\n",
              "    </tr>\n",
              "    <tr>\n",
              "      <th>HFC-32 (t)</th>\n",
              "      <td>(HFC-32 (t), Processos Industriais)</td>\n",
              "    </tr>\n",
              "    <tr>\n",
              "      <th>N2O (t)</th>\n",
              "      <td>(N2O (t), Agropecuária)</td>\n",
              "    </tr>\n",
              "    <tr>\n",
              "      <th>NOx (t)</th>\n",
              "      <td>(NOx (t), Energia)</td>\n",
              "    </tr>\n",
              "    <tr>\n",
              "      <th>SF6 (t)</th>\n",
              "      <td>(SF6 (t), Processos Industriais)</td>\n",
              "    </tr>\n",
              "  </tbody>\n",
              "</table>\n",
              "</div>"
            ],
            "text/plain": [
              "                                                            Emissão\n",
              "Gás                                                                \n",
              "C2F6 (t)                          (C2F6 (t), Processos Industriais)\n",
              "CF4 (t)                            (CF4 (t), Processos Industriais)\n",
              "CH4 (t)                                     (CH4 (t), Agropecuária)\n",
              "CO (t)                                            (CO (t), Energia)\n",
              "CO2 (t)               (CO2 (t), Mudança de Uso da Terra e Floresta)\n",
              "CO2e (t) GTP-AR2  (CO2e (t) GTP-AR2, Mudança de Uso da Terra e F...\n",
              "CO2e (t) GTP-AR4  (CO2e (t) GTP-AR4, Mudança de Uso da Terra e F...\n",
              "CO2e (t) GTP-AR5  (CO2e (t) GTP-AR5, Mudança de Uso da Terra e F...\n",
              "CO2e (t) GTP-AR6  (CO2e (t) GTP-AR6, Mudança de Uso da Terra e F...\n",
              "CO2e (t) GWP-AR2  (CO2e (t) GWP-AR2, Mudança de Uso da Terra e F...\n",
              "CO2e (t) GWP-AR4  (CO2e (t) GWP-AR4, Mudança de Uso da Terra e F...\n",
              "CO2e (t) GWP-AR5  (CO2e (t) GWP-AR5, Mudança de Uso da Terra e F...\n",
              "CO2e (t) GWP-AR6  (CO2e (t) GWP-AR6, Mudança de Uso da Terra e F...\n",
              "COVNM (t)                        (COVNM (t), Processos Industriais)\n",
              "HFC-125 (t)                    (HFC-125 (t), Processos Industriais)\n",
              "HFC-134a (t)                  (HFC-134a (t), Processos Industriais)\n",
              "HFC-143a (t)                  (HFC-143a (t), Processos Industriais)\n",
              "HFC-152a (t)                  (HFC-152a (t), Processos Industriais)\n",
              "HFC-23 (t)                      (HFC-23 (t), Processos Industriais)\n",
              "HFC-32 (t)                      (HFC-32 (t), Processos Industriais)\n",
              "N2O (t)                                     (N2O (t), Agropecuária)\n",
              "NOx (t)                                          (NOx (t), Energia)\n",
              "SF6 (t)                            (SF6 (t), Processos Industriais)"
            ]
          },
          "execution_count": 34,
          "metadata": {},
          "output_type": "execute_result"
        }
      ],
      "source": [
        "gas_por_setor.groupby(level=0).idxmax()"
      ]
    },
    {
      "cell_type": "markdown",
      "metadata": {
        "id": "S2Oak9VZy6Z4"
      },
      "source": [
        "Por fim, podemos criar uma tabela sumarizada com as informações dos valores máximos de emissão para cada tipo de gás e com a referência do setor com maior emissão de cada gás."
      ]
    },
    {
      "cell_type": "code",
      "execution_count": 35,
      "metadata": {
        "id": "Vj2jF4GrREXn"
      },
      "outputs": [
        {
          "data": {
            "text/html": [
              "<div>\n",
              "<style scoped>\n",
              "    .dataframe tbody tr th:only-of-type {\n",
              "        vertical-align: middle;\n",
              "    }\n",
              "\n",
              "    .dataframe tbody tr th {\n",
              "        vertical-align: top;\n",
              "    }\n",
              "\n",
              "    .dataframe thead th {\n",
              "        text-align: right;\n",
              "    }\n",
              "</style>\n",
              "<table border=\"1\" class=\"dataframe\">\n",
              "  <thead>\n",
              "    <tr style=\"text-align: right;\">\n",
              "      <th></th>\n",
              "      <th>Emissão</th>\n",
              "    </tr>\n",
              "    <tr>\n",
              "      <th>Gás</th>\n",
              "      <th></th>\n",
              "    </tr>\n",
              "  </thead>\n",
              "  <tbody>\n",
              "    <tr>\n",
              "      <th>C2F6 (t)</th>\n",
              "      <td>5.765018e+02</td>\n",
              "    </tr>\n",
              "    <tr>\n",
              "      <th>CF4 (t)</th>\n",
              "      <td>7.135481e+03</td>\n",
              "    </tr>\n",
              "    <tr>\n",
              "      <th>CH4 (t)</th>\n",
              "      <td>5.928481e+08</td>\n",
              "    </tr>\n",
              "    <tr>\n",
              "      <th>CO (t)</th>\n",
              "      <td>3.959769e+08</td>\n",
              "    </tr>\n",
              "    <tr>\n",
              "      <th>CO2 (t)</th>\n",
              "      <td>3.733930e+10</td>\n",
              "    </tr>\n",
              "    <tr>\n",
              "      <th>CO2e (t) GTP-AR2</th>\n",
              "      <td>3.850044e+10</td>\n",
              "    </tr>\n",
              "    <tr>\n",
              "      <th>CO2e (t) GTP-AR4</th>\n",
              "      <td>3.850044e+10</td>\n",
              "    </tr>\n",
              "    <tr>\n",
              "      <th>CO2e (t) GTP-AR5</th>\n",
              "      <td>3.831675e+10</td>\n",
              "    </tr>\n",
              "    <tr>\n",
              "      <th>CO2e (t) GTP-AR6</th>\n",
              "      <td>3.843359e+10</td>\n",
              "    </tr>\n",
              "    <tr>\n",
              "      <th>CO2e (t) GWP-AR2</th>\n",
              "      <td>3.999424e+10</td>\n",
              "    </tr>\n",
              "    <tr>\n",
              "      <th>CO2e (t) GWP-AR4</th>\n",
              "      <td>4.030837e+10</td>\n",
              "    </tr>\n",
              "    <tr>\n",
              "      <th>CO2e (t) GWP-AR5</th>\n",
              "      <td>4.051523e+10</td>\n",
              "    </tr>\n",
              "    <tr>\n",
              "      <th>CO2e (t) GWP-AR6</th>\n",
              "      <td>4.049216e+10</td>\n",
              "    </tr>\n",
              "    <tr>\n",
              "      <th>COVNM (t)</th>\n",
              "      <td>1.608623e+08</td>\n",
              "    </tr>\n",
              "    <tr>\n",
              "      <th>HFC-125 (t)</th>\n",
              "      <td>9.795580e+03</td>\n",
              "    </tr>\n",
              "    <tr>\n",
              "      <th>HFC-134a (t)</th>\n",
              "      <td>1.394731e+05</td>\n",
              "    </tr>\n",
              "    <tr>\n",
              "      <th>HFC-143a (t)</th>\n",
              "      <td>9.039400e+03</td>\n",
              "    </tr>\n",
              "    <tr>\n",
              "      <th>HFC-152a (t)</th>\n",
              "      <td>5.706000e+02</td>\n",
              "    </tr>\n",
              "    <tr>\n",
              "      <th>HFC-23 (t)</th>\n",
              "      <td>1.197840e+03</td>\n",
              "    </tr>\n",
              "    <tr>\n",
              "      <th>HFC-32 (t)</th>\n",
              "      <td>2.367750e+03</td>\n",
              "    </tr>\n",
              "    <tr>\n",
              "      <th>N2O (t)</th>\n",
              "      <td>1.774702e+07</td>\n",
              "    </tr>\n",
              "    <tr>\n",
              "      <th>NOx (t)</th>\n",
              "      <td>9.361215e+07</td>\n",
              "    </tr>\n",
              "    <tr>\n",
              "      <th>SF6 (t)</th>\n",
              "      <td>4.705800e+02</td>\n",
              "    </tr>\n",
              "  </tbody>\n",
              "</table>\n",
              "</div>"
            ],
            "text/plain": [
              "                       Emissão\n",
              "Gás                           \n",
              "C2F6 (t)          5.765018e+02\n",
              "CF4 (t)           7.135481e+03\n",
              "CH4 (t)           5.928481e+08\n",
              "CO (t)            3.959769e+08\n",
              "CO2 (t)           3.733930e+10\n",
              "CO2e (t) GTP-AR2  3.850044e+10\n",
              "CO2e (t) GTP-AR4  3.850044e+10\n",
              "CO2e (t) GTP-AR5  3.831675e+10\n",
              "CO2e (t) GTP-AR6  3.843359e+10\n",
              "CO2e (t) GWP-AR2  3.999424e+10\n",
              "CO2e (t) GWP-AR4  4.030837e+10\n",
              "CO2e (t) GWP-AR5  4.051523e+10\n",
              "CO2e (t) GWP-AR6  4.049216e+10\n",
              "COVNM (t)         1.608623e+08\n",
              "HFC-125 (t)       9.795580e+03\n",
              "HFC-134a (t)      1.394731e+05\n",
              "HFC-143a (t)      9.039400e+03\n",
              "HFC-152a (t)      5.706000e+02\n",
              "HFC-23 (t)        1.197840e+03\n",
              "HFC-32 (t)        2.367750e+03\n",
              "N2O (t)           1.774702e+07\n",
              "NOx (t)           9.361215e+07\n",
              "SF6 (t)           4.705800e+02"
            ]
          },
          "execution_count": 35,
          "metadata": {},
          "output_type": "execute_result"
        }
      ],
      "source": [
        "gas_por_setor.groupby(level=0).max()"
      ]
    },
    {
      "cell_type": "code",
      "execution_count": 37,
      "metadata": {
        "id": "hC2xUmktQ9Dh"
      },
      "outputs": [],
      "source": [
        "valores_max = gas_por_setor.groupby(level=0).max().values"
      ]
    },
    {
      "cell_type": "code",
      "execution_count": 38,
      "metadata": {
        "id": "w6KBAXzpCjpu"
      },
      "outputs": [
        {
          "data": {
            "text/html": [
              "<div>\n",
              "<style scoped>\n",
              "    .dataframe tbody tr th:only-of-type {\n",
              "        vertical-align: middle;\n",
              "    }\n",
              "\n",
              "    .dataframe tbody tr th {\n",
              "        vertical-align: top;\n",
              "    }\n",
              "\n",
              "    .dataframe thead th {\n",
              "        text-align: right;\n",
              "    }\n",
              "</style>\n",
              "<table border=\"1\" class=\"dataframe\">\n",
              "  <thead>\n",
              "    <tr style=\"text-align: right;\">\n",
              "      <th></th>\n",
              "      <th>Emissão</th>\n",
              "      <th>Quatidade de emissão</th>\n",
              "    </tr>\n",
              "    <tr>\n",
              "      <th>Gás</th>\n",
              "      <th></th>\n",
              "      <th></th>\n",
              "    </tr>\n",
              "  </thead>\n",
              "  <tbody>\n",
              "    <tr>\n",
              "      <th>C2F6 (t)</th>\n",
              "      <td>(C2F6 (t), Processos Industriais)</td>\n",
              "      <td>5.765018e+02</td>\n",
              "    </tr>\n",
              "    <tr>\n",
              "      <th>CF4 (t)</th>\n",
              "      <td>(CF4 (t), Processos Industriais)</td>\n",
              "      <td>7.135481e+03</td>\n",
              "    </tr>\n",
              "    <tr>\n",
              "      <th>CH4 (t)</th>\n",
              "      <td>(CH4 (t), Agropecuária)</td>\n",
              "      <td>5.928481e+08</td>\n",
              "    </tr>\n",
              "    <tr>\n",
              "      <th>CO (t)</th>\n",
              "      <td>(CO (t), Energia)</td>\n",
              "      <td>3.959769e+08</td>\n",
              "    </tr>\n",
              "    <tr>\n",
              "      <th>CO2 (t)</th>\n",
              "      <td>(CO2 (t), Mudança de Uso da Terra e Floresta)</td>\n",
              "      <td>3.733930e+10</td>\n",
              "    </tr>\n",
              "    <tr>\n",
              "      <th>CO2e (t) GTP-AR2</th>\n",
              "      <td>(CO2e (t) GTP-AR2, Mudança de Uso da Terra e F...</td>\n",
              "      <td>3.850044e+10</td>\n",
              "    </tr>\n",
              "    <tr>\n",
              "      <th>CO2e (t) GTP-AR4</th>\n",
              "      <td>(CO2e (t) GTP-AR4, Mudança de Uso da Terra e F...</td>\n",
              "      <td>3.850044e+10</td>\n",
              "    </tr>\n",
              "    <tr>\n",
              "      <th>CO2e (t) GTP-AR5</th>\n",
              "      <td>(CO2e (t) GTP-AR5, Mudança de Uso da Terra e F...</td>\n",
              "      <td>3.831675e+10</td>\n",
              "    </tr>\n",
              "    <tr>\n",
              "      <th>CO2e (t) GTP-AR6</th>\n",
              "      <td>(CO2e (t) GTP-AR6, Mudança de Uso da Terra e F...</td>\n",
              "      <td>3.843359e+10</td>\n",
              "    </tr>\n",
              "    <tr>\n",
              "      <th>CO2e (t) GWP-AR2</th>\n",
              "      <td>(CO2e (t) GWP-AR2, Mudança de Uso da Terra e F...</td>\n",
              "      <td>3.999424e+10</td>\n",
              "    </tr>\n",
              "    <tr>\n",
              "      <th>CO2e (t) GWP-AR4</th>\n",
              "      <td>(CO2e (t) GWP-AR4, Mudança de Uso da Terra e F...</td>\n",
              "      <td>4.030837e+10</td>\n",
              "    </tr>\n",
              "    <tr>\n",
              "      <th>CO2e (t) GWP-AR5</th>\n",
              "      <td>(CO2e (t) GWP-AR5, Mudança de Uso da Terra e F...</td>\n",
              "      <td>4.051523e+10</td>\n",
              "    </tr>\n",
              "    <tr>\n",
              "      <th>CO2e (t) GWP-AR6</th>\n",
              "      <td>(CO2e (t) GWP-AR6, Mudança de Uso da Terra e F...</td>\n",
              "      <td>4.049216e+10</td>\n",
              "    </tr>\n",
              "    <tr>\n",
              "      <th>COVNM (t)</th>\n",
              "      <td>(COVNM (t), Processos Industriais)</td>\n",
              "      <td>1.608623e+08</td>\n",
              "    </tr>\n",
              "    <tr>\n",
              "      <th>HFC-125 (t)</th>\n",
              "      <td>(HFC-125 (t), Processos Industriais)</td>\n",
              "      <td>9.795580e+03</td>\n",
              "    </tr>\n",
              "    <tr>\n",
              "      <th>HFC-134a (t)</th>\n",
              "      <td>(HFC-134a (t), Processos Industriais)</td>\n",
              "      <td>1.394731e+05</td>\n",
              "    </tr>\n",
              "    <tr>\n",
              "      <th>HFC-143a (t)</th>\n",
              "      <td>(HFC-143a (t), Processos Industriais)</td>\n",
              "      <td>9.039400e+03</td>\n",
              "    </tr>\n",
              "    <tr>\n",
              "      <th>HFC-152a (t)</th>\n",
              "      <td>(HFC-152a (t), Processos Industriais)</td>\n",
              "      <td>5.706000e+02</td>\n",
              "    </tr>\n",
              "    <tr>\n",
              "      <th>HFC-23 (t)</th>\n",
              "      <td>(HFC-23 (t), Processos Industriais)</td>\n",
              "      <td>1.197840e+03</td>\n",
              "    </tr>\n",
              "    <tr>\n",
              "      <th>HFC-32 (t)</th>\n",
              "      <td>(HFC-32 (t), Processos Industriais)</td>\n",
              "      <td>2.367750e+03</td>\n",
              "    </tr>\n",
              "    <tr>\n",
              "      <th>N2O (t)</th>\n",
              "      <td>(N2O (t), Agropecuária)</td>\n",
              "      <td>1.774702e+07</td>\n",
              "    </tr>\n",
              "    <tr>\n",
              "      <th>NOx (t)</th>\n",
              "      <td>(NOx (t), Energia)</td>\n",
              "      <td>9.361215e+07</td>\n",
              "    </tr>\n",
              "    <tr>\n",
              "      <th>SF6 (t)</th>\n",
              "      <td>(SF6 (t), Processos Industriais)</td>\n",
              "      <td>4.705800e+02</td>\n",
              "    </tr>\n",
              "  </tbody>\n",
              "</table>\n",
              "</div>"
            ],
            "text/plain": [
              "                                                            Emissão  \\\n",
              "Gás                                                                   \n",
              "C2F6 (t)                          (C2F6 (t), Processos Industriais)   \n",
              "CF4 (t)                            (CF4 (t), Processos Industriais)   \n",
              "CH4 (t)                                     (CH4 (t), Agropecuária)   \n",
              "CO (t)                                            (CO (t), Energia)   \n",
              "CO2 (t)               (CO2 (t), Mudança de Uso da Terra e Floresta)   \n",
              "CO2e (t) GTP-AR2  (CO2e (t) GTP-AR2, Mudança de Uso da Terra e F...   \n",
              "CO2e (t) GTP-AR4  (CO2e (t) GTP-AR4, Mudança de Uso da Terra e F...   \n",
              "CO2e (t) GTP-AR5  (CO2e (t) GTP-AR5, Mudança de Uso da Terra e F...   \n",
              "CO2e (t) GTP-AR6  (CO2e (t) GTP-AR6, Mudança de Uso da Terra e F...   \n",
              "CO2e (t) GWP-AR2  (CO2e (t) GWP-AR2, Mudança de Uso da Terra e F...   \n",
              "CO2e (t) GWP-AR4  (CO2e (t) GWP-AR4, Mudança de Uso da Terra e F...   \n",
              "CO2e (t) GWP-AR5  (CO2e (t) GWP-AR5, Mudança de Uso da Terra e F...   \n",
              "CO2e (t) GWP-AR6  (CO2e (t) GWP-AR6, Mudança de Uso da Terra e F...   \n",
              "COVNM (t)                        (COVNM (t), Processos Industriais)   \n",
              "HFC-125 (t)                    (HFC-125 (t), Processos Industriais)   \n",
              "HFC-134a (t)                  (HFC-134a (t), Processos Industriais)   \n",
              "HFC-143a (t)                  (HFC-143a (t), Processos Industriais)   \n",
              "HFC-152a (t)                  (HFC-152a (t), Processos Industriais)   \n",
              "HFC-23 (t)                      (HFC-23 (t), Processos Industriais)   \n",
              "HFC-32 (t)                      (HFC-32 (t), Processos Industriais)   \n",
              "N2O (t)                                     (N2O (t), Agropecuária)   \n",
              "NOx (t)                                          (NOx (t), Energia)   \n",
              "SF6 (t)                            (SF6 (t), Processos Industriais)   \n",
              "\n",
              "                  Quatidade de emissão  \n",
              "Gás                                     \n",
              "C2F6 (t)                  5.765018e+02  \n",
              "CF4 (t)                   7.135481e+03  \n",
              "CH4 (t)                   5.928481e+08  \n",
              "CO (t)                    3.959769e+08  \n",
              "CO2 (t)                   3.733930e+10  \n",
              "CO2e (t) GTP-AR2          3.850044e+10  \n",
              "CO2e (t) GTP-AR4          3.850044e+10  \n",
              "CO2e (t) GTP-AR5          3.831675e+10  \n",
              "CO2e (t) GTP-AR6          3.843359e+10  \n",
              "CO2e (t) GWP-AR2          3.999424e+10  \n",
              "CO2e (t) GWP-AR4          4.030837e+10  \n",
              "CO2e (t) GWP-AR5          4.051523e+10  \n",
              "CO2e (t) GWP-AR6          4.049216e+10  \n",
              "COVNM (t)                 1.608623e+08  \n",
              "HFC-125 (t)               9.795580e+03  \n",
              "HFC-134a (t)              1.394731e+05  \n",
              "HFC-143a (t)              9.039400e+03  \n",
              "HFC-152a (t)              5.706000e+02  \n",
              "HFC-23 (t)                1.197840e+03  \n",
              "HFC-32 (t)                2.367750e+03  \n",
              "N2O (t)                   1.774702e+07  \n",
              "NOx (t)                   9.361215e+07  \n",
              "SF6 (t)                   4.705800e+02  "
            ]
          },
          "execution_count": 38,
          "metadata": {},
          "output_type": "execute_result"
        }
      ],
      "source": [
        "tabela_resum = gas_por_setor.groupby(level=0).idxmax()\n",
        "tabela_resum.insert(1,'Quatidade de emissão', valores_max)\n",
        "\n",
        "tabela_resum"
      ]
    },
    {
      "cell_type": "markdown",
      "metadata": {
        "id": "Oit_17pKzOks"
      },
      "source": [
        "Podemos alterar a ordem dos níveis de índice para encontrar a outra informação, que nos diz qual o gás mais emitido para cada tipo de setor. Para isso, vamos utilizar o método [`swaplevel()`](https://pandas.pydata.org/docs/reference/api/pandas.DataFrame.swaplevel.html)."
      ]
    },
    {
      "cell_type": "code",
      "execution_count": 40,
      "metadata": {
        "id": "evfFAowMAySy"
      },
      "outputs": [
        {
          "data": {
            "text/html": [
              "<div>\n",
              "<style scoped>\n",
              "    .dataframe tbody tr th:only-of-type {\n",
              "        vertical-align: middle;\n",
              "    }\n",
              "\n",
              "    .dataframe tbody tr th {\n",
              "        vertical-align: top;\n",
              "    }\n",
              "\n",
              "    .dataframe thead th {\n",
              "        text-align: right;\n",
              "    }\n",
              "</style>\n",
              "<table border=\"1\" class=\"dataframe\">\n",
              "  <thead>\n",
              "    <tr style=\"text-align: right;\">\n",
              "      <th></th>\n",
              "      <th></th>\n",
              "      <th>Emissão</th>\n",
              "    </tr>\n",
              "    <tr>\n",
              "      <th>Nível 1 - Setor</th>\n",
              "      <th>Gás</th>\n",
              "      <th></th>\n",
              "    </tr>\n",
              "  </thead>\n",
              "  <tbody>\n",
              "    <tr>\n",
              "      <th rowspan=\"2\" valign=\"top\">Processos Industriais</th>\n",
              "      <th>C2F6 (t)</th>\n",
              "      <td>5.765018e+02</td>\n",
              "    </tr>\n",
              "    <tr>\n",
              "      <th>CF4 (t)</th>\n",
              "      <td>7.135481e+03</td>\n",
              "    </tr>\n",
              "    <tr>\n",
              "      <th>Agropecuária</th>\n",
              "      <th>CH4 (t)</th>\n",
              "      <td>5.928481e+08</td>\n",
              "    </tr>\n",
              "    <tr>\n",
              "      <th>Energia</th>\n",
              "      <th>CH4 (t)</th>\n",
              "      <td>3.429034e+07</td>\n",
              "    </tr>\n",
              "    <tr>\n",
              "      <th>Mudança de Uso da Terra e Floresta</th>\n",
              "      <th>CH4 (t)</th>\n",
              "      <td>8.662166e+07</td>\n",
              "    </tr>\n",
              "    <tr>\n",
              "      <th>...</th>\n",
              "      <th>...</th>\n",
              "      <td>...</td>\n",
              "    </tr>\n",
              "    <tr>\n",
              "      <th>Resíduos</th>\n",
              "      <th>N2O (t)</th>\n",
              "      <td>2.764127e+05</td>\n",
              "    </tr>\n",
              "    <tr>\n",
              "      <th>Agropecuária</th>\n",
              "      <th>NOx (t)</th>\n",
              "      <td>2.602719e+06</td>\n",
              "    </tr>\n",
              "    <tr>\n",
              "      <th>Energia</th>\n",
              "      <th>NOx (t)</th>\n",
              "      <td>9.361215e+07</td>\n",
              "    </tr>\n",
              "    <tr>\n",
              "      <th rowspan=\"2\" valign=\"top\">Processos Industriais</th>\n",
              "      <th>NOx (t)</th>\n",
              "      <td>3.546360e+06</td>\n",
              "    </tr>\n",
              "    <tr>\n",
              "      <th>SF6 (t)</th>\n",
              "      <td>4.705800e+02</td>\n",
              "    </tr>\n",
              "  </tbody>\n",
              "</table>\n",
              "<p>72 rows × 1 columns</p>\n",
              "</div>"
            ],
            "text/plain": [
              "                                                  Emissão\n",
              "Nível 1 - Setor                    Gás                   \n",
              "Processos Industriais              C2F6 (t)  5.765018e+02\n",
              "                                   CF4 (t)   7.135481e+03\n",
              "Agropecuária                       CH4 (t)   5.928481e+08\n",
              "Energia                            CH4 (t)   3.429034e+07\n",
              "Mudança de Uso da Terra e Floresta CH4 (t)   8.662166e+07\n",
              "...                                                   ...\n",
              "Resíduos                           N2O (t)   2.764127e+05\n",
              "Agropecuária                       NOx (t)   2.602719e+06\n",
              "Energia                            NOx (t)   9.361215e+07\n",
              "Processos Industriais              NOx (t)   3.546360e+06\n",
              "                                   SF6 (t)   4.705800e+02\n",
              "\n",
              "[72 rows x 1 columns]"
            ]
          },
          "execution_count": 40,
          "metadata": {},
          "output_type": "execute_result"
        }
      ],
      "source": [
        "gas_por_setor.swaplevel(0,1)"
      ]
    },
    {
      "cell_type": "code",
      "execution_count": 42,
      "metadata": {
        "id": "8W5m5nGYC7TX"
      },
      "outputs": [
        {
          "data": {
            "text/html": [
              "<div>\n",
              "<style scoped>\n",
              "    .dataframe tbody tr th:only-of-type {\n",
              "        vertical-align: middle;\n",
              "    }\n",
              "\n",
              "    .dataframe tbody tr th {\n",
              "        vertical-align: top;\n",
              "    }\n",
              "\n",
              "    .dataframe thead th {\n",
              "        text-align: right;\n",
              "    }\n",
              "</style>\n",
              "<table border=\"1\" class=\"dataframe\">\n",
              "  <thead>\n",
              "    <tr style=\"text-align: right;\">\n",
              "      <th></th>\n",
              "      <th>Emissão</th>\n",
              "    </tr>\n",
              "    <tr>\n",
              "      <th>Nível 1 - Setor</th>\n",
              "      <th></th>\n",
              "    </tr>\n",
              "  </thead>\n",
              "  <tbody>\n",
              "    <tr>\n",
              "      <th>Agropecuária</th>\n",
              "      <td>(Agropecuária, CO2e (t) GWP-AR5)</td>\n",
              "    </tr>\n",
              "    <tr>\n",
              "      <th>Energia</th>\n",
              "      <td>(Energia, CO2e (t) GWP-AR6)</td>\n",
              "    </tr>\n",
              "    <tr>\n",
              "      <th>Mudança de Uso da Terra e Floresta</th>\n",
              "      <td>(Mudança de Uso da Terra e Floresta, CO2e (t) ...</td>\n",
              "    </tr>\n",
              "    <tr>\n",
              "      <th>Processos Industriais</th>\n",
              "      <td>(Processos Industriais, CO2e (t) GWP-AR6)</td>\n",
              "    </tr>\n",
              "    <tr>\n",
              "      <th>Resíduos</th>\n",
              "      <td>(Resíduos , CO2e (t) GWP-AR5)</td>\n",
              "    </tr>\n",
              "  </tbody>\n",
              "</table>\n",
              "</div>"
            ],
            "text/plain": [
              "                                                                              Emissão\n",
              "Nível 1 - Setor                                                                      \n",
              "Agropecuária                                         (Agropecuária, CO2e (t) GWP-AR5)\n",
              "Energia                                                   (Energia, CO2e (t) GWP-AR6)\n",
              "Mudança de Uso da Terra e Floresta  (Mudança de Uso da Terra e Floresta, CO2e (t) ...\n",
              "Processos Industriais                       (Processos Industriais, CO2e (t) GWP-AR6)\n",
              "Resíduos                                                (Resíduos , CO2e (t) GWP-AR5)"
            ]
          },
          "execution_count": 42,
          "metadata": {},
          "output_type": "execute_result"
        }
      ],
      "source": [
        "gas_por_setor.swaplevel(0,1).groupby(level=0).idxmax()"
      ]
    },
    {
      "cell_type": "markdown",
      "metadata": {
        "id": "It5QMqlFOI3v"
      },
      "source": [
        "### Emissão ao longo dos anos"
      ]
    },
    {
      "cell_type": "markdown",
      "metadata": {
        "id": "Ep72eCY9xUv5"
      },
      "source": [
        "Vamos identificar se as emissões de gases estufas aumentaram ou diminuíram ao longo dos anos e visualizar essa variação para cada tipo de gás emitido separadamente."
      ]
    },
    {
      "cell_type": "code",
      "execution_count": 43,
      "metadata": {
        "id": "S0fEYczjWbVT"
      },
      "outputs": [
        {
          "data": {
            "text/html": [
              "<div>\n",
              "<style scoped>\n",
              "    .dataframe tbody tr th:only-of-type {\n",
              "        vertical-align: middle;\n",
              "    }\n",
              "\n",
              "    .dataframe tbody tr th {\n",
              "        vertical-align: top;\n",
              "    }\n",
              "\n",
              "    .dataframe thead th {\n",
              "        text-align: right;\n",
              "    }\n",
              "</style>\n",
              "<table border=\"1\" class=\"dataframe\">\n",
              "  <thead>\n",
              "    <tr style=\"text-align: right;\">\n",
              "      <th></th>\n",
              "      <th>Nível 1 - Setor</th>\n",
              "      <th>Nível 2</th>\n",
              "      <th>Nível 3</th>\n",
              "      <th>Nível 4</th>\n",
              "      <th>Nível 5</th>\n",
              "      <th>Nível 6</th>\n",
              "      <th>Gás</th>\n",
              "      <th>Estado</th>\n",
              "      <th>Atividade Econômica</th>\n",
              "      <th>Produto</th>\n",
              "      <th>Ano</th>\n",
              "      <th>Emissão</th>\n",
              "    </tr>\n",
              "  </thead>\n",
              "  <tbody>\n",
              "    <tr>\n",
              "      <th>0</th>\n",
              "      <td>Processos Industriais</td>\n",
              "      <td>Indústria Química</td>\n",
              "      <td>Produção de ABS</td>\n",
              "      <td>NaN</td>\n",
              "      <td>NaN</td>\n",
              "      <td>NaN</td>\n",
              "      <td>COVNM (t)</td>\n",
              "      <td>SP</td>\n",
              "      <td>OUTRA_IND</td>\n",
              "      <td>NaN</td>\n",
              "      <td>1970</td>\n",
              "      <td>0.0</td>\n",
              "    </tr>\n",
              "    <tr>\n",
              "      <th>1</th>\n",
              "      <td>Processos Industriais</td>\n",
              "      <td>Indústria Química</td>\n",
              "      <td>Produção de Ácido Adípico</td>\n",
              "      <td>NaN</td>\n",
              "      <td>NaN</td>\n",
              "      <td>NaN</td>\n",
              "      <td>N2O (t)</td>\n",
              "      <td>SP</td>\n",
              "      <td>OUTRA_IND</td>\n",
              "      <td>NaN</td>\n",
              "      <td>1970</td>\n",
              "      <td>6210.0</td>\n",
              "    </tr>\n",
              "    <tr>\n",
              "      <th>2</th>\n",
              "      <td>Processos Industriais</td>\n",
              "      <td>Indústria Química</td>\n",
              "      <td>Produção de Ácido Adípico</td>\n",
              "      <td>NaN</td>\n",
              "      <td>NaN</td>\n",
              "      <td>NaN</td>\n",
              "      <td>CO (t)</td>\n",
              "      <td>SP</td>\n",
              "      <td>OUTRA_IND</td>\n",
              "      <td>NaN</td>\n",
              "      <td>1970</td>\n",
              "      <td>368.0</td>\n",
              "    </tr>\n",
              "    <tr>\n",
              "      <th>3</th>\n",
              "      <td>Processos Industriais</td>\n",
              "      <td>Indústria Química</td>\n",
              "      <td>Produção de Ácido Adípico</td>\n",
              "      <td>NaN</td>\n",
              "      <td>NaN</td>\n",
              "      <td>NaN</td>\n",
              "      <td>NOx (t)</td>\n",
              "      <td>SP</td>\n",
              "      <td>OUTRA_IND</td>\n",
              "      <td>NaN</td>\n",
              "      <td>1970</td>\n",
              "      <td>115.0</td>\n",
              "    </tr>\n",
              "    <tr>\n",
              "      <th>4</th>\n",
              "      <td>Processos Industriais</td>\n",
              "      <td>Indústria Química</td>\n",
              "      <td>Produção de Ácido Adípico</td>\n",
              "      <td>NaN</td>\n",
              "      <td>NaN</td>\n",
              "      <td>NaN</td>\n",
              "      <td>CO2e (t) GWP-AR2</td>\n",
              "      <td>SP</td>\n",
              "      <td>OUTRA_IND</td>\n",
              "      <td>NaN</td>\n",
              "      <td>1970</td>\n",
              "      <td>1925100.0</td>\n",
              "    </tr>\n",
              "    <tr>\n",
              "      <th>...</th>\n",
              "      <td>...</td>\n",
              "      <td>...</td>\n",
              "      <td>...</td>\n",
              "      <td>...</td>\n",
              "      <td>...</td>\n",
              "      <td>...</td>\n",
              "      <td>...</td>\n",
              "      <td>...</td>\n",
              "      <td>...</td>\n",
              "      <td>...</td>\n",
              "      <td>...</td>\n",
              "      <td>...</td>\n",
              "    </tr>\n",
              "    <tr>\n",
              "      <th>4926891</th>\n",
              "      <td>Mudança de Uso da Terra e Floresta</td>\n",
              "      <td>Resíduos Florestais</td>\n",
              "      <td>Pantanal</td>\n",
              "      <td>NaN</td>\n",
              "      <td>Desmatamento</td>\n",
              "      <td>NaN</td>\n",
              "      <td>CO2e (t) GWP-AR5</td>\n",
              "      <td>MS</td>\n",
              "      <td>AGROPEC</td>\n",
              "      <td>NaN</td>\n",
              "      <td>2021</td>\n",
              "      <td>1004191.0</td>\n",
              "    </tr>\n",
              "    <tr>\n",
              "      <th>4926892</th>\n",
              "      <td>Mudança de Uso da Terra e Floresta</td>\n",
              "      <td>Resíduos Florestais</td>\n",
              "      <td>Pantanal</td>\n",
              "      <td>NaN</td>\n",
              "      <td>Desmatamento</td>\n",
              "      <td>NaN</td>\n",
              "      <td>CO2e (t) GWP-AR6</td>\n",
              "      <td>MT</td>\n",
              "      <td>AGROPEC</td>\n",
              "      <td>NaN</td>\n",
              "      <td>2021</td>\n",
              "      <td>443120.0</td>\n",
              "    </tr>\n",
              "    <tr>\n",
              "      <th>4926893</th>\n",
              "      <td>Mudança de Uso da Terra e Floresta</td>\n",
              "      <td>Resíduos Florestais</td>\n",
              "      <td>Pantanal</td>\n",
              "      <td>NaN</td>\n",
              "      <td>Desmatamento</td>\n",
              "      <td>NaN</td>\n",
              "      <td>CO2e (t) GWP-AR6</td>\n",
              "      <td>MS</td>\n",
              "      <td>AGROPEC</td>\n",
              "      <td>NaN</td>\n",
              "      <td>2021</td>\n",
              "      <td>1009968.0</td>\n",
              "    </tr>\n",
              "    <tr>\n",
              "      <th>4926894</th>\n",
              "      <td>Mudança de Uso da Terra e Floresta</td>\n",
              "      <td>Resíduos Florestais</td>\n",
              "      <td>Pantanal</td>\n",
              "      <td>NaN</td>\n",
              "      <td>Desmatamento</td>\n",
              "      <td>NaN</td>\n",
              "      <td>N2O (t)</td>\n",
              "      <td>MT</td>\n",
              "      <td>AGROPEC</td>\n",
              "      <td>NaN</td>\n",
              "      <td>2021</td>\n",
              "      <td>479.0</td>\n",
              "    </tr>\n",
              "    <tr>\n",
              "      <th>4926895</th>\n",
              "      <td>Mudança de Uso da Terra e Floresta</td>\n",
              "      <td>Resíduos Florestais</td>\n",
              "      <td>Pantanal</td>\n",
              "      <td>NaN</td>\n",
              "      <td>Desmatamento</td>\n",
              "      <td>NaN</td>\n",
              "      <td>N2O (t)</td>\n",
              "      <td>MS</td>\n",
              "      <td>AGROPEC</td>\n",
              "      <td>NaN</td>\n",
              "      <td>2021</td>\n",
              "      <td>1047.0</td>\n",
              "    </tr>\n",
              "  </tbody>\n",
              "</table>\n",
              "<p>4926896 rows × 12 columns</p>\n",
              "</div>"
            ],
            "text/plain": [
              "                            Nível 1 - Setor              Nível 2  \\\n",
              "0                     Processos Industriais    Indústria Química   \n",
              "1                     Processos Industriais    Indústria Química   \n",
              "2                     Processos Industriais    Indústria Química   \n",
              "3                     Processos Industriais    Indústria Química   \n",
              "4                     Processos Industriais    Indústria Química   \n",
              "...                                     ...                  ...   \n",
              "4926891  Mudança de Uso da Terra e Floresta  Resíduos Florestais   \n",
              "4926892  Mudança de Uso da Terra e Floresta  Resíduos Florestais   \n",
              "4926893  Mudança de Uso da Terra e Floresta  Resíduos Florestais   \n",
              "4926894  Mudança de Uso da Terra e Floresta  Resíduos Florestais   \n",
              "4926895  Mudança de Uso da Terra e Floresta  Resíduos Florestais   \n",
              "\n",
              "                           Nível 3 Nível 4       Nível 5 Nível 6  \\\n",
              "0                  Produção de ABS     NaN           NaN     NaN   \n",
              "1        Produção de Ácido Adípico     NaN           NaN     NaN   \n",
              "2        Produção de Ácido Adípico     NaN           NaN     NaN   \n",
              "3        Produção de Ácido Adípico     NaN           NaN     NaN   \n",
              "4        Produção de Ácido Adípico     NaN           NaN     NaN   \n",
              "...                            ...     ...           ...     ...   \n",
              "4926891                   Pantanal     NaN  Desmatamento     NaN   \n",
              "4926892                   Pantanal     NaN  Desmatamento     NaN   \n",
              "4926893                   Pantanal     NaN  Desmatamento     NaN   \n",
              "4926894                   Pantanal     NaN  Desmatamento     NaN   \n",
              "4926895                   Pantanal     NaN  Desmatamento     NaN   \n",
              "\n",
              "                      Gás Estado Atividade Econômica Produto   Ano    Emissão  \n",
              "0               COVNM (t)     SP           OUTRA_IND     NaN  1970        0.0  \n",
              "1                 N2O (t)     SP           OUTRA_IND     NaN  1970     6210.0  \n",
              "2                  CO (t)     SP           OUTRA_IND     NaN  1970      368.0  \n",
              "3                 NOx (t)     SP           OUTRA_IND     NaN  1970      115.0  \n",
              "4        CO2e (t) GWP-AR2     SP           OUTRA_IND     NaN  1970  1925100.0  \n",
              "...                   ...    ...                 ...     ...   ...        ...  \n",
              "4926891  CO2e (t) GWP-AR5     MS             AGROPEC     NaN  2021  1004191.0  \n",
              "4926892  CO2e (t) GWP-AR6     MT             AGROPEC     NaN  2021   443120.0  \n",
              "4926893  CO2e (t) GWP-AR6     MS             AGROPEC     NaN  2021  1009968.0  \n",
              "4926894           N2O (t)     MT             AGROPEC     NaN  2021      479.0  \n",
              "4926895           N2O (t)     MS             AGROPEC     NaN  2021     1047.0  \n",
              "\n",
              "[4926896 rows x 12 columns]"
            ]
          },
          "execution_count": 43,
          "metadata": {},
          "output_type": "execute_result"
        }
      ],
      "source": [
        "emissoes_por_ano"
      ]
    },
    {
      "cell_type": "code",
      "execution_count": 44,
      "metadata": {
        "id": "3PW1J_1DWbRq"
      },
      "outputs": [
        {
          "data": {
            "image/png": "[encoded data removed]",
            "text/plain": [
              "<Figure size 1600x800 with 1 Axes>"
            ]
          },
          "metadata": {},
          "output_type": "display_data"
        }
      ],
      "source": [
        "emissoes_por_ano.groupby('Ano')[['Emissão']].mean().plot(figsize=(16,8));"
      ]
    },
    {
      "cell_type": "code",
      "execution_count": 45,
      "metadata": {
        "id": "Wc0AKJxqWbMi"
      },
      "outputs": [
        {
          "data": {
            "text/plain": [
              "Emissão    2003\n",
              "dtype: int64"
            ]
          },
          "execution_count": 45,
          "metadata": {},
          "output_type": "execute_result"
        }
      ],
      "source": [
        "emissoes_por_ano.groupby('Ano')[['Emissão']].mean().idxmax()"
      ]
    },
    {
      "cell_type": "code",
      "execution_count": 47,
      "metadata": {
        "id": "NR9F-622WbHg"
      },
      "outputs": [
        {
          "data": {
            "text/html": [
              "<div>\n",
              "<style scoped>\n",
              "    .dataframe tbody tr th:only-of-type {\n",
              "        vertical-align: middle;\n",
              "    }\n",
              "\n",
              "    .dataframe tbody tr th {\n",
              "        vertical-align: top;\n",
              "    }\n",
              "\n",
              "    .dataframe thead th {\n",
              "        text-align: right;\n",
              "    }\n",
              "</style>\n",
              "<table border=\"1\" class=\"dataframe\">\n",
              "  <thead>\n",
              "    <tr style=\"text-align: right;\">\n",
              "      <th></th>\n",
              "      <th></th>\n",
              "      <th>Emissão</th>\n",
              "    </tr>\n",
              "    <tr>\n",
              "      <th>Ano</th>\n",
              "      <th>Gás</th>\n",
              "      <th></th>\n",
              "    </tr>\n",
              "  </thead>\n",
              "  <tbody>\n",
              "    <tr>\n",
              "      <th rowspan=\"5\" valign=\"top\">1970</th>\n",
              "      <th>C2F6 (t)</th>\n",
              "      <td>0.232610</td>\n",
              "    </tr>\n",
              "    <tr>\n",
              "      <th>CF4 (t)</th>\n",
              "      <td>3.557421</td>\n",
              "    </tr>\n",
              "    <tr>\n",
              "      <th>CH4 (t)</th>\n",
              "      <td>1471.024024</td>\n",
              "    </tr>\n",
              "    <tr>\n",
              "      <th>CO (t)</th>\n",
              "      <td>2155.556658</td>\n",
              "    </tr>\n",
              "    <tr>\n",
              "      <th>CO2 (t)</th>\n",
              "      <td>19244.913199</td>\n",
              "    </tr>\n",
              "    <tr>\n",
              "      <th>...</th>\n",
              "      <th>...</th>\n",
              "      <td>...</td>\n",
              "    </tr>\n",
              "    <tr>\n",
              "      <th rowspan=\"5\" valign=\"top\">2021</th>\n",
              "      <th>HFC-23 (t)</th>\n",
              "      <td>0.000000</td>\n",
              "    </tr>\n",
              "    <tr>\n",
              "      <th>HFC-32 (t)</th>\n",
              "      <td>261.100000</td>\n",
              "    </tr>\n",
              "    <tr>\n",
              "      <th>N2O (t)</th>\n",
              "      <td>119.295311</td>\n",
              "    </tr>\n",
              "    <tr>\n",
              "      <th>NOx (t)</th>\n",
              "      <td>679.395431</td>\n",
              "    </tr>\n",
              "    <tr>\n",
              "      <th>SF6 (t)</th>\n",
              "      <td>5.240000</td>\n",
              "    </tr>\n",
              "  </tbody>\n",
              "</table>\n",
              "<p>1196 rows × 1 columns</p>\n",
              "</div>"
            ],
            "text/plain": [
              "                      Emissão\n",
              "Ano  Gás                     \n",
              "1970 C2F6 (t)        0.232610\n",
              "     CF4 (t)         3.557421\n",
              "     CH4 (t)      1471.024024\n",
              "     CO (t)       2155.556658\n",
              "     CO2 (t)     19244.913199\n",
              "...                       ...\n",
              "2021 HFC-23 (t)      0.000000\n",
              "     HFC-32 (t)    261.100000\n",
              "     N2O (t)       119.295311\n",
              "     NOx (t)       679.395431\n",
              "     SF6 (t)         5.240000\n",
              "\n",
              "[1196 rows x 1 columns]"
            ]
          },
          "execution_count": 47,
          "metadata": {},
          "output_type": "execute_result"
        }
      ],
      "source": [
        "emissoes_por_ano.groupby(['Ano', 'Gás'])[['Emissão']].mean()"
      ]
    },
    {
      "cell_type": "code",
      "execution_count": 58,
      "metadata": {
        "id": "-qFaveQwP6l4"
      },
      "outputs": [
        {
          "data": {
            "text/html": [
              "<div>\n",
              "<style scoped>\n",
              "    .dataframe tbody tr th:only-of-type {\n",
              "        vertical-align: middle;\n",
              "    }\n",
              "\n",
              "    .dataframe tbody tr th {\n",
              "        vertical-align: top;\n",
              "    }\n",
              "\n",
              "    .dataframe thead th {\n",
              "        text-align: right;\n",
              "    }\n",
              "</style>\n",
              "<table border=\"1\" class=\"dataframe\">\n",
              "  <thead>\n",
              "    <tr style=\"text-align: right;\">\n",
              "      <th></th>\n",
              "      <th>Ano</th>\n",
              "      <th>Gás</th>\n",
              "      <th>Emissão</th>\n",
              "    </tr>\n",
              "  </thead>\n",
              "  <tbody>\n",
              "    <tr>\n",
              "      <th>0</th>\n",
              "      <td>1970</td>\n",
              "      <td>C2F6 (t)</td>\n",
              "      <td>0.232610</td>\n",
              "    </tr>\n",
              "    <tr>\n",
              "      <th>1</th>\n",
              "      <td>1970</td>\n",
              "      <td>CF4 (t)</td>\n",
              "      <td>3.557421</td>\n",
              "    </tr>\n",
              "    <tr>\n",
              "      <th>2</th>\n",
              "      <td>1970</td>\n",
              "      <td>CH4 (t)</td>\n",
              "      <td>1471.024024</td>\n",
              "    </tr>\n",
              "    <tr>\n",
              "      <th>3</th>\n",
              "      <td>1970</td>\n",
              "      <td>CO (t)</td>\n",
              "      <td>2155.556658</td>\n",
              "    </tr>\n",
              "    <tr>\n",
              "      <th>4</th>\n",
              "      <td>1970</td>\n",
              "      <td>CO2 (t)</td>\n",
              "      <td>19244.913199</td>\n",
              "    </tr>\n",
              "    <tr>\n",
              "      <th>...</th>\n",
              "      <td>...</td>\n",
              "      <td>...</td>\n",
              "      <td>...</td>\n",
              "    </tr>\n",
              "    <tr>\n",
              "      <th>1191</th>\n",
              "      <td>2021</td>\n",
              "      <td>HFC-23 (t)</td>\n",
              "      <td>0.000000</td>\n",
              "    </tr>\n",
              "    <tr>\n",
              "      <th>1192</th>\n",
              "      <td>2021</td>\n",
              "      <td>HFC-32 (t)</td>\n",
              "      <td>261.100000</td>\n",
              "    </tr>\n",
              "    <tr>\n",
              "      <th>1193</th>\n",
              "      <td>2021</td>\n",
              "      <td>N2O (t)</td>\n",
              "      <td>119.295311</td>\n",
              "    </tr>\n",
              "    <tr>\n",
              "      <th>1194</th>\n",
              "      <td>2021</td>\n",
              "      <td>NOx (t)</td>\n",
              "      <td>679.395431</td>\n",
              "    </tr>\n",
              "    <tr>\n",
              "      <th>1195</th>\n",
              "      <td>2021</td>\n",
              "      <td>SF6 (t)</td>\n",
              "      <td>5.240000</td>\n",
              "    </tr>\n",
              "  </tbody>\n",
              "</table>\n",
              "<p>1196 rows × 3 columns</p>\n",
              "</div>"
            ],
            "text/plain": [
              "       Ano         Gás       Emissão\n",
              "0     1970    C2F6 (t)      0.232610\n",
              "1     1970     CF4 (t)      3.557421\n",
              "2     1970     CH4 (t)   1471.024024\n",
              "3     1970      CO (t)   2155.556658\n",
              "4     1970     CO2 (t)  19244.913199\n",
              "...    ...         ...           ...\n",
              "1191  2021  HFC-23 (t)      0.000000\n",
              "1192  2021  HFC-32 (t)    261.100000\n",
              "1193  2021     N2O (t)    119.295311\n",
              "1194  2021     NOx (t)    679.395431\n",
              "1195  2021     SF6 (t)      5.240000\n",
              "\n",
              "[1196 rows x 3 columns]"
            ]
          },
          "execution_count": 58,
          "metadata": {},
          "output_type": "execute_result"
        }
      ],
      "source": [
        "media_anual = emissoes_por_ano.groupby(['Ano', 'Gás'])[['Emissão']].mean().reset_index()\n",
        "media_anual"
      ]
    },
    {
      "cell_type": "code",
      "execution_count": 59,
      "metadata": {
        "id": "EcWTrlfFRqIl"
      },
      "outputs": [],
      "source": [
        "media_anual = media_anual.pivot_table(index='Ano', columns='Gás', values='Emissão')"
      ]
    },
    {
      "cell_type": "code",
      "execution_count": 61,
      "metadata": {
        "id": "1KqfYlq9QkI3"
      },
      "outputs": [
        {
          "data": {
            "image/png": "[encoded data removed]",
            "text/plain": [
              "<Figure size 1200x4200 with 23 Axes>"
            ]
          },
          "metadata": {},
          "output_type": "display_data"
        }
      ],
      "source": [
        "media_anual.plot(subplots=True, figsize=(12,42));"
      ]
    },
    {
      "cell_type": "markdown",
      "metadata": {
        "id": "NZjZ05EsYMaR"
      },
      "source": [
        "### População dos estados"
      ]
    },
    {
      "cell_type": "markdown",
      "metadata": {
        "id": "9tc2PGri79Tl"
      },
      "source": [
        "Vamos realizar a importação de uma nova base de dados com a informação da população de cada estado do Brasil, para posteriormente encontrarmos a emissão per capita de cada estado.\n",
        "\n",
        "ℹ\n",
        "Os dados foram obtidos através do [censo do IBGE](https://www.ibge.gov.br/estatisticas/sociais/saude/22827-censo-demografico-2022.html?=&t=resultados)"
      ]
    },
    {
      "cell_type": "code",
      "execution_count": 80,
      "metadata": {
        "id": "RMt59cpYiWB9"
      },
      "outputs": [
        {
          "data": {
            "text/html": [
              "<div>\n",
              "<style scoped>\n",
              "    .dataframe tbody tr th:only-of-type {\n",
              "        vertical-align: middle;\n",
              "    }\n",
              "\n",
              "    .dataframe tbody tr th {\n",
              "        vertical-align: top;\n",
              "    }\n",
              "\n",
              "    .dataframe thead th {\n",
              "        text-align: right;\n",
              "    }\n",
              "</style>\n",
              "<table border=\"1\" class=\"dataframe\">\n",
              "  <thead>\n",
              "    <tr style=\"text-align: right;\">\n",
              "      <th></th>\n",
              "      <th>UF</th>\n",
              "      <th>COD. UF</th>\n",
              "      <th>COD. MUNIC</th>\n",
              "      <th>NOME DO MUNICÍPIO</th>\n",
              "      <th>POPULAÇÃO</th>\n",
              "    </tr>\n",
              "  </thead>\n",
              "  <tbody>\n",
              "    <tr>\n",
              "      <th>0</th>\n",
              "      <td>RO</td>\n",
              "      <td>11</td>\n",
              "      <td>15</td>\n",
              "      <td>Alta Floresta D'Oeste</td>\n",
              "      <td>21558</td>\n",
              "    </tr>\n",
              "    <tr>\n",
              "      <th>1</th>\n",
              "      <td>RO</td>\n",
              "      <td>11</td>\n",
              "      <td>23</td>\n",
              "      <td>Ariquemes</td>\n",
              "      <td>100896</td>\n",
              "    </tr>\n",
              "    <tr>\n",
              "      <th>2</th>\n",
              "      <td>RO</td>\n",
              "      <td>11</td>\n",
              "      <td>31</td>\n",
              "      <td>Cabixi</td>\n",
              "      <td>5107</td>\n",
              "    </tr>\n",
              "    <tr>\n",
              "      <th>3</th>\n",
              "      <td>RO</td>\n",
              "      <td>11</td>\n",
              "      <td>49</td>\n",
              "      <td>Cacoal</td>\n",
              "      <td>92202</td>\n",
              "    </tr>\n",
              "    <tr>\n",
              "      <th>4</th>\n",
              "      <td>RO</td>\n",
              "      <td>11</td>\n",
              "      <td>56</td>\n",
              "      <td>Cerejeiras</td>\n",
              "      <td>15237</td>\n",
              "    </tr>\n",
              "    <tr>\n",
              "      <th>...</th>\n",
              "      <td>...</td>\n",
              "      <td>...</td>\n",
              "      <td>...</td>\n",
              "      <td>...</td>\n",
              "      <td>...</td>\n",
              "    </tr>\n",
              "    <tr>\n",
              "      <th>5565</th>\n",
              "      <td>GO</td>\n",
              "      <td>52</td>\n",
              "      <td>22005</td>\n",
              "      <td>Vianópolis</td>\n",
              "      <td>14046</td>\n",
              "    </tr>\n",
              "    <tr>\n",
              "      <th>5566</th>\n",
              "      <td>GO</td>\n",
              "      <td>52</td>\n",
              "      <td>22054</td>\n",
              "      <td>Vicentinópolis</td>\n",
              "      <td>8776</td>\n",
              "    </tr>\n",
              "    <tr>\n",
              "      <th>5567</th>\n",
              "      <td>GO</td>\n",
              "      <td>52</td>\n",
              "      <td>22203</td>\n",
              "      <td>Vila Boa</td>\n",
              "      <td>3686</td>\n",
              "    </tr>\n",
              "    <tr>\n",
              "      <th>5568</th>\n",
              "      <td>GO</td>\n",
              "      <td>52</td>\n",
              "      <td>22302</td>\n",
              "      <td>Vila Propício</td>\n",
              "      <td>5646</td>\n",
              "    </tr>\n",
              "    <tr>\n",
              "      <th>5569</th>\n",
              "      <td>DF</td>\n",
              "      <td>53</td>\n",
              "      <td>108</td>\n",
              "      <td>Brasília</td>\n",
              "      <td>2923369</td>\n",
              "    </tr>\n",
              "  </tbody>\n",
              "</table>\n",
              "<p>5570 rows × 5 columns</p>\n",
              "</div>"
            ],
            "text/plain": [
              "      UF  COD. UF  COD. MUNIC      NOME DO MUNICÍPIO POPULAÇÃO\n",
              "0     RO       11          15  Alta Floresta D'Oeste     21558\n",
              "1     RO       11          23              Ariquemes    100896\n",
              "2     RO       11          31                 Cabixi      5107\n",
              "3     RO       11          49                 Cacoal     92202\n",
              "4     RO       11          56             Cerejeiras     15237\n",
              "...   ..      ...         ...                    ...       ...\n",
              "5565  GO       52       22005             Vianópolis     14046\n",
              "5566  GO       52       22054         Vicentinópolis      8776\n",
              "5567  GO       52       22203               Vila Boa      3686\n",
              "5568  GO       52       22302          Vila Propício      5646\n",
              "5569  DF       53         108               Brasília   2923369\n",
              "\n",
              "[5570 rows x 5 columns]"
            ]
          },
          "execution_count": 80,
          "metadata": {},
          "output_type": "execute_result"
        }
      ],
      "source": [
        "populacao = pd.read_excel('POP2022_Municipios.xls', header=1, skipfooter=34)\n",
        "populacao"
      ]
    },
    {
      "cell_type": "markdown",
      "metadata": {
        "id": "wgXbkW9v8wN4"
      },
      "source": [
        "Como as informações são referentes aos municípios, vamos realizar uma agregação com base na coluna estado."
      ]
    },
    {
      "cell_type": "code",
      "execution_count": 69,
      "metadata": {
        "id": "kBuJ7pG_iWlv"
      },
      "outputs": [
        {
          "ename": "ValueError",
          "evalue": "invalid literal for int() with base 10: '461.748(1)'",
          "output_type": "error",
          "traceback": [
            "\u001b[1;31m---------------------------------------------------------------------------\u001b[0m",
            "\u001b[1;31mValueError\u001b[0m                                Traceback (most recent call last)",
            "Cell \u001b[1;32mIn[69], line 1\u001b[0m\n\u001b[1;32m----> 1\u001b[0m \u001b[43mpopulacao\u001b[49m\u001b[43m[\u001b[49m\u001b[38;5;124;43m'\u001b[39;49m\u001b[38;5;124;43mPOPULAÇÃO\u001b[39;49m\u001b[38;5;124;43m'\u001b[39;49m\u001b[43m]\u001b[49m\u001b[38;5;241;43m.\u001b[39;49m\u001b[43mastype\u001b[49m\u001b[43m(\u001b[49m\u001b[38;5;28;43mint\u001b[39;49m\u001b[43m)\u001b[49m\n",
            "File \u001b[1;32mc:\\Users\\Acer\\AppData\\Local\\Programs\\Python\\Python311\\Lib\\site-packages\\pandas\\core\\generic.py:6640\u001b[0m, in \u001b[0;36mNDFrame.astype\u001b[1;34m(self, dtype, copy, errors)\u001b[0m\n\u001b[0;32m   6634\u001b[0m     results \u001b[38;5;241m=\u001b[39m [\n\u001b[0;32m   6635\u001b[0m         ser\u001b[38;5;241m.\u001b[39mastype(dtype, copy\u001b[38;5;241m=\u001b[39mcopy, errors\u001b[38;5;241m=\u001b[39merrors) \u001b[38;5;28;01mfor\u001b[39;00m _, ser \u001b[38;5;129;01min\u001b[39;00m \u001b[38;5;28mself\u001b[39m\u001b[38;5;241m.\u001b[39mitems()\n\u001b[0;32m   6636\u001b[0m     ]\n\u001b[0;32m   6638\u001b[0m \u001b[38;5;28;01melse\u001b[39;00m:\n\u001b[0;32m   6639\u001b[0m     \u001b[38;5;66;03m# else, only a single dtype is given\u001b[39;00m\n\u001b[1;32m-> 6640\u001b[0m     new_data \u001b[38;5;241m=\u001b[39m \u001b[38;5;28;43mself\u001b[39;49m\u001b[38;5;241;43m.\u001b[39;49m\u001b[43m_mgr\u001b[49m\u001b[38;5;241;43m.\u001b[39;49m\u001b[43mastype\u001b[49m\u001b[43m(\u001b[49m\u001b[43mdtype\u001b[49m\u001b[38;5;241;43m=\u001b[39;49m\u001b[43mdtype\u001b[49m\u001b[43m,\u001b[49m\u001b[43m \u001b[49m\u001b[43mcopy\u001b[49m\u001b[38;5;241;43m=\u001b[39;49m\u001b[43mcopy\u001b[49m\u001b[43m,\u001b[49m\u001b[43m \u001b[49m\u001b[43merrors\u001b[49m\u001b[38;5;241;43m=\u001b[39;49m\u001b[43merrors\u001b[49m\u001b[43m)\u001b[49m\n\u001b[0;32m   6641\u001b[0m     res \u001b[38;5;241m=\u001b[39m \u001b[38;5;28mself\u001b[39m\u001b[38;5;241m.\u001b[39m_constructor_from_mgr(new_data, axes\u001b[38;5;241m=\u001b[39mnew_data\u001b[38;5;241m.\u001b[39maxes)\n\u001b[0;32m   6642\u001b[0m     \u001b[38;5;28;01mreturn\u001b[39;00m res\u001b[38;5;241m.\u001b[39m__finalize__(\u001b[38;5;28mself\u001b[39m, method\u001b[38;5;241m=\u001b[39m\u001b[38;5;124m\"\u001b[39m\u001b[38;5;124mastype\u001b[39m\u001b[38;5;124m\"\u001b[39m)\n",
            "File \u001b[1;32mc:\\Users\\Acer\\AppData\\Local\\Programs\\Python\\Python311\\Lib\\site-packages\\pandas\\core\\internals\\managers.py:430\u001b[0m, in \u001b[0;36mBaseBlockManager.astype\u001b[1;34m(self, dtype, copy, errors)\u001b[0m\n\u001b[0;32m    427\u001b[0m \u001b[38;5;28;01melif\u001b[39;00m using_copy_on_write():\n\u001b[0;32m    428\u001b[0m     copy \u001b[38;5;241m=\u001b[39m \u001b[38;5;28;01mFalse\u001b[39;00m\n\u001b[1;32m--> 430\u001b[0m \u001b[38;5;28;01mreturn\u001b[39;00m \u001b[38;5;28;43mself\u001b[39;49m\u001b[38;5;241;43m.\u001b[39;49m\u001b[43mapply\u001b[49m\u001b[43m(\u001b[49m\n\u001b[0;32m    431\u001b[0m \u001b[43m    \u001b[49m\u001b[38;5;124;43m\"\u001b[39;49m\u001b[38;5;124;43mastype\u001b[39;49m\u001b[38;5;124;43m\"\u001b[39;49m\u001b[43m,\u001b[49m\n\u001b[0;32m    432\u001b[0m \u001b[43m    \u001b[49m\u001b[43mdtype\u001b[49m\u001b[38;5;241;43m=\u001b[39;49m\u001b[43mdtype\u001b[49m\u001b[43m,\u001b[49m\n\u001b[0;32m    433\u001b[0m \u001b[43m    \u001b[49m\u001b[43mcopy\u001b[49m\u001b[38;5;241;43m=\u001b[39;49m\u001b[43mcopy\u001b[49m\u001b[43m,\u001b[49m\n\u001b[0;32m    434\u001b[0m \u001b[43m    \u001b[49m\u001b[43merrors\u001b[49m\u001b[38;5;241;43m=\u001b[39;49m\u001b[43merrors\u001b[49m\u001b[43m,\u001b[49m\n\u001b[0;32m    435\u001b[0m \u001b[43m    \u001b[49m\u001b[43musing_cow\u001b[49m\u001b[38;5;241;43m=\u001b[39;49m\u001b[43musing_copy_on_write\u001b[49m\u001b[43m(\u001b[49m\u001b[43m)\u001b[49m\u001b[43m,\u001b[49m\n\u001b[0;32m    436\u001b[0m \u001b[43m\u001b[49m\u001b[43m)\u001b[49m\n",
            "File \u001b[1;32mc:\\Users\\Acer\\AppData\\Local\\Programs\\Python\\Python311\\Lib\\site-packages\\pandas\\core\\internals\\managers.py:363\u001b[0m, in \u001b[0;36mBaseBlockManager.apply\u001b[1;34m(self, f, align_keys, **kwargs)\u001b[0m\n\u001b[0;32m    361\u001b[0m         applied \u001b[38;5;241m=\u001b[39m b\u001b[38;5;241m.\u001b[39mapply(f, \u001b[38;5;241m*\u001b[39m\u001b[38;5;241m*\u001b[39mkwargs)\n\u001b[0;32m    362\u001b[0m     \u001b[38;5;28;01melse\u001b[39;00m:\n\u001b[1;32m--> 363\u001b[0m         applied \u001b[38;5;241m=\u001b[39m \u001b[38;5;28;43mgetattr\u001b[39;49m\u001b[43m(\u001b[49m\u001b[43mb\u001b[49m\u001b[43m,\u001b[49m\u001b[43m \u001b[49m\u001b[43mf\u001b[49m\u001b[43m)\u001b[49m\u001b[43m(\u001b[49m\u001b[38;5;241;43m*\u001b[39;49m\u001b[38;5;241;43m*\u001b[39;49m\u001b[43mkwargs\u001b[49m\u001b[43m)\u001b[49m\n\u001b[0;32m    364\u001b[0m     result_blocks \u001b[38;5;241m=\u001b[39m extend_blocks(applied, result_blocks)\n\u001b[0;32m    366\u001b[0m out \u001b[38;5;241m=\u001b[39m \u001b[38;5;28mtype\u001b[39m(\u001b[38;5;28mself\u001b[39m)\u001b[38;5;241m.\u001b[39mfrom_blocks(result_blocks, \u001b[38;5;28mself\u001b[39m\u001b[38;5;241m.\u001b[39maxes)\n",
            "File \u001b[1;32mc:\\Users\\Acer\\AppData\\Local\\Programs\\Python\\Python311\\Lib\\site-packages\\pandas\\core\\internals\\blocks.py:758\u001b[0m, in \u001b[0;36mBlock.astype\u001b[1;34m(self, dtype, copy, errors, using_cow, squeeze)\u001b[0m\n\u001b[0;32m    755\u001b[0m         \u001b[38;5;28;01mraise\u001b[39;00m \u001b[38;5;167;01mValueError\u001b[39;00m(\u001b[38;5;124m\"\u001b[39m\u001b[38;5;124mCan not squeeze with more than one column.\u001b[39m\u001b[38;5;124m\"\u001b[39m)\n\u001b[0;32m    756\u001b[0m     values \u001b[38;5;241m=\u001b[39m values[\u001b[38;5;241m0\u001b[39m, :]  \u001b[38;5;66;03m# type: ignore[call-overload]\u001b[39;00m\n\u001b[1;32m--> 758\u001b[0m new_values \u001b[38;5;241m=\u001b[39m \u001b[43mastype_array_safe\u001b[49m\u001b[43m(\u001b[49m\u001b[43mvalues\u001b[49m\u001b[43m,\u001b[49m\u001b[43m \u001b[49m\u001b[43mdtype\u001b[49m\u001b[43m,\u001b[49m\u001b[43m \u001b[49m\u001b[43mcopy\u001b[49m\u001b[38;5;241;43m=\u001b[39;49m\u001b[43mcopy\u001b[49m\u001b[43m,\u001b[49m\u001b[43m \u001b[49m\u001b[43merrors\u001b[49m\u001b[38;5;241;43m=\u001b[39;49m\u001b[43merrors\u001b[49m\u001b[43m)\u001b[49m\n\u001b[0;32m    760\u001b[0m new_values \u001b[38;5;241m=\u001b[39m maybe_coerce_values(new_values)\n\u001b[0;32m    762\u001b[0m refs \u001b[38;5;241m=\u001b[39m \u001b[38;5;28;01mNone\u001b[39;00m\n",
            "File \u001b[1;32mc:\\Users\\Acer\\AppData\\Local\\Programs\\Python\\Python311\\Lib\\site-packages\\pandas\\core\\dtypes\\astype.py:237\u001b[0m, in \u001b[0;36mastype_array_safe\u001b[1;34m(values, dtype, copy, errors)\u001b[0m\n\u001b[0;32m    234\u001b[0m     dtype \u001b[38;5;241m=\u001b[39m dtype\u001b[38;5;241m.\u001b[39mnumpy_dtype\n\u001b[0;32m    236\u001b[0m \u001b[38;5;28;01mtry\u001b[39;00m:\n\u001b[1;32m--> 237\u001b[0m     new_values \u001b[38;5;241m=\u001b[39m \u001b[43mastype_array\u001b[49m\u001b[43m(\u001b[49m\u001b[43mvalues\u001b[49m\u001b[43m,\u001b[49m\u001b[43m \u001b[49m\u001b[43mdtype\u001b[49m\u001b[43m,\u001b[49m\u001b[43m \u001b[49m\u001b[43mcopy\u001b[49m\u001b[38;5;241;43m=\u001b[39;49m\u001b[43mcopy\u001b[49m\u001b[43m)\u001b[49m\n\u001b[0;32m    238\u001b[0m \u001b[38;5;28;01mexcept\u001b[39;00m (\u001b[38;5;167;01mValueError\u001b[39;00m, \u001b[38;5;167;01mTypeError\u001b[39;00m):\n\u001b[0;32m    239\u001b[0m     \u001b[38;5;66;03m# e.g. _astype_nansafe can fail on object-dtype of strings\u001b[39;00m\n\u001b[0;32m    240\u001b[0m     \u001b[38;5;66;03m#  trying to convert to float\u001b[39;00m\n\u001b[0;32m    241\u001b[0m     \u001b[38;5;28;01mif\u001b[39;00m errors \u001b[38;5;241m==\u001b[39m \u001b[38;5;124m\"\u001b[39m\u001b[38;5;124mignore\u001b[39m\u001b[38;5;124m\"\u001b[39m:\n",
            "File \u001b[1;32mc:\\Users\\Acer\\AppData\\Local\\Programs\\Python\\Python311\\Lib\\site-packages\\pandas\\core\\dtypes\\astype.py:182\u001b[0m, in \u001b[0;36mastype_array\u001b[1;34m(values, dtype, copy)\u001b[0m\n\u001b[0;32m    179\u001b[0m     values \u001b[38;5;241m=\u001b[39m values\u001b[38;5;241m.\u001b[39mastype(dtype, copy\u001b[38;5;241m=\u001b[39mcopy)\n\u001b[0;32m    181\u001b[0m \u001b[38;5;28;01melse\u001b[39;00m:\n\u001b[1;32m--> 182\u001b[0m     values \u001b[38;5;241m=\u001b[39m \u001b[43m_astype_nansafe\u001b[49m\u001b[43m(\u001b[49m\u001b[43mvalues\u001b[49m\u001b[43m,\u001b[49m\u001b[43m \u001b[49m\u001b[43mdtype\u001b[49m\u001b[43m,\u001b[49m\u001b[43m \u001b[49m\u001b[43mcopy\u001b[49m\u001b[38;5;241;43m=\u001b[39;49m\u001b[43mcopy\u001b[49m\u001b[43m)\u001b[49m\n\u001b[0;32m    184\u001b[0m \u001b[38;5;66;03m# in pandas we don't store numpy str dtypes, so convert to object\u001b[39;00m\n\u001b[0;32m    185\u001b[0m \u001b[38;5;28;01mif\u001b[39;00m \u001b[38;5;28misinstance\u001b[39m(dtype, np\u001b[38;5;241m.\u001b[39mdtype) \u001b[38;5;129;01mand\u001b[39;00m \u001b[38;5;28missubclass\u001b[39m(values\u001b[38;5;241m.\u001b[39mdtype\u001b[38;5;241m.\u001b[39mtype, \u001b[38;5;28mstr\u001b[39m):\n",
            "File \u001b[1;32mc:\\Users\\Acer\\AppData\\Local\\Programs\\Python\\Python311\\Lib\\site-packages\\pandas\\core\\dtypes\\astype.py:133\u001b[0m, in \u001b[0;36m_astype_nansafe\u001b[1;34m(arr, dtype, copy, skipna)\u001b[0m\n\u001b[0;32m    129\u001b[0m     \u001b[38;5;28;01mraise\u001b[39;00m \u001b[38;5;167;01mValueError\u001b[39;00m(msg)\n\u001b[0;32m    131\u001b[0m \u001b[38;5;28;01mif\u001b[39;00m copy \u001b[38;5;129;01mor\u001b[39;00m arr\u001b[38;5;241m.\u001b[39mdtype \u001b[38;5;241m==\u001b[39m \u001b[38;5;28mobject\u001b[39m \u001b[38;5;129;01mor\u001b[39;00m dtype \u001b[38;5;241m==\u001b[39m \u001b[38;5;28mobject\u001b[39m:\n\u001b[0;32m    132\u001b[0m     \u001b[38;5;66;03m# Explicit copy, or required since NumPy can't view from / to object.\u001b[39;00m\n\u001b[1;32m--> 133\u001b[0m     \u001b[38;5;28;01mreturn\u001b[39;00m \u001b[43marr\u001b[49m\u001b[38;5;241;43m.\u001b[39;49m\u001b[43mastype\u001b[49m\u001b[43m(\u001b[49m\u001b[43mdtype\u001b[49m\u001b[43m,\u001b[49m\u001b[43m \u001b[49m\u001b[43mcopy\u001b[49m\u001b[38;5;241;43m=\u001b[39;49m\u001b[38;5;28;43;01mTrue\u001b[39;49;00m\u001b[43m)\u001b[49m\n\u001b[0;32m    135\u001b[0m \u001b[38;5;28;01mreturn\u001b[39;00m arr\u001b[38;5;241m.\u001b[39mastype(dtype, copy\u001b[38;5;241m=\u001b[39mcopy)\n",
            "\u001b[1;31mValueError\u001b[0m: invalid literal for int() with base 10: '461.748(1)'"
          ]
        }
      ],
      "source": [
        "populacao['POPULAÇÃO'].astype(int)"
      ]
    },
    {
      "cell_type": "code",
      "execution_count": 84,
      "metadata": {},
      "outputs": [
        {
          "data": {
            "text/html": [
              "<div>\n",
              "<style scoped>\n",
              "    .dataframe tbody tr th:only-of-type {\n",
              "        vertical-align: middle;\n",
              "    }\n",
              "\n",
              "    .dataframe tbody tr th {\n",
              "        vertical-align: top;\n",
              "    }\n",
              "\n",
              "    .dataframe thead th {\n",
              "        text-align: right;\n",
              "    }\n",
              "</style>\n",
              "<table border=\"1\" class=\"dataframe\">\n",
              "  <thead>\n",
              "    <tr style=\"text-align: right;\">\n",
              "      <th></th>\n",
              "      <th>UF</th>\n",
              "      <th>COD. UF</th>\n",
              "      <th>COD. MUNIC</th>\n",
              "      <th>NOME DO MUNICÍPIO</th>\n",
              "      <th>POPULAÇÃO</th>\n",
              "      <th>sem_parenteses</th>\n",
              "    </tr>\n",
              "  </thead>\n",
              "  <tbody>\n",
              "    <tr>\n",
              "      <th>16</th>\n",
              "      <td>RO</td>\n",
              "      <td>11</td>\n",
              "      <td>205</td>\n",
              "      <td>Porto Velho</td>\n",
              "      <td>461.748(1)</td>\n",
              "      <td>461.748</td>\n",
              "    </tr>\n",
              "    <tr>\n",
              "      <th>74</th>\n",
              "      <td>AM</td>\n",
              "      <td>13</td>\n",
              "      <td>29</td>\n",
              "      <td>Alvarães</td>\n",
              "      <td>15.916(2)</td>\n",
              "      <td>15.916</td>\n",
              "    </tr>\n",
              "    <tr>\n",
              "      <th>81</th>\n",
              "      <td>AM</td>\n",
              "      <td>13</td>\n",
              "      <td>409</td>\n",
              "      <td>Barcelos</td>\n",
              "      <td>18.399(3)</td>\n",
              "      <td>18.399</td>\n",
              "    </tr>\n",
              "    <tr>\n",
              "      <th>83</th>\n",
              "      <td>AM</td>\n",
              "      <td>13</td>\n",
              "      <td>607</td>\n",
              "      <td>Benjamin Constant</td>\n",
              "      <td>37.436(4)</td>\n",
              "      <td>37.436</td>\n",
              "    </tr>\n",
              "    <tr>\n",
              "      <th>87</th>\n",
              "      <td>AM</td>\n",
              "      <td>13</td>\n",
              "      <td>805</td>\n",
              "      <td>Borba</td>\n",
              "      <td>33.209(5)</td>\n",
              "      <td>33.209</td>\n",
              "    </tr>\n",
              "    <tr>\n",
              "      <th>88</th>\n",
              "      <td>AM</td>\n",
              "      <td>13</td>\n",
              "      <td>839</td>\n",
              "      <td>Caapiranga</td>\n",
              "      <td>13.851(6)</td>\n",
              "      <td>13.851</td>\n",
              "    </tr>\n",
              "    <tr>\n",
              "      <th>97</th>\n",
              "      <td>AM</td>\n",
              "      <td>13</td>\n",
              "      <td>1605</td>\n",
              "      <td>Fonte Boa</td>\n",
              "      <td>27.692(7)</td>\n",
              "      <td>27.692</td>\n",
              "    </tr>\n",
              "    <tr>\n",
              "      <th>98</th>\n",
              "      <td>AM</td>\n",
              "      <td>13</td>\n",
              "      <td>1654</td>\n",
              "      <td>Guajará</td>\n",
              "      <td>13.809(8)</td>\n",
              "      <td>13.809</td>\n",
              "    </tr>\n",
              "    <tr>\n",
              "      <th>99</th>\n",
              "      <td>AM</td>\n",
              "      <td>13</td>\n",
              "      <td>1704</td>\n",
              "      <td>Humaitá</td>\n",
              "      <td>59.504(9)</td>\n",
              "      <td>59.504</td>\n",
              "    </tr>\n",
              "    <tr>\n",
              "      <th>103</th>\n",
              "      <td>AM</td>\n",
              "      <td>13</td>\n",
              "      <td>1951</td>\n",
              "      <td>Itamarati</td>\n",
              "      <td>10.783(10)</td>\n",
              "      <td>10.783</td>\n",
              "    </tr>\n",
              "    <tr>\n",
              "      <th>104</th>\n",
              "      <td>AM</td>\n",
              "      <td>13</td>\n",
              "      <td>2009</td>\n",
              "      <td>Itapiranga</td>\n",
              "      <td>10.183(11)</td>\n",
              "      <td>10.183</td>\n",
              "    </tr>\n",
              "    <tr>\n",
              "      <th>105</th>\n",
              "      <td>AM</td>\n",
              "      <td>13</td>\n",
              "      <td>2108</td>\n",
              "      <td>Japurá</td>\n",
              "      <td>9.281(12)</td>\n",
              "      <td>9.281</td>\n",
              "    </tr>\n",
              "    <tr>\n",
              "      <th>107</th>\n",
              "      <td>AM</td>\n",
              "      <td>13</td>\n",
              "      <td>2306</td>\n",
              "      <td>Jutaí</td>\n",
              "      <td>25.048(13)</td>\n",
              "      <td>25.048</td>\n",
              "    </tr>\n",
              "    <tr>\n",
              "      <th>108</th>\n",
              "      <td>AM</td>\n",
              "      <td>13</td>\n",
              "      <td>2405</td>\n",
              "      <td>Lábrea</td>\n",
              "      <td>47.003(14)</td>\n",
              "      <td>47.003</td>\n",
              "    </tr>\n",
              "    <tr>\n",
              "      <th>109</th>\n",
              "      <td>AM</td>\n",
              "      <td>13</td>\n",
              "      <td>2504</td>\n",
              "      <td>Manacapuru</td>\n",
              "      <td>102.736(15)</td>\n",
              "      <td>102.736</td>\n",
              "    </tr>\n",
              "    <tr>\n",
              "      <th>117</th>\n",
              "      <td>AM</td>\n",
              "      <td>13</td>\n",
              "      <td>3205</td>\n",
              "      <td>Novo Airão</td>\n",
              "      <td>15.819(16)</td>\n",
              "      <td>15.819</td>\n",
              "    </tr>\n",
              "    <tr>\n",
              "      <th>119</th>\n",
              "      <td>AM</td>\n",
              "      <td>13</td>\n",
              "      <td>3403</td>\n",
              "      <td>Parintins</td>\n",
              "      <td>96.251(17)</td>\n",
              "      <td>96.251</td>\n",
              "    </tr>\n",
              "    <tr>\n",
              "      <th>120</th>\n",
              "      <td>AM</td>\n",
              "      <td>13</td>\n",
              "      <td>3502</td>\n",
              "      <td>Pauini</td>\n",
              "      <td>20.351(18)</td>\n",
              "      <td>20.351</td>\n",
              "    </tr>\n",
              "    <tr>\n",
              "      <th>123</th>\n",
              "      <td>AM</td>\n",
              "      <td>13</td>\n",
              "      <td>3601</td>\n",
              "      <td>Santa Isabel do Rio Negro</td>\n",
              "      <td>14.305(19)</td>\n",
              "      <td>14.305</td>\n",
              "    </tr>\n",
              "    <tr>\n",
              "      <th>129</th>\n",
              "      <td>AM</td>\n",
              "      <td>13</td>\n",
              "      <td>4062</td>\n",
              "      <td>Tabatinga</td>\n",
              "      <td>66.837(20)</td>\n",
              "      <td>66.837</td>\n",
              "    </tr>\n",
              "    <tr>\n",
              "      <th>134</th>\n",
              "      <td>AM</td>\n",
              "      <td>13</td>\n",
              "      <td>4302</td>\n",
              "      <td>Urucará</td>\n",
              "      <td>18.582(21)</td>\n",
              "      <td>18.582</td>\n",
              "    </tr>\n",
              "    <tr>\n",
              "      <th>135</th>\n",
              "      <td>AM</td>\n",
              "      <td>13</td>\n",
              "      <td>4401</td>\n",
              "      <td>Urucurituba</td>\n",
              "      <td>24.017(22)</td>\n",
              "      <td>24.017</td>\n",
              "    </tr>\n",
              "    <tr>\n",
              "      <th>210</th>\n",
              "      <td>PA</td>\n",
              "      <td>15</td>\n",
              "      <td>3754</td>\n",
              "      <td>Jacareacanga</td>\n",
              "      <td>24.742(23)</td>\n",
              "      <td>24.742</td>\n",
              "    </tr>\n",
              "    <tr>\n",
              "      <th>579</th>\n",
              "      <td>MA</td>\n",
              "      <td>21</td>\n",
              "      <td>7506</td>\n",
              "      <td>Paço do Lumiar</td>\n",
              "      <td>145.752(24)</td>\n",
              "      <td>145.752</td>\n",
              "    </tr>\n",
              "    <tr>\n",
              "      <th>1526</th>\n",
              "      <td>PE</td>\n",
              "      <td>26</td>\n",
              "      <td>5509</td>\n",
              "      <td>Ferreiros</td>\n",
              "      <td>15.040(25)</td>\n",
              "      <td>15.040</td>\n",
              "    </tr>\n",
              "    <tr>\n",
              "      <th>1937</th>\n",
              "      <td>BA</td>\n",
              "      <td>29</td>\n",
              "      <td>9208</td>\n",
              "      <td>Coronel João Sá</td>\n",
              "      <td>17.000(26)</td>\n",
              "      <td>17.000</td>\n",
              "    </tr>\n",
              "    <tr>\n",
              "      <th>1973</th>\n",
              "      <td>BA</td>\n",
              "      <td>29</td>\n",
              "      <td>12004</td>\n",
              "      <td>Ibiassucê</td>\n",
              "      <td>10.426(27)</td>\n",
              "      <td>10.426</td>\n",
              "    </tr>\n",
              "    <tr>\n",
              "      <th>2159</th>\n",
              "      <td>BA</td>\n",
              "      <td>29</td>\n",
              "      <td>27101</td>\n",
              "      <td>Rodelas</td>\n",
              "      <td>10.303(28)</td>\n",
              "      <td>10.303</td>\n",
              "    </tr>\n",
              "    <tr>\n",
              "      <th>4215</th>\n",
              "      <td>PR</td>\n",
              "      <td>41</td>\n",
              "      <td>21901</td>\n",
              "      <td>Ribeirão do Pinhal</td>\n",
              "      <td>13.053(29)</td>\n",
              "      <td>13.053</td>\n",
              "    </tr>\n",
              "    <tr>\n",
              "      <th>5509</th>\n",
              "      <td>GO</td>\n",
              "      <td>52</td>\n",
              "      <td>17609</td>\n",
              "      <td>Planaltina</td>\n",
              "      <td>108.846(30)</td>\n",
              "      <td>108.846</td>\n",
              "    </tr>\n",
              "  </tbody>\n",
              "</table>\n",
              "</div>"
            ],
            "text/plain": [
              "      UF  COD. UF  COD. MUNIC          NOME DO MUNICÍPIO    POPULAÇÃO  \\\n",
              "16    RO       11         205                Porto Velho   461.748(1)   \n",
              "74    AM       13          29                   Alvarães    15.916(2)   \n",
              "81    AM       13         409                   Barcelos    18.399(3)   \n",
              "83    AM       13         607          Benjamin Constant    37.436(4)   \n",
              "87    AM       13         805                      Borba    33.209(5)   \n",
              "88    AM       13         839                 Caapiranga    13.851(6)   \n",
              "97    AM       13        1605                  Fonte Boa    27.692(7)   \n",
              "98    AM       13        1654                    Guajará    13.809(8)   \n",
              "99    AM       13        1704                    Humaitá    59.504(9)   \n",
              "103   AM       13        1951                  Itamarati   10.783(10)   \n",
              "104   AM       13        2009                 Itapiranga   10.183(11)   \n",
              "105   AM       13        2108                     Japurá    9.281(12)   \n",
              "107   AM       13        2306                      Jutaí   25.048(13)   \n",
              "108   AM       13        2405                     Lábrea   47.003(14)   \n",
              "109   AM       13        2504                 Manacapuru  102.736(15)   \n",
              "117   AM       13        3205                 Novo Airão   15.819(16)   \n",
              "119   AM       13        3403                  Parintins   96.251(17)   \n",
              "120   AM       13        3502                     Pauini   20.351(18)   \n",
              "123   AM       13        3601  Santa Isabel do Rio Negro   14.305(19)   \n",
              "129   AM       13        4062                  Tabatinga   66.837(20)   \n",
              "134   AM       13        4302                    Urucará   18.582(21)   \n",
              "135   AM       13        4401                Urucurituba   24.017(22)   \n",
              "210   PA       15        3754               Jacareacanga   24.742(23)   \n",
              "579   MA       21        7506             Paço do Lumiar  145.752(24)   \n",
              "1526  PE       26        5509                  Ferreiros   15.040(25)   \n",
              "1937  BA       29        9208            Coronel João Sá   17.000(26)   \n",
              "1973  BA       29       12004                  Ibiassucê   10.426(27)   \n",
              "2159  BA       29       27101                    Rodelas   10.303(28)   \n",
              "4215  PR       41       21901         Ribeirão do Pinhal   13.053(29)   \n",
              "5509  GO       52       17609                 Planaltina  108.846(30)   \n",
              "\n",
              "     sem_parenteses  \n",
              "16          461.748  \n",
              "74           15.916  \n",
              "81           18.399  \n",
              "83           37.436  \n",
              "87           33.209  \n",
              "88           13.851  \n",
              "97           27.692  \n",
              "98           13.809  \n",
              "99           59.504  \n",
              "103          10.783  \n",
              "104          10.183  \n",
              "105           9.281  \n",
              "107          25.048  \n",
              "108          47.003  \n",
              "109         102.736  \n",
              "117          15.819  \n",
              "119          96.251  \n",
              "120          20.351  \n",
              "123          14.305  \n",
              "129          66.837  \n",
              "134          18.582  \n",
              "135          24.017  \n",
              "210          24.742  \n",
              "579         145.752  \n",
              "1526         15.040  \n",
              "1937         17.000  \n",
              "1973         10.426  \n",
              "2159         10.303  \n",
              "4215         13.053  \n",
              "5509        108.846  "
            ]
          },
          "execution_count": 84,
          "metadata": {},
          "output_type": "execute_result"
        }
      ],
      "source": [
        "populacao[populacao['POPULAÇÃO'].str.contains('\\(', na=False)]"
      ]
    },
    {
      "cell_type": "markdown",
      "metadata": {
        "id": "itHR_o7n8601"
      },
      "source": [
        "Percebemos que a informação da população não foi agregada, portanto será necessário algum tratamento nessa coluna para retornar devidamente os dados."
      ]
    },
    {
      "cell_type": "code",
      "execution_count": 94,
      "metadata": {
        "id": "6Bm5umWriXFK"
      },
      "outputs": [],
      "source": [
        "populacao = populacao.assign(sem_parenteses= populacao['POPULAÇÃO'].replace('\\(\\d{1,2}\\)','',regex=True),\n",
        "                             sem_ponto = lambda x: x.loc[:, 'sem_parenteses'].replace('\\.', '', regex=True))"
      ]
    },
    {
      "cell_type": "code",
      "execution_count": 97,
      "metadata": {
        "id": "zGxbJ84IpvN_"
      },
      "outputs": [
        {
          "data": {
            "text/html": [
              "<div>\n",
              "<style scoped>\n",
              "    .dataframe tbody tr th:only-of-type {\n",
              "        vertical-align: middle;\n",
              "    }\n",
              "\n",
              "    .dataframe tbody tr th {\n",
              "        vertical-align: top;\n",
              "    }\n",
              "\n",
              "    .dataframe thead th {\n",
              "        text-align: right;\n",
              "    }\n",
              "</style>\n",
              "<table border=\"1\" class=\"dataframe\">\n",
              "  <thead>\n",
              "    <tr style=\"text-align: right;\">\n",
              "      <th></th>\n",
              "      <th>UF</th>\n",
              "      <th>COD. UF</th>\n",
              "      <th>COD. MUNIC</th>\n",
              "      <th>NOME DO MUNICÍPIO</th>\n",
              "      <th>POPULAÇÃO</th>\n",
              "      <th>sem_parenteses</th>\n",
              "      <th>sem_ponto</th>\n",
              "    </tr>\n",
              "  </thead>\n",
              "  <tbody>\n",
              "    <tr>\n",
              "      <th>16</th>\n",
              "      <td>RO</td>\n",
              "      <td>11</td>\n",
              "      <td>205</td>\n",
              "      <td>Porto Velho</td>\n",
              "      <td>461.748(1)</td>\n",
              "      <td>461.748</td>\n",
              "      <td>461748</td>\n",
              "    </tr>\n",
              "    <tr>\n",
              "      <th>74</th>\n",
              "      <td>AM</td>\n",
              "      <td>13</td>\n",
              "      <td>29</td>\n",
              "      <td>Alvarães</td>\n",
              "      <td>15.916(2)</td>\n",
              "      <td>15.916</td>\n",
              "      <td>15916</td>\n",
              "    </tr>\n",
              "    <tr>\n",
              "      <th>81</th>\n",
              "      <td>AM</td>\n",
              "      <td>13</td>\n",
              "      <td>409</td>\n",
              "      <td>Barcelos</td>\n",
              "      <td>18.399(3)</td>\n",
              "      <td>18.399</td>\n",
              "      <td>18399</td>\n",
              "    </tr>\n",
              "    <tr>\n",
              "      <th>83</th>\n",
              "      <td>AM</td>\n",
              "      <td>13</td>\n",
              "      <td>607</td>\n",
              "      <td>Benjamin Constant</td>\n",
              "      <td>37.436(4)</td>\n",
              "      <td>37.436</td>\n",
              "      <td>37436</td>\n",
              "    </tr>\n",
              "    <tr>\n",
              "      <th>87</th>\n",
              "      <td>AM</td>\n",
              "      <td>13</td>\n",
              "      <td>805</td>\n",
              "      <td>Borba</td>\n",
              "      <td>33.209(5)</td>\n",
              "      <td>33.209</td>\n",
              "      <td>33209</td>\n",
              "    </tr>\n",
              "    <tr>\n",
              "      <th>88</th>\n",
              "      <td>AM</td>\n",
              "      <td>13</td>\n",
              "      <td>839</td>\n",
              "      <td>Caapiranga</td>\n",
              "      <td>13.851(6)</td>\n",
              "      <td>13.851</td>\n",
              "      <td>13851</td>\n",
              "    </tr>\n",
              "    <tr>\n",
              "      <th>97</th>\n",
              "      <td>AM</td>\n",
              "      <td>13</td>\n",
              "      <td>1605</td>\n",
              "      <td>Fonte Boa</td>\n",
              "      <td>27.692(7)</td>\n",
              "      <td>27.692</td>\n",
              "      <td>27692</td>\n",
              "    </tr>\n",
              "    <tr>\n",
              "      <th>98</th>\n",
              "      <td>AM</td>\n",
              "      <td>13</td>\n",
              "      <td>1654</td>\n",
              "      <td>Guajará</td>\n",
              "      <td>13.809(8)</td>\n",
              "      <td>13.809</td>\n",
              "      <td>13809</td>\n",
              "    </tr>\n",
              "    <tr>\n",
              "      <th>99</th>\n",
              "      <td>AM</td>\n",
              "      <td>13</td>\n",
              "      <td>1704</td>\n",
              "      <td>Humaitá</td>\n",
              "      <td>59.504(9)</td>\n",
              "      <td>59.504</td>\n",
              "      <td>59504</td>\n",
              "    </tr>\n",
              "    <tr>\n",
              "      <th>103</th>\n",
              "      <td>AM</td>\n",
              "      <td>13</td>\n",
              "      <td>1951</td>\n",
              "      <td>Itamarati</td>\n",
              "      <td>10.783(10)</td>\n",
              "      <td>10.783</td>\n",
              "      <td>10783</td>\n",
              "    </tr>\n",
              "    <tr>\n",
              "      <th>104</th>\n",
              "      <td>AM</td>\n",
              "      <td>13</td>\n",
              "      <td>2009</td>\n",
              "      <td>Itapiranga</td>\n",
              "      <td>10.183(11)</td>\n",
              "      <td>10.183</td>\n",
              "      <td>10183</td>\n",
              "    </tr>\n",
              "    <tr>\n",
              "      <th>105</th>\n",
              "      <td>AM</td>\n",
              "      <td>13</td>\n",
              "      <td>2108</td>\n",
              "      <td>Japurá</td>\n",
              "      <td>9.281(12)</td>\n",
              "      <td>9.281</td>\n",
              "      <td>9281</td>\n",
              "    </tr>\n",
              "    <tr>\n",
              "      <th>107</th>\n",
              "      <td>AM</td>\n",
              "      <td>13</td>\n",
              "      <td>2306</td>\n",
              "      <td>Jutaí</td>\n",
              "      <td>25.048(13)</td>\n",
              "      <td>25.048</td>\n",
              "      <td>25048</td>\n",
              "    </tr>\n",
              "    <tr>\n",
              "      <th>108</th>\n",
              "      <td>AM</td>\n",
              "      <td>13</td>\n",
              "      <td>2405</td>\n",
              "      <td>Lábrea</td>\n",
              "      <td>47.003(14)</td>\n",
              "      <td>47.003</td>\n",
              "      <td>47003</td>\n",
              "    </tr>\n",
              "    <tr>\n",
              "      <th>109</th>\n",
              "      <td>AM</td>\n",
              "      <td>13</td>\n",
              "      <td>2504</td>\n",
              "      <td>Manacapuru</td>\n",
              "      <td>102.736(15)</td>\n",
              "      <td>102.736</td>\n",
              "      <td>102736</td>\n",
              "    </tr>\n",
              "    <tr>\n",
              "      <th>117</th>\n",
              "      <td>AM</td>\n",
              "      <td>13</td>\n",
              "      <td>3205</td>\n",
              "      <td>Novo Airão</td>\n",
              "      <td>15.819(16)</td>\n",
              "      <td>15.819</td>\n",
              "      <td>15819</td>\n",
              "    </tr>\n",
              "    <tr>\n",
              "      <th>119</th>\n",
              "      <td>AM</td>\n",
              "      <td>13</td>\n",
              "      <td>3403</td>\n",
              "      <td>Parintins</td>\n",
              "      <td>96.251(17)</td>\n",
              "      <td>96.251</td>\n",
              "      <td>96251</td>\n",
              "    </tr>\n",
              "    <tr>\n",
              "      <th>120</th>\n",
              "      <td>AM</td>\n",
              "      <td>13</td>\n",
              "      <td>3502</td>\n",
              "      <td>Pauini</td>\n",
              "      <td>20.351(18)</td>\n",
              "      <td>20.351</td>\n",
              "      <td>20351</td>\n",
              "    </tr>\n",
              "    <tr>\n",
              "      <th>123</th>\n",
              "      <td>AM</td>\n",
              "      <td>13</td>\n",
              "      <td>3601</td>\n",
              "      <td>Santa Isabel do Rio Negro</td>\n",
              "      <td>14.305(19)</td>\n",
              "      <td>14.305</td>\n",
              "      <td>14305</td>\n",
              "    </tr>\n",
              "    <tr>\n",
              "      <th>129</th>\n",
              "      <td>AM</td>\n",
              "      <td>13</td>\n",
              "      <td>4062</td>\n",
              "      <td>Tabatinga</td>\n",
              "      <td>66.837(20)</td>\n",
              "      <td>66.837</td>\n",
              "      <td>66837</td>\n",
              "    </tr>\n",
              "    <tr>\n",
              "      <th>134</th>\n",
              "      <td>AM</td>\n",
              "      <td>13</td>\n",
              "      <td>4302</td>\n",
              "      <td>Urucará</td>\n",
              "      <td>18.582(21)</td>\n",
              "      <td>18.582</td>\n",
              "      <td>18582</td>\n",
              "    </tr>\n",
              "    <tr>\n",
              "      <th>135</th>\n",
              "      <td>AM</td>\n",
              "      <td>13</td>\n",
              "      <td>4401</td>\n",
              "      <td>Urucurituba</td>\n",
              "      <td>24.017(22)</td>\n",
              "      <td>24.017</td>\n",
              "      <td>24017</td>\n",
              "    </tr>\n",
              "    <tr>\n",
              "      <th>210</th>\n",
              "      <td>PA</td>\n",
              "      <td>15</td>\n",
              "      <td>3754</td>\n",
              "      <td>Jacareacanga</td>\n",
              "      <td>24.742(23)</td>\n",
              "      <td>24.742</td>\n",
              "      <td>24742</td>\n",
              "    </tr>\n",
              "    <tr>\n",
              "      <th>579</th>\n",
              "      <td>MA</td>\n",
              "      <td>21</td>\n",
              "      <td>7506</td>\n",
              "      <td>Paço do Lumiar</td>\n",
              "      <td>145.752(24)</td>\n",
              "      <td>145.752</td>\n",
              "      <td>145752</td>\n",
              "    </tr>\n",
              "    <tr>\n",
              "      <th>1526</th>\n",
              "      <td>PE</td>\n",
              "      <td>26</td>\n",
              "      <td>5509</td>\n",
              "      <td>Ferreiros</td>\n",
              "      <td>15.040(25)</td>\n",
              "      <td>15.040</td>\n",
              "      <td>15040</td>\n",
              "    </tr>\n",
              "    <tr>\n",
              "      <th>1937</th>\n",
              "      <td>BA</td>\n",
              "      <td>29</td>\n",
              "      <td>9208</td>\n",
              "      <td>Coronel João Sá</td>\n",
              "      <td>17.000(26)</td>\n",
              "      <td>17.000</td>\n",
              "      <td>17000</td>\n",
              "    </tr>\n",
              "    <tr>\n",
              "      <th>1973</th>\n",
              "      <td>BA</td>\n",
              "      <td>29</td>\n",
              "      <td>12004</td>\n",
              "      <td>Ibiassucê</td>\n",
              "      <td>10.426(27)</td>\n",
              "      <td>10.426</td>\n",
              "      <td>10426</td>\n",
              "    </tr>\n",
              "    <tr>\n",
              "      <th>2159</th>\n",
              "      <td>BA</td>\n",
              "      <td>29</td>\n",
              "      <td>27101</td>\n",
              "      <td>Rodelas</td>\n",
              "      <td>10.303(28)</td>\n",
              "      <td>10.303</td>\n",
              "      <td>10303</td>\n",
              "    </tr>\n",
              "    <tr>\n",
              "      <th>4215</th>\n",
              "      <td>PR</td>\n",
              "      <td>41</td>\n",
              "      <td>21901</td>\n",
              "      <td>Ribeirão do Pinhal</td>\n",
              "      <td>13.053(29)</td>\n",
              "      <td>13.053</td>\n",
              "      <td>13053</td>\n",
              "    </tr>\n",
              "    <tr>\n",
              "      <th>5509</th>\n",
              "      <td>GO</td>\n",
              "      <td>52</td>\n",
              "      <td>17609</td>\n",
              "      <td>Planaltina</td>\n",
              "      <td>108.846(30)</td>\n",
              "      <td>108.846</td>\n",
              "      <td>108846</td>\n",
              "    </tr>\n",
              "  </tbody>\n",
              "</table>\n",
              "</div>"
            ],
            "text/plain": [
              "      UF  COD. UF  COD. MUNIC          NOME DO MUNICÍPIO    POPULAÇÃO  \\\n",
              "16    RO       11         205                Porto Velho   461.748(1)   \n",
              "74    AM       13          29                   Alvarães    15.916(2)   \n",
              "81    AM       13         409                   Barcelos    18.399(3)   \n",
              "83    AM       13         607          Benjamin Constant    37.436(4)   \n",
              "87    AM       13         805                      Borba    33.209(5)   \n",
              "88    AM       13         839                 Caapiranga    13.851(6)   \n",
              "97    AM       13        1605                  Fonte Boa    27.692(7)   \n",
              "98    AM       13        1654                    Guajará    13.809(8)   \n",
              "99    AM       13        1704                    Humaitá    59.504(9)   \n",
              "103   AM       13        1951                  Itamarati   10.783(10)   \n",
              "104   AM       13        2009                 Itapiranga   10.183(11)   \n",
              "105   AM       13        2108                     Japurá    9.281(12)   \n",
              "107   AM       13        2306                      Jutaí   25.048(13)   \n",
              "108   AM       13        2405                     Lábrea   47.003(14)   \n",
              "109   AM       13        2504                 Manacapuru  102.736(15)   \n",
              "117   AM       13        3205                 Novo Airão   15.819(16)   \n",
              "119   AM       13        3403                  Parintins   96.251(17)   \n",
              "120   AM       13        3502                     Pauini   20.351(18)   \n",
              "123   AM       13        3601  Santa Isabel do Rio Negro   14.305(19)   \n",
              "129   AM       13        4062                  Tabatinga   66.837(20)   \n",
              "134   AM       13        4302                    Urucará   18.582(21)   \n",
              "135   AM       13        4401                Urucurituba   24.017(22)   \n",
              "210   PA       15        3754               Jacareacanga   24.742(23)   \n",
              "579   MA       21        7506             Paço do Lumiar  145.752(24)   \n",
              "1526  PE       26        5509                  Ferreiros   15.040(25)   \n",
              "1937  BA       29        9208            Coronel João Sá   17.000(26)   \n",
              "1973  BA       29       12004                  Ibiassucê   10.426(27)   \n",
              "2159  BA       29       27101                    Rodelas   10.303(28)   \n",
              "4215  PR       41       21901         Ribeirão do Pinhal   13.053(29)   \n",
              "5509  GO       52       17609                 Planaltina  108.846(30)   \n",
              "\n",
              "     sem_parenteses sem_ponto  \n",
              "16          461.748    461748  \n",
              "74           15.916     15916  \n",
              "81           18.399     18399  \n",
              "83           37.436     37436  \n",
              "87           33.209     33209  \n",
              "88           13.851     13851  \n",
              "97           27.692     27692  \n",
              "98           13.809     13809  \n",
              "99           59.504     59504  \n",
              "103          10.783     10783  \n",
              "104          10.183     10183  \n",
              "105           9.281      9281  \n",
              "107          25.048     25048  \n",
              "108          47.003     47003  \n",
              "109         102.736    102736  \n",
              "117          15.819     15819  \n",
              "119          96.251     96251  \n",
              "120          20.351     20351  \n",
              "123          14.305     14305  \n",
              "129          66.837     66837  \n",
              "134          18.582     18582  \n",
              "135          24.017     24017  \n",
              "210          24.742     24742  \n",
              "579         145.752    145752  \n",
              "1526         15.040     15040  \n",
              "1937         17.000     17000  \n",
              "1973         10.426     10426  \n",
              "2159         10.303     10303  \n",
              "4215         13.053     13053  \n",
              "5509        108.846    108846  "
            ]
          },
          "execution_count": 97,
          "metadata": {},
          "output_type": "execute_result"
        }
      ],
      "source": [
        "populacao[populacao['POPULAÇÃO'].str.contains('\\(', na=False)]"
      ]
    },
    {
      "cell_type": "code",
      "execution_count": 101,
      "metadata": {
        "id": "PVyKGSm1rROb"
      },
      "outputs": [],
      "source": [
        "populacao = populacao.astype({'sem_ponto': 'int64'})"
      ]
    },
    {
      "cell_type": "code",
      "execution_count": 103,
      "metadata": {
        "id": "_GT_dq52rRlp"
      },
      "outputs": [],
      "source": [
        "populacao = populacao.groupby('UF')[['sem_ponto']].sum().reset_index()"
      ]
    },
    {
      "cell_type": "code",
      "execution_count": 106,
      "metadata": {
        "id": "XrxKU6w5uXw1"
      },
      "outputs": [],
      "source": [
        "populacao_estado = populacao"
      ]
    },
    {
      "cell_type": "markdown",
      "metadata": {
        "id": "yHdxaW4Buj0v"
      },
      "source": [
        "### Unindo os dados"
      ]
    },
    {
      "cell_type": "markdown",
      "metadata": {
        "id": "ys0GHmf69Gvz"
      },
      "source": [
        "Com as informações tratadas, podemos realizar a junção dos dados de emissão com a população, com uso do método [`merge()`](https://pandas.pydata.org/docs/reference/api/pandas.DataFrame.merge.html)."
      ]
    },
    {
      "cell_type": "code",
      "execution_count": 105,
      "metadata": {
        "id": "oMLuxjF8x6nI"
      },
      "outputs": [
        {
          "data": {
            "text/html": [
              "<div>\n",
              "<style scoped>\n",
              "    .dataframe tbody tr th:only-of-type {\n",
              "        vertical-align: middle;\n",
              "    }\n",
              "\n",
              "    .dataframe tbody tr th {\n",
              "        vertical-align: top;\n",
              "    }\n",
              "\n",
              "    .dataframe thead th {\n",
              "        text-align: right;\n",
              "    }\n",
              "</style>\n",
              "<table border=\"1\" class=\"dataframe\">\n",
              "  <thead>\n",
              "    <tr style=\"text-align: right;\">\n",
              "      <th></th>\n",
              "      <th>Estado</th>\n",
              "      <th>Emissão</th>\n",
              "    </tr>\n",
              "  </thead>\n",
              "  <tbody>\n",
              "    <tr>\n",
              "      <th>0</th>\n",
              "      <td>AC</td>\n",
              "      <td>3.505471e+08</td>\n",
              "    </tr>\n",
              "    <tr>\n",
              "      <th>1</th>\n",
              "      <td>AL</td>\n",
              "      <td>6.261279e+07</td>\n",
              "    </tr>\n",
              "    <tr>\n",
              "      <th>2</th>\n",
              "      <td>AM</td>\n",
              "      <td>1.189649e+09</td>\n",
              "    </tr>\n",
              "    <tr>\n",
              "      <th>3</th>\n",
              "      <td>AP</td>\n",
              "      <td>3.568410e+07</td>\n",
              "    </tr>\n",
              "    <tr>\n",
              "      <th>4</th>\n",
              "      <td>BA</td>\n",
              "      <td>5.932251e+08</td>\n",
              "    </tr>\n",
              "    <tr>\n",
              "      <th>5</th>\n",
              "      <td>CE</td>\n",
              "      <td>2.034731e+08</td>\n",
              "    </tr>\n",
              "    <tr>\n",
              "      <th>6</th>\n",
              "      <td>DF</td>\n",
              "      <td>5.668738e+07</td>\n",
              "    </tr>\n",
              "    <tr>\n",
              "      <th>7</th>\n",
              "      <td>ES</td>\n",
              "      <td>2.697547e+08</td>\n",
              "    </tr>\n",
              "    <tr>\n",
              "      <th>8</th>\n",
              "      <td>GO</td>\n",
              "      <td>6.008081e+08</td>\n",
              "    </tr>\n",
              "    <tr>\n",
              "      <th>9</th>\n",
              "      <td>MA</td>\n",
              "      <td>9.476324e+08</td>\n",
              "    </tr>\n",
              "    <tr>\n",
              "      <th>10</th>\n",
              "      <td>MG</td>\n",
              "      <td>1.250651e+09</td>\n",
              "    </tr>\n",
              "    <tr>\n",
              "      <th>11</th>\n",
              "      <td>MS</td>\n",
              "      <td>5.551278e+08</td>\n",
              "    </tr>\n",
              "    <tr>\n",
              "      <th>12</th>\n",
              "      <td>MT</td>\n",
              "      <td>2.081610e+09</td>\n",
              "    </tr>\n",
              "    <tr>\n",
              "      <th>13</th>\n",
              "      <td>PA</td>\n",
              "      <td>3.701684e+09</td>\n",
              "    </tr>\n",
              "    <tr>\n",
              "      <th>14</th>\n",
              "      <td>PB</td>\n",
              "      <td>9.532504e+07</td>\n",
              "    </tr>\n",
              "    <tr>\n",
              "      <th>15</th>\n",
              "      <td>PE</td>\n",
              "      <td>1.836077e+08</td>\n",
              "    </tr>\n",
              "    <tr>\n",
              "      <th>16</th>\n",
              "      <td>PI</td>\n",
              "      <td>1.146881e+08</td>\n",
              "    </tr>\n",
              "    <tr>\n",
              "      <th>17</th>\n",
              "      <td>PR</td>\n",
              "      <td>6.567685e+08</td>\n",
              "    </tr>\n",
              "    <tr>\n",
              "      <th>18</th>\n",
              "      <td>RJ</td>\n",
              "      <td>5.767137e+08</td>\n",
              "    </tr>\n",
              "    <tr>\n",
              "      <th>19</th>\n",
              "      <td>RN</td>\n",
              "      <td>7.223838e+07</td>\n",
              "    </tr>\n",
              "    <tr>\n",
              "      <th>20</th>\n",
              "      <td>RO</td>\n",
              "      <td>1.083515e+09</td>\n",
              "    </tr>\n",
              "    <tr>\n",
              "      <th>21</th>\n",
              "      <td>RR</td>\n",
              "      <td>5.282071e+08</td>\n",
              "    </tr>\n",
              "    <tr>\n",
              "      <th>22</th>\n",
              "      <td>RS</td>\n",
              "      <td>7.814643e+08</td>\n",
              "    </tr>\n",
              "    <tr>\n",
              "      <th>23</th>\n",
              "      <td>SC</td>\n",
              "      <td>4.484010e+08</td>\n",
              "    </tr>\n",
              "    <tr>\n",
              "      <th>24</th>\n",
              "      <td>SE</td>\n",
              "      <td>8.118973e+07</td>\n",
              "    </tr>\n",
              "    <tr>\n",
              "      <th>25</th>\n",
              "      <td>SP</td>\n",
              "      <td>1.223309e+09</td>\n",
              "    </tr>\n",
              "    <tr>\n",
              "      <th>26</th>\n",
              "      <td>TO</td>\n",
              "      <td>4.082159e+08</td>\n",
              "    </tr>\n",
              "  </tbody>\n",
              "</table>\n",
              "</div>"
            ],
            "text/plain": [
              "   Estado       Emissão\n",
              "0      AC  3.505471e+08\n",
              "1      AL  6.261279e+07\n",
              "2      AM  1.189649e+09\n",
              "3      AP  3.568410e+07\n",
              "4      BA  5.932251e+08\n",
              "5      CE  2.034731e+08\n",
              "6      DF  5.668738e+07\n",
              "7      ES  2.697547e+08\n",
              "8      GO  6.008081e+08\n",
              "9      MA  9.476324e+08\n",
              "10     MG  1.250651e+09\n",
              "11     MS  5.551278e+08\n",
              "12     MT  2.081610e+09\n",
              "13     PA  3.701684e+09\n",
              "14     PB  9.532504e+07\n",
              "15     PE  1.836077e+08\n",
              "16     PI  1.146881e+08\n",
              "17     PR  6.567685e+08\n",
              "18     RJ  5.767137e+08\n",
              "19     RN  7.223838e+07\n",
              "20     RO  1.083515e+09\n",
              "21     RR  5.282071e+08\n",
              "22     RS  7.814643e+08\n",
              "23     SC  4.484010e+08\n",
              "24     SE  8.118973e+07\n",
              "25     SP  1.223309e+09\n",
              "26     TO  4.082159e+08"
            ]
          },
          "execution_count": 105,
          "metadata": {},
          "output_type": "execute_result"
        }
      ],
      "source": [
        "emissao_estados = emissoes_por_ano[emissoes_por_ano['Ano']==2021].groupby('Estado')[['Emissão']].sum().reset_index()\n",
        "emissao_estados"
      ]
    },
    {
      "cell_type": "code",
      "execution_count": 107,
      "metadata": {
        "id": "-mAYHQ2c58ZI"
      },
      "outputs": [
        {
          "data": {
            "text/html": [
              "<div>\n",
              "<style scoped>\n",
              "    .dataframe tbody tr th:only-of-type {\n",
              "        vertical-align: middle;\n",
              "    }\n",
              "\n",
              "    .dataframe tbody tr th {\n",
              "        vertical-align: top;\n",
              "    }\n",
              "\n",
              "    .dataframe thead th {\n",
              "        text-align: right;\n",
              "    }\n",
              "</style>\n",
              "<table border=\"1\" class=\"dataframe\">\n",
              "  <thead>\n",
              "    <tr style=\"text-align: right;\">\n",
              "      <th></th>\n",
              "      <th>Estado</th>\n",
              "      <th>Emissão</th>\n",
              "      <th>UF</th>\n",
              "      <th>sem_ponto</th>\n",
              "    </tr>\n",
              "  </thead>\n",
              "  <tbody>\n",
              "    <tr>\n",
              "      <th>0</th>\n",
              "      <td>AC</td>\n",
              "      <td>3.505471e+08</td>\n",
              "      <td>AC</td>\n",
              "      <td>829780</td>\n",
              "    </tr>\n",
              "    <tr>\n",
              "      <th>1</th>\n",
              "      <td>AL</td>\n",
              "      <td>6.261279e+07</td>\n",
              "      <td>AL</td>\n",
              "      <td>3125254</td>\n",
              "    </tr>\n",
              "    <tr>\n",
              "      <th>2</th>\n",
              "      <td>AM</td>\n",
              "      <td>1.189649e+09</td>\n",
              "      <td>AM</td>\n",
              "      <td>3952262</td>\n",
              "    </tr>\n",
              "    <tr>\n",
              "      <th>3</th>\n",
              "      <td>AP</td>\n",
              "      <td>3.568410e+07</td>\n",
              "      <td>AP</td>\n",
              "      <td>774268</td>\n",
              "    </tr>\n",
              "    <tr>\n",
              "      <th>4</th>\n",
              "      <td>BA</td>\n",
              "      <td>5.932251e+08</td>\n",
              "      <td>BA</td>\n",
              "      <td>14659023</td>\n",
              "    </tr>\n",
              "    <tr>\n",
              "      <th>5</th>\n",
              "      <td>CE</td>\n",
              "      <td>2.034731e+08</td>\n",
              "      <td>CE</td>\n",
              "      <td>8936431</td>\n",
              "    </tr>\n",
              "    <tr>\n",
              "      <th>6</th>\n",
              "      <td>DF</td>\n",
              "      <td>5.668738e+07</td>\n",
              "      <td>DF</td>\n",
              "      <td>2923369</td>\n",
              "    </tr>\n",
              "    <tr>\n",
              "      <th>7</th>\n",
              "      <td>ES</td>\n",
              "      <td>2.697547e+08</td>\n",
              "      <td>ES</td>\n",
              "      <td>3975100</td>\n",
              "    </tr>\n",
              "    <tr>\n",
              "      <th>8</th>\n",
              "      <td>GO</td>\n",
              "      <td>6.008081e+08</td>\n",
              "      <td>GO</td>\n",
              "      <td>6950976</td>\n",
              "    </tr>\n",
              "    <tr>\n",
              "      <th>9</th>\n",
              "      <td>MA</td>\n",
              "      <td>9.476324e+08</td>\n",
              "      <td>MA</td>\n",
              "      <td>6800605</td>\n",
              "    </tr>\n",
              "    <tr>\n",
              "      <th>10</th>\n",
              "      <td>MG</td>\n",
              "      <td>1.250651e+09</td>\n",
              "      <td>MG</td>\n",
              "      <td>20732660</td>\n",
              "    </tr>\n",
              "    <tr>\n",
              "      <th>11</th>\n",
              "      <td>MS</td>\n",
              "      <td>5.551278e+08</td>\n",
              "      <td>MS</td>\n",
              "      <td>2833742</td>\n",
              "    </tr>\n",
              "    <tr>\n",
              "      <th>12</th>\n",
              "      <td>MT</td>\n",
              "      <td>2.081610e+09</td>\n",
              "      <td>MT</td>\n",
              "      <td>3784239</td>\n",
              "    </tr>\n",
              "    <tr>\n",
              "      <th>13</th>\n",
              "      <td>PA</td>\n",
              "      <td>3.701684e+09</td>\n",
              "      <td>PA</td>\n",
              "      <td>8442962</td>\n",
              "    </tr>\n",
              "    <tr>\n",
              "      <th>14</th>\n",
              "      <td>PB</td>\n",
              "      <td>9.532504e+07</td>\n",
              "      <td>PB</td>\n",
              "      <td>4030961</td>\n",
              "    </tr>\n",
              "    <tr>\n",
              "      <th>15</th>\n",
              "      <td>PE</td>\n",
              "      <td>1.836077e+08</td>\n",
              "      <td>PE</td>\n",
              "      <td>9051113</td>\n",
              "    </tr>\n",
              "    <tr>\n",
              "      <th>16</th>\n",
              "      <td>PI</td>\n",
              "      <td>1.146881e+08</td>\n",
              "      <td>PI</td>\n",
              "      <td>3270174</td>\n",
              "    </tr>\n",
              "    <tr>\n",
              "      <th>17</th>\n",
              "      <td>PR</td>\n",
              "      <td>6.567685e+08</td>\n",
              "      <td>PR</td>\n",
              "      <td>11835379</td>\n",
              "    </tr>\n",
              "    <tr>\n",
              "      <th>18</th>\n",
              "      <td>RJ</td>\n",
              "      <td>5.767137e+08</td>\n",
              "      <td>RJ</td>\n",
              "      <td>16615526</td>\n",
              "    </tr>\n",
              "    <tr>\n",
              "      <th>19</th>\n",
              "      <td>RN</td>\n",
              "      <td>7.223838e+07</td>\n",
              "      <td>RN</td>\n",
              "      <td>3303953</td>\n",
              "    </tr>\n",
              "    <tr>\n",
              "      <th>20</th>\n",
              "      <td>RO</td>\n",
              "      <td>1.083515e+09</td>\n",
              "      <td>RO</td>\n",
              "      <td>1616379</td>\n",
              "    </tr>\n",
              "    <tr>\n",
              "      <th>21</th>\n",
              "      <td>RR</td>\n",
              "      <td>5.282071e+08</td>\n",
              "      <td>RR</td>\n",
              "      <td>634805</td>\n",
              "    </tr>\n",
              "    <tr>\n",
              "      <th>22</th>\n",
              "      <td>RS</td>\n",
              "      <td>7.814643e+08</td>\n",
              "      <td>RS</td>\n",
              "      <td>11088065</td>\n",
              "    </tr>\n",
              "    <tr>\n",
              "      <th>23</th>\n",
              "      <td>SC</td>\n",
              "      <td>4.484010e+08</td>\n",
              "      <td>SC</td>\n",
              "      <td>7762154</td>\n",
              "    </tr>\n",
              "    <tr>\n",
              "      <th>24</th>\n",
              "      <td>SE</td>\n",
              "      <td>8.118973e+07</td>\n",
              "      <td>SE</td>\n",
              "      <td>2211868</td>\n",
              "    </tr>\n",
              "    <tr>\n",
              "      <th>25</th>\n",
              "      <td>SP</td>\n",
              "      <td>1.223309e+09</td>\n",
              "      <td>SP</td>\n",
              "      <td>46024937</td>\n",
              "    </tr>\n",
              "    <tr>\n",
              "      <th>26</th>\n",
              "      <td>TO</td>\n",
              "      <td>4.082159e+08</td>\n",
              "      <td>TO</td>\n",
              "      <td>1584306</td>\n",
              "    </tr>\n",
              "  </tbody>\n",
              "</table>\n",
              "</div>"
            ],
            "text/plain": [
              "   Estado       Emissão  UF  sem_ponto\n",
              "0      AC  3.505471e+08  AC     829780\n",
              "1      AL  6.261279e+07  AL    3125254\n",
              "2      AM  1.189649e+09  AM    3952262\n",
              "3      AP  3.568410e+07  AP     774268\n",
              "4      BA  5.932251e+08  BA   14659023\n",
              "5      CE  2.034731e+08  CE    8936431\n",
              "6      DF  5.668738e+07  DF    2923369\n",
              "7      ES  2.697547e+08  ES    3975100\n",
              "8      GO  6.008081e+08  GO    6950976\n",
              "9      MA  9.476324e+08  MA    6800605\n",
              "10     MG  1.250651e+09  MG   20732660\n",
              "11     MS  5.551278e+08  MS    2833742\n",
              "12     MT  2.081610e+09  MT    3784239\n",
              "13     PA  3.701684e+09  PA    8442962\n",
              "14     PB  9.532504e+07  PB    4030961\n",
              "15     PE  1.836077e+08  PE    9051113\n",
              "16     PI  1.146881e+08  PI    3270174\n",
              "17     PR  6.567685e+08  PR   11835379\n",
              "18     RJ  5.767137e+08  RJ   16615526\n",
              "19     RN  7.223838e+07  RN    3303953\n",
              "20     RO  1.083515e+09  RO    1616379\n",
              "21     RR  5.282071e+08  RR     634805\n",
              "22     RS  7.814643e+08  RS   11088065\n",
              "23     SC  4.484010e+08  SC    7762154\n",
              "24     SE  8.118973e+07  SE    2211868\n",
              "25     SP  1.223309e+09  SP   46024937\n",
              "26     TO  4.082159e+08  TO    1584306"
            ]
          },
          "execution_count": 107,
          "metadata": {},
          "output_type": "execute_result"
        }
      ],
      "source": [
        "dados_agrupados = pd.merge(emissao_estados, populacao_estado, left_on='Estado', right_on=\"UF\")\n",
        "dados_agrupados"
      ]
    },
    {
      "cell_type": "markdown",
      "metadata": {
        "id": "bx21nQe09WM6"
      },
      "source": [
        "Vamos verificar se há algum indício de se a emissão aumenta conforme o tamanho da população."
      ]
    },
    {
      "cell_type": "code",
      "execution_count": 108,
      "metadata": {
        "id": "SYIUo7f2wDvy"
      },
      "outputs": [
        {
          "data": {
            "text/plain": [
              "<Axes: xlabel='sem_ponto', ylabel='Emissão'>"
            ]
          },
          "execution_count": 108,
          "metadata": {},
          "output_type": "execute_result"
        },
        {
          "data": {
            "image/png": "[encoded data removed]",
            "text/plain": [
              "<Figure size 1200x600 with 1 Axes>"
            ]
          },
          "metadata": {},
          "output_type": "display_data"
        }
      ],
      "source": [
        "dados_agrupados.plot(x='sem_ponto', y='Emissão', kind='scatter', figsize=(12,6))"
      ]
    },
    {
      "cell_type": "markdown",
      "metadata": {
        "id": "WfAWw1fx9cqR"
      },
      "source": [
        "Se quisermos saber a informação de cada estado nos pontos do gráfico, podemos utilizar uma outra biblioteca para obter um gráfico mais elaborado."
      ]
    },
    {
      "cell_type": "code",
      "execution_count": 119,
      "metadata": {
        "id": "sYe93LZe0WYq"
      },
      "outputs": [],
      "source": [
        "import plotly.express as px"
      ]
    },
    {
      "cell_type": "code",
      "execution_count": 122,
      "metadata": {
        "id": "eKv8FfqRytUk"
      },
      "outputs": [
        {
          "ename": "ValueError",
          "evalue": "Mime type rendering requires nbformat>=4.2.0 but it is not installed",
          "output_type": "error",
          "traceback": [
            "\u001b[1;31m---------------------------------------------------------------------------\u001b[0m",
            "\u001b[1;31mValueError\u001b[0m                                Traceback (most recent call last)",
            "File \u001b[1;32m~\\AppData\\Roaming\\Python\\Python311\\site-packages\\IPython\\core\\formatters.py:925\u001b[0m, in \u001b[0;36mIPythonDisplayFormatter.__call__\u001b[1;34m(self, obj)\u001b[0m\n\u001b[0;32m    923\u001b[0m method \u001b[38;5;241m=\u001b[39m get_real_method(obj, \u001b[38;5;28mself\u001b[39m\u001b[38;5;241m.\u001b[39mprint_method)\n\u001b[0;32m    924\u001b[0m \u001b[38;5;28;01mif\u001b[39;00m method \u001b[38;5;129;01mis\u001b[39;00m \u001b[38;5;129;01mnot\u001b[39;00m \u001b[38;5;28;01mNone\u001b[39;00m:\n\u001b[1;32m--> 925\u001b[0m     \u001b[43mmethod\u001b[49m\u001b[43m(\u001b[49m\u001b[43m)\u001b[49m\n\u001b[0;32m    926\u001b[0m     \u001b[38;5;28;01mreturn\u001b[39;00m \u001b[38;5;28;01mTrue\u001b[39;00m\n",
            "File \u001b[1;32mc:\\Users\\Acer\\AppData\\Local\\Programs\\Python\\Python311\\Lib\\site-packages\\plotly\\basedatatypes.py:832\u001b[0m, in \u001b[0;36mBaseFigure._ipython_display_\u001b[1;34m(self)\u001b[0m\n\u001b[0;32m    829\u001b[0m \u001b[38;5;28;01mimport\u001b[39;00m \u001b[38;5;21;01mplotly\u001b[39;00m\u001b[38;5;21;01m.\u001b[39;00m\u001b[38;5;21;01mio\u001b[39;00m \u001b[38;5;28;01mas\u001b[39;00m \u001b[38;5;21;01mpio\u001b[39;00m\n\u001b[0;32m    831\u001b[0m \u001b[38;5;28;01mif\u001b[39;00m pio\u001b[38;5;241m.\u001b[39mrenderers\u001b[38;5;241m.\u001b[39mrender_on_display \u001b[38;5;129;01mand\u001b[39;00m pio\u001b[38;5;241m.\u001b[39mrenderers\u001b[38;5;241m.\u001b[39mdefault:\n\u001b[1;32m--> 832\u001b[0m     \u001b[43mpio\u001b[49m\u001b[38;5;241;43m.\u001b[39;49m\u001b[43mshow\u001b[49m\u001b[43m(\u001b[49m\u001b[38;5;28;43mself\u001b[39;49m\u001b[43m)\u001b[49m\n\u001b[0;32m    833\u001b[0m \u001b[38;5;28;01melse\u001b[39;00m:\n\u001b[0;32m    834\u001b[0m     \u001b[38;5;28mprint\u001b[39m(\u001b[38;5;28mrepr\u001b[39m(\u001b[38;5;28mself\u001b[39m))\n",
            "File \u001b[1;32mc:\\Users\\Acer\\AppData\\Local\\Programs\\Python\\Python311\\Lib\\site-packages\\plotly\\io\\_renderers.py:394\u001b[0m, in \u001b[0;36mshow\u001b[1;34m(fig, renderer, validate, **kwargs)\u001b[0m\n\u001b[0;32m    389\u001b[0m         \u001b[38;5;28;01mraise\u001b[39;00m \u001b[38;5;167;01mValueError\u001b[39;00m(\n\u001b[0;32m    390\u001b[0m             \u001b[38;5;124m\"\u001b[39m\u001b[38;5;124mMime type rendering requires ipython but it is not installed\u001b[39m\u001b[38;5;124m\"\u001b[39m\n\u001b[0;32m    391\u001b[0m         )\n\u001b[0;32m    393\u001b[0m     \u001b[38;5;28;01mif\u001b[39;00m \u001b[38;5;129;01mnot\u001b[39;00m nbformat \u001b[38;5;129;01mor\u001b[39;00m Version(nbformat\u001b[38;5;241m.\u001b[39m__version__) \u001b[38;5;241m<\u001b[39m Version(\u001b[38;5;124m\"\u001b[39m\u001b[38;5;124m4.2.0\u001b[39m\u001b[38;5;124m\"\u001b[39m):\n\u001b[1;32m--> 394\u001b[0m         \u001b[38;5;28;01mraise\u001b[39;00m \u001b[38;5;167;01mValueError\u001b[39;00m(\n\u001b[0;32m    395\u001b[0m             \u001b[38;5;124m\"\u001b[39m\u001b[38;5;124mMime type rendering requires nbformat>=4.2.0 but it is not installed\u001b[39m\u001b[38;5;124m\"\u001b[39m\n\u001b[0;32m    396\u001b[0m         )\n\u001b[0;32m    398\u001b[0m     ipython_display\u001b[38;5;241m.\u001b[39mdisplay(bundle, raw\u001b[38;5;241m=\u001b[39m\u001b[38;5;28;01mTrue\u001b[39;00m)\n\u001b[0;32m    400\u001b[0m \u001b[38;5;66;03m# external renderers\u001b[39;00m\n",
            "\u001b[1;31mValueError\u001b[0m: Mime type rendering requires nbformat>=4.2.0 but it is not installed"
          ]
        },
        {
          "data": {
            "application/vnd.plotly.v1+json": {
              "config": {
                "plotlyServerURL": "https://plot.ly"
              },
              "data": [
                {
                  "hovertemplate": "sem_ponto=%{x}<br>Emissão=%{y}<br>Estado=%{text}<extra></extra>",
                  "legendgroup": "",
                  "marker": {
                    "color": "#636efa",
                    "symbol": "circle"
                  },
                  "mode": "markers+text",
                  "name": "",
                  "orientation": "v",
                  "showlegend": false,
                  "text": [
                    "AC",
                    "AL",
                    "AM",
                    "AP",
                    "BA",
                    "CE",
                    "DF",
                    "ES",
                    "GO",
                    "MA",
                    "MG",
                    "MS",
                    "MT",
                    "PA",
                    "PB",
                    "PE",
                    "PI",
                    "PR",
                    "RJ",
                    "RN",
                    "RO",
                    "RR",
                    "RS",
                    "SC",
                    "SE",
                    "SP",
                    "TO"
                  ],
                  "type": "scatter",
                  "x": [
                    829780,
                    3125254,
                    3952262,
                    774268,
                    14659023,
                    8936431,
                    2923369,
                    3975100,
                    6950976,
                    6800605,
                    20732660,
                    2833742,
                    3784239,
                    8442962,
                    4030961,
                    9051113,
                    3270174,
                    11835379,
                    16615526,
                    3303953,
                    1616379,
                    634805,
                    11088065,
                    7762154,
                    2211868,
                    46024937,
                    1584306
                  ],
                  "xaxis": "x",
                  "y": [
                    350547139.11168486,
                    62612792.59389813,
                    1189648501.8496125,
                    35684101.6939916,
                    593225068.1484435,
                    203473137.9870568,
                    56687377.47433015,
                    269754653.36977243,
                    600808135.236309,
                    947632428.3736011,
                    1250651375.999199,
                    555127848.2360779,
                    2081610148.254339,
                    3701683546.2860503,
                    95325043.68136296,
                    183607670.82817924,
                    114688082.73901032,
                    656768479.0254647,
                    576713743.774119,
                    72238379.15945034,
                    1083514870.8295588,
                    528207080.45487285,
                    781464289.92851,
                    448401038.40914154,
                    81189730.70949353,
                    1223309317.361076,
                    408215927.93485886
                  ],
                  "yaxis": "y"
                }
              ],
              "layout": {
                "legend": {
                  "tracegroupgap": 0
                },
                "margin": {
                  "t": 60
                },
                "template": {
                  "data": {
                    "bar": [
                      {
                        "error_x": {
                          "color": "#2a3f5f"
                        },
                        "error_y": {
                          "color": "#2a3f5f"
                        },
                        "marker": {
                          "line": {
                            "color": "#E5ECF6",
                            "width": 0.5
                          },
                          "pattern": {
                            "fillmode": "overlay",
                            "size": 10,
                            "solidity": 0.2
                          }
                        },
                        "type": "bar"
                      }
                    ],
                    "barpolar": [
                      {
                        "marker": {
                          "line": {
                            "color": "#E5ECF6",
                            "width": 0.5
                          },
                          "pattern": {
                            "fillmode": "overlay",
                            "size": 10,
                            "solidity": 0.2
                          }
                        },
                        "type": "barpolar"
                      }
                    ],
                    "carpet": [
                      {
                        "aaxis": {
                          "endlinecolor": "#2a3f5f",
                          "gridcolor": "white",
                          "linecolor": "white",
                          "minorgridcolor": "white",
                          "startlinecolor": "#2a3f5f"
                        },
                        "baxis": {
                          "endlinecolor": "#2a3f5f",
                          "gridcolor": "white",
                          "linecolor": "white",
                          "minorgridcolor": "white",
                          "startlinecolor": "#2a3f5f"
                        },
                        "type": "carpet"
                      }
                    ],
                    "choropleth": [
                      {
                        "colorbar": {
                          "outlinewidth": 0,
                          "ticks": ""
                        },
                        "type": "choropleth"
                      }
                    ],
                    "contour": [
                      {
                        "colorbar": {
                          "outlinewidth": 0,
                          "ticks": ""
                        },
                        "colorscale": [
                          [
                            0,
                            "#0d0887"
                          ],
                          [
                            0.1111111111111111,
                            "#46039f"
                          ],
                          [
                            0.2222222222222222,
                            "#7201a8"
                          ],
                          [
                            0.3333333333333333,
                            "#9c179e"
                          ],
                          [
                            0.4444444444444444,
                            "#bd3786"
                          ],
                          [
                            0.5555555555555556,
                            "#d8576b"
                          ],
                          [
                            0.6666666666666666,
                            "#ed7953"
                          ],
                          [
                            0.7777777777777778,
                            "#fb9f3a"
                          ],
                          [
                            0.8888888888888888,
                            "#fdca26"
                          ],
                          [
                            1,
                            "#f0f921"
                          ]
                        ],
                        "type": "contour"
                      }
                    ],
                    "contourcarpet": [
                      {
                        "colorbar": {
                          "outlinewidth": 0,
                          "ticks": ""
                        },
                        "type": "contourcarpet"
                      }
                    ],
                    "heatmap": [
                      {
                        "colorbar": {
                          "outlinewidth": 0,
                          "ticks": ""
                        },
                        "colorscale": [
                          [
                            0,
                            "#0d0887"
                          ],
                          [
                            0.1111111111111111,
                            "#46039f"
                          ],
                          [
                            0.2222222222222222,
                            "#7201a8"
                          ],
                          [
                            0.3333333333333333,
                            "#9c179e"
                          ],
                          [
                            0.4444444444444444,
                            "#bd3786"
                          ],
                          [
                            0.5555555555555556,
                            "#d8576b"
                          ],
                          [
                            0.6666666666666666,
                            "#ed7953"
                          ],
                          [
                            0.7777777777777778,
                            "#fb9f3a"
                          ],
                          [
                            0.8888888888888888,
                            "#fdca26"
                          ],
                          [
                            1,
                            "#f0f921"
                          ]
                        ],
                        "type": "heatmap"
                      }
                    ],
                    "heatmapgl": [
                      {
                        "colorbar": {
                          "outlinewidth": 0,
                          "ticks": ""
                        },
                        "colorscale": [
                          [
                            0,
                            "#0d0887"
                          ],
                          [
                            0.1111111111111111,
                            "#46039f"
                          ],
                          [
                            0.2222222222222222,
                            "#7201a8"
                          ],
                          [
                            0.3333333333333333,
                            "#9c179e"
                          ],
                          [
                            0.4444444444444444,
                            "#bd3786"
                          ],
                          [
                            0.5555555555555556,
                            "#d8576b"
                          ],
                          [
                            0.6666666666666666,
                            "#ed7953"
                          ],
                          [
                            0.7777777777777778,
                            "#fb9f3a"
                          ],
                          [
                            0.8888888888888888,
                            "#fdca26"
                          ],
                          [
                            1,
                            "#f0f921"
                          ]
                        ],
                        "type": "heatmapgl"
                      }
                    ],
                    "histogram": [
                      {
                        "marker": {
                          "pattern": {
                            "fillmode": "overlay",
                            "size": 10,
                            "solidity": 0.2
                          }
                        },
                        "type": "histogram"
                      }
                    ],
                    "histogram2d": [
                      {
                        "colorbar": {
                          "outlinewidth": 0,
                          "ticks": ""
                        },
                        "colorscale": [
                          [
                            0,
                            "#0d0887"
                          ],
                          [
                            0.1111111111111111,
                            "#46039f"
                          ],
                          [
                            0.2222222222222222,
                            "#7201a8"
                          ],
                          [
                            0.3333333333333333,
                            "#9c179e"
                          ],
                          [
                            0.4444444444444444,
                            "#bd3786"
                          ],
                          [
                            0.5555555555555556,
                            "#d8576b"
                          ],
                          [
                            0.6666666666666666,
                            "#ed7953"
                          ],
                          [
                            0.7777777777777778,
                            "#fb9f3a"
                          ],
                          [
                            0.8888888888888888,
                            "#fdca26"
                          ],
                          [
                            1,
                            "#f0f921"
                          ]
                        ],
                        "type": "histogram2d"
                      }
                    ],
                    "histogram2dcontour": [
                      {
                        "colorbar": {
                          "outlinewidth": 0,
                          "ticks": ""
                        },
                        "colorscale": [
                          [
                            0,
                            "#0d0887"
                          ],
                          [
                            0.1111111111111111,
                            "#46039f"
                          ],
                          [
                            0.2222222222222222,
                            "#7201a8"
                          ],
                          [
                            0.3333333333333333,
                            "#9c179e"
                          ],
                          [
                            0.4444444444444444,
                            "#bd3786"
                          ],
                          [
                            0.5555555555555556,
                            "#d8576b"
                          ],
                          [
                            0.6666666666666666,
                            "#ed7953"
                          ],
                          [
                            0.7777777777777778,
                            "#fb9f3a"
                          ],
                          [
                            0.8888888888888888,
                            "#fdca26"
                          ],
                          [
                            1,
                            "#f0f921"
                          ]
                        ],
                        "type": "histogram2dcontour"
                      }
                    ],
                    "mesh3d": [
                      {
                        "colorbar": {
                          "outlinewidth": 0,
                          "ticks": ""
                        },
                        "type": "mesh3d"
                      }
                    ],
                    "parcoords": [
                      {
                        "line": {
                          "colorbar": {
                            "outlinewidth": 0,
                            "ticks": ""
                          }
                        },
                        "type": "parcoords"
                      }
                    ],
                    "pie": [
                      {
                        "automargin": true,
                        "type": "pie"
                      }
                    ],
                    "scatter": [
                      {
                        "fillpattern": {
                          "fillmode": "overlay",
                          "size": 10,
                          "solidity": 0.2
                        },
                        "type": "scatter"
                      }
                    ],
                    "scatter3d": [
                      {
                        "line": {
                          "colorbar": {
                            "outlinewidth": 0,
                            "ticks": ""
                          }
                        },
                        "marker": {
                          "colorbar": {
                            "outlinewidth": 0,
                            "ticks": ""
                          }
                        },
                        "type": "scatter3d"
                      }
                    ],
                    "scattercarpet": [
                      {
                        "marker": {
                          "colorbar": {
                            "outlinewidth": 0,
                            "ticks": ""
                          }
                        },
                        "type": "scattercarpet"
                      }
                    ],
                    "scattergeo": [
                      {
                        "marker": {
                          "colorbar": {
                            "outlinewidth": 0,
                            "ticks": ""
                          }
                        },
                        "type": "scattergeo"
                      }
                    ],
                    "scattergl": [
                      {
                        "marker": {
                          "colorbar": {
                            "outlinewidth": 0,
                            "ticks": ""
                          }
                        },
                        "type": "scattergl"
                      }
                    ],
                    "scattermapbox": [
                      {
                        "marker": {
                          "colorbar": {
                            "outlinewidth": 0,
                            "ticks": ""
                          }
                        },
                        "type": "scattermapbox"
                      }
                    ],
                    "scatterpolar": [
                      {
                        "marker": {
                          "colorbar": {
                            "outlinewidth": 0,
                            "ticks": ""
                          }
                        },
                        "type": "scatterpolar"
                      }
                    ],
                    "scatterpolargl": [
                      {
                        "marker": {
                          "colorbar": {
                            "outlinewidth": 0,
                            "ticks": ""
                          }
                        },
                        "type": "scatterpolargl"
                      }
                    ],
                    "scatterternary": [
                      {
                        "marker": {
                          "colorbar": {
                            "outlinewidth": 0,
                            "ticks": ""
                          }
                        },
                        "type": "scatterternary"
                      }
                    ],
                    "surface": [
                      {
                        "colorbar": {
                          "outlinewidth": 0,
                          "ticks": ""
                        },
                        "colorscale": [
                          [
                            0,
                            "#0d0887"
                          ],
                          [
                            0.1111111111111111,
                            "#46039f"
                          ],
                          [
                            0.2222222222222222,
                            "#7201a8"
                          ],
                          [
                            0.3333333333333333,
                            "#9c179e"
                          ],
                          [
                            0.4444444444444444,
                            "#bd3786"
                          ],
                          [
                            0.5555555555555556,
                            "#d8576b"
                          ],
                          [
                            0.6666666666666666,
                            "#ed7953"
                          ],
                          [
                            0.7777777777777778,
                            "#fb9f3a"
                          ],
                          [
                            0.8888888888888888,
                            "#fdca26"
                          ],
                          [
                            1,
                            "#f0f921"
                          ]
                        ],
                        "type": "surface"
                      }
                    ],
                    "table": [
                      {
                        "cells": {
                          "fill": {
                            "color": "#EBF0F8"
                          },
                          "line": {
                            "color": "white"
                          }
                        },
                        "header": {
                          "fill": {
                            "color": "#C8D4E3"
                          },
                          "line": {
                            "color": "white"
                          }
                        },
                        "type": "table"
                      }
                    ]
                  },
                  "layout": {
                    "annotationdefaults": {
                      "arrowcolor": "#2a3f5f",
                      "arrowhead": 0,
                      "arrowwidth": 1
                    },
                    "autotypenumbers": "strict",
                    "coloraxis": {
                      "colorbar": {
                        "outlinewidth": 0,
                        "ticks": ""
                      }
                    },
                    "colorscale": {
                      "diverging": [
                        [
                          0,
                          "#8e0152"
                        ],
                        [
                          0.1,
                          "#c51b7d"
                        ],
                        [
                          0.2,
                          "#de77ae"
                        ],
                        [
                          0.3,
                          "#f1b6da"
                        ],
                        [
                          0.4,
                          "#fde0ef"
                        ],
                        [
                          0.5,
                          "#f7f7f7"
                        ],
                        [
                          0.6,
                          "#e6f5d0"
                        ],
                        [
                          0.7,
                          "#b8e186"
                        ],
                        [
                          0.8,
                          "#7fbc41"
                        ],
                        [
                          0.9,
                          "#4d9221"
                        ],
                        [
                          1,
                          "#276419"
                        ]
                      ],
                      "sequential": [
                        [
                          0,
                          "#0d0887"
                        ],
                        [
                          0.1111111111111111,
                          "#46039f"
                        ],
                        [
                          0.2222222222222222,
                          "#7201a8"
                        ],
                        [
                          0.3333333333333333,
                          "#9c179e"
                        ],
                        [
                          0.4444444444444444,
                          "#bd3786"
                        ],
                        [
                          0.5555555555555556,
                          "#d8576b"
                        ],
                        [
                          0.6666666666666666,
                          "#ed7953"
                        ],
                        [
                          0.7777777777777778,
                          "#fb9f3a"
                        ],
                        [
                          0.8888888888888888,
                          "#fdca26"
                        ],
                        [
                          1,
                          "#f0f921"
                        ]
                      ],
                      "sequentialminus": [
                        [
                          0,
                          "#0d0887"
                        ],
                        [
                          0.1111111111111111,
                          "#46039f"
                        ],
                        [
                          0.2222222222222222,
                          "#7201a8"
                        ],
                        [
                          0.3333333333333333,
                          "#9c179e"
                        ],
                        [
                          0.4444444444444444,
                          "#bd3786"
                        ],
                        [
                          0.5555555555555556,
                          "#d8576b"
                        ],
                        [
                          0.6666666666666666,
                          "#ed7953"
                        ],
                        [
                          0.7777777777777778,
                          "#fb9f3a"
                        ],
                        [
                          0.8888888888888888,
                          "#fdca26"
                        ],
                        [
                          1,
                          "#f0f921"
                        ]
                      ]
                    },
                    "colorway": [
                      "#636efa",
                      "#EF553B",
                      "#00cc96",
                      "#ab63fa",
                      "#FFA15A",
                      "#19d3f3",
                      "#FF6692",
                      "#B6E880",
                      "#FF97FF",
                      "#FECB52"
                    ],
                    "font": {
                      "color": "#2a3f5f"
                    },
                    "geo": {
                      "bgcolor": "white",
                      "lakecolor": "white",
                      "landcolor": "#E5ECF6",
                      "showlakes": true,
                      "showland": true,
                      "subunitcolor": "white"
                    },
                    "hoverlabel": {
                      "align": "left"
                    },
                    "hovermode": "closest",
                    "mapbox": {
                      "style": "light"
                    },
                    "paper_bgcolor": "white",
                    "plot_bgcolor": "#E5ECF6",
                    "polar": {
                      "angularaxis": {
                        "gridcolor": "white",
                        "linecolor": "white",
                        "ticks": ""
                      },
                      "bgcolor": "#E5ECF6",
                      "radialaxis": {
                        "gridcolor": "white",
                        "linecolor": "white",
                        "ticks": ""
                      }
                    },
                    "scene": {
                      "xaxis": {
                        "backgroundcolor": "#E5ECF6",
                        "gridcolor": "white",
                        "gridwidth": 2,
                        "linecolor": "white",
                        "showbackground": true,
                        "ticks": "",
                        "zerolinecolor": "white"
                      },
                      "yaxis": {
                        "backgroundcolor": "#E5ECF6",
                        "gridcolor": "white",
                        "gridwidth": 2,
                        "linecolor": "white",
                        "showbackground": true,
                        "ticks": "",
                        "zerolinecolor": "white"
                      },
                      "zaxis": {
                        "backgroundcolor": "#E5ECF6",
                        "gridcolor": "white",
                        "gridwidth": 2,
                        "linecolor": "white",
                        "showbackground": true,
                        "ticks": "",
                        "zerolinecolor": "white"
                      }
                    },
                    "shapedefaults": {
                      "line": {
                        "color": "#2a3f5f"
                      }
                    },
                    "ternary": {
                      "aaxis": {
                        "gridcolor": "white",
                        "linecolor": "white",
                        "ticks": ""
                      },
                      "baxis": {
                        "gridcolor": "white",
                        "linecolor": "white",
                        "ticks": ""
                      },
                      "bgcolor": "#E5ECF6",
                      "caxis": {
                        "gridcolor": "white",
                        "linecolor": "white",
                        "ticks": ""
                      }
                    },
                    "title": {
                      "x": 0.05
                    },
                    "xaxis": {
                      "automargin": true,
                      "gridcolor": "white",
                      "linecolor": "white",
                      "ticks": "",
                      "title": {
                        "standoff": 15
                      },
                      "zerolinecolor": "white",
                      "zerolinewidth": 2
                    },
                    "yaxis": {
                      "automargin": true,
                      "gridcolor": "white",
                      "linecolor": "white",
                      "ticks": "",
                      "title": {
                        "standoff": 15
                      },
                      "zerolinecolor": "white",
                      "zerolinewidth": 2
                    }
                  }
                },
                "xaxis": {
                  "anchor": "y",
                  "domain": [
                    0,
                    1
                  ],
                  "title": {
                    "text": "sem_ponto"
                  }
                },
                "yaxis": {
                  "anchor": "x",
                  "domain": [
                    0,
                    1
                  ],
                  "title": {
                    "text": "Emissão"
                  }
                }
              }
            },
            "text/html": [
              "<div>                        <script type=\"text/javascript\">window.PlotlyConfig = {MathJaxConfig: 'local'};</script>\n",
              "        <script charset=\"utf-8\" src=\"https://cdn.plot.ly/plotly-2.32.0.min.js\"></script>                <div id=\"4232009d-cd83-4620-9bf4-35efa1539f55\" class=\"plotly-graph-div\" style=\"height:100%; width:100%;\"></div>            <script type=\"text/javascript\">                                    window.PLOTLYENV=window.PLOTLYENV || {};                                    if (document.getElementById(\"4232009d-cd83-4620-9bf4-35efa1539f55\")) {                    Plotly.newPlot(                        \"4232009d-cd83-4620-9bf4-35efa1539f55\",                        [{\"hovertemplate\":\"sem_ponto=%{x}\\u003cbr\\u003eEmiss\\u00e3o=%{y}\\u003cbr\\u003eEstado=%{text}\\u003cextra\\u003e\\u003c\\u002fextra\\u003e\",\"legendgroup\":\"\",\"marker\":{\"color\":\"#636efa\",\"symbol\":\"circle\"},\"mode\":\"markers+text\",\"name\":\"\",\"orientation\":\"v\",\"showlegend\":false,\"text\":[\"AC\",\"AL\",\"AM\",\"AP\",\"BA\",\"CE\",\"DF\",\"ES\",\"GO\",\"MA\",\"MG\",\"MS\",\"MT\",\"PA\",\"PB\",\"PE\",\"PI\",\"PR\",\"RJ\",\"RN\",\"RO\",\"RR\",\"RS\",\"SC\",\"SE\",\"SP\",\"TO\"],\"x\":[829780,3125254,3952262,774268,14659023,8936431,2923369,3975100,6950976,6800605,20732660,2833742,3784239,8442962,4030961,9051113,3270174,11835379,16615526,3303953,1616379,634805,11088065,7762154,2211868,46024937,1584306],\"xaxis\":\"x\",\"y\":[350547139.11168486,62612792.59389813,1189648501.8496125,35684101.6939916,593225068.1484435,203473137.9870568,56687377.47433015,269754653.36977243,600808135.236309,947632428.3736011,1250651375.999199,555127848.2360779,2081610148.254339,3701683546.2860503,95325043.68136296,183607670.82817924,114688082.73901032,656768479.0254647,576713743.774119,72238379.15945034,1083514870.8295588,528207080.45487285,781464289.92851,448401038.40914154,81189730.70949353,1223309317.361076,408215927.93485886],\"yaxis\":\"y\",\"type\":\"scatter\"}],                        {\"template\":{\"data\":{\"histogram2dcontour\":[{\"type\":\"histogram2dcontour\",\"colorbar\":{\"outlinewidth\":0,\"ticks\":\"\"},\"colorscale\":[[0.0,\"#0d0887\"],[0.1111111111111111,\"#46039f\"],[0.2222222222222222,\"#7201a8\"],[0.3333333333333333,\"#9c179e\"],[0.4444444444444444,\"#bd3786\"],[0.5555555555555556,\"#d8576b\"],[0.6666666666666666,\"#ed7953\"],[0.7777777777777778,\"#fb9f3a\"],[0.8888888888888888,\"#fdca26\"],[1.0,\"#f0f921\"]]}],\"choropleth\":[{\"type\":\"choropleth\",\"colorbar\":{\"outlinewidth\":0,\"ticks\":\"\"}}],\"histogram2d\":[{\"type\":\"histogram2d\",\"colorbar\":{\"outlinewidth\":0,\"ticks\":\"\"},\"colorscale\":[[0.0,\"#0d0887\"],[0.1111111111111111,\"#46039f\"],[0.2222222222222222,\"#7201a8\"],[0.3333333333333333,\"#9c179e\"],[0.4444444444444444,\"#bd3786\"],[0.5555555555555556,\"#d8576b\"],[0.6666666666666666,\"#ed7953\"],[0.7777777777777778,\"#fb9f3a\"],[0.8888888888888888,\"#fdca26\"],[1.0,\"#f0f921\"]]}],\"heatmap\":[{\"type\":\"heatmap\",\"colorbar\":{\"outlinewidth\":0,\"ticks\":\"\"},\"colorscale\":[[0.0,\"#0d0887\"],[0.1111111111111111,\"#46039f\"],[0.2222222222222222,\"#7201a8\"],[0.3333333333333333,\"#9c179e\"],[0.4444444444444444,\"#bd3786\"],[0.5555555555555556,\"#d8576b\"],[0.6666666666666666,\"#ed7953\"],[0.7777777777777778,\"#fb9f3a\"],[0.8888888888888888,\"#fdca26\"],[1.0,\"#f0f921\"]]}],\"heatmapgl\":[{\"type\":\"heatmapgl\",\"colorbar\":{\"outlinewidth\":0,\"ticks\":\"\"},\"colorscale\":[[0.0,\"#0d0887\"],[0.1111111111111111,\"#46039f\"],[0.2222222222222222,\"#7201a8\"],[0.3333333333333333,\"#9c179e\"],[0.4444444444444444,\"#bd3786\"],[0.5555555555555556,\"#d8576b\"],[0.6666666666666666,\"#ed7953\"],[0.7777777777777778,\"#fb9f3a\"],[0.8888888888888888,\"#fdca26\"],[1.0,\"#f0f921\"]]}],\"contourcarpet\":[{\"type\":\"contourcarpet\",\"colorbar\":{\"outlinewidth\":0,\"ticks\":\"\"}}],\"contour\":[{\"type\":\"contour\",\"colorbar\":{\"outlinewidth\":0,\"ticks\":\"\"},\"colorscale\":[[0.0,\"#0d0887\"],[0.1111111111111111,\"#46039f\"],[0.2222222222222222,\"#7201a8\"],[0.3333333333333333,\"#9c179e\"],[0.4444444444444444,\"#bd3786\"],[0.5555555555555556,\"#d8576b\"],[0.6666666666666666,\"#ed7953\"],[0.7777777777777778,\"#fb9f3a\"],[0.8888888888888888,\"#fdca26\"],[1.0,\"#f0f921\"]]}],\"surface\":[{\"type\":\"surface\",\"colorbar\":{\"outlinewidth\":0,\"ticks\":\"\"},\"colorscale\":[[0.0,\"#0d0887\"],[0.1111111111111111,\"#46039f\"],[0.2222222222222222,\"#7201a8\"],[0.3333333333333333,\"#9c179e\"],[0.4444444444444444,\"#bd3786\"],[0.5555555555555556,\"#d8576b\"],[0.6666666666666666,\"#ed7953\"],[0.7777777777777778,\"#fb9f3a\"],[0.8888888888888888,\"#fdca26\"],[1.0,\"#f0f921\"]]}],\"mesh3d\":[{\"type\":\"mesh3d\",\"colorbar\":{\"outlinewidth\":0,\"ticks\":\"\"}}],\"scatter\":[{\"fillpattern\":{\"fillmode\":\"overlay\",\"size\":10,\"solidity\":0.2},\"type\":\"scatter\"}],\"parcoords\":[{\"type\":\"parcoords\",\"line\":{\"colorbar\":{\"outlinewidth\":0,\"ticks\":\"\"}}}],\"scatterpolargl\":[{\"type\":\"scatterpolargl\",\"marker\":{\"colorbar\":{\"outlinewidth\":0,\"ticks\":\"\"}}}],\"bar\":[{\"error_x\":{\"color\":\"#2a3f5f\"},\"error_y\":{\"color\":\"#2a3f5f\"},\"marker\":{\"line\":{\"color\":\"#E5ECF6\",\"width\":0.5},\"pattern\":{\"fillmode\":\"overlay\",\"size\":10,\"solidity\":0.2}},\"type\":\"bar\"}],\"scattergeo\":[{\"type\":\"scattergeo\",\"marker\":{\"colorbar\":{\"outlinewidth\":0,\"ticks\":\"\"}}}],\"scatterpolar\":[{\"type\":\"scatterpolar\",\"marker\":{\"colorbar\":{\"outlinewidth\":0,\"ticks\":\"\"}}}],\"histogram\":[{\"marker\":{\"pattern\":{\"fillmode\":\"overlay\",\"size\":10,\"solidity\":0.2}},\"type\":\"histogram\"}],\"scattergl\":[{\"type\":\"scattergl\",\"marker\":{\"colorbar\":{\"outlinewidth\":0,\"ticks\":\"\"}}}],\"scatter3d\":[{\"type\":\"scatter3d\",\"line\":{\"colorbar\":{\"outlinewidth\":0,\"ticks\":\"\"}},\"marker\":{\"colorbar\":{\"outlinewidth\":0,\"ticks\":\"\"}}}],\"scattermapbox\":[{\"type\":\"scattermapbox\",\"marker\":{\"colorbar\":{\"outlinewidth\":0,\"ticks\":\"\"}}}],\"scatterternary\":[{\"type\":\"scatterternary\",\"marker\":{\"colorbar\":{\"outlinewidth\":0,\"ticks\":\"\"}}}],\"scattercarpet\":[{\"type\":\"scattercarpet\",\"marker\":{\"colorbar\":{\"outlinewidth\":0,\"ticks\":\"\"}}}],\"carpet\":[{\"aaxis\":{\"endlinecolor\":\"#2a3f5f\",\"gridcolor\":\"white\",\"linecolor\":\"white\",\"minorgridcolor\":\"white\",\"startlinecolor\":\"#2a3f5f\"},\"baxis\":{\"endlinecolor\":\"#2a3f5f\",\"gridcolor\":\"white\",\"linecolor\":\"white\",\"minorgridcolor\":\"white\",\"startlinecolor\":\"#2a3f5f\"},\"type\":\"carpet\"}],\"table\":[{\"cells\":{\"fill\":{\"color\":\"#EBF0F8\"},\"line\":{\"color\":\"white\"}},\"header\":{\"fill\":{\"color\":\"#C8D4E3\"},\"line\":{\"color\":\"white\"}},\"type\":\"table\"}],\"barpolar\":[{\"marker\":{\"line\":{\"color\":\"#E5ECF6\",\"width\":0.5},\"pattern\":{\"fillmode\":\"overlay\",\"size\":10,\"solidity\":0.2}},\"type\":\"barpolar\"}],\"pie\":[{\"automargin\":true,\"type\":\"pie\"}]},\"layout\":{\"autotypenumbers\":\"strict\",\"colorway\":[\"#636efa\",\"#EF553B\",\"#00cc96\",\"#ab63fa\",\"#FFA15A\",\"#19d3f3\",\"#FF6692\",\"#B6E880\",\"#FF97FF\",\"#FECB52\"],\"font\":{\"color\":\"#2a3f5f\"},\"hovermode\":\"closest\",\"hoverlabel\":{\"align\":\"left\"},\"paper_bgcolor\":\"white\",\"plot_bgcolor\":\"#E5ECF6\",\"polar\":{\"bgcolor\":\"#E5ECF6\",\"angularaxis\":{\"gridcolor\":\"white\",\"linecolor\":\"white\",\"ticks\":\"\"},\"radialaxis\":{\"gridcolor\":\"white\",\"linecolor\":\"white\",\"ticks\":\"\"}},\"ternary\":{\"bgcolor\":\"#E5ECF6\",\"aaxis\":{\"gridcolor\":\"white\",\"linecolor\":\"white\",\"ticks\":\"\"},\"baxis\":{\"gridcolor\":\"white\",\"linecolor\":\"white\",\"ticks\":\"\"},\"caxis\":{\"gridcolor\":\"white\",\"linecolor\":\"white\",\"ticks\":\"\"}},\"coloraxis\":{\"colorbar\":{\"outlinewidth\":0,\"ticks\":\"\"}},\"colorscale\":{\"sequential\":[[0.0,\"#0d0887\"],[0.1111111111111111,\"#46039f\"],[0.2222222222222222,\"#7201a8\"],[0.3333333333333333,\"#9c179e\"],[0.4444444444444444,\"#bd3786\"],[0.5555555555555556,\"#d8576b\"],[0.6666666666666666,\"#ed7953\"],[0.7777777777777778,\"#fb9f3a\"],[0.8888888888888888,\"#fdca26\"],[1.0,\"#f0f921\"]],\"sequentialminus\":[[0.0,\"#0d0887\"],[0.1111111111111111,\"#46039f\"],[0.2222222222222222,\"#7201a8\"],[0.3333333333333333,\"#9c179e\"],[0.4444444444444444,\"#bd3786\"],[0.5555555555555556,\"#d8576b\"],[0.6666666666666666,\"#ed7953\"],[0.7777777777777778,\"#fb9f3a\"],[0.8888888888888888,\"#fdca26\"],[1.0,\"#f0f921\"]],\"diverging\":[[0,\"#8e0152\"],[0.1,\"#c51b7d\"],[0.2,\"#de77ae\"],[0.3,\"#f1b6da\"],[0.4,\"#fde0ef\"],[0.5,\"#f7f7f7\"],[0.6,\"#e6f5d0\"],[0.7,\"#b8e186\"],[0.8,\"#7fbc41\"],[0.9,\"#4d9221\"],[1,\"#276419\"]]},\"xaxis\":{\"gridcolor\":\"white\",\"linecolor\":\"white\",\"ticks\":\"\",\"title\":{\"standoff\":15},\"zerolinecolor\":\"white\",\"automargin\":true,\"zerolinewidth\":2},\"yaxis\":{\"gridcolor\":\"white\",\"linecolor\":\"white\",\"ticks\":\"\",\"title\":{\"standoff\":15},\"zerolinecolor\":\"white\",\"automargin\":true,\"zerolinewidth\":2},\"scene\":{\"xaxis\":{\"backgroundcolor\":\"#E5ECF6\",\"gridcolor\":\"white\",\"linecolor\":\"white\",\"showbackground\":true,\"ticks\":\"\",\"zerolinecolor\":\"white\",\"gridwidth\":2},\"yaxis\":{\"backgroundcolor\":\"#E5ECF6\",\"gridcolor\":\"white\",\"linecolor\":\"white\",\"showbackground\":true,\"ticks\":\"\",\"zerolinecolor\":\"white\",\"gridwidth\":2},\"zaxis\":{\"backgroundcolor\":\"#E5ECF6\",\"gridcolor\":\"white\",\"linecolor\":\"white\",\"showbackground\":true,\"ticks\":\"\",\"zerolinecolor\":\"white\",\"gridwidth\":2}},\"shapedefaults\":{\"line\":{\"color\":\"#2a3f5f\"}},\"annotationdefaults\":{\"arrowcolor\":\"#2a3f5f\",\"arrowhead\":0,\"arrowwidth\":1},\"geo\":{\"bgcolor\":\"white\",\"landcolor\":\"#E5ECF6\",\"subunitcolor\":\"white\",\"showland\":true,\"showlakes\":true,\"lakecolor\":\"white\"},\"title\":{\"x\":0.05},\"mapbox\":{\"style\":\"light\"}}},\"xaxis\":{\"anchor\":\"y\",\"domain\":[0.0,1.0],\"title\":{\"text\":\"sem_ponto\"}},\"yaxis\":{\"anchor\":\"x\",\"domain\":[0.0,1.0],\"title\":{\"text\":\"Emiss\\u00e3o\"}},\"legend\":{\"tracegroupgap\":0},\"margin\":{\"t\":60}},                        {\"responsive\": true}                    )                };                            </script>        </div>"
            ],
            "text/plain": [
              "Figure({\n",
              "    'data': [{'hovertemplate': 'sem_ponto=%{x}<br>Emissão=%{y}<br>Estado=%{text}<extra></extra>',\n",
              "              'legendgroup': '',\n",
              "              'marker': {'color': '#636efa', 'symbol': 'circle'},\n",
              "              'mode': 'markers+text',\n",
              "              'name': '',\n",
              "              'orientation': 'v',\n",
              "              'showlegend': False,\n",
              "              'text': array(['AC', 'AL', 'AM', 'AP', 'BA', 'CE', 'DF', 'ES', 'GO', 'MA', 'MG', 'MS',\n",
              "                             'MT', 'PA', 'PB', 'PE', 'PI', 'PR', 'RJ', 'RN', 'RO', 'RR', 'RS', 'SC',\n",
              "                             'SE', 'SP', 'TO'], dtype=object),\n",
              "              'type': 'scatter',\n",
              "              'x': array([  829780,  3125254,  3952262,   774268, 14659023,  8936431,  2923369,\n",
              "                           3975100,  6950976,  6800605, 20732660,  2833742,  3784239,  8442962,\n",
              "                           4030961,  9051113,  3270174, 11835379, 16615526,  3303953,  1616379,\n",
              "                            634805, 11088065,  7762154,  2211868, 46024937,  1584306], dtype=int64),\n",
              "              'xaxis': 'x',\n",
              "              'y': array([3.50547139e+08, 6.26127926e+07, 1.18964850e+09, 3.56841017e+07,\n",
              "                          5.93225068e+08, 2.03473138e+08, 5.66873775e+07, 2.69754653e+08,\n",
              "                          6.00808135e+08, 9.47632428e+08, 1.25065138e+09, 5.55127848e+08,\n",
              "                          2.08161015e+09, 3.70168355e+09, 9.53250437e+07, 1.83607671e+08,\n",
              "                          1.14688083e+08, 6.56768479e+08, 5.76713744e+08, 7.22383792e+07,\n",
              "                          1.08351487e+09, 5.28207080e+08, 7.81464290e+08, 4.48401038e+08,\n",
              "                          8.11897307e+07, 1.22330932e+09, 4.08215928e+08]),\n",
              "              'yaxis': 'y'}],\n",
              "    'layout': {'legend': {'tracegroupgap': 0},\n",
              "               'margin': {'t': 60},\n",
              "               'template': '...',\n",
              "               'xaxis': {'anchor': 'y', 'domain': [0.0, 1.0], 'title': {'text': 'sem_ponto'}},\n",
              "               'yaxis': {'anchor': 'x', 'domain': [0.0, 1.0], 'title': {'text': 'Emissão'}}}\n",
              "})"
            ]
          },
          "execution_count": 122,
          "metadata": {},
          "output_type": "execute_result"
        }
      ],
      "source": [
        "px.scatter(data_frame=dados_agrupados, x='sem_ponto', y='Emissão', text='Estado')"
      ]
    },
    {
      "cell_type": "markdown",
      "metadata": {
        "id": "zUWsYMQT9txV"
      },
      "source": [
        "Para obtermos a emissão per capita, criaremos uma nova coluna com a divisão dos valores de emissão pela população de cada estado."
      ]
    },
    {
      "cell_type": "code",
      "execution_count": 123,
      "metadata": {
        "id": "vG7n5dZ_0XhM"
      },
      "outputs": [],
      "source": [
        "dados_agrupados = dados_agrupados.assign(emissao_percapita = dados_agrupados['Emissão']/dados_agrupados['sem_ponto']).sort_values('emissao_percapita', ascending=False)"
      ]
    },
    {
      "cell_type": "code",
      "execution_count": 124,
      "metadata": {
        "id": "IlTjzz_B1tUI"
      },
      "outputs": [
        {
          "data": {
            "text/html": [
              "<div>\n",
              "<style scoped>\n",
              "    .dataframe tbody tr th:only-of-type {\n",
              "        vertical-align: middle;\n",
              "    }\n",
              "\n",
              "    .dataframe tbody tr th {\n",
              "        vertical-align: top;\n",
              "    }\n",
              "\n",
              "    .dataframe thead th {\n",
              "        text-align: right;\n",
              "    }\n",
              "</style>\n",
              "<table border=\"1\" class=\"dataframe\">\n",
              "  <thead>\n",
              "    <tr style=\"text-align: right;\">\n",
              "      <th></th>\n",
              "      <th>Estado</th>\n",
              "      <th>Emissão</th>\n",
              "      <th>UF</th>\n",
              "      <th>sem_ponto</th>\n",
              "      <th>emissao_percapita</th>\n",
              "    </tr>\n",
              "  </thead>\n",
              "  <tbody>\n",
              "    <tr>\n",
              "      <th>21</th>\n",
              "      <td>RR</td>\n",
              "      <td>5.282071e+08</td>\n",
              "      <td>RR</td>\n",
              "      <td>634805</td>\n",
              "      <td>832.077694</td>\n",
              "    </tr>\n",
              "    <tr>\n",
              "      <th>20</th>\n",
              "      <td>RO</td>\n",
              "      <td>1.083515e+09</td>\n",
              "      <td>RO</td>\n",
              "      <td>1616379</td>\n",
              "      <td>670.334662</td>\n",
              "    </tr>\n",
              "    <tr>\n",
              "      <th>12</th>\n",
              "      <td>MT</td>\n",
              "      <td>2.081610e+09</td>\n",
              "      <td>MT</td>\n",
              "      <td>3784239</td>\n",
              "      <td>550.073647</td>\n",
              "    </tr>\n",
              "    <tr>\n",
              "      <th>13</th>\n",
              "      <td>PA</td>\n",
              "      <td>3.701684e+09</td>\n",
              "      <td>PA</td>\n",
              "      <td>8442962</td>\n",
              "      <td>438.434230</td>\n",
              "    </tr>\n",
              "    <tr>\n",
              "      <th>0</th>\n",
              "      <td>AC</td>\n",
              "      <td>3.505471e+08</td>\n",
              "      <td>AC</td>\n",
              "      <td>829780</td>\n",
              "      <td>422.457928</td>\n",
              "    </tr>\n",
              "    <tr>\n",
              "      <th>2</th>\n",
              "      <td>AM</td>\n",
              "      <td>1.189649e+09</td>\n",
              "      <td>AM</td>\n",
              "      <td>3952262</td>\n",
              "      <td>301.004463</td>\n",
              "    </tr>\n",
              "    <tr>\n",
              "      <th>26</th>\n",
              "      <td>TO</td>\n",
              "      <td>4.082159e+08</td>\n",
              "      <td>TO</td>\n",
              "      <td>1584306</td>\n",
              "      <td>257.662300</td>\n",
              "    </tr>\n",
              "    <tr>\n",
              "      <th>11</th>\n",
              "      <td>MS</td>\n",
              "      <td>5.551278e+08</td>\n",
              "      <td>MS</td>\n",
              "      <td>2833742</td>\n",
              "      <td>195.899220</td>\n",
              "    </tr>\n",
              "    <tr>\n",
              "      <th>9</th>\n",
              "      <td>MA</td>\n",
              "      <td>9.476324e+08</td>\n",
              "      <td>MA</td>\n",
              "      <td>6800605</td>\n",
              "      <td>139.345312</td>\n",
              "    </tr>\n",
              "    <tr>\n",
              "      <th>8</th>\n",
              "      <td>GO</td>\n",
              "      <td>6.008081e+08</td>\n",
              "      <td>GO</td>\n",
              "      <td>6950976</td>\n",
              "      <td>86.435075</td>\n",
              "    </tr>\n",
              "    <tr>\n",
              "      <th>22</th>\n",
              "      <td>RS</td>\n",
              "      <td>7.814643e+08</td>\n",
              "      <td>RS</td>\n",
              "      <td>11088065</td>\n",
              "      <td>70.477968</td>\n",
              "    </tr>\n",
              "    <tr>\n",
              "      <th>7</th>\n",
              "      <td>ES</td>\n",
              "      <td>2.697547e+08</td>\n",
              "      <td>ES</td>\n",
              "      <td>3975100</td>\n",
              "      <td>67.861099</td>\n",
              "    </tr>\n",
              "    <tr>\n",
              "      <th>10</th>\n",
              "      <td>MG</td>\n",
              "      <td>1.250651e+09</td>\n",
              "      <td>MG</td>\n",
              "      <td>20732660</td>\n",
              "      <td>60.322765</td>\n",
              "    </tr>\n",
              "    <tr>\n",
              "      <th>23</th>\n",
              "      <td>SC</td>\n",
              "      <td>4.484010e+08</td>\n",
              "      <td>SC</td>\n",
              "      <td>7762154</td>\n",
              "      <td>57.767604</td>\n",
              "    </tr>\n",
              "    <tr>\n",
              "      <th>17</th>\n",
              "      <td>PR</td>\n",
              "      <td>6.567685e+08</td>\n",
              "      <td>PR</td>\n",
              "      <td>11835379</td>\n",
              "      <td>55.491969</td>\n",
              "    </tr>\n",
              "    <tr>\n",
              "      <th>3</th>\n",
              "      <td>AP</td>\n",
              "      <td>3.568410e+07</td>\n",
              "      <td>AP</td>\n",
              "      <td>774268</td>\n",
              "      <td>46.087533</td>\n",
              "    </tr>\n",
              "    <tr>\n",
              "      <th>4</th>\n",
              "      <td>BA</td>\n",
              "      <td>5.932251e+08</td>\n",
              "      <td>BA</td>\n",
              "      <td>14659023</td>\n",
              "      <td>40.468254</td>\n",
              "    </tr>\n",
              "    <tr>\n",
              "      <th>24</th>\n",
              "      <td>SE</td>\n",
              "      <td>8.118973e+07</td>\n",
              "      <td>SE</td>\n",
              "      <td>2211868</td>\n",
              "      <td>36.706409</td>\n",
              "    </tr>\n",
              "    <tr>\n",
              "      <th>16</th>\n",
              "      <td>PI</td>\n",
              "      <td>1.146881e+08</td>\n",
              "      <td>PI</td>\n",
              "      <td>3270174</td>\n",
              "      <td>35.070942</td>\n",
              "    </tr>\n",
              "    <tr>\n",
              "      <th>18</th>\n",
              "      <td>RJ</td>\n",
              "      <td>5.767137e+08</td>\n",
              "      <td>RJ</td>\n",
              "      <td>16615526</td>\n",
              "      <td>34.709328</td>\n",
              "    </tr>\n",
              "    <tr>\n",
              "      <th>25</th>\n",
              "      <td>SP</td>\n",
              "      <td>1.223309e+09</td>\n",
              "      <td>SP</td>\n",
              "      <td>46024937</td>\n",
              "      <td>26.579272</td>\n",
              "    </tr>\n",
              "    <tr>\n",
              "      <th>14</th>\n",
              "      <td>PB</td>\n",
              "      <td>9.532504e+07</td>\n",
              "      <td>PB</td>\n",
              "      <td>4030961</td>\n",
              "      <td>23.648218</td>\n",
              "    </tr>\n",
              "    <tr>\n",
              "      <th>5</th>\n",
              "      <td>CE</td>\n",
              "      <td>2.034731e+08</td>\n",
              "      <td>CE</td>\n",
              "      <td>8936431</td>\n",
              "      <td>22.768949</td>\n",
              "    </tr>\n",
              "    <tr>\n",
              "      <th>19</th>\n",
              "      <td>RN</td>\n",
              "      <td>7.223838e+07</td>\n",
              "      <td>RN</td>\n",
              "      <td>3303953</td>\n",
              "      <td>21.864227</td>\n",
              "    </tr>\n",
              "    <tr>\n",
              "      <th>15</th>\n",
              "      <td>PE</td>\n",
              "      <td>1.836077e+08</td>\n",
              "      <td>PE</td>\n",
              "      <td>9051113</td>\n",
              "      <td>20.285646</td>\n",
              "    </tr>\n",
              "    <tr>\n",
              "      <th>1</th>\n",
              "      <td>AL</td>\n",
              "      <td>6.261279e+07</td>\n",
              "      <td>AL</td>\n",
              "      <td>3125254</td>\n",
              "      <td>20.034465</td>\n",
              "    </tr>\n",
              "    <tr>\n",
              "      <th>6</th>\n",
              "      <td>DF</td>\n",
              "      <td>5.668738e+07</td>\n",
              "      <td>DF</td>\n",
              "      <td>2923369</td>\n",
              "      <td>19.391113</td>\n",
              "    </tr>\n",
              "  </tbody>\n",
              "</table>\n",
              "</div>"
            ],
            "text/plain": [
              "   Estado       Emissão  UF  sem_ponto  emissao_percapita\n",
              "21     RR  5.282071e+08  RR     634805         832.077694\n",
              "20     RO  1.083515e+09  RO    1616379         670.334662\n",
              "12     MT  2.081610e+09  MT    3784239         550.073647\n",
              "13     PA  3.701684e+09  PA    8442962         438.434230\n",
              "0      AC  3.505471e+08  AC     829780         422.457928\n",
              "2      AM  1.189649e+09  AM    3952262         301.004463\n",
              "26     TO  4.082159e+08  TO    1584306         257.662300\n",
              "11     MS  5.551278e+08  MS    2833742         195.899220\n",
              "9      MA  9.476324e+08  MA    6800605         139.345312\n",
              "8      GO  6.008081e+08  GO    6950976          86.435075\n",
              "22     RS  7.814643e+08  RS   11088065          70.477968\n",
              "7      ES  2.697547e+08  ES    3975100          67.861099\n",
              "10     MG  1.250651e+09  MG   20732660          60.322765\n",
              "23     SC  4.484010e+08  SC    7762154          57.767604\n",
              "17     PR  6.567685e+08  PR   11835379          55.491969\n",
              "3      AP  3.568410e+07  AP     774268          46.087533\n",
              "4      BA  5.932251e+08  BA   14659023          40.468254\n",
              "24     SE  8.118973e+07  SE    2211868          36.706409\n",
              "16     PI  1.146881e+08  PI    3270174          35.070942\n",
              "18     RJ  5.767137e+08  RJ   16615526          34.709328\n",
              "25     SP  1.223309e+09  SP   46024937          26.579272\n",
              "14     PB  9.532504e+07  PB    4030961          23.648218\n",
              "5      CE  2.034731e+08  CE    8936431          22.768949\n",
              "19     RN  7.223838e+07  RN    3303953          21.864227\n",
              "15     PE  1.836077e+08  PE    9051113          20.285646\n",
              "1      AL  6.261279e+07  AL    3125254          20.034465\n",
              "6      DF  5.668738e+07  DF    2923369          19.391113"
            ]
          },
          "execution_count": 124,
          "metadata": {},
          "output_type": "execute_result"
        }
      ],
      "source": [
        "dados_agrupados"
      ]
    },
    {
      "cell_type": "code",
      "execution_count": 125,
      "metadata": {
        "id": "fBffuIAoqXNX"
      },
      "outputs": [
        {
          "ename": "ValueError",
          "evalue": "Mime type rendering requires nbformat>=4.2.0 but it is not installed",
          "output_type": "error",
          "traceback": [
            "\u001b[1;31m---------------------------------------------------------------------------\u001b[0m",
            "\u001b[1;31mValueError\u001b[0m                                Traceback (most recent call last)",
            "File \u001b[1;32m~\\AppData\\Roaming\\Python\\Python311\\site-packages\\IPython\\core\\formatters.py:925\u001b[0m, in \u001b[0;36mIPythonDisplayFormatter.__call__\u001b[1;34m(self, obj)\u001b[0m\n\u001b[0;32m    923\u001b[0m method \u001b[38;5;241m=\u001b[39m get_real_method(obj, \u001b[38;5;28mself\u001b[39m\u001b[38;5;241m.\u001b[39mprint_method)\n\u001b[0;32m    924\u001b[0m \u001b[38;5;28;01mif\u001b[39;00m method \u001b[38;5;129;01mis\u001b[39;00m \u001b[38;5;129;01mnot\u001b[39;00m \u001b[38;5;28;01mNone\u001b[39;00m:\n\u001b[1;32m--> 925\u001b[0m     \u001b[43mmethod\u001b[49m\u001b[43m(\u001b[49m\u001b[43m)\u001b[49m\n\u001b[0;32m    926\u001b[0m     \u001b[38;5;28;01mreturn\u001b[39;00m \u001b[38;5;28;01mTrue\u001b[39;00m\n",
            "File \u001b[1;32mc:\\Users\\Acer\\AppData\\Local\\Programs\\Python\\Python311\\Lib\\site-packages\\plotly\\basedatatypes.py:832\u001b[0m, in \u001b[0;36mBaseFigure._ipython_display_\u001b[1;34m(self)\u001b[0m\n\u001b[0;32m    829\u001b[0m \u001b[38;5;28;01mimport\u001b[39;00m \u001b[38;5;21;01mplotly\u001b[39;00m\u001b[38;5;21;01m.\u001b[39;00m\u001b[38;5;21;01mio\u001b[39;00m \u001b[38;5;28;01mas\u001b[39;00m \u001b[38;5;21;01mpio\u001b[39;00m\n\u001b[0;32m    831\u001b[0m \u001b[38;5;28;01mif\u001b[39;00m pio\u001b[38;5;241m.\u001b[39mrenderers\u001b[38;5;241m.\u001b[39mrender_on_display \u001b[38;5;129;01mand\u001b[39;00m pio\u001b[38;5;241m.\u001b[39mrenderers\u001b[38;5;241m.\u001b[39mdefault:\n\u001b[1;32m--> 832\u001b[0m     \u001b[43mpio\u001b[49m\u001b[38;5;241;43m.\u001b[39;49m\u001b[43mshow\u001b[49m\u001b[43m(\u001b[49m\u001b[38;5;28;43mself\u001b[39;49m\u001b[43m)\u001b[49m\n\u001b[0;32m    833\u001b[0m \u001b[38;5;28;01melse\u001b[39;00m:\n\u001b[0;32m    834\u001b[0m     \u001b[38;5;28mprint\u001b[39m(\u001b[38;5;28mrepr\u001b[39m(\u001b[38;5;28mself\u001b[39m))\n",
            "File \u001b[1;32mc:\\Users\\Acer\\AppData\\Local\\Programs\\Python\\Python311\\Lib\\site-packages\\plotly\\io\\_renderers.py:394\u001b[0m, in \u001b[0;36mshow\u001b[1;34m(fig, renderer, validate, **kwargs)\u001b[0m\n\u001b[0;32m    389\u001b[0m         \u001b[38;5;28;01mraise\u001b[39;00m \u001b[38;5;167;01mValueError\u001b[39;00m(\n\u001b[0;32m    390\u001b[0m             \u001b[38;5;124m\"\u001b[39m\u001b[38;5;124mMime type rendering requires ipython but it is not installed\u001b[39m\u001b[38;5;124m\"\u001b[39m\n\u001b[0;32m    391\u001b[0m         )\n\u001b[0;32m    393\u001b[0m     \u001b[38;5;28;01mif\u001b[39;00m \u001b[38;5;129;01mnot\u001b[39;00m nbformat \u001b[38;5;129;01mor\u001b[39;00m Version(nbformat\u001b[38;5;241m.\u001b[39m__version__) \u001b[38;5;241m<\u001b[39m Version(\u001b[38;5;124m\"\u001b[39m\u001b[38;5;124m4.2.0\u001b[39m\u001b[38;5;124m\"\u001b[39m):\n\u001b[1;32m--> 394\u001b[0m         \u001b[38;5;28;01mraise\u001b[39;00m \u001b[38;5;167;01mValueError\u001b[39;00m(\n\u001b[0;32m    395\u001b[0m             \u001b[38;5;124m\"\u001b[39m\u001b[38;5;124mMime type rendering requires nbformat>=4.2.0 but it is not installed\u001b[39m\u001b[38;5;124m\"\u001b[39m\n\u001b[0;32m    396\u001b[0m         )\n\u001b[0;32m    398\u001b[0m     ipython_display\u001b[38;5;241m.\u001b[39mdisplay(bundle, raw\u001b[38;5;241m=\u001b[39m\u001b[38;5;28;01mTrue\u001b[39;00m)\n\u001b[0;32m    400\u001b[0m \u001b[38;5;66;03m# external renderers\u001b[39;00m\n",
            "\u001b[1;31mValueError\u001b[0m: Mime type rendering requires nbformat>=4.2.0 but it is not installed"
          ]
        },
        {
          "data": {
            "application/vnd.plotly.v1+json": {
              "config": {
                "plotlyServerURL": "https://plot.ly"
              },
              "data": [
                {
                  "alignmentgroup": "True",
                  "hovertemplate": "Estado=%{x}<br>emissao_percapita=%{y}<extra></extra>",
                  "legendgroup": "",
                  "marker": {
                    "color": "#636efa",
                    "pattern": {
                      "shape": ""
                    }
                  },
                  "name": "",
                  "offsetgroup": "",
                  "orientation": "v",
                  "showlegend": false,
                  "textposition": "auto",
                  "type": "bar",
                  "x": [
                    "RR",
                    "RO",
                    "MT",
                    "PA",
                    "AC",
                    "AM",
                    "TO",
                    "MS",
                    "MA",
                    "GO",
                    "RS",
                    "ES",
                    "MG",
                    "SC",
                    "PR",
                    "AP",
                    "BA",
                    "SE",
                    "PI",
                    "RJ",
                    "SP",
                    "PB",
                    "CE",
                    "RN",
                    "PE",
                    "AL",
                    "DF"
                  ],
                  "xaxis": "x",
                  "y": [
                    832.0776938664202,
                    670.3346621241423,
                    550.0736471069451,
                    438.4342303431012,
                    422.4579275370398,
                    301.0044632288073,
                    257.66230004485175,
                    195.89922026637495,
                    139.34531242052745,
                    86.43507548239398,
                    70.4779679708326,
                    67.86109868173692,
                    60.32276495149194,
                    57.76760399357466,
                    55.491968531423005,
                    46.087532603687094,
                    40.46825413593003,
                    36.706408659781474,
                    35.07094201684997,
                    34.70932811721513,
                    26.579271957744908,
                    23.648217802494976,
                    22.768948586640104,
                    21.864227233090283,
                    20.285645624817548,
                    20.034465228713614,
                    19.39111260820312
                  ],
                  "yaxis": "y"
                }
              ],
              "layout": {
                "barmode": "relative",
                "legend": {
                  "tracegroupgap": 0
                },
                "margin": {
                  "t": 60
                },
                "template": {
                  "data": {
                    "bar": [
                      {
                        "error_x": {
                          "color": "#2a3f5f"
                        },
                        "error_y": {
                          "color": "#2a3f5f"
                        },
                        "marker": {
                          "line": {
                            "color": "#E5ECF6",
                            "width": 0.5
                          },
                          "pattern": {
                            "fillmode": "overlay",
                            "size": 10,
                            "solidity": 0.2
                          }
                        },
                        "type": "bar"
                      }
                    ],
                    "barpolar": [
                      {
                        "marker": {
                          "line": {
                            "color": "#E5ECF6",
                            "width": 0.5
                          },
                          "pattern": {
                            "fillmode": "overlay",
                            "size": 10,
                            "solidity": 0.2
                          }
                        },
                        "type": "barpolar"
                      }
                    ],
                    "carpet": [
                      {
                        "aaxis": {
                          "endlinecolor": "#2a3f5f",
                          "gridcolor": "white",
                          "linecolor": "white",
                          "minorgridcolor": "white",
                          "startlinecolor": "#2a3f5f"
                        },
                        "baxis": {
                          "endlinecolor": "#2a3f5f",
                          "gridcolor": "white",
                          "linecolor": "white",
                          "minorgridcolor": "white",
                          "startlinecolor": "#2a3f5f"
                        },
                        "type": "carpet"
                      }
                    ],
                    "choropleth": [
                      {
                        "colorbar": {
                          "outlinewidth": 0,
                          "ticks": ""
                        },
                        "type": "choropleth"
                      }
                    ],
                    "contour": [
                      {
                        "colorbar": {
                          "outlinewidth": 0,
                          "ticks": ""
                        },
                        "colorscale": [
                          [
                            0,
                            "#0d0887"
                          ],
                          [
                            0.1111111111111111,
                            "#46039f"
                          ],
                          [
                            0.2222222222222222,
                            "#7201a8"
                          ],
                          [
                            0.3333333333333333,
                            "#9c179e"
                          ],
                          [
                            0.4444444444444444,
                            "#bd3786"
                          ],
                          [
                            0.5555555555555556,
                            "#d8576b"
                          ],
                          [
                            0.6666666666666666,
                            "#ed7953"
                          ],
                          [
                            0.7777777777777778,
                            "#fb9f3a"
                          ],
                          [
                            0.8888888888888888,
                            "#fdca26"
                          ],
                          [
                            1,
                            "#f0f921"
                          ]
                        ],
                        "type": "contour"
                      }
                    ],
                    "contourcarpet": [
                      {
                        "colorbar": {
                          "outlinewidth": 0,
                          "ticks": ""
                        },
                        "type": "contourcarpet"
                      }
                    ],
                    "heatmap": [
                      {
                        "colorbar": {
                          "outlinewidth": 0,
                          "ticks": ""
                        },
                        "colorscale": [
                          [
                            0,
                            "#0d0887"
                          ],
                          [
                            0.1111111111111111,
                            "#46039f"
                          ],
                          [
                            0.2222222222222222,
                            "#7201a8"
                          ],
                          [
                            0.3333333333333333,
                            "#9c179e"
                          ],
                          [
                            0.4444444444444444,
                            "#bd3786"
                          ],
                          [
                            0.5555555555555556,
                            "#d8576b"
                          ],
                          [
                            0.6666666666666666,
                            "#ed7953"
                          ],
                          [
                            0.7777777777777778,
                            "#fb9f3a"
                          ],
                          [
                            0.8888888888888888,
                            "#fdca26"
                          ],
                          [
                            1,
                            "#f0f921"
                          ]
                        ],
                        "type": "heatmap"
                      }
                    ],
                    "heatmapgl": [
                      {
                        "colorbar": {
                          "outlinewidth": 0,
                          "ticks": ""
                        },
                        "colorscale": [
                          [
                            0,
                            "#0d0887"
                          ],
                          [
                            0.1111111111111111,
                            "#46039f"
                          ],
                          [
                            0.2222222222222222,
                            "#7201a8"
                          ],
                          [
                            0.3333333333333333,
                            "#9c179e"
                          ],
                          [
                            0.4444444444444444,
                            "#bd3786"
                          ],
                          [
                            0.5555555555555556,
                            "#d8576b"
                          ],
                          [
                            0.6666666666666666,
                            "#ed7953"
                          ],
                          [
                            0.7777777777777778,
                            "#fb9f3a"
                          ],
                          [
                            0.8888888888888888,
                            "#fdca26"
                          ],
                          [
                            1,
                            "#f0f921"
                          ]
                        ],
                        "type": "heatmapgl"
                      }
                    ],
                    "histogram": [
                      {
                        "marker": {
                          "pattern": {
                            "fillmode": "overlay",
                            "size": 10,
                            "solidity": 0.2
                          }
                        },
                        "type": "histogram"
                      }
                    ],
                    "histogram2d": [
                      {
                        "colorbar": {
                          "outlinewidth": 0,
                          "ticks": ""
                        },
                        "colorscale": [
                          [
                            0,
                            "#0d0887"
                          ],
                          [
                            0.1111111111111111,
                            "#46039f"
                          ],
                          [
                            0.2222222222222222,
                            "#7201a8"
                          ],
                          [
                            0.3333333333333333,
                            "#9c179e"
                          ],
                          [
                            0.4444444444444444,
                            "#bd3786"
                          ],
                          [
                            0.5555555555555556,
                            "#d8576b"
                          ],
                          [
                            0.6666666666666666,
                            "#ed7953"
                          ],
                          [
                            0.7777777777777778,
                            "#fb9f3a"
                          ],
                          [
                            0.8888888888888888,
                            "#fdca26"
                          ],
                          [
                            1,
                            "#f0f921"
                          ]
                        ],
                        "type": "histogram2d"
                      }
                    ],
                    "histogram2dcontour": [
                      {
                        "colorbar": {
                          "outlinewidth": 0,
                          "ticks": ""
                        },
                        "colorscale": [
                          [
                            0,
                            "#0d0887"
                          ],
                          [
                            0.1111111111111111,
                            "#46039f"
                          ],
                          [
                            0.2222222222222222,
                            "#7201a8"
                          ],
                          [
                            0.3333333333333333,
                            "#9c179e"
                          ],
                          [
                            0.4444444444444444,
                            "#bd3786"
                          ],
                          [
                            0.5555555555555556,
                            "#d8576b"
                          ],
                          [
                            0.6666666666666666,
                            "#ed7953"
                          ],
                          [
                            0.7777777777777778,
                            "#fb9f3a"
                          ],
                          [
                            0.8888888888888888,
                            "#fdca26"
                          ],
                          [
                            1,
                            "#f0f921"
                          ]
                        ],
                        "type": "histogram2dcontour"
                      }
                    ],
                    "mesh3d": [
                      {
                        "colorbar": {
                          "outlinewidth": 0,
                          "ticks": ""
                        },
                        "type": "mesh3d"
                      }
                    ],
                    "parcoords": [
                      {
                        "line": {
                          "colorbar": {
                            "outlinewidth": 0,
                            "ticks": ""
                          }
                        },
                        "type": "parcoords"
                      }
                    ],
                    "pie": [
                      {
                        "automargin": true,
                        "type": "pie"
                      }
                    ],
                    "scatter": [
                      {
                        "fillpattern": {
                          "fillmode": "overlay",
                          "size": 10,
                          "solidity": 0.2
                        },
                        "type": "scatter"
                      }
                    ],
                    "scatter3d": [
                      {
                        "line": {
                          "colorbar": {
                            "outlinewidth": 0,
                            "ticks": ""
                          }
                        },
                        "marker": {
                          "colorbar": {
                            "outlinewidth": 0,
                            "ticks": ""
                          }
                        },
                        "type": "scatter3d"
                      }
                    ],
                    "scattercarpet": [
                      {
                        "marker": {
                          "colorbar": {
                            "outlinewidth": 0,
                            "ticks": ""
                          }
                        },
                        "type": "scattercarpet"
                      }
                    ],
                    "scattergeo": [
                      {
                        "marker": {
                          "colorbar": {
                            "outlinewidth": 0,
                            "ticks": ""
                          }
                        },
                        "type": "scattergeo"
                      }
                    ],
                    "scattergl": [
                      {
                        "marker": {
                          "colorbar": {
                            "outlinewidth": 0,
                            "ticks": ""
                          }
                        },
                        "type": "scattergl"
                      }
                    ],
                    "scattermapbox": [
                      {
                        "marker": {
                          "colorbar": {
                            "outlinewidth": 0,
                            "ticks": ""
                          }
                        },
                        "type": "scattermapbox"
                      }
                    ],
                    "scatterpolar": [
                      {
                        "marker": {
                          "colorbar": {
                            "outlinewidth": 0,
                            "ticks": ""
                          }
                        },
                        "type": "scatterpolar"
                      }
                    ],
                    "scatterpolargl": [
                      {
                        "marker": {
                          "colorbar": {
                            "outlinewidth": 0,
                            "ticks": ""
                          }
                        },
                        "type": "scatterpolargl"
                      }
                    ],
                    "scatterternary": [
                      {
                        "marker": {
                          "colorbar": {
                            "outlinewidth": 0,
                            "ticks": ""
                          }
                        },
                        "type": "scatterternary"
                      }
                    ],
                    "surface": [
                      {
                        "colorbar": {
                          "outlinewidth": 0,
                          "ticks": ""
                        },
                        "colorscale": [
                          [
                            0,
                            "#0d0887"
                          ],
                          [
                            0.1111111111111111,
                            "#46039f"
                          ],
                          [
                            0.2222222222222222,
                            "#7201a8"
                          ],
                          [
                            0.3333333333333333,
                            "#9c179e"
                          ],
                          [
                            0.4444444444444444,
                            "#bd3786"
                          ],
                          [
                            0.5555555555555556,
                            "#d8576b"
                          ],
                          [
                            0.6666666666666666,
                            "#ed7953"
                          ],
                          [
                            0.7777777777777778,
                            "#fb9f3a"
                          ],
                          [
                            0.8888888888888888,
                            "#fdca26"
                          ],
                          [
                            1,
                            "#f0f921"
                          ]
                        ],
                        "type": "surface"
                      }
                    ],
                    "table": [
                      {
                        "cells": {
                          "fill": {
                            "color": "#EBF0F8"
                          },
                          "line": {
                            "color": "white"
                          }
                        },
                        "header": {
                          "fill": {
                            "color": "#C8D4E3"
                          },
                          "line": {
                            "color": "white"
                          }
                        },
                        "type": "table"
                      }
                    ]
                  },
                  "layout": {
                    "annotationdefaults": {
                      "arrowcolor": "#2a3f5f",
                      "arrowhead": 0,
                      "arrowwidth": 1
                    },
                    "autotypenumbers": "strict",
                    "coloraxis": {
                      "colorbar": {
                        "outlinewidth": 0,
                        "ticks": ""
                      }
                    },
                    "colorscale": {
                      "diverging": [
                        [
                          0,
                          "#8e0152"
                        ],
                        [
                          0.1,
                          "#c51b7d"
                        ],
                        [
                          0.2,
                          "#de77ae"
                        ],
                        [
                          0.3,
                          "#f1b6da"
                        ],
                        [
                          0.4,
                          "#fde0ef"
                        ],
                        [
                          0.5,
                          "#f7f7f7"
                        ],
                        [
                          0.6,
                          "#e6f5d0"
                        ],
                        [
                          0.7,
                          "#b8e186"
                        ],
                        [
                          0.8,
                          "#7fbc41"
                        ],
                        [
                          0.9,
                          "#4d9221"
                        ],
                        [
                          1,
                          "#276419"
                        ]
                      ],
                      "sequential": [
                        [
                          0,
                          "#0d0887"
                        ],
                        [
                          0.1111111111111111,
                          "#46039f"
                        ],
                        [
                          0.2222222222222222,
                          "#7201a8"
                        ],
                        [
                          0.3333333333333333,
                          "#9c179e"
                        ],
                        [
                          0.4444444444444444,
                          "#bd3786"
                        ],
                        [
                          0.5555555555555556,
                          "#d8576b"
                        ],
                        [
                          0.6666666666666666,
                          "#ed7953"
                        ],
                        [
                          0.7777777777777778,
                          "#fb9f3a"
                        ],
                        [
                          0.8888888888888888,
                          "#fdca26"
                        ],
                        [
                          1,
                          "#f0f921"
                        ]
                      ],
                      "sequentialminus": [
                        [
                          0,
                          "#0d0887"
                        ],
                        [
                          0.1111111111111111,
                          "#46039f"
                        ],
                        [
                          0.2222222222222222,
                          "#7201a8"
                        ],
                        [
                          0.3333333333333333,
                          "#9c179e"
                        ],
                        [
                          0.4444444444444444,
                          "#bd3786"
                        ],
                        [
                          0.5555555555555556,
                          "#d8576b"
                        ],
                        [
                          0.6666666666666666,
                          "#ed7953"
                        ],
                        [
                          0.7777777777777778,
                          "#fb9f3a"
                        ],
                        [
                          0.8888888888888888,
                          "#fdca26"
                        ],
                        [
                          1,
                          "#f0f921"
                        ]
                      ]
                    },
                    "colorway": [
                      "#636efa",
                      "#EF553B",
                      "#00cc96",
                      "#ab63fa",
                      "#FFA15A",
                      "#19d3f3",
                      "#FF6692",
                      "#B6E880",
                      "#FF97FF",
                      "#FECB52"
                    ],
                    "font": {
                      "color": "#2a3f5f"
                    },
                    "geo": {
                      "bgcolor": "white",
                      "lakecolor": "white",
                      "landcolor": "#E5ECF6",
                      "showlakes": true,
                      "showland": true,
                      "subunitcolor": "white"
                    },
                    "hoverlabel": {
                      "align": "left"
                    },
                    "hovermode": "closest",
                    "mapbox": {
                      "style": "light"
                    },
                    "paper_bgcolor": "white",
                    "plot_bgcolor": "#E5ECF6",
                    "polar": {
                      "angularaxis": {
                        "gridcolor": "white",
                        "linecolor": "white",
                        "ticks": ""
                      },
                      "bgcolor": "#E5ECF6",
                      "radialaxis": {
                        "gridcolor": "white",
                        "linecolor": "white",
                        "ticks": ""
                      }
                    },
                    "scene": {
                      "xaxis": {
                        "backgroundcolor": "#E5ECF6",
                        "gridcolor": "white",
                        "gridwidth": 2,
                        "linecolor": "white",
                        "showbackground": true,
                        "ticks": "",
                        "zerolinecolor": "white"
                      },
                      "yaxis": {
                        "backgroundcolor": "#E5ECF6",
                        "gridcolor": "white",
                        "gridwidth": 2,
                        "linecolor": "white",
                        "showbackground": true,
                        "ticks": "",
                        "zerolinecolor": "white"
                      },
                      "zaxis": {
                        "backgroundcolor": "#E5ECF6",
                        "gridcolor": "white",
                        "gridwidth": 2,
                        "linecolor": "white",
                        "showbackground": true,
                        "ticks": "",
                        "zerolinecolor": "white"
                      }
                    },
                    "shapedefaults": {
                      "line": {
                        "color": "#2a3f5f"
                      }
                    },
                    "ternary": {
                      "aaxis": {
                        "gridcolor": "white",
                        "linecolor": "white",
                        "ticks": ""
                      },
                      "baxis": {
                        "gridcolor": "white",
                        "linecolor": "white",
                        "ticks": ""
                      },
                      "bgcolor": "#E5ECF6",
                      "caxis": {
                        "gridcolor": "white",
                        "linecolor": "white",
                        "ticks": ""
                      }
                    },
                    "title": {
                      "x": 0.05
                    },
                    "xaxis": {
                      "automargin": true,
                      "gridcolor": "white",
                      "linecolor": "white",
                      "ticks": "",
                      "title": {
                        "standoff": 15
                      },
                      "zerolinecolor": "white",
                      "zerolinewidth": 2
                    },
                    "yaxis": {
                      "automargin": true,
                      "gridcolor": "white",
                      "linecolor": "white",
                      "ticks": "",
                      "title": {
                        "standoff": 15
                      },
                      "zerolinecolor": "white",
                      "zerolinewidth": 2
                    }
                  }
                },
                "xaxis": {
                  "anchor": "y",
                  "domain": [
                    0,
                    1
                  ],
                  "title": {
                    "text": "Estado"
                  }
                },
                "yaxis": {
                  "anchor": "x",
                  "domain": [
                    0,
                    1
                  ],
                  "title": {
                    "text": "emissao_percapita"
                  }
                }
              }
            },
            "text/html": [
              "<div>                        <script type=\"text/javascript\">window.PlotlyConfig = {MathJaxConfig: 'local'};</script>\n",
              "        <script charset=\"utf-8\" src=\"https://cdn.plot.ly/plotly-2.32.0.min.js\"></script>                <div id=\"01ea9081-f88a-478b-9aa4-1a2a9cd4ddec\" class=\"plotly-graph-div\" style=\"height:100%; width:100%;\"></div>            <script type=\"text/javascript\">                                    window.PLOTLYENV=window.PLOTLYENV || {};                                    if (document.getElementById(\"01ea9081-f88a-478b-9aa4-1a2a9cd4ddec\")) {                    Plotly.newPlot(                        \"01ea9081-f88a-478b-9aa4-1a2a9cd4ddec\",                        [{\"alignmentgroup\":\"True\",\"hovertemplate\":\"Estado=%{x}\\u003cbr\\u003eemissao_percapita=%{y}\\u003cextra\\u003e\\u003c\\u002fextra\\u003e\",\"legendgroup\":\"\",\"marker\":{\"color\":\"#636efa\",\"pattern\":{\"shape\":\"\"}},\"name\":\"\",\"offsetgroup\":\"\",\"orientation\":\"v\",\"showlegend\":false,\"textposition\":\"auto\",\"x\":[\"RR\",\"RO\",\"MT\",\"PA\",\"AC\",\"AM\",\"TO\",\"MS\",\"MA\",\"GO\",\"RS\",\"ES\",\"MG\",\"SC\",\"PR\",\"AP\",\"BA\",\"SE\",\"PI\",\"RJ\",\"SP\",\"PB\",\"CE\",\"RN\",\"PE\",\"AL\",\"DF\"],\"xaxis\":\"x\",\"y\":[832.0776938664202,670.3346621241423,550.0736471069451,438.4342303431012,422.4579275370398,301.0044632288073,257.66230004485175,195.89922026637495,139.34531242052745,86.43507548239398,70.4779679708326,67.86109868173692,60.32276495149194,57.76760399357466,55.491968531423005,46.087532603687094,40.46825413593003,36.706408659781474,35.07094201684997,34.70932811721513,26.579271957744908,23.648217802494976,22.768948586640104,21.864227233090283,20.285645624817548,20.034465228713614,19.39111260820312],\"yaxis\":\"y\",\"type\":\"bar\"}],                        {\"template\":{\"data\":{\"histogram2dcontour\":[{\"type\":\"histogram2dcontour\",\"colorbar\":{\"outlinewidth\":0,\"ticks\":\"\"},\"colorscale\":[[0.0,\"#0d0887\"],[0.1111111111111111,\"#46039f\"],[0.2222222222222222,\"#7201a8\"],[0.3333333333333333,\"#9c179e\"],[0.4444444444444444,\"#bd3786\"],[0.5555555555555556,\"#d8576b\"],[0.6666666666666666,\"#ed7953\"],[0.7777777777777778,\"#fb9f3a\"],[0.8888888888888888,\"#fdca26\"],[1.0,\"#f0f921\"]]}],\"choropleth\":[{\"type\":\"choropleth\",\"colorbar\":{\"outlinewidth\":0,\"ticks\":\"\"}}],\"histogram2d\":[{\"type\":\"histogram2d\",\"colorbar\":{\"outlinewidth\":0,\"ticks\":\"\"},\"colorscale\":[[0.0,\"#0d0887\"],[0.1111111111111111,\"#46039f\"],[0.2222222222222222,\"#7201a8\"],[0.3333333333333333,\"#9c179e\"],[0.4444444444444444,\"#bd3786\"],[0.5555555555555556,\"#d8576b\"],[0.6666666666666666,\"#ed7953\"],[0.7777777777777778,\"#fb9f3a\"],[0.8888888888888888,\"#fdca26\"],[1.0,\"#f0f921\"]]}],\"heatmap\":[{\"type\":\"heatmap\",\"colorbar\":{\"outlinewidth\":0,\"ticks\":\"\"},\"colorscale\":[[0.0,\"#0d0887\"],[0.1111111111111111,\"#46039f\"],[0.2222222222222222,\"#7201a8\"],[0.3333333333333333,\"#9c179e\"],[0.4444444444444444,\"#bd3786\"],[0.5555555555555556,\"#d8576b\"],[0.6666666666666666,\"#ed7953\"],[0.7777777777777778,\"#fb9f3a\"],[0.8888888888888888,\"#fdca26\"],[1.0,\"#f0f921\"]]}],\"heatmapgl\":[{\"type\":\"heatmapgl\",\"colorbar\":{\"outlinewidth\":0,\"ticks\":\"\"},\"colorscale\":[[0.0,\"#0d0887\"],[0.1111111111111111,\"#46039f\"],[0.2222222222222222,\"#7201a8\"],[0.3333333333333333,\"#9c179e\"],[0.4444444444444444,\"#bd3786\"],[0.5555555555555556,\"#d8576b\"],[0.6666666666666666,\"#ed7953\"],[0.7777777777777778,\"#fb9f3a\"],[0.8888888888888888,\"#fdca26\"],[1.0,\"#f0f921\"]]}],\"contourcarpet\":[{\"type\":\"contourcarpet\",\"colorbar\":{\"outlinewidth\":0,\"ticks\":\"\"}}],\"contour\":[{\"type\":\"contour\",\"colorbar\":{\"outlinewidth\":0,\"ticks\":\"\"},\"colorscale\":[[0.0,\"#0d0887\"],[0.1111111111111111,\"#46039f\"],[0.2222222222222222,\"#7201a8\"],[0.3333333333333333,\"#9c179e\"],[0.4444444444444444,\"#bd3786\"],[0.5555555555555556,\"#d8576b\"],[0.6666666666666666,\"#ed7953\"],[0.7777777777777778,\"#fb9f3a\"],[0.8888888888888888,\"#fdca26\"],[1.0,\"#f0f921\"]]}],\"surface\":[{\"type\":\"surface\",\"colorbar\":{\"outlinewidth\":0,\"ticks\":\"\"},\"colorscale\":[[0.0,\"#0d0887\"],[0.1111111111111111,\"#46039f\"],[0.2222222222222222,\"#7201a8\"],[0.3333333333333333,\"#9c179e\"],[0.4444444444444444,\"#bd3786\"],[0.5555555555555556,\"#d8576b\"],[0.6666666666666666,\"#ed7953\"],[0.7777777777777778,\"#fb9f3a\"],[0.8888888888888888,\"#fdca26\"],[1.0,\"#f0f921\"]]}],\"mesh3d\":[{\"type\":\"mesh3d\",\"colorbar\":{\"outlinewidth\":0,\"ticks\":\"\"}}],\"scatter\":[{\"fillpattern\":{\"fillmode\":\"overlay\",\"size\":10,\"solidity\":0.2},\"type\":\"scatter\"}],\"parcoords\":[{\"type\":\"parcoords\",\"line\":{\"colorbar\":{\"outlinewidth\":0,\"ticks\":\"\"}}}],\"scatterpolargl\":[{\"type\":\"scatterpolargl\",\"marker\":{\"colorbar\":{\"outlinewidth\":0,\"ticks\":\"\"}}}],\"bar\":[{\"error_x\":{\"color\":\"#2a3f5f\"},\"error_y\":{\"color\":\"#2a3f5f\"},\"marker\":{\"line\":{\"color\":\"#E5ECF6\",\"width\":0.5},\"pattern\":{\"fillmode\":\"overlay\",\"size\":10,\"solidity\":0.2}},\"type\":\"bar\"}],\"scattergeo\":[{\"type\":\"scattergeo\",\"marker\":{\"colorbar\":{\"outlinewidth\":0,\"ticks\":\"\"}}}],\"scatterpolar\":[{\"type\":\"scatterpolar\",\"marker\":{\"colorbar\":{\"outlinewidth\":0,\"ticks\":\"\"}}}],\"histogram\":[{\"marker\":{\"pattern\":{\"fillmode\":\"overlay\",\"size\":10,\"solidity\":0.2}},\"type\":\"histogram\"}],\"scattergl\":[{\"type\":\"scattergl\",\"marker\":{\"colorbar\":{\"outlinewidth\":0,\"ticks\":\"\"}}}],\"scatter3d\":[{\"type\":\"scatter3d\",\"line\":{\"colorbar\":{\"outlinewidth\":0,\"ticks\":\"\"}},\"marker\":{\"colorbar\":{\"outlinewidth\":0,\"ticks\":\"\"}}}],\"scattermapbox\":[{\"type\":\"scattermapbox\",\"marker\":{\"colorbar\":{\"outlinewidth\":0,\"ticks\":\"\"}}}],\"scatterternary\":[{\"type\":\"scatterternary\",\"marker\":{\"colorbar\":{\"outlinewidth\":0,\"ticks\":\"\"}}}],\"scattercarpet\":[{\"type\":\"scattercarpet\",\"marker\":{\"colorbar\":{\"outlinewidth\":0,\"ticks\":\"\"}}}],\"carpet\":[{\"aaxis\":{\"endlinecolor\":\"#2a3f5f\",\"gridcolor\":\"white\",\"linecolor\":\"white\",\"minorgridcolor\":\"white\",\"startlinecolor\":\"#2a3f5f\"},\"baxis\":{\"endlinecolor\":\"#2a3f5f\",\"gridcolor\":\"white\",\"linecolor\":\"white\",\"minorgridcolor\":\"white\",\"startlinecolor\":\"#2a3f5f\"},\"type\":\"carpet\"}],\"table\":[{\"cells\":{\"fill\":{\"color\":\"#EBF0F8\"},\"line\":{\"color\":\"white\"}},\"header\":{\"fill\":{\"color\":\"#C8D4E3\"},\"line\":{\"color\":\"white\"}},\"type\":\"table\"}],\"barpolar\":[{\"marker\":{\"line\":{\"color\":\"#E5ECF6\",\"width\":0.5},\"pattern\":{\"fillmode\":\"overlay\",\"size\":10,\"solidity\":0.2}},\"type\":\"barpolar\"}],\"pie\":[{\"automargin\":true,\"type\":\"pie\"}]},\"layout\":{\"autotypenumbers\":\"strict\",\"colorway\":[\"#636efa\",\"#EF553B\",\"#00cc96\",\"#ab63fa\",\"#FFA15A\",\"#19d3f3\",\"#FF6692\",\"#B6E880\",\"#FF97FF\",\"#FECB52\"],\"font\":{\"color\":\"#2a3f5f\"},\"hovermode\":\"closest\",\"hoverlabel\":{\"align\":\"left\"},\"paper_bgcolor\":\"white\",\"plot_bgcolor\":\"#E5ECF6\",\"polar\":{\"bgcolor\":\"#E5ECF6\",\"angularaxis\":{\"gridcolor\":\"white\",\"linecolor\":\"white\",\"ticks\":\"\"},\"radialaxis\":{\"gridcolor\":\"white\",\"linecolor\":\"white\",\"ticks\":\"\"}},\"ternary\":{\"bgcolor\":\"#E5ECF6\",\"aaxis\":{\"gridcolor\":\"white\",\"linecolor\":\"white\",\"ticks\":\"\"},\"baxis\":{\"gridcolor\":\"white\",\"linecolor\":\"white\",\"ticks\":\"\"},\"caxis\":{\"gridcolor\":\"white\",\"linecolor\":\"white\",\"ticks\":\"\"}},\"coloraxis\":{\"colorbar\":{\"outlinewidth\":0,\"ticks\":\"\"}},\"colorscale\":{\"sequential\":[[0.0,\"#0d0887\"],[0.1111111111111111,\"#46039f\"],[0.2222222222222222,\"#7201a8\"],[0.3333333333333333,\"#9c179e\"],[0.4444444444444444,\"#bd3786\"],[0.5555555555555556,\"#d8576b\"],[0.6666666666666666,\"#ed7953\"],[0.7777777777777778,\"#fb9f3a\"],[0.8888888888888888,\"#fdca26\"],[1.0,\"#f0f921\"]],\"sequentialminus\":[[0.0,\"#0d0887\"],[0.1111111111111111,\"#46039f\"],[0.2222222222222222,\"#7201a8\"],[0.3333333333333333,\"#9c179e\"],[0.4444444444444444,\"#bd3786\"],[0.5555555555555556,\"#d8576b\"],[0.6666666666666666,\"#ed7953\"],[0.7777777777777778,\"#fb9f3a\"],[0.8888888888888888,\"#fdca26\"],[1.0,\"#f0f921\"]],\"diverging\":[[0,\"#8e0152\"],[0.1,\"#c51b7d\"],[0.2,\"#de77ae\"],[0.3,\"#f1b6da\"],[0.4,\"#fde0ef\"],[0.5,\"#f7f7f7\"],[0.6,\"#e6f5d0\"],[0.7,\"#b8e186\"],[0.8,\"#7fbc41\"],[0.9,\"#4d9221\"],[1,\"#276419\"]]},\"xaxis\":{\"gridcolor\":\"white\",\"linecolor\":\"white\",\"ticks\":\"\",\"title\":{\"standoff\":15},\"zerolinecolor\":\"white\",\"automargin\":true,\"zerolinewidth\":2},\"yaxis\":{\"gridcolor\":\"white\",\"linecolor\":\"white\",\"ticks\":\"\",\"title\":{\"standoff\":15},\"zerolinecolor\":\"white\",\"automargin\":true,\"zerolinewidth\":2},\"scene\":{\"xaxis\":{\"backgroundcolor\":\"#E5ECF6\",\"gridcolor\":\"white\",\"linecolor\":\"white\",\"showbackground\":true,\"ticks\":\"\",\"zerolinecolor\":\"white\",\"gridwidth\":2},\"yaxis\":{\"backgroundcolor\":\"#E5ECF6\",\"gridcolor\":\"white\",\"linecolor\":\"white\",\"showbackground\":true,\"ticks\":\"\",\"zerolinecolor\":\"white\",\"gridwidth\":2},\"zaxis\":{\"backgroundcolor\":\"#E5ECF6\",\"gridcolor\":\"white\",\"linecolor\":\"white\",\"showbackground\":true,\"ticks\":\"\",\"zerolinecolor\":\"white\",\"gridwidth\":2}},\"shapedefaults\":{\"line\":{\"color\":\"#2a3f5f\"}},\"annotationdefaults\":{\"arrowcolor\":\"#2a3f5f\",\"arrowhead\":0,\"arrowwidth\":1},\"geo\":{\"bgcolor\":\"white\",\"landcolor\":\"#E5ECF6\",\"subunitcolor\":\"white\",\"showland\":true,\"showlakes\":true,\"lakecolor\":\"white\"},\"title\":{\"x\":0.05},\"mapbox\":{\"style\":\"light\"}}},\"xaxis\":{\"anchor\":\"y\",\"domain\":[0.0,1.0],\"title\":{\"text\":\"Estado\"}},\"yaxis\":{\"anchor\":\"x\",\"domain\":[0.0,1.0],\"title\":{\"text\":\"emissao_percapita\"}},\"legend\":{\"tracegroupgap\":0},\"margin\":{\"t\":60},\"barmode\":\"relative\"},                        {\"responsive\": true}                    )                };                            </script>        </div>"
            ],
            "text/plain": [
              "Figure({\n",
              "    'data': [{'alignmentgroup': 'True',\n",
              "              'hovertemplate': 'Estado=%{x}<br>emissao_percapita=%{y}<extra></extra>',\n",
              "              'legendgroup': '',\n",
              "              'marker': {'color': '#636efa', 'pattern': {'shape': ''}},\n",
              "              'name': '',\n",
              "              'offsetgroup': '',\n",
              "              'orientation': 'v',\n",
              "              'showlegend': False,\n",
              "              'textposition': 'auto',\n",
              "              'type': 'bar',\n",
              "              'x': array(['RR', 'RO', 'MT', 'PA', 'AC', 'AM', 'TO', 'MS', 'MA', 'GO', 'RS', 'ES',\n",
              "                          'MG', 'SC', 'PR', 'AP', 'BA', 'SE', 'PI', 'RJ', 'SP', 'PB', 'CE', 'RN',\n",
              "                          'PE', 'AL', 'DF'], dtype=object),\n",
              "              'xaxis': 'x',\n",
              "              'y': array([832.07769387, 670.33466212, 550.07364711, 438.43423034, 422.45792754,\n",
              "                          301.00446323, 257.66230004, 195.89922027, 139.34531242,  86.43507548,\n",
              "                           70.47796797,  67.86109868,  60.32276495,  57.76760399,  55.49196853,\n",
              "                           46.0875326 ,  40.46825414,  36.70640866,  35.07094202,  34.70932812,\n",
              "                           26.57927196,  23.6482178 ,  22.76894859,  21.86422723,  20.28564562,\n",
              "                           20.03446523,  19.39111261]),\n",
              "              'yaxis': 'y'}],\n",
              "    'layout': {'barmode': 'relative',\n",
              "               'legend': {'tracegroupgap': 0},\n",
              "               'margin': {'t': 60},\n",
              "               'template': '...',\n",
              "               'xaxis': {'anchor': 'y', 'domain': [0.0, 1.0], 'title': {'text': 'Estado'}},\n",
              "               'yaxis': {'anchor': 'x', 'domain': [0.0, 1.0], 'title': {'text': 'emissao_percapita'}}}\n",
              "})"
            ]
          },
          "execution_count": 125,
          "metadata": {},
          "output_type": "execute_result"
        }
      ],
      "source": [
        "px.bar(data_frame=dados_agrupados, x='Estado', y='emissao_percapita')"
      ]
    },
    {
      "cell_type": "code",
      "execution_count": 126,
      "metadata": {},
      "outputs": [
        {
          "ename": "ValueError",
          "evalue": "Mime type rendering requires nbformat>=4.2.0 but it is not installed",
          "output_type": "error",
          "traceback": [
            "\u001b[1;31m---------------------------------------------------------------------------\u001b[0m",
            "\u001b[1;31mValueError\u001b[0m                                Traceback (most recent call last)",
            "File \u001b[1;32m~\\AppData\\Roaming\\Python\\Python311\\site-packages\\IPython\\core\\formatters.py:925\u001b[0m, in \u001b[0;36mIPythonDisplayFormatter.__call__\u001b[1;34m(self, obj)\u001b[0m\n\u001b[0;32m    923\u001b[0m method \u001b[38;5;241m=\u001b[39m get_real_method(obj, \u001b[38;5;28mself\u001b[39m\u001b[38;5;241m.\u001b[39mprint_method)\n\u001b[0;32m    924\u001b[0m \u001b[38;5;28;01mif\u001b[39;00m method \u001b[38;5;129;01mis\u001b[39;00m \u001b[38;5;129;01mnot\u001b[39;00m \u001b[38;5;28;01mNone\u001b[39;00m:\n\u001b[1;32m--> 925\u001b[0m     \u001b[43mmethod\u001b[49m\u001b[43m(\u001b[49m\u001b[43m)\u001b[49m\n\u001b[0;32m    926\u001b[0m     \u001b[38;5;28;01mreturn\u001b[39;00m \u001b[38;5;28;01mTrue\u001b[39;00m\n",
            "File \u001b[1;32mc:\\Users\\Acer\\AppData\\Local\\Programs\\Python\\Python311\\Lib\\site-packages\\plotly\\basedatatypes.py:832\u001b[0m, in \u001b[0;36mBaseFigure._ipython_display_\u001b[1;34m(self)\u001b[0m\n\u001b[0;32m    829\u001b[0m \u001b[38;5;28;01mimport\u001b[39;00m \u001b[38;5;21;01mplotly\u001b[39;00m\u001b[38;5;21;01m.\u001b[39;00m\u001b[38;5;21;01mio\u001b[39;00m \u001b[38;5;28;01mas\u001b[39;00m \u001b[38;5;21;01mpio\u001b[39;00m\n\u001b[0;32m    831\u001b[0m \u001b[38;5;28;01mif\u001b[39;00m pio\u001b[38;5;241m.\u001b[39mrenderers\u001b[38;5;241m.\u001b[39mrender_on_display \u001b[38;5;129;01mand\u001b[39;00m pio\u001b[38;5;241m.\u001b[39mrenderers\u001b[38;5;241m.\u001b[39mdefault:\n\u001b[1;32m--> 832\u001b[0m     \u001b[43mpio\u001b[49m\u001b[38;5;241;43m.\u001b[39;49m\u001b[43mshow\u001b[49m\u001b[43m(\u001b[49m\u001b[38;5;28;43mself\u001b[39;49m\u001b[43m)\u001b[49m\n\u001b[0;32m    833\u001b[0m \u001b[38;5;28;01melse\u001b[39;00m:\n\u001b[0;32m    834\u001b[0m     \u001b[38;5;28mprint\u001b[39m(\u001b[38;5;28mrepr\u001b[39m(\u001b[38;5;28mself\u001b[39m))\n",
            "File \u001b[1;32mc:\\Users\\Acer\\AppData\\Local\\Programs\\Python\\Python311\\Lib\\site-packages\\plotly\\io\\_renderers.py:394\u001b[0m, in \u001b[0;36mshow\u001b[1;34m(fig, renderer, validate, **kwargs)\u001b[0m\n\u001b[0;32m    389\u001b[0m         \u001b[38;5;28;01mraise\u001b[39;00m \u001b[38;5;167;01mValueError\u001b[39;00m(\n\u001b[0;32m    390\u001b[0m             \u001b[38;5;124m\"\u001b[39m\u001b[38;5;124mMime type rendering requires ipython but it is not installed\u001b[39m\u001b[38;5;124m\"\u001b[39m\n\u001b[0;32m    391\u001b[0m         )\n\u001b[0;32m    393\u001b[0m     \u001b[38;5;28;01mif\u001b[39;00m \u001b[38;5;129;01mnot\u001b[39;00m nbformat \u001b[38;5;129;01mor\u001b[39;00m Version(nbformat\u001b[38;5;241m.\u001b[39m__version__) \u001b[38;5;241m<\u001b[39m Version(\u001b[38;5;124m\"\u001b[39m\u001b[38;5;124m4.2.0\u001b[39m\u001b[38;5;124m\"\u001b[39m):\n\u001b[1;32m--> 394\u001b[0m         \u001b[38;5;28;01mraise\u001b[39;00m \u001b[38;5;167;01mValueError\u001b[39;00m(\n\u001b[0;32m    395\u001b[0m             \u001b[38;5;124m\"\u001b[39m\u001b[38;5;124mMime type rendering requires nbformat>=4.2.0 but it is not installed\u001b[39m\u001b[38;5;124m\"\u001b[39m\n\u001b[0;32m    396\u001b[0m         )\n\u001b[0;32m    398\u001b[0m     ipython_display\u001b[38;5;241m.\u001b[39mdisplay(bundle, raw\u001b[38;5;241m=\u001b[39m\u001b[38;5;28;01mTrue\u001b[39;00m)\n\u001b[0;32m    400\u001b[0m \u001b[38;5;66;03m# external renderers\u001b[39;00m\n",
            "\u001b[1;31mValueError\u001b[0m: Mime type rendering requires nbformat>=4.2.0 but it is not installed"
          ]
        },
        {
          "data": {
            "application/vnd.plotly.v1+json": {
              "config": {
                "plotlyServerURL": "https://plot.ly"
              },
              "data": [
                {
                  "hovertemplate": "sem_ponto=%{x}<br>Emissão=%{y}<br>emissao_percapita=%{marker.size}<br>Estado=%{text}<extra></extra>",
                  "legendgroup": "",
                  "marker": {
                    "color": "#636efa",
                    "size": [
                      832.0776938664202,
                      670.3346621241423,
                      550.0736471069451,
                      438.4342303431012,
                      422.4579275370398,
                      301.0044632288073,
                      257.66230004485175,
                      195.89922026637495,
                      139.34531242052745,
                      86.43507548239398,
                      70.4779679708326,
                      67.86109868173692,
                      60.32276495149194,
                      57.76760399357466,
                      55.491968531423005,
                      46.087532603687094,
                      40.46825413593003,
                      36.706408659781474,
                      35.07094201684997,
                      34.70932811721513,
                      26.579271957744908,
                      23.648217802494976,
                      22.768948586640104,
                      21.864227233090283,
                      20.285645624817548,
                      20.034465228713614,
                      19.39111260820312
                    ],
                    "sizemode": "area",
                    "sizeref": 2.0801942346660507,
                    "symbol": "circle"
                  },
                  "mode": "markers+text",
                  "name": "",
                  "orientation": "v",
                  "showlegend": false,
                  "text": [
                    "RR",
                    "RO",
                    "MT",
                    "PA",
                    "AC",
                    "AM",
                    "TO",
                    "MS",
                    "MA",
                    "GO",
                    "RS",
                    "ES",
                    "MG",
                    "SC",
                    "PR",
                    "AP",
                    "BA",
                    "SE",
                    "PI",
                    "RJ",
                    "SP",
                    "PB",
                    "CE",
                    "RN",
                    "PE",
                    "AL",
                    "DF"
                  ],
                  "type": "scatter",
                  "x": [
                    634805,
                    1616379,
                    3784239,
                    8442962,
                    829780,
                    3952262,
                    1584306,
                    2833742,
                    6800605,
                    6950976,
                    11088065,
                    3975100,
                    20732660,
                    7762154,
                    11835379,
                    774268,
                    14659023,
                    2211868,
                    3270174,
                    16615526,
                    46024937,
                    4030961,
                    8936431,
                    3303953,
                    9051113,
                    3125254,
                    2923369
                  ],
                  "xaxis": "x",
                  "y": [
                    528207080.45487285,
                    1083514870.8295588,
                    2081610148.254339,
                    3701683546.2860503,
                    350547139.11168486,
                    1189648501.8496125,
                    408215927.93485886,
                    555127848.2360779,
                    947632428.3736011,
                    600808135.236309,
                    781464289.92851,
                    269754653.36977243,
                    1250651375.999199,
                    448401038.40914154,
                    656768479.0254647,
                    35684101.6939916,
                    593225068.1484435,
                    81189730.70949353,
                    114688082.73901032,
                    576713743.774119,
                    1223309317.361076,
                    95325043.68136296,
                    203473137.9870568,
                    72238379.15945034,
                    183607670.82817924,
                    62612792.59389813,
                    56687377.47433015
                  ],
                  "yaxis": "y"
                }
              ],
              "layout": {
                "legend": {
                  "itemsizing": "constant",
                  "tracegroupgap": 0
                },
                "margin": {
                  "t": 60
                },
                "template": {
                  "data": {
                    "bar": [
                      {
                        "error_x": {
                          "color": "#2a3f5f"
                        },
                        "error_y": {
                          "color": "#2a3f5f"
                        },
                        "marker": {
                          "line": {
                            "color": "#E5ECF6",
                            "width": 0.5
                          },
                          "pattern": {
                            "fillmode": "overlay",
                            "size": 10,
                            "solidity": 0.2
                          }
                        },
                        "type": "bar"
                      }
                    ],
                    "barpolar": [
                      {
                        "marker": {
                          "line": {
                            "color": "#E5ECF6",
                            "width": 0.5
                          },
                          "pattern": {
                            "fillmode": "overlay",
                            "size": 10,
                            "solidity": 0.2
                          }
                        },
                        "type": "barpolar"
                      }
                    ],
                    "carpet": [
                      {
                        "aaxis": {
                          "endlinecolor": "#2a3f5f",
                          "gridcolor": "white",
                          "linecolor": "white",
                          "minorgridcolor": "white",
                          "startlinecolor": "#2a3f5f"
                        },
                        "baxis": {
                          "endlinecolor": "#2a3f5f",
                          "gridcolor": "white",
                          "linecolor": "white",
                          "minorgridcolor": "white",
                          "startlinecolor": "#2a3f5f"
                        },
                        "type": "carpet"
                      }
                    ],
                    "choropleth": [
                      {
                        "colorbar": {
                          "outlinewidth": 0,
                          "ticks": ""
                        },
                        "type": "choropleth"
                      }
                    ],
                    "contour": [
                      {
                        "colorbar": {
                          "outlinewidth": 0,
                          "ticks": ""
                        },
                        "colorscale": [
                          [
                            0,
                            "#0d0887"
                          ],
                          [
                            0.1111111111111111,
                            "#46039f"
                          ],
                          [
                            0.2222222222222222,
                            "#7201a8"
                          ],
                          [
                            0.3333333333333333,
                            "#9c179e"
                          ],
                          [
                            0.4444444444444444,
                            "#bd3786"
                          ],
                          [
                            0.5555555555555556,
                            "#d8576b"
                          ],
                          [
                            0.6666666666666666,
                            "#ed7953"
                          ],
                          [
                            0.7777777777777778,
                            "#fb9f3a"
                          ],
                          [
                            0.8888888888888888,
                            "#fdca26"
                          ],
                          [
                            1,
                            "#f0f921"
                          ]
                        ],
                        "type": "contour"
                      }
                    ],
                    "contourcarpet": [
                      {
                        "colorbar": {
                          "outlinewidth": 0,
                          "ticks": ""
                        },
                        "type": "contourcarpet"
                      }
                    ],
                    "heatmap": [
                      {
                        "colorbar": {
                          "outlinewidth": 0,
                          "ticks": ""
                        },
                        "colorscale": [
                          [
                            0,
                            "#0d0887"
                          ],
                          [
                            0.1111111111111111,
                            "#46039f"
                          ],
                          [
                            0.2222222222222222,
                            "#7201a8"
                          ],
                          [
                            0.3333333333333333,
                            "#9c179e"
                          ],
                          [
                            0.4444444444444444,
                            "#bd3786"
                          ],
                          [
                            0.5555555555555556,
                            "#d8576b"
                          ],
                          [
                            0.6666666666666666,
                            "#ed7953"
                          ],
                          [
                            0.7777777777777778,
                            "#fb9f3a"
                          ],
                          [
                            0.8888888888888888,
                            "#fdca26"
                          ],
                          [
                            1,
                            "#f0f921"
                          ]
                        ],
                        "type": "heatmap"
                      }
                    ],
                    "heatmapgl": [
                      {
                        "colorbar": {
                          "outlinewidth": 0,
                          "ticks": ""
                        },
                        "colorscale": [
                          [
                            0,
                            "#0d0887"
                          ],
                          [
                            0.1111111111111111,
                            "#46039f"
                          ],
                          [
                            0.2222222222222222,
                            "#7201a8"
                          ],
                          [
                            0.3333333333333333,
                            "#9c179e"
                          ],
                          [
                            0.4444444444444444,
                            "#bd3786"
                          ],
                          [
                            0.5555555555555556,
                            "#d8576b"
                          ],
                          [
                            0.6666666666666666,
                            "#ed7953"
                          ],
                          [
                            0.7777777777777778,
                            "#fb9f3a"
                          ],
                          [
                            0.8888888888888888,
                            "#fdca26"
                          ],
                          [
                            1,
                            "#f0f921"
                          ]
                        ],
                        "type": "heatmapgl"
                      }
                    ],
                    "histogram": [
                      {
                        "marker": {
                          "pattern": {
                            "fillmode": "overlay",
                            "size": 10,
                            "solidity": 0.2
                          }
                        },
                        "type": "histogram"
                      }
                    ],
                    "histogram2d": [
                      {
                        "colorbar": {
                          "outlinewidth": 0,
                          "ticks": ""
                        },
                        "colorscale": [
                          [
                            0,
                            "#0d0887"
                          ],
                          [
                            0.1111111111111111,
                            "#46039f"
                          ],
                          [
                            0.2222222222222222,
                            "#7201a8"
                          ],
                          [
                            0.3333333333333333,
                            "#9c179e"
                          ],
                          [
                            0.4444444444444444,
                            "#bd3786"
                          ],
                          [
                            0.5555555555555556,
                            "#d8576b"
                          ],
                          [
                            0.6666666666666666,
                            "#ed7953"
                          ],
                          [
                            0.7777777777777778,
                            "#fb9f3a"
                          ],
                          [
                            0.8888888888888888,
                            "#fdca26"
                          ],
                          [
                            1,
                            "#f0f921"
                          ]
                        ],
                        "type": "histogram2d"
                      }
                    ],
                    "histogram2dcontour": [
                      {
                        "colorbar": {
                          "outlinewidth": 0,
                          "ticks": ""
                        },
                        "colorscale": [
                          [
                            0,
                            "#0d0887"
                          ],
                          [
                            0.1111111111111111,
                            "#46039f"
                          ],
                          [
                            0.2222222222222222,
                            "#7201a8"
                          ],
                          [
                            0.3333333333333333,
                            "#9c179e"
                          ],
                          [
                            0.4444444444444444,
                            "#bd3786"
                          ],
                          [
                            0.5555555555555556,
                            "#d8576b"
                          ],
                          [
                            0.6666666666666666,
                            "#ed7953"
                          ],
                          [
                            0.7777777777777778,
                            "#fb9f3a"
                          ],
                          [
                            0.8888888888888888,
                            "#fdca26"
                          ],
                          [
                            1,
                            "#f0f921"
                          ]
                        ],
                        "type": "histogram2dcontour"
                      }
                    ],
                    "mesh3d": [
                      {
                        "colorbar": {
                          "outlinewidth": 0,
                          "ticks": ""
                        },
                        "type": "mesh3d"
                      }
                    ],
                    "parcoords": [
                      {
                        "line": {
                          "colorbar": {
                            "outlinewidth": 0,
                            "ticks": ""
                          }
                        },
                        "type": "parcoords"
                      }
                    ],
                    "pie": [
                      {
                        "automargin": true,
                        "type": "pie"
                      }
                    ],
                    "scatter": [
                      {
                        "fillpattern": {
                          "fillmode": "overlay",
                          "size": 10,
                          "solidity": 0.2
                        },
                        "type": "scatter"
                      }
                    ],
                    "scatter3d": [
                      {
                        "line": {
                          "colorbar": {
                            "outlinewidth": 0,
                            "ticks": ""
                          }
                        },
                        "marker": {
                          "colorbar": {
                            "outlinewidth": 0,
                            "ticks": ""
                          }
                        },
                        "type": "scatter3d"
                      }
                    ],
                    "scattercarpet": [
                      {
                        "marker": {
                          "colorbar": {
                            "outlinewidth": 0,
                            "ticks": ""
                          }
                        },
                        "type": "scattercarpet"
                      }
                    ],
                    "scattergeo": [
                      {
                        "marker": {
                          "colorbar": {
                            "outlinewidth": 0,
                            "ticks": ""
                          }
                        },
                        "type": "scattergeo"
                      }
                    ],
                    "scattergl": [
                      {
                        "marker": {
                          "colorbar": {
                            "outlinewidth": 0,
                            "ticks": ""
                          }
                        },
                        "type": "scattergl"
                      }
                    ],
                    "scattermapbox": [
                      {
                        "marker": {
                          "colorbar": {
                            "outlinewidth": 0,
                            "ticks": ""
                          }
                        },
                        "type": "scattermapbox"
                      }
                    ],
                    "scatterpolar": [
                      {
                        "marker": {
                          "colorbar": {
                            "outlinewidth": 0,
                            "ticks": ""
                          }
                        },
                        "type": "scatterpolar"
                      }
                    ],
                    "scatterpolargl": [
                      {
                        "marker": {
                          "colorbar": {
                            "outlinewidth": 0,
                            "ticks": ""
                          }
                        },
                        "type": "scatterpolargl"
                      }
                    ],
                    "scatterternary": [
                      {
                        "marker": {
                          "colorbar": {
                            "outlinewidth": 0,
                            "ticks": ""
                          }
                        },
                        "type": "scatterternary"
                      }
                    ],
                    "surface": [
                      {
                        "colorbar": {
                          "outlinewidth": 0,
                          "ticks": ""
                        },
                        "colorscale": [
                          [
                            0,
                            "#0d0887"
                          ],
                          [
                            0.1111111111111111,
                            "#46039f"
                          ],
                          [
                            0.2222222222222222,
                            "#7201a8"
                          ],
                          [
                            0.3333333333333333,
                            "#9c179e"
                          ],
                          [
                            0.4444444444444444,
                            "#bd3786"
                          ],
                          [
                            0.5555555555555556,
                            "#d8576b"
                          ],
                          [
                            0.6666666666666666,
                            "#ed7953"
                          ],
                          [
                            0.7777777777777778,
                            "#fb9f3a"
                          ],
                          [
                            0.8888888888888888,
                            "#fdca26"
                          ],
                          [
                            1,
                            "#f0f921"
                          ]
                        ],
                        "type": "surface"
                      }
                    ],
                    "table": [
                      {
                        "cells": {
                          "fill": {
                            "color": "#EBF0F8"
                          },
                          "line": {
                            "color": "white"
                          }
                        },
                        "header": {
                          "fill": {
                            "color": "#C8D4E3"
                          },
                          "line": {
                            "color": "white"
                          }
                        },
                        "type": "table"
                      }
                    ]
                  },
                  "layout": {
                    "annotationdefaults": {
                      "arrowcolor": "#2a3f5f",
                      "arrowhead": 0,
                      "arrowwidth": 1
                    },
                    "autotypenumbers": "strict",
                    "coloraxis": {
                      "colorbar": {
                        "outlinewidth": 0,
                        "ticks": ""
                      }
                    },
                    "colorscale": {
                      "diverging": [
                        [
                          0,
                          "#8e0152"
                        ],
                        [
                          0.1,
                          "#c51b7d"
                        ],
                        [
                          0.2,
                          "#de77ae"
                        ],
                        [
                          0.3,
                          "#f1b6da"
                        ],
                        [
                          0.4,
                          "#fde0ef"
                        ],
                        [
                          0.5,
                          "#f7f7f7"
                        ],
                        [
                          0.6,
                          "#e6f5d0"
                        ],
                        [
                          0.7,
                          "#b8e186"
                        ],
                        [
                          0.8,
                          "#7fbc41"
                        ],
                        [
                          0.9,
                          "#4d9221"
                        ],
                        [
                          1,
                          "#276419"
                        ]
                      ],
                      "sequential": [
                        [
                          0,
                          "#0d0887"
                        ],
                        [
                          0.1111111111111111,
                          "#46039f"
                        ],
                        [
                          0.2222222222222222,
                          "#7201a8"
                        ],
                        [
                          0.3333333333333333,
                          "#9c179e"
                        ],
                        [
                          0.4444444444444444,
                          "#bd3786"
                        ],
                        [
                          0.5555555555555556,
                          "#d8576b"
                        ],
                        [
                          0.6666666666666666,
                          "#ed7953"
                        ],
                        [
                          0.7777777777777778,
                          "#fb9f3a"
                        ],
                        [
                          0.8888888888888888,
                          "#fdca26"
                        ],
                        [
                          1,
                          "#f0f921"
                        ]
                      ],
                      "sequentialminus": [
                        [
                          0,
                          "#0d0887"
                        ],
                        [
                          0.1111111111111111,
                          "#46039f"
                        ],
                        [
                          0.2222222222222222,
                          "#7201a8"
                        ],
                        [
                          0.3333333333333333,
                          "#9c179e"
                        ],
                        [
                          0.4444444444444444,
                          "#bd3786"
                        ],
                        [
                          0.5555555555555556,
                          "#d8576b"
                        ],
                        [
                          0.6666666666666666,
                          "#ed7953"
                        ],
                        [
                          0.7777777777777778,
                          "#fb9f3a"
                        ],
                        [
                          0.8888888888888888,
                          "#fdca26"
                        ],
                        [
                          1,
                          "#f0f921"
                        ]
                      ]
                    },
                    "colorway": [
                      "#636efa",
                      "#EF553B",
                      "#00cc96",
                      "#ab63fa",
                      "#FFA15A",
                      "#19d3f3",
                      "#FF6692",
                      "#B6E880",
                      "#FF97FF",
                      "#FECB52"
                    ],
                    "font": {
                      "color": "#2a3f5f"
                    },
                    "geo": {
                      "bgcolor": "white",
                      "lakecolor": "white",
                      "landcolor": "#E5ECF6",
                      "showlakes": true,
                      "showland": true,
                      "subunitcolor": "white"
                    },
                    "hoverlabel": {
                      "align": "left"
                    },
                    "hovermode": "closest",
                    "mapbox": {
                      "style": "light"
                    },
                    "paper_bgcolor": "white",
                    "plot_bgcolor": "#E5ECF6",
                    "polar": {
                      "angularaxis": {
                        "gridcolor": "white",
                        "linecolor": "white",
                        "ticks": ""
                      },
                      "bgcolor": "#E5ECF6",
                      "radialaxis": {
                        "gridcolor": "white",
                        "linecolor": "white",
                        "ticks": ""
                      }
                    },
                    "scene": {
                      "xaxis": {
                        "backgroundcolor": "#E5ECF6",
                        "gridcolor": "white",
                        "gridwidth": 2,
                        "linecolor": "white",
                        "showbackground": true,
                        "ticks": "",
                        "zerolinecolor": "white"
                      },
                      "yaxis": {
                        "backgroundcolor": "#E5ECF6",
                        "gridcolor": "white",
                        "gridwidth": 2,
                        "linecolor": "white",
                        "showbackground": true,
                        "ticks": "",
                        "zerolinecolor": "white"
                      },
                      "zaxis": {
                        "backgroundcolor": "#E5ECF6",
                        "gridcolor": "white",
                        "gridwidth": 2,
                        "linecolor": "white",
                        "showbackground": true,
                        "ticks": "",
                        "zerolinecolor": "white"
                      }
                    },
                    "shapedefaults": {
                      "line": {
                        "color": "#2a3f5f"
                      }
                    },
                    "ternary": {
                      "aaxis": {
                        "gridcolor": "white",
                        "linecolor": "white",
                        "ticks": ""
                      },
                      "baxis": {
                        "gridcolor": "white",
                        "linecolor": "white",
                        "ticks": ""
                      },
                      "bgcolor": "#E5ECF6",
                      "caxis": {
                        "gridcolor": "white",
                        "linecolor": "white",
                        "ticks": ""
                      }
                    },
                    "title": {
                      "x": 0.05
                    },
                    "xaxis": {
                      "automargin": true,
                      "gridcolor": "white",
                      "linecolor": "white",
                      "ticks": "",
                      "title": {
                        "standoff": 15
                      },
                      "zerolinecolor": "white",
                      "zerolinewidth": 2
                    },
                    "yaxis": {
                      "automargin": true,
                      "gridcolor": "white",
                      "linecolor": "white",
                      "ticks": "",
                      "title": {
                        "standoff": 15
                      },
                      "zerolinecolor": "white",
                      "zerolinewidth": 2
                    }
                  }
                },
                "xaxis": {
                  "anchor": "y",
                  "domain": [
                    0,
                    1
                  ],
                  "title": {
                    "text": "sem_ponto"
                  }
                },
                "yaxis": {
                  "anchor": "x",
                  "domain": [
                    0,
                    1
                  ],
                  "title": {
                    "text": "Emissão"
                  }
                }
              }
            },
            "text/html": [
              "<div>                        <script type=\"text/javascript\">window.PlotlyConfig = {MathJaxConfig: 'local'};</script>\n",
              "        <script charset=\"utf-8\" src=\"https://cdn.plot.ly/plotly-2.32.0.min.js\"></script>                <div id=\"1b1e5269-d87f-47b6-b694-2afbb2e9c9fd\" class=\"plotly-graph-div\" style=\"height:100%; width:100%;\"></div>            <script type=\"text/javascript\">                                    window.PLOTLYENV=window.PLOTLYENV || {};                                    if (document.getElementById(\"1b1e5269-d87f-47b6-b694-2afbb2e9c9fd\")) {                    Plotly.newPlot(                        \"1b1e5269-d87f-47b6-b694-2afbb2e9c9fd\",                        [{\"hovertemplate\":\"sem_ponto=%{x}\\u003cbr\\u003eEmiss\\u00e3o=%{y}\\u003cbr\\u003eemissao_percapita=%{marker.size}\\u003cbr\\u003eEstado=%{text}\\u003cextra\\u003e\\u003c\\u002fextra\\u003e\",\"legendgroup\":\"\",\"marker\":{\"color\":\"#636efa\",\"size\":[832.0776938664202,670.3346621241423,550.0736471069451,438.4342303431012,422.4579275370398,301.0044632288073,257.66230004485175,195.89922026637495,139.34531242052745,86.43507548239398,70.4779679708326,67.86109868173692,60.32276495149194,57.76760399357466,55.491968531423005,46.087532603687094,40.46825413593003,36.706408659781474,35.07094201684997,34.70932811721513,26.579271957744908,23.648217802494976,22.768948586640104,21.864227233090283,20.285645624817548,20.034465228713614,19.39111260820312],\"sizemode\":\"area\",\"sizeref\":2.0801942346660507,\"symbol\":\"circle\"},\"mode\":\"markers+text\",\"name\":\"\",\"orientation\":\"v\",\"showlegend\":false,\"text\":[\"RR\",\"RO\",\"MT\",\"PA\",\"AC\",\"AM\",\"TO\",\"MS\",\"MA\",\"GO\",\"RS\",\"ES\",\"MG\",\"SC\",\"PR\",\"AP\",\"BA\",\"SE\",\"PI\",\"RJ\",\"SP\",\"PB\",\"CE\",\"RN\",\"PE\",\"AL\",\"DF\"],\"x\":[634805,1616379,3784239,8442962,829780,3952262,1584306,2833742,6800605,6950976,11088065,3975100,20732660,7762154,11835379,774268,14659023,2211868,3270174,16615526,46024937,4030961,8936431,3303953,9051113,3125254,2923369],\"xaxis\":\"x\",\"y\":[528207080.45487285,1083514870.8295588,2081610148.254339,3701683546.2860503,350547139.11168486,1189648501.8496125,408215927.93485886,555127848.2360779,947632428.3736011,600808135.236309,781464289.92851,269754653.36977243,1250651375.999199,448401038.40914154,656768479.0254647,35684101.6939916,593225068.1484435,81189730.70949353,114688082.73901032,576713743.774119,1223309317.361076,95325043.68136296,203473137.9870568,72238379.15945034,183607670.82817924,62612792.59389813,56687377.47433015],\"yaxis\":\"y\",\"type\":\"scatter\"}],                        {\"template\":{\"data\":{\"histogram2dcontour\":[{\"type\":\"histogram2dcontour\",\"colorbar\":{\"outlinewidth\":0,\"ticks\":\"\"},\"colorscale\":[[0.0,\"#0d0887\"],[0.1111111111111111,\"#46039f\"],[0.2222222222222222,\"#7201a8\"],[0.3333333333333333,\"#9c179e\"],[0.4444444444444444,\"#bd3786\"],[0.5555555555555556,\"#d8576b\"],[0.6666666666666666,\"#ed7953\"],[0.7777777777777778,\"#fb9f3a\"],[0.8888888888888888,\"#fdca26\"],[1.0,\"#f0f921\"]]}],\"choropleth\":[{\"type\":\"choropleth\",\"colorbar\":{\"outlinewidth\":0,\"ticks\":\"\"}}],\"histogram2d\":[{\"type\":\"histogram2d\",\"colorbar\":{\"outlinewidth\":0,\"ticks\":\"\"},\"colorscale\":[[0.0,\"#0d0887\"],[0.1111111111111111,\"#46039f\"],[0.2222222222222222,\"#7201a8\"],[0.3333333333333333,\"#9c179e\"],[0.4444444444444444,\"#bd3786\"],[0.5555555555555556,\"#d8576b\"],[0.6666666666666666,\"#ed7953\"],[0.7777777777777778,\"#fb9f3a\"],[0.8888888888888888,\"#fdca26\"],[1.0,\"#f0f921\"]]}],\"heatmap\":[{\"type\":\"heatmap\",\"colorbar\":{\"outlinewidth\":0,\"ticks\":\"\"},\"colorscale\":[[0.0,\"#0d0887\"],[0.1111111111111111,\"#46039f\"],[0.2222222222222222,\"#7201a8\"],[0.3333333333333333,\"#9c179e\"],[0.4444444444444444,\"#bd3786\"],[0.5555555555555556,\"#d8576b\"],[0.6666666666666666,\"#ed7953\"],[0.7777777777777778,\"#fb9f3a\"],[0.8888888888888888,\"#fdca26\"],[1.0,\"#f0f921\"]]}],\"heatmapgl\":[{\"type\":\"heatmapgl\",\"colorbar\":{\"outlinewidth\":0,\"ticks\":\"\"},\"colorscale\":[[0.0,\"#0d0887\"],[0.1111111111111111,\"#46039f\"],[0.2222222222222222,\"#7201a8\"],[0.3333333333333333,\"#9c179e\"],[0.4444444444444444,\"#bd3786\"],[0.5555555555555556,\"#d8576b\"],[0.6666666666666666,\"#ed7953\"],[0.7777777777777778,\"#fb9f3a\"],[0.8888888888888888,\"#fdca26\"],[1.0,\"#f0f921\"]]}],\"contourcarpet\":[{\"type\":\"contourcarpet\",\"colorbar\":{\"outlinewidth\":0,\"ticks\":\"\"}}],\"contour\":[{\"type\":\"contour\",\"colorbar\":{\"outlinewidth\":0,\"ticks\":\"\"},\"colorscale\":[[0.0,\"#0d0887\"],[0.1111111111111111,\"#46039f\"],[0.2222222222222222,\"#7201a8\"],[0.3333333333333333,\"#9c179e\"],[0.4444444444444444,\"#bd3786\"],[0.5555555555555556,\"#d8576b\"],[0.6666666666666666,\"#ed7953\"],[0.7777777777777778,\"#fb9f3a\"],[0.8888888888888888,\"#fdca26\"],[1.0,\"#f0f921\"]]}],\"surface\":[{\"type\":\"surface\",\"colorbar\":{\"outlinewidth\":0,\"ticks\":\"\"},\"colorscale\":[[0.0,\"#0d0887\"],[0.1111111111111111,\"#46039f\"],[0.2222222222222222,\"#7201a8\"],[0.3333333333333333,\"#9c179e\"],[0.4444444444444444,\"#bd3786\"],[0.5555555555555556,\"#d8576b\"],[0.6666666666666666,\"#ed7953\"],[0.7777777777777778,\"#fb9f3a\"],[0.8888888888888888,\"#fdca26\"],[1.0,\"#f0f921\"]]}],\"mesh3d\":[{\"type\":\"mesh3d\",\"colorbar\":{\"outlinewidth\":0,\"ticks\":\"\"}}],\"scatter\":[{\"fillpattern\":{\"fillmode\":\"overlay\",\"size\":10,\"solidity\":0.2},\"type\":\"scatter\"}],\"parcoords\":[{\"type\":\"parcoords\",\"line\":{\"colorbar\":{\"outlinewidth\":0,\"ticks\":\"\"}}}],\"scatterpolargl\":[{\"type\":\"scatterpolargl\",\"marker\":{\"colorbar\":{\"outlinewidth\":0,\"ticks\":\"\"}}}],\"bar\":[{\"error_x\":{\"color\":\"#2a3f5f\"},\"error_y\":{\"color\":\"#2a3f5f\"},\"marker\":{\"line\":{\"color\":\"#E5ECF6\",\"width\":0.5},\"pattern\":{\"fillmode\":\"overlay\",\"size\":10,\"solidity\":0.2}},\"type\":\"bar\"}],\"scattergeo\":[{\"type\":\"scattergeo\",\"marker\":{\"colorbar\":{\"outlinewidth\":0,\"ticks\":\"\"}}}],\"scatterpolar\":[{\"type\":\"scatterpolar\",\"marker\":{\"colorbar\":{\"outlinewidth\":0,\"ticks\":\"\"}}}],\"histogram\":[{\"marker\":{\"pattern\":{\"fillmode\":\"overlay\",\"size\":10,\"solidity\":0.2}},\"type\":\"histogram\"}],\"scattergl\":[{\"type\":\"scattergl\",\"marker\":{\"colorbar\":{\"outlinewidth\":0,\"ticks\":\"\"}}}],\"scatter3d\":[{\"type\":\"scatter3d\",\"line\":{\"colorbar\":{\"outlinewidth\":0,\"ticks\":\"\"}},\"marker\":{\"colorbar\":{\"outlinewidth\":0,\"ticks\":\"\"}}}],\"scattermapbox\":[{\"type\":\"scattermapbox\",\"marker\":{\"colorbar\":{\"outlinewidth\":0,\"ticks\":\"\"}}}],\"scatterternary\":[{\"type\":\"scatterternary\",\"marker\":{\"colorbar\":{\"outlinewidth\":0,\"ticks\":\"\"}}}],\"scattercarpet\":[{\"type\":\"scattercarpet\",\"marker\":{\"colorbar\":{\"outlinewidth\":0,\"ticks\":\"\"}}}],\"carpet\":[{\"aaxis\":{\"endlinecolor\":\"#2a3f5f\",\"gridcolor\":\"white\",\"linecolor\":\"white\",\"minorgridcolor\":\"white\",\"startlinecolor\":\"#2a3f5f\"},\"baxis\":{\"endlinecolor\":\"#2a3f5f\",\"gridcolor\":\"white\",\"linecolor\":\"white\",\"minorgridcolor\":\"white\",\"startlinecolor\":\"#2a3f5f\"},\"type\":\"carpet\"}],\"table\":[{\"cells\":{\"fill\":{\"color\":\"#EBF0F8\"},\"line\":{\"color\":\"white\"}},\"header\":{\"fill\":{\"color\":\"#C8D4E3\"},\"line\":{\"color\":\"white\"}},\"type\":\"table\"}],\"barpolar\":[{\"marker\":{\"line\":{\"color\":\"#E5ECF6\",\"width\":0.5},\"pattern\":{\"fillmode\":\"overlay\",\"size\":10,\"solidity\":0.2}},\"type\":\"barpolar\"}],\"pie\":[{\"automargin\":true,\"type\":\"pie\"}]},\"layout\":{\"autotypenumbers\":\"strict\",\"colorway\":[\"#636efa\",\"#EF553B\",\"#00cc96\",\"#ab63fa\",\"#FFA15A\",\"#19d3f3\",\"#FF6692\",\"#B6E880\",\"#FF97FF\",\"#FECB52\"],\"font\":{\"color\":\"#2a3f5f\"},\"hovermode\":\"closest\",\"hoverlabel\":{\"align\":\"left\"},\"paper_bgcolor\":\"white\",\"plot_bgcolor\":\"#E5ECF6\",\"polar\":{\"bgcolor\":\"#E5ECF6\",\"angularaxis\":{\"gridcolor\":\"white\",\"linecolor\":\"white\",\"ticks\":\"\"},\"radialaxis\":{\"gridcolor\":\"white\",\"linecolor\":\"white\",\"ticks\":\"\"}},\"ternary\":{\"bgcolor\":\"#E5ECF6\",\"aaxis\":{\"gridcolor\":\"white\",\"linecolor\":\"white\",\"ticks\":\"\"},\"baxis\":{\"gridcolor\":\"white\",\"linecolor\":\"white\",\"ticks\":\"\"},\"caxis\":{\"gridcolor\":\"white\",\"linecolor\":\"white\",\"ticks\":\"\"}},\"coloraxis\":{\"colorbar\":{\"outlinewidth\":0,\"ticks\":\"\"}},\"colorscale\":{\"sequential\":[[0.0,\"#0d0887\"],[0.1111111111111111,\"#46039f\"],[0.2222222222222222,\"#7201a8\"],[0.3333333333333333,\"#9c179e\"],[0.4444444444444444,\"#bd3786\"],[0.5555555555555556,\"#d8576b\"],[0.6666666666666666,\"#ed7953\"],[0.7777777777777778,\"#fb9f3a\"],[0.8888888888888888,\"#fdca26\"],[1.0,\"#f0f921\"]],\"sequentialminus\":[[0.0,\"#0d0887\"],[0.1111111111111111,\"#46039f\"],[0.2222222222222222,\"#7201a8\"],[0.3333333333333333,\"#9c179e\"],[0.4444444444444444,\"#bd3786\"],[0.5555555555555556,\"#d8576b\"],[0.6666666666666666,\"#ed7953\"],[0.7777777777777778,\"#fb9f3a\"],[0.8888888888888888,\"#fdca26\"],[1.0,\"#f0f921\"]],\"diverging\":[[0,\"#8e0152\"],[0.1,\"#c51b7d\"],[0.2,\"#de77ae\"],[0.3,\"#f1b6da\"],[0.4,\"#fde0ef\"],[0.5,\"#f7f7f7\"],[0.6,\"#e6f5d0\"],[0.7,\"#b8e186\"],[0.8,\"#7fbc41\"],[0.9,\"#4d9221\"],[1,\"#276419\"]]},\"xaxis\":{\"gridcolor\":\"white\",\"linecolor\":\"white\",\"ticks\":\"\",\"title\":{\"standoff\":15},\"zerolinecolor\":\"white\",\"automargin\":true,\"zerolinewidth\":2},\"yaxis\":{\"gridcolor\":\"white\",\"linecolor\":\"white\",\"ticks\":\"\",\"title\":{\"standoff\":15},\"zerolinecolor\":\"white\",\"automargin\":true,\"zerolinewidth\":2},\"scene\":{\"xaxis\":{\"backgroundcolor\":\"#E5ECF6\",\"gridcolor\":\"white\",\"linecolor\":\"white\",\"showbackground\":true,\"ticks\":\"\",\"zerolinecolor\":\"white\",\"gridwidth\":2},\"yaxis\":{\"backgroundcolor\":\"#E5ECF6\",\"gridcolor\":\"white\",\"linecolor\":\"white\",\"showbackground\":true,\"ticks\":\"\",\"zerolinecolor\":\"white\",\"gridwidth\":2},\"zaxis\":{\"backgroundcolor\":\"#E5ECF6\",\"gridcolor\":\"white\",\"linecolor\":\"white\",\"showbackground\":true,\"ticks\":\"\",\"zerolinecolor\":\"white\",\"gridwidth\":2}},\"shapedefaults\":{\"line\":{\"color\":\"#2a3f5f\"}},\"annotationdefaults\":{\"arrowcolor\":\"#2a3f5f\",\"arrowhead\":0,\"arrowwidth\":1},\"geo\":{\"bgcolor\":\"white\",\"landcolor\":\"#E5ECF6\",\"subunitcolor\":\"white\",\"showland\":true,\"showlakes\":true,\"lakecolor\":\"white\"},\"title\":{\"x\":0.05},\"mapbox\":{\"style\":\"light\"}}},\"xaxis\":{\"anchor\":\"y\",\"domain\":[0.0,1.0],\"title\":{\"text\":\"sem_ponto\"}},\"yaxis\":{\"anchor\":\"x\",\"domain\":[0.0,1.0],\"title\":{\"text\":\"Emiss\\u00e3o\"}},\"legend\":{\"tracegroupgap\":0,\"itemsizing\":\"constant\"},\"margin\":{\"t\":60}},                        {\"responsive\": true}                    )                };                            </script>        </div>"
            ],
            "text/plain": [
              "Figure({\n",
              "    'data': [{'hovertemplate': ('sem_ponto=%{x}<br>Emissão=%{y}' ... '>Estado=%{text}<extra></extra>'),\n",
              "              'legendgroup': '',\n",
              "              'marker': {'color': '#636efa',\n",
              "                         'size': array([832.07769387, 670.33466212, 550.07364711, 438.43423034, 422.45792754,\n",
              "                                        301.00446323, 257.66230004, 195.89922027, 139.34531242,  86.43507548,\n",
              "                                         70.47796797,  67.86109868,  60.32276495,  57.76760399,  55.49196853,\n",
              "                                         46.0875326 ,  40.46825414,  36.70640866,  35.07094202,  34.70932812,\n",
              "                                         26.57927196,  23.6482178 ,  22.76894859,  21.86422723,  20.28564562,\n",
              "                                         20.03446523,  19.39111261]),\n",
              "                         'sizemode': 'area',\n",
              "                         'sizeref': 2.0801942346660507,\n",
              "                         'symbol': 'circle'},\n",
              "              'mode': 'markers+text',\n",
              "              'name': '',\n",
              "              'orientation': 'v',\n",
              "              'showlegend': False,\n",
              "              'text': array(['RR', 'RO', 'MT', 'PA', 'AC', 'AM', 'TO', 'MS', 'MA', 'GO', 'RS', 'ES',\n",
              "                             'MG', 'SC', 'PR', 'AP', 'BA', 'SE', 'PI', 'RJ', 'SP', 'PB', 'CE', 'RN',\n",
              "                             'PE', 'AL', 'DF'], dtype=object),\n",
              "              'type': 'scatter',\n",
              "              'x': array([  634805,  1616379,  3784239,  8442962,   829780,  3952262,  1584306,\n",
              "                           2833742,  6800605,  6950976, 11088065,  3975100, 20732660,  7762154,\n",
              "                          11835379,   774268, 14659023,  2211868,  3270174, 16615526, 46024937,\n",
              "                           4030961,  8936431,  3303953,  9051113,  3125254,  2923369], dtype=int64),\n",
              "              'xaxis': 'x',\n",
              "              'y': array([5.28207080e+08, 1.08351487e+09, 2.08161015e+09, 3.70168355e+09,\n",
              "                          3.50547139e+08, 1.18964850e+09, 4.08215928e+08, 5.55127848e+08,\n",
              "                          9.47632428e+08, 6.00808135e+08, 7.81464290e+08, 2.69754653e+08,\n",
              "                          1.25065138e+09, 4.48401038e+08, 6.56768479e+08, 3.56841017e+07,\n",
              "                          5.93225068e+08, 8.11897307e+07, 1.14688083e+08, 5.76713744e+08,\n",
              "                          1.22330932e+09, 9.53250437e+07, 2.03473138e+08, 7.22383792e+07,\n",
              "                          1.83607671e+08, 6.26127926e+07, 5.66873775e+07]),\n",
              "              'yaxis': 'y'}],\n",
              "    'layout': {'legend': {'itemsizing': 'constant', 'tracegroupgap': 0},\n",
              "               'margin': {'t': 60},\n",
              "               'template': '...',\n",
              "               'xaxis': {'anchor': 'y', 'domain': [0.0, 1.0], 'title': {'text': 'sem_ponto'}},\n",
              "               'yaxis': {'anchor': 'x', 'domain': [0.0, 1.0], 'title': {'text': 'Emissão'}}}\n",
              "})"
            ]
          },
          "execution_count": 126,
          "metadata": {},
          "output_type": "execute_result"
        }
      ],
      "source": [
        "px.scatter(data_frame=dados_agrupados, x='sem_ponto', y='Emissão', text='Estado', size='emissao_percapita')"
      ]
    }
  ],
  "metadata": {
    "colab": {
      "collapsed_sections": [
        "NDcKjTcrl0db",
        "r2OdSMgn1FXg",
        "pgDcuo0YnA_4",
        "HYCDRDdtAnzr",
        "NZjZ05EsYMaR",
        "yHdxaW4Buj0v"
      ],
      "provenance": [],
      "toc_visible": true
    },
    "kernelspec": {
      "display_name": "Python 3",
      "name": "python3"
    },
    "language_info": {
      "codemirror_mode": {
        "name": "ipython",
        "version": 3
      },
      "file_extension": ".py",
      "mimetype": "text/x-python",
      "name": "python",
      "nbconvert_exporter": "python",
      "pygments_lexer": "ipython3",
      "version": "3.11.0"
    }
  },
  "nbformat": 4,
  "nbformat_minor": 0
}
